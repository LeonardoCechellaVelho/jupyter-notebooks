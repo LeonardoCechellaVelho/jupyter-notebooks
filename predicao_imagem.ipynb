{
  "nbformat": 4,
  "nbformat_minor": 0,
  "metadata": {
    "colab": {
      "name": "predicao_imagem.ipynb",
      "provenance": [],
      "collapsed_sections": [],
      "authorship_tag": "ABX9TyNP/M+T8BYWcGS8m6MVUkrG",
      "include_colab_link": true
    },
    "kernelspec": {
      "name": "python3",
      "display_name": "Python 3"
    },
    "language_info": {
      "name": "python"
    }
  },
  "cells": [
    {
      "cell_type": "markdown",
      "metadata": {
        "id": "view-in-github",
        "colab_type": "text"
      },
      "source": [
        "<a href=\"https://colab.research.google.com/github/LeonardoCechellaVelho/machine-learning/blob/master/predicao_imagem.ipynb\" target=\"_parent\"><img src=\"https://colab.research.google.com/assets/colab-badge.svg\" alt=\"Open In Colab\"/></a>"
      ]
    },
    {
      "cell_type": "code",
      "metadata": {
        "id": "ONaaczD6JjMp"
      },
      "source": [
        "import tensorflow as tf"
      ],
      "execution_count": null,
      "outputs": []
    },
    {
      "cell_type": "code",
      "metadata": {
        "id": "XsEEY9V6JqR8"
      },
      "source": [
        "import pandas as pd\n",
        "import numpy as np\n",
        "import cv2\n",
        "import matplotlib.pyplot as plt"
      ],
      "execution_count": null,
      "outputs": []
    },
    {
      "cell_type": "code",
      "metadata": {
        "id": "yWd7AcuSJzUn",
        "colab": {
          "base_uri": "https://localhost:8080/"
        },
        "outputId": "65f54a12-d181-47df-96f1-a0ade76f137c"
      },
      "source": [
        "(x_train, y_train), (x_test,y_test) = tf.keras.datasets.mnist.load_data()"
      ],
      "execution_count": null,
      "outputs": [
        {
          "output_type": "stream",
          "text": [
            "Downloading data from https://storage.googleapis.com/tensorflow/tf-keras-datasets/mnist.npz\n",
            "11493376/11490434 [==============================] - 0s 0us/step\n"
          ],
          "name": "stdout"
        }
      ]
    },
    {
      "cell_type": "code",
      "metadata": {
        "colab": {
          "base_uri": "https://localhost:8080/"
        },
        "id": "vms2GY7AJ9XH",
        "outputId": "9cb02a03-42f6-4486-bf8b-2050266b589a"
      },
      "source": [
        "x_train.shape"
      ],
      "execution_count": null,
      "outputs": [
        {
          "output_type": "execute_result",
          "data": {
            "text/plain": [
              "(60000, 28, 28)"
            ]
          },
          "metadata": {
            "tags": []
          },
          "execution_count": 6
        }
      ]
    },
    {
      "cell_type": "code",
      "metadata": {
        "colab": {
          "base_uri": "https://localhost:8080/",
          "height": 282
        },
        "id": "L_FIJOeWKrhk",
        "outputId": "67a56b2a-cf1d-4a59-9902-cc4b94c4f6df"
      },
      "source": [
        "plt.gray()\n",
        "plt.imshow(x_train[15500,:,:])\n",
        "plt.colorbar()"
      ],
      "execution_count": null,
      "outputs": [
        {
          "output_type": "execute_result",
          "data": {
            "text/plain": [
              "<matplotlib.colorbar.Colorbar at 0x7f07a359a450>"
            ]
          },
          "metadata": {
            "tags": []
          },
          "execution_count": 7
        },
        {
          "output_type": "display_data",
          "data": {
            "image/png": "[encoded data removed]",
            "text/plain": [
              "<Figure size 432x288 with 2 Axes>"
            ]
          },
          "metadata": {
            "tags": [],
            "needs_background": "light"
          }
        }
      ]
    },
    {
      "cell_type": "code",
      "metadata": {
        "id": "DC9QKgJULe-M"
      },
      "source": [
        "x_test = x_test/255"
      ],
      "execution_count": null,
      "outputs": []
    },
    {
      "cell_type": "code",
      "metadata": {
        "id": "24_uSJH6LiM-"
      },
      "source": [
        "x_train = x_train/255"
      ],
      "execution_count": null,
      "outputs": []
    },
    {
      "cell_type": "code",
      "metadata": {
        "id": "1Zdzd6BvLxAc"
      },
      "source": [
        "data_set_test = []\n",
        "for i in x_test :\n",
        "  data_set_test.append(i.flatten())\n",
        "data_set_test = np.array(data_set_test)"
      ],
      "execution_count": null,
      "outputs": []
    },
    {
      "cell_type": "code",
      "metadata": {
        "colab": {
          "base_uri": "https://localhost:8080/"
        },
        "id": "hcAokKIeMFb-",
        "outputId": "eaf26aca-4b23-4f73-c689-39dc6f2ae50e"
      },
      "source": [
        "data_set_test.shape"
      ],
      "execution_count": null,
      "outputs": [
        {
          "output_type": "execute_result",
          "data": {
            "text/plain": [
              "(10000, 784)"
            ]
          },
          "metadata": {
            "tags": []
          },
          "execution_count": 11
        }
      ]
    },
    {
      "cell_type": "code",
      "metadata": {
        "id": "NFycPNVkndM7"
      },
      "source": [
        "data_set_train = []\n",
        "for i in x_train :\n",
        "  data_set_train.append(i.flatten())\n",
        "data_set_train = np.array(data_set_train)"
      ],
      "execution_count": null,
      "outputs": []
    },
    {
      "cell_type": "code",
      "metadata": {
        "id": "w1n96KeWM0z6"
      },
      "source": [
        "from sklearn.neighbors import KNeighborsClassifier"
      ],
      "execution_count": null,
      "outputs": []
    },
    {
      "cell_type": "code",
      "metadata": {
        "id": "Iql1qepMNAQy"
      },
      "source": [
        "knn_model = KNeighborsClassifier(n_neighbors=3)"
      ],
      "execution_count": null,
      "outputs": []
    },
    {
      "cell_type": "code",
      "metadata": {
        "colab": {
          "base_uri": "https://localhost:8080/"
        },
        "id": "o14Gt8vlNQvj",
        "outputId": "de082768-db92-452f-fe43-138b7bf0b49c"
      },
      "source": [
        "knn_model.fit(data_set_train,y_train)"
      ],
      "execution_count": null,
      "outputs": [
        {
          "output_type": "execute_result",
          "data": {
            "text/plain": [
              "KNeighborsClassifier(algorithm='auto', leaf_size=30, metric='minkowski',\n",
              "                     metric_params=None, n_jobs=None, n_neighbors=3, p=2,\n",
              "                     weights='uniform')"
            ]
          },
          "metadata": {
            "tags": []
          },
          "execution_count": 15
        }
      ]
    },
    {
      "cell_type": "code",
      "metadata": {
        "id": "gLBnHdvONu6z"
      },
      "source": [
        "y_pred = knn_model.predict(data_set_test[:1000])"
      ],
      "execution_count": null,
      "outputs": []
    },
    {
      "cell_type": "code",
      "metadata": {
        "id": "47-F2O1rOX0F"
      },
      "source": [
        "from sklearn.metrics import accuracy_score"
      ],
      "execution_count": null,
      "outputs": []
    },
    {
      "cell_type": "code",
      "metadata": {
        "colab": {
          "base_uri": "https://localhost:8080/"
        },
        "id": "QbwXq6ZpOjG-",
        "outputId": "65c06a13-1d0f-4109-b734-d519991ca4ab"
      },
      "source": [
        "accuracy_score(y_test[:1000], y_pred)"
      ],
      "execution_count": null,
      "outputs": [
        {
          "output_type": "execute_result",
          "data": {
            "text/plain": [
              "0.962"
            ]
          },
          "metadata": {
            "tags": []
          },
          "execution_count": 18
        }
      ]
    },
    {
      "cell_type": "code",
      "metadata": {
        "id": "SbcwUqeIQBll"
      },
      "source": [
        "from google.colab.patches import cv2_imshow"
      ],
      "execution_count": null,
      "outputs": []
    },
    {
      "cell_type": "code",
      "metadata": {
        "id": "hCG0Ea0CP0lk"
      },
      "source": [
        "img_teste = cv2.imread('teste6.png',0)"
      ],
      "execution_count": null,
      "outputs": []
    },
    {
      "cell_type": "code",
      "metadata": {
        "colab": {
          "base_uri": "https://localhost:8080/",
          "height": 45
        },
        "id": "PK8S6GSLQZZ6",
        "outputId": "a316799b-c004-405a-b53b-a1fb1815dbed"
      },
      "source": [
        "cv2_imshow(img_teste)"
      ],
      "execution_count": null,
      "outputs": [
        {
          "output_type": "display_data",
          "data": {
            "image/png": "[encoded data removed]",
            "text/plain": [
              "<PIL.Image.Image image mode=L size=28x28 at 0x7F0798F02490>"
            ]
          },
          "metadata": {
            "tags": []
          }
        }
      ]
    },
    {
      "cell_type": "code",
      "metadata": {
        "id": "S5DHCUbvQd0X"
      },
      "source": [
        "img_teste = img_teste/255"
      ],
      "execution_count": null,
      "outputs": []
    },
    {
      "cell_type": "code",
      "metadata": {
        "colab": {
          "base_uri": "https://localhost:8080/",
          "height": 286
        },
        "id": "v5OYm_5lQnCT",
        "outputId": "589793a3-5de1-45ab-c7e3-348ce4cc7371"
      },
      "source": [
        "plt.gray()\n",
        "plt.imshow(img_teste)\n",
        "plt.colorbar()"
      ],
      "execution_count": null,
      "outputs": [
        {
          "output_type": "execute_result",
          "data": {
            "text/plain": [
              "<matplotlib.colorbar.Colorbar at 0x7f0798e4d110>"
            ]
          },
          "metadata": {
            "tags": []
          },
          "execution_count": 25
        },
        {
          "output_type": "display_data",
          "data": {
            "image/png": "[encoded data removed]",
            "text/plain": [
              "<Figure size 432x288 with 2 Axes>"
            ]
          },
          "metadata": {
            "tags": [],
            "needs_background": "light"
          }
        }
      ]
    },
    {
      "cell_type": "code",
      "metadata": {
        "id": "mnu3N22nQtnF"
      },
      "source": [
        "img_teste_f = img_teste.flatten()"
      ],
      "execution_count": null,
      "outputs": []
    },
    {
      "cell_type": "code",
      "metadata": {
        "colab": {
          "base_uri": "https://localhost:8080/"
        },
        "id": "ImbDY9B_QyoB",
        "outputId": "83245266-674e-4a75-953d-a61e6e6c0518"
      },
      "source": [
        "knn_model.predict(img_teste_f.reshape(1,-1))"
      ],
      "execution_count": null,
      "outputs": [
        {
          "output_type": "execute_result",
          "data": {
            "text/plain": [
              "array([6], dtype=uint8)"
            ]
          },
          "metadata": {
            "tags": []
          },
          "execution_count": 27
        }
      ]
    },
    {
      "cell_type": "markdown",
      "metadata": {
        "id": "e2FToBUeSH5V"
      },
      "source": [
        "*   Ler as imagens (grayscale)\n",
        "*   Ajustar o tamanho (Resizer 28x28)\n",
        "*   Verificar segmentação\n",
        "*   Normalizar as imagens (/255)\n",
        "*   Realizar um predict utilizando KNN"
      ]
    },
    {
      "cell_type": "code",
      "metadata": {
        "colab": {
          "base_uri": "https://localhost:8080/",
          "height": 286
        },
        "id": "kgdz84g6uWxA",
        "outputId": "7ce1b040-4bc2-49f0-c73a-167c97c04029"
      },
      "source": [
        "img_carro1 = cv2.imread('carro1.png',0)\n",
        "plt.gray()\n",
        "plt.imshow(img_carro1)\n",
        "plt.colorbar()"
      ],
      "execution_count": null,
      "outputs": [
        {
          "output_type": "execute_result",
          "data": {
            "text/plain": [
              "<matplotlib.colorbar.Colorbar at 0x7f07981afbd0>"
            ]
          },
          "metadata": {
            "tags": []
          },
          "execution_count": 152
        },
        {
          "output_type": "display_data",
          "data": {
            "image/png": "[encoded data removed]",
            "text/plain": [
              "<Figure size 432x288 with 2 Axes>"
            ]
          },
          "metadata": {
            "tags": [],
            "needs_background": "light"
          }
        }
      ]
    },
    {
      "cell_type": "code",
      "metadata": {
        "id": "XkB_Dt-Pc9fO"
      },
      "source": [
        "metodo = cv2.THRESH_OTSU + cv2.THRESH_BINARY_INV"
      ],
      "execution_count": null,
      "outputs": []
    },
    {
      "cell_type": "code",
      "metadata": {
        "id": "ejPDu7ILc7uC"
      },
      "source": [
        "ret,img_carro1 = cv2.threshold(img_carro1,127,255,metodo)"
      ],
      "execution_count": null,
      "outputs": []
    },
    {
      "cell_type": "code",
      "metadata": {
        "id": "DcI1JCbgtkxO"
      },
      "source": [
        "img_carro1_r = cv2.resize(img_carro1, (28,28))"
      ],
      "execution_count": null,
      "outputs": []
    },
    {
      "cell_type": "code",
      "metadata": {
        "id": "U7MRhlXpY7RY"
      },
      "source": [
        "img_carro1_r = img_carro1_r/255"
      ],
      "execution_count": null,
      "outputs": []
    },
    {
      "cell_type": "code",
      "metadata": {
        "id": "JNNnSIa9ptyw"
      },
      "source": [
        "img_carro1_f = img_carro1_r.flatten()"
      ],
      "execution_count": null,
      "outputs": []
    },
    {
      "cell_type": "code",
      "metadata": {
        "colab": {
          "base_uri": "https://localhost:8080/"
        },
        "id": "JJFpG2tOpzcU",
        "outputId": "de9a8952-7875-4c20-9119-ad134c47f6fd"
      },
      "source": [
        "knn_model.predict(img_carro1_f.reshape(1,-1))"
      ],
      "execution_count": null,
      "outputs": [
        {
          "output_type": "execute_result",
          "data": {
            "text/plain": [
              "array([1], dtype=uint8)"
            ]
          },
          "metadata": {
            "tags": []
          },
          "execution_count": 160
        }
      ]
    },
    {
      "cell_type": "code",
      "metadata": {
        "id": "0VCggbLXv-tj"
      },
      "source": [
        "image_teste_0 = cv2.imread('teste_0.png',0)\n",
        "metodo = cv2.THRESH_OTSU + cv2.THRESH_BINARY_INV\n",
        "ret,image_teste_0 = cv2.threshold(image_teste_0,127,255,metodo)"
      ],
      "execution_count": null,
      "outputs": []
    },
    {
      "cell_type": "code",
      "metadata": {
        "colab": {
          "base_uri": "https://localhost:8080/",
          "height": 286
        },
        "id": "4hxf4vGUwIti",
        "outputId": "bc00762d-685d-49a8-a73b-0dc846503f68"
      },
      "source": [
        "image_teste_0_r = cv2.resize(image_teste_0, (28,28))\n",
        "image_teste_0_r = image_teste_0_r/255\n",
        "plt.gray()\n",
        "plt.imshow(image_teste_0_r)\n",
        "plt.colorbar()"
      ],
      "execution_count": null,
      "outputs": [
        {
          "output_type": "execute_result",
          "data": {
            "text/plain": [
              "<matplotlib.colorbar.Colorbar at 0x7f0797f31710>"
            ]
          },
          "metadata": {
            "tags": []
          },
          "execution_count": 166
        },
        {
          "output_type": "display_data",
          "data": {
            "image/png": "[encoded data removed]",
            "text/plain": [
              "<Figure size 432x288 with 2 Axes>"
            ]
          },
          "metadata": {
            "tags": [],
            "needs_background": "light"
          }
        }
      ]
    },
    {
      "cell_type": "code",
      "metadata": {
        "colab": {
          "base_uri": "https://localhost:8080/"
        },
        "id": "yoJ894-iwqY6",
        "outputId": "77625f2d-5481-4402-ecf8-8a6e4f766a75"
      },
      "source": [
        "image_teste_0_f = image_teste_0_r.flatten()\n",
        "knn_model.predict(image_teste_0_f.reshape(1,-1))"
      ],
      "execution_count": null,
      "outputs": [
        {
          "output_type": "execute_result",
          "data": {
            "text/plain": [
              "array([0], dtype=uint8)"
            ]
          },
          "metadata": {
            "tags": []
          },
          "execution_count": 170
        }
      ]
    },
    {
      "cell_type": "code",
      "metadata": {
        "id": "Luc35bS70IvQ"
      },
      "source": [
        "image_teste_2 = cv2.imread('teste_2.png',0)\n",
        "metodo = cv2.THRESH_OTSU + cv2.THRESH_BINARY_INV\n",
        "ret,image_teste_2 = cv2.threshold(image_teste_2,127,255,metodo)"
      ],
      "execution_count": null,
      "outputs": []
    },
    {
      "cell_type": "code",
      "metadata": {
        "colab": {
          "base_uri": "https://localhost:8080/",
          "height": 286
        },
        "id": "kgdgiXzk0O0p",
        "outputId": "441e1e7b-c0e8-4759-8bd9-ba5b0763b0e0"
      },
      "source": [
        "image_teste_2_r = cv2.resize(image_teste_2, (28,28))\n",
        "image_teste_2_r = image_teste_2_r/255\n",
        "plt.gray()\n",
        "plt.imshow(image_teste_2_r)\n",
        "plt.colorbar()"
      ],
      "execution_count": null,
      "outputs": [
        {
          "output_type": "execute_result",
          "data": {
            "text/plain": [
              "<matplotlib.colorbar.Colorbar at 0x7f0797e65f50>"
            ]
          },
          "metadata": {
            "tags": []
          },
          "execution_count": 169
        },
        {
          "output_type": "display_data",
          "data": {
            "image/png": "[encoded data removed]",
            "text/plain": [
              "<Figure size 432x288 with 2 Axes>"
            ]
          },
          "metadata": {
            "tags": [],
            "needs_background": "light"
          }
        }
      ]
    },
    {
      "cell_type": "code",
      "metadata": {
        "colab": {
          "base_uri": "https://localhost:8080/"
        },
        "id": "oZ5puekb0TqR",
        "outputId": "70c54755-312b-47e2-aa48-3245f55e46f2"
      },
      "source": [
        "image_teste_2_f = image_teste_2_r.flatten()\n",
        "knn_model.predict(image_teste_2_f.reshape(1,-1))"
      ],
      "execution_count": null,
      "outputs": [
        {
          "output_type": "execute_result",
          "data": {
            "text/plain": [
              "array([2], dtype=uint8)"
            ]
          },
          "metadata": {
            "tags": []
          },
          "execution_count": 171
        }
      ]
    },
    {
      "cell_type": "code",
      "metadata": {
        "id": "tuYPBI3z67ee"
      },
      "source": [
        "image_teste_3 = cv2.imread('teste_3.png',0)\n",
        "metodo = cv2.THRESH_OTSU + cv2.THRESH_BINARY_INV\n",
        "ret,image_teste_3 = cv2.threshold(image_teste_3,127,255,metodo)"
      ],
      "execution_count": null,
      "outputs": []
    },
    {
      "cell_type": "code",
      "metadata": {
        "colab": {
          "base_uri": "https://localhost:8080/",
          "height": 286
        },
        "id": "vnEJqq8DCPc2",
        "outputId": "1784cb1c-7c62-4155-8eaa-68e653406ca1"
      },
      "source": [
        "image_teste_3_r = cv2.resize(image_teste_3, (28,28))\n",
        "image_teste_3_r = image_teste_3_r/255\n",
        "plt.gray()\n",
        "plt.imshow(image_teste_3_r)\n",
        "plt.colorbar()"
      ],
      "execution_count": null,
      "outputs": [
        {
          "output_type": "execute_result",
          "data": {
            "text/plain": [
              "<matplotlib.colorbar.Colorbar at 0x7f0797da2d10>"
            ]
          },
          "metadata": {
            "tags": []
          },
          "execution_count": 173
        },
        {
          "output_type": "display_data",
          "data": {
            "image/png": "[encoded data removed]",
            "text/plain": [
              "<Figure size 432x288 with 2 Axes>"
            ]
          },
          "metadata": {
            "tags": [],
            "needs_background": "light"
          }
        }
      ]
    },
    {
      "cell_type": "code",
      "metadata": {
        "colab": {
          "base_uri": "https://localhost:8080/"
        },
        "id": "fOF4yIzNCUCN",
        "outputId": "91745714-ea55-441e-8c3a-7921d52abf51"
      },
      "source": [
        "image_teste_3_f = image_teste_3_r.flatten()\n",
        "knn_model.predict(image_teste_3_f.reshape(1,-1))"
      ],
      "execution_count": null,
      "outputs": [
        {
          "output_type": "execute_result",
          "data": {
            "text/plain": [
              "array([3], dtype=uint8)"
            ]
          },
          "metadata": {
            "tags": []
          },
          "execution_count": 174
        }
      ]
    },
    {
      "cell_type": "code",
      "metadata": {
        "id": "B_Ku8Yt3Cvda"
      },
      "source": [
        "image_teste_4 = cv2.imread('teste_4.png',0)\n",
        "metodo = cv2.THRESH_OTSU + cv2.THRESH_BINARY_INV\n",
        "ret,image_teste_4 = cv2.threshold(image_teste_4,127,255,metodo)"
      ],
      "execution_count": null,
      "outputs": []
    },
    {
      "cell_type": "code",
      "metadata": {
        "colab": {
          "base_uri": "https://localhost:8080/",
          "height": 286
        },
        "id": "NG44ItvOC4Ey",
        "outputId": "fc672bde-aaa4-452e-d06c-19ae9cbea55e"
      },
      "source": [
        "image_teste_4_r = cv2.resize(image_teste_4, (28,28))\n",
        "image_teste_4_r = image_teste_4_r/255\n",
        "plt.gray()\n",
        "plt.imshow(image_teste_4_r)\n",
        "plt.colorbar()"
      ],
      "execution_count": null,
      "outputs": [
        {
          "output_type": "execute_result",
          "data": {
            "text/plain": [
              "<matplotlib.colorbar.Colorbar at 0x7f0797cea790>"
            ]
          },
          "metadata": {
            "tags": []
          },
          "execution_count": 176
        },
        {
          "output_type": "display_data",
          "data": {
            "image/png": "[encoded data removed]",
            "text/plain": [
              "<Figure size 432x288 with 2 Axes>"
            ]
          },
          "metadata": {
            "tags": [],
            "needs_background": "light"
          }
        }
      ]
    },
    {
      "cell_type": "code",
      "metadata": {
        "colab": {
          "base_uri": "https://localhost:8080/"
        },
        "id": "rYEl4A_tC6uA",
        "outputId": "6ab8904b-b2ed-4c27-a1e8-89b03b4c5063"
      },
      "source": [
        "image_teste_4_f = image_teste_4_r.flatten()\n",
        "knn_model.predict(image_teste_4_f.reshape(1,-1))"
      ],
      "execution_count": null,
      "outputs": [
        {
          "output_type": "execute_result",
          "data": {
            "text/plain": [
              "array([4], dtype=uint8)"
            ]
          },
          "metadata": {
            "tags": []
          },
          "execution_count": 177
        }
      ]
    },
    {
      "cell_type": "code",
      "metadata": {
        "id": "LgCTZR8DDGvH"
      },
      "source": [
        "image_teste_5 = cv2.imread('teste_5.png',0)\n",
        "metodo = cv2.THRESH_OTSU + cv2.THRESH_BINARY_INV\n",
        "ret,image_teste_5 = cv2.threshold(image_teste_5,127,255,metodo)"
      ],
      "execution_count": null,
      "outputs": []
    },
    {
      "cell_type": "code",
      "metadata": {
        "colab": {
          "base_uri": "https://localhost:8080/",
          "height": 286
        },
        "id": "k3CY0mXmDLIq",
        "outputId": "df6436d3-b557-4b74-c6bd-0a38d0b9fa9f"
      },
      "source": [
        "image_teste_5_r = cv2.resize(image_teste_5, (28,28))\n",
        "image_teste_5_r = image_teste_5_r/255\n",
        "plt.gray()\n",
        "plt.imshow(image_teste_5_r)\n",
        "plt.colorbar()"
      ],
      "execution_count": null,
      "outputs": [
        {
          "output_type": "execute_result",
          "data": {
            "text/plain": [
              "<matplotlib.colorbar.Colorbar at 0x7f0797c17f90>"
            ]
          },
          "metadata": {
            "tags": []
          },
          "execution_count": 179
        },
        {
          "output_type": "display_data",
          "data": {
            "image/png": "[encoded data removed]",
            "text/plain": [
              "<Figure size 432x288 with 2 Axes>"
            ]
          },
          "metadata": {
            "tags": [],
            "needs_background": "light"
          }
        }
      ]
    },
    {
      "cell_type": "code",
      "metadata": {
        "id": "KIv3FAFkDPWR",
        "colab": {
          "base_uri": "https://localhost:8080/"
        },
        "outputId": "2f17891a-63f3-40a3-97a2-956f54761c9f"
      },
      "source": [
        "image_teste_5_f = image_teste_5_r.flatten()\n",
        "knn_model.predict(image_teste_5_f.reshape(1,-1))"
      ],
      "execution_count": null,
      "outputs": [
        {
          "output_type": "execute_result",
          "data": {
            "text/plain": [
              "array([5], dtype=uint8)"
            ]
          },
          "metadata": {
            "tags": []
          },
          "execution_count": 180
        }
      ]
    }
  ]
}