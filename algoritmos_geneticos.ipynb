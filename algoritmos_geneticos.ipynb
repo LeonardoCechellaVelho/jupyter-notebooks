{
  "cells": [
    {
      "cell_type": "markdown",
      "metadata": {
        "id": "view-in-github",
        "colab_type": "text"
      },
      "source": [
        "<a href=\"https://colab.research.google.com/github/LeonardoCechellaVelho/machine-learning/blob/master/algoritmos_geneticos.ipynb\" target=\"_parent\"><img src=\"https://colab.research.google.com/assets/colab-badge.svg\" alt=\"Open In Colab\"/></a>"
      ]
    },
    {
      "cell_type": "markdown",
      "metadata": {
        "id": "2FhlySEx2-cI"
      },
      "source": [
        "# **LISTA DE EXERCÍCIOS 2**\n",
        "\n",
        "Aluno: Leonardo Cechella Velho"
      ]
    },
    {
      "cell_type": "markdown",
      "metadata": {
        "id": "5p7eN9em3Cq-"
      },
      "source": [
        "# **Exercício 1**\n",
        "\n",
        "Com base no algoritmo desenvolvido em sala de aula, realize uma alteração onde o usuário deverá informar uma quantidade de itens que ele queira cadastrar, depois ele deverá cadastrar esses itens (peso e valor) e também informar a capacidade máxima da mochila. (pts: 0.5)."
      ]
    },
    {
      "cell_type": "code",
      "execution_count": null,
      "metadata": {
        "id": "muGMFejy3R5c"
      },
      "outputs": [],
      "source": [
        "import numpy as np \n",
        "import pandas as pd\n",
        "import random as rd \n",
        "from random import randint \n",
        "import matplotlib.pyplot as plt\n",
        "from IPython.display import clear_output "
      ]
    },
    {
      "cell_type": "code",
      "execution_count": null,
      "metadata": {
        "colab": {
          "base_uri": "https://localhost:8080/"
        },
        "id": "BK-sc2c03U12",
        "outputId": "ff9a0467-01aa-4784-c06f-3f63ea1d2985"
      },
      "outputs": [
        {
          "output_type": "stream",
          "name": "stdout",
          "text": [
            "Defina o peso máximo que a mochila pode carregar: 35\n",
            "[1 2 3 4]\n",
            "[10  9 13  4]\n",
            "[245 679 700 140]\n"
          ]
        }
      ],
      "source": [
        "n = int(input(\"Defina o número de itens da loja: \"))\n",
        "clear_output()\n",
        "numero_itens = []\n",
        "pesos = []\n",
        "valores = []\n",
        "\n",
        "for i in range(n):\n",
        "  numero_itens.append(i+1)\n",
        "  peso = int(input(\"Defina o peso do item \" + str(i+1) + \": \"))\n",
        "  pesos.append(peso)\n",
        "  valor = int(input(\"Defina o valor do item \" + str(i+1) + \": \"))\n",
        "  valores.append(valor)\n",
        "\n",
        "clear_output()\n",
        "\n",
        "numero_itens = np.array(numero_itens)\n",
        "pesos = np.array(pesos)\n",
        "valores = np.array(valores)\n",
        "max_peso_mochila = int(input(\"Defina o peso máximo que a mochila pode carregar: \"))\n",
        "\n",
        "print(numero_itens)\n",
        "print(pesos)\n",
        "print(valores)"
      ]
    },
    {
      "cell_type": "code",
      "execution_count": null,
      "metadata": {
        "colab": {
          "base_uri": "https://localhost:8080/"
        },
        "id": "pOEXbMbj38ql",
        "outputId": "933fc0f2-76b2-4eda-c8bd-ef339406c379"
      },
      "outputs": [
        {
          "output_type": "stream",
          "name": "stdout",
          "text": [
            "Item.    Peso(Kg)     Valor ($)\n",
            "1        10        245\n",
            "\n",
            "2        9        679\n",
            "\n",
            "3        13        700\n",
            "\n",
            "4        4        140\n",
            "\n"
          ]
        }
      ],
      "source": [
        "print('Item.    Peso(Kg)     Valor ($)')\n",
        "for i in range(numero_itens.shape[0]):\n",
        "    print('{0}        {1}        {2}\\n'.format(numero_itens[i], pesos[i], valores[i]))"
      ]
    },
    {
      "cell_type": "code",
      "execution_count": null,
      "metadata": {
        "colab": {
          "base_uri": "https://localhost:8080/"
        },
        "id": "xgi8Y3kc3_NO",
        "outputId": "131c37d2-abfa-405e-b084-422b896f980f"
      },
      "outputs": [
        {
          "output_type": "stream",
          "name": "stdout",
          "text": [
            "Tamanho da População = (8, 4)\n",
            "Número de individuos (solução) = 8\n",
            "Número itens (genes) = 4\n"
          ]
        }
      ],
      "source": [
        "solucao_por_populacao = 8\n",
        "tamanho_populacao = (solucao_por_populacao, numero_itens.shape[0])\n",
        "print('Tamanho da População = {}'.format(tamanho_populacao))\n",
        "print('Número de individuos (solução) = {}'.format(tamanho_populacao[0]))\n",
        "print('Número itens (genes) = {}'.format(tamanho_populacao[1]))"
      ]
    },
    {
      "cell_type": "code",
      "source": [
        "populacao_inicial = np.random.randint(2, size = tamanho_populacao)\n",
        "populacao_inicial = populacao_inicial.astype(int)\n",
        "n_geracoes = 300 \n",
        "print('População Inicial: \\n{}'.format(populacao_inicial))"
      ],
      "metadata": {
        "colab": {
          "base_uri": "https://localhost:8080/"
        },
        "id": "TfJ2hiUo7sn7",
        "outputId": "a3a4136b-61aa-4553-87ec-fb59d394824e"
      },
      "execution_count": null,
      "outputs": [
        {
          "output_type": "stream",
          "name": "stdout",
          "text": [
            "População Inicial: \n",
            "[[0 1 1 1]\n",
            " [0 0 1 1]\n",
            " [0 0 0 1]\n",
            " [0 0 0 1]\n",
            " [1 1 0 1]\n",
            " [1 0 1 0]\n",
            " [1 1 1 1]\n",
            " [0 0 1 1]]\n"
          ]
        }
      ]
    },
    {
      "cell_type": "code",
      "source": [
        "def cal_fitness(peso, valor, populacao, max_peso_mochila):\n",
        "    fitness = np.empty(populacao.shape[0])\n",
        "    for i in range(populacao.shape[0]):\n",
        "        S1 = np.sum(populacao[i] * valor)\n",
        "        S2 = np.sum(populacao[i] * peso) \n",
        "        if S2 <= max_peso_mochila:\n",
        "           fitness[i] = S1\n",
        "        else : \n",
        "           fitness[i] = 0\n",
        "    return fitness.astype(int)  "
      ],
      "metadata": {
        "id": "_8HiCBWB7uTU"
      },
      "execution_count": null,
      "outputs": []
    },
    {
      "cell_type": "code",
      "source": [
        "def selecao_roleta(fitness, numero_pais, populacao):\n",
        "  max_fitness = sum(fitness)\n",
        "  probabilidades = fitness/max_fitness \n",
        "  selecionados = populacao[np.random.choice(len(populacao),\n",
        "                                            size=numero_pais,\n",
        "                                            p=probabilidades)]\n",
        "  return selecionados"
      ],
      "metadata": {
        "id": "rMbiJEBQ7vC6"
      },
      "execution_count": null,
      "outputs": []
    },
    {
      "cell_type": "code",
      "source": [
        "def crossover(pais, numero_filhos):\n",
        "    filhos = np.empty((numero_filhos, pais.shape[1]))\n",
        "    ponto_crossover = int(pais.shape[1]/2)\n",
        "    for k in range(numero_filhos):\n",
        "      pai_1_idx = k%pais.shape[0]\n",
        "      pai_2_idx = (k+1)%pais.shape[0]\n",
        "      filhos[k, 0:ponto_crossover] = pais[pai_1_idx, 0:ponto_crossover]\n",
        "      filhos[k, ponto_crossover:] = pais[pai_2_idx, ponto_crossover:]\n",
        "    return filhos"
      ],
      "metadata": {
        "id": "Bv2ASz9u7xsY"
      },
      "execution_count": null,
      "outputs": []
    },
    {
      "cell_type": "code",
      "source": [
        "def mutacao(filhos):\n",
        "    mutacoes = np.empty((filhos.shape))\n",
        "    for i in range(mutacoes.shape[0]):\n",
        "        posicao_gene = randint(0,filhos.shape[1]-1)\n",
        "        if mutacoes[i,posicao_gene] == 0 :\n",
        "            mutacoes[i,posicao_gene] = 1\n",
        "        else :\n",
        "            mutacoes[i,posicao_gene] = 0\n",
        "    return mutacoes"
      ],
      "metadata": {
        "id": "tQlx1Mzo7zkO"
      },
      "execution_count": null,
      "outputs": []
    },
    {
      "cell_type": "code",
      "source": [
        "def rodar_AG(pesos, valores, populacao, tamanho_populacao, n_geracoes, max_peso_mochila):\n",
        "    parametros, historico_fitness = [], []\n",
        "    numero_pais = int(tamanho_populacao[0]/2)\n",
        "    numero_filhos = tamanho_populacao[0] - numero_pais\n",
        "    fitness = []\n",
        "    print('Número de pais {} e Número de filhos {}'.format(numero_pais,numero_filhos))\n",
        "    for i in range(n_geracoes): \n",
        "        fitness = cal_fitness(pesos, valores, populacao, max_peso_mochila)\n",
        "        historico_fitness.append(fitness)\n",
        "        pais = selecao_roleta(fitness, numero_pais, populacao)\n",
        "        filhos = crossover(pais, numero_filhos)\n",
        "        filhos_mutados = mutacao(filhos)\n",
        "        populacao[0:pais.shape[0], :] = pais \n",
        "        populacao[pais.shape[0]:, :] = filhos_mutados\n",
        "    print('Última Geração: \\n{}\\n'.format(populacao))\n",
        "    fitness_ultima_geracao = cal_fitness(pesos, valores, populacao, max_peso_mochila)\n",
        "    print('Fitness Última Geração: \\n{}\\n'.format(fitness_ultima_geracao))\n",
        "    max_fitness = np.where(fitness_ultima_geracao == np.max(fitness_ultima_geracao))\n",
        "    parametros.append(populacao[max_fitness[0][0],:])\n",
        "    return parametros, historico_fitness"
      ],
      "metadata": {
        "id": "aqFk0EJk71N1"
      },
      "execution_count": null,
      "outputs": []
    },
    {
      "cell_type": "code",
      "source": [
        "parametros, historico_fitness = rodar_AG(pesos,\n",
        "                                         valores,\n",
        "                                         populacao_inicial,\n",
        "                                         tamanho_populacao,\n",
        "                                         n_geracoes,\n",
        "                                         max_peso_mochila)\n",
        "print('Os parametros otimizados para as entradas fornecidas são: \\n{}'.format(parametros))"
      ],
      "metadata": {
        "colab": {
          "base_uri": "https://localhost:8080/"
        },
        "id": "d3SKdNjc72jW",
        "outputId": "0c4142e0-3d2a-4365-f709-3609e2cd36d9"
      },
      "execution_count": null,
      "outputs": [
        {
          "output_type": "stream",
          "name": "stdout",
          "text": [
            "Número de pais 4 e Número de filhos 4\n",
            "Última Geração: \n",
            "[[1 1 1 0]\n",
            " [0 0 1 1]\n",
            " [0 1 1 1]\n",
            " [0 1 1 1]\n",
            " [0 1 1 0]\n",
            " [1 0 0 1]\n",
            " [0 0 1 0]\n",
            " [1 1 0 1]]\n",
            "\n",
            "Fitness Última Geração: \n",
            "[1624  840 1519 1519 1379  385  700 1064]\n",
            "\n",
            "Os parametros otimizados para as entradas fornecidas são: \n",
            "[array([1, 1, 1, 0])]\n"
          ]
        }
      ]
    },
    {
      "cell_type": "code",
      "source": [
        "itens_selecionados = numero_itens * parametros \n",
        "print('\\n Itens selecionados que maximizarão a mochila sem quebrá-la:')\n",
        "for i in range(itens_selecionados.shape[1]):\n",
        "  if itens_selecionados[0][i] != 0:\n",
        "      print('{}\\n'.format(itens_selecionados[0][i]))"
      ],
      "metadata": {
        "colab": {
          "base_uri": "https://localhost:8080/"
        },
        "id": "pXz5xz_e8DE-",
        "outputId": "92ca41e8-5522-404a-b67f-af360d6720d7"
      },
      "execution_count": null,
      "outputs": [
        {
          "output_type": "stream",
          "name": "stdout",
          "text": [
            "\n",
            " Itens selecionados que maximizarão a mochila sem quebrá-la:\n",
            "1\n",
            "\n",
            "2\n",
            "\n",
            "3\n",
            "\n"
          ]
        }
      ]
    },
    {
      "cell_type": "code",
      "source": [
        "fitness_medio = [np.mean(fitness) for fitness in historico_fitness]\n",
        "fitness_max = [np.max(fitness) for fitness in historico_fitness]\n",
        "plt.plot(list(range(n_geracoes)), fitness_medio, label = 'Fitness Médio')\n",
        "plt.plot(list(range(n_geracoes)), fitness_max, label = 'Fitness Máximo')\n",
        "plt.legend()\n",
        "plt.title('Fitness ao decorrer das gerações')\n",
        "plt.xlabel('Geração')\n",
        "plt.ylabel('Fitness')\n",
        "plt.show()\n",
        "print(np.asarray(historico_fitness).shape)"
      ],
      "metadata": {
        "colab": {
          "base_uri": "https://localhost:8080/",
          "height": 312
        },
        "id": "WJGi0adc8Gmz",
        "outputId": "688bb1bd-048c-4421-8323-182086ff093a"
      },
      "execution_count": null,
      "outputs": [
        {
          "output_type": "display_data",
          "data": {
            "text/plain": [
              "<Figure size 432x288 with 1 Axes>"
            ],
            "image/png": "[encoded data removed]"
          },
          "metadata": {
            "needs_background": "light"
          }
        },
        {
          "output_type": "stream",
          "name": "stdout",
          "text": [
            "(300, 8)\n"
          ]
        }
      ]
    },
    {
      "cell_type": "markdown",
      "metadata": {
        "id": "utl8VWRO8lHM"
      },
      "source": [
        "# **Exercício 2**\n",
        "\n",
        "Com base no algoritmo desenvolvido na atividade anterior, realize uma alteração no crossover do código, você deverá implementar um crossover de múltiplos pontos (2 pontos, fica a seu critério definir as posições dos pontos) e apresente um comparativo (gráficos de geração x fitness) do código original (crossover de ponto único) e sua solução de crossover de múltiplos pontos. (pts: 1)\n",
        "Obs: O Comparativo deve ser realizado com os mesmos itens, capacidade da mochila, tamanho da população, inicialização... \n"
      ]
    },
    {
      "cell_type": "code",
      "execution_count": null,
      "metadata": {
        "id": "-DWHcXTN8lHT"
      },
      "outputs": [],
      "source": [
        "import numpy as np \n",
        "import pandas as pd\n",
        "import random as rd \n",
        "from random import randint \n",
        "import matplotlib.pyplot as plt\n",
        "from IPython.display import clear_output "
      ]
    },
    {
      "cell_type": "code",
      "execution_count": null,
      "metadata": {
        "colab": {
          "base_uri": "https://localhost:8080/"
        },
        "outputId": "39be8835-8dee-465f-a7a0-8b4f59712b47",
        "id": "o5Na14Qr8lHT"
      },
      "outputs": [
        {
          "output_type": "stream",
          "name": "stdout",
          "text": [
            "Defina o peso máximo que a mochila pode carregar: 35\n",
            "[1 2 3 4]\n",
            "[10  9 13  4]\n",
            "[245 679 700 140]\n"
          ]
        }
      ],
      "source": [
        "n = int(input(\"Defina o número de itens da loja: \"))\n",
        "clear_output()\n",
        "numero_itens = []\n",
        "pesos = []\n",
        "valores = []\n",
        "\n",
        "for i in range(n):\n",
        "  numero_itens.append(i+1)\n",
        "  peso = int(input(\"Defina o peso do item \" + str(i+1) + \": \"))\n",
        "  pesos.append(peso)\n",
        "  valor = int(input(\"Defina o valor do item \" + str(i+1) + \": \"))\n",
        "  valores.append(valor)\n",
        "\n",
        "clear_output()\n",
        "\n",
        "numero_itens = np.array(numero_itens)\n",
        "pesos = np.array(pesos)\n",
        "valores = np.array(valores)\n",
        "max_peso_mochila = int(input(\"Defina o peso máximo que a mochila pode carregar: \"))\n",
        "\n",
        "print(numero_itens)\n",
        "print(pesos)\n",
        "print(valores)"
      ]
    },
    {
      "cell_type": "code",
      "execution_count": null,
      "metadata": {
        "colab": {
          "base_uri": "https://localhost:8080/"
        },
        "outputId": "2f126df6-dd1a-4ad9-d119-8a3af886a4d0",
        "id": "Uh-aAYr68lHU"
      },
      "outputs": [
        {
          "output_type": "stream",
          "name": "stdout",
          "text": [
            "Item.    Peso(Kg)     Valor ($)\n",
            "1        10        245\n",
            "\n",
            "2        9        679\n",
            "\n",
            "3        13        700\n",
            "\n",
            "4        4        140\n",
            "\n"
          ]
        }
      ],
      "source": [
        "print('Item.    Peso(Kg)     Valor ($)')\n",
        "for i in range(numero_itens.shape[0]):\n",
        "    print('{0}        {1}        {2}\\n'.format(numero_itens[i], pesos[i], valores[i]))"
      ]
    },
    {
      "cell_type": "code",
      "execution_count": null,
      "metadata": {
        "colab": {
          "base_uri": "https://localhost:8080/"
        },
        "outputId": "0bfa87fc-6474-445a-c2c4-ce5d5f21c96a",
        "id": "tU7Gaau58lHV"
      },
      "outputs": [
        {
          "output_type": "stream",
          "name": "stdout",
          "text": [
            "Tamanho da População = (8, 4)\n",
            "Número de individuos (solução) = 8\n",
            "Número itens (genes) = 4\n"
          ]
        }
      ],
      "source": [
        "solucao_por_populacao = 8\n",
        "tamanho_populacao = (solucao_por_populacao, numero_itens.shape[0])\n",
        "print('Tamanho da População = {}'.format(tamanho_populacao))\n",
        "print('Número de individuos (solução) = {}'.format(tamanho_populacao[0]))\n",
        "print('Número itens (genes) = {}'.format(tamanho_populacao[1]))"
      ]
    },
    {
      "cell_type": "code",
      "source": [
        "populacao_inicial = np.random.randint(2, size = tamanho_populacao)\n",
        "populacao_inicial = populacao_inicial.astype(int)\n",
        "n_geracoes = 300 \n",
        "print('População Inicial: \\n{}'.format(populacao_inicial))"
      ],
      "metadata": {
        "colab": {
          "base_uri": "https://localhost:8080/"
        },
        "outputId": "db78ba2e-b14e-4b71-a902-cd2b7afda9b4",
        "id": "AEFGR7dN8lHV"
      },
      "execution_count": null,
      "outputs": [
        {
          "output_type": "stream",
          "name": "stdout",
          "text": [
            "População Inicial: \n",
            "[[0 0 1 1]\n",
            " [0 0 0 0]\n",
            " [0 1 1 0]\n",
            " [1 0 0 1]\n",
            " [0 1 0 0]\n",
            " [0 0 0 1]\n",
            " [0 1 1 0]\n",
            " [0 1 1 0]]\n"
          ]
        }
      ]
    },
    {
      "cell_type": "code",
      "source": [
        "def cal_fitness(peso, valor, populacao, max_peso_mochila):\n",
        "    fitness = np.empty(populacao.shape[0])\n",
        "    for i in range(populacao.shape[0]):\n",
        "        S1 = np.sum(populacao[i] * valor)\n",
        "        S2 = np.sum(populacao[i] * peso) \n",
        "        if S2 <= max_peso_mochila:\n",
        "           fitness[i] = S1\n",
        "        else : \n",
        "           fitness[i] = 0\n",
        "    return fitness.astype(int)  "
      ],
      "metadata": {
        "id": "Jn9vEmCV8lHV"
      },
      "execution_count": null,
      "outputs": []
    },
    {
      "cell_type": "code",
      "source": [
        "def selecao_roleta(fitness, numero_pais, populacao):\n",
        "  max_fitness = sum(fitness)\n",
        "  probabilidades = fitness/max_fitness \n",
        "  selecionados = populacao[np.random.choice(len(populacao),\n",
        "                                            size=numero_pais,\n",
        "                                            p=probabilidades)]\n",
        "  return selecionados"
      ],
      "metadata": {
        "id": "Rtb6tpOS8lHW"
      },
      "execution_count": null,
      "outputs": []
    },
    {
      "cell_type": "code",
      "source": [
        "def crossover(pais, numero_filhos):\n",
        "    filhos =np.empty((numero_filhos, pais.shape[1]))\n",
        "    ponto_crossover = int(pais.shape[1]/2)\n",
        "    for k in range(numero_filhos):\n",
        "      pai_1_idx = k%pais.shape[0]\n",
        "      pai_2_idx = (k+1)%pais.shape[0]\n",
        "      filhos[k, 0:ponto_crossover] = pais[pai_1_idx, 0:ponto_crossover]\n",
        "      filhos[k, ponto_crossover:] = pais[pai_2_idx, ponto_crossover:]\n",
        "    return filhos"
      ],
      "metadata": {
        "id": "2gVGDPgW8lHW"
      },
      "execution_count": null,
      "outputs": []
    },
    {
      "cell_type": "code",
      "source": [
        "def multi_point_crossover(pais, numero_filhos):\n",
        "  for i in range(2):\n",
        "    filhos = crossover(pais, numero_filhos)\n",
        "  return filhos;"
      ],
      "metadata": {
        "id": "BYPJATG0JVxN"
      },
      "execution_count": null,
      "outputs": []
    },
    {
      "cell_type": "code",
      "source": [
        "def mutacao(filhos):\n",
        "    mutacoes = np.empty((filhos.shape))\n",
        "    for i in range(mutacoes.shape[0]):\n",
        "        posicao_gene = randint(0,filhos.shape[1]-1)\n",
        "        if mutacoes[i,posicao_gene] == 0 :\n",
        "            mutacoes[i,posicao_gene] = 1\n",
        "        else :\n",
        "            mutacoes[i,posicao_gene] = 0\n",
        "    return mutacoes"
      ],
      "metadata": {
        "id": "q-AZs8JT8lHW"
      },
      "execution_count": null,
      "outputs": []
    },
    {
      "cell_type": "code",
      "source": [
        "def rodar_AG(pesos, valores, populacao, tamanho_populacao, n_geracoes, max_peso_mochila):\n",
        "    parametros, historico_fitness = [], []\n",
        "    numero_pais = int(tamanho_populacao[0]/2)\n",
        "    numero_filhos = tamanho_populacao[0] - numero_pais\n",
        "    fitness = []\n",
        "    print('Número de pais {} e Número de filhos {}'.format(numero_pais,numero_filhos))\n",
        "    for i in range(n_geracoes): \n",
        "        fitness = cal_fitness(pesos, valores, populacao, max_peso_mochila)\n",
        "        historico_fitness.append(fitness)\n",
        "        pais = selecao_roleta(fitness, numero_pais, populacao)\n",
        "        filhos = multi_point_crossover(pais, numero_filhos)\n",
        "        filhos_mutados = mutacao(filhos)\n",
        "        populacao[0:pais.shape[0], :] = pais \n",
        "        populacao[pais.shape[0]:, :] = filhos_mutados\n",
        "    print('Última Geração: \\n{}\\n'.format(populacao))\n",
        "    fitness_ultima_geracao = cal_fitness(pesos, valores, populacao, max_peso_mochila)\n",
        "    print('Fitness Última Geração: \\n{}\\n'.format(fitness_ultima_geracao))\n",
        "    max_fitness = np.where(fitness_ultima_geracao == np.max(fitness_ultima_geracao))\n",
        "    parametros.append(populacao[max_fitness[0][0],:])\n",
        "    return parametros, historico_fitness"
      ],
      "metadata": {
        "id": "qD6Nvk5r8lHW"
      },
      "execution_count": null,
      "outputs": []
    },
    {
      "cell_type": "code",
      "source": [
        "parametros, historico_fitness = rodar_AG(pesos,\n",
        "                                         valores,\n",
        "                                         populacao_inicial,\n",
        "                                         tamanho_populacao,\n",
        "                                         n_geracoes,\n",
        "                                         max_peso_mochila)\n",
        "print('Os parametros otimizados para as entradas fornecidas são: \\n{}'.format(parametros))"
      ],
      "metadata": {
        "colab": {
          "base_uri": "https://localhost:8080/"
        },
        "outputId": "03a8ab92-4766-4b8a-ba52-43307a68ffc7",
        "id": "VIbY7fiw8lHX"
      },
      "execution_count": null,
      "outputs": [
        {
          "output_type": "stream",
          "name": "stdout",
          "text": [
            "Número de pais 4 e Número de filhos 4\n",
            "Última Geração: \n",
            "[[1 1 1 0]\n",
            " [1 0 1 0]\n",
            " [1 1 1 0]\n",
            " [1 1 1 0]\n",
            " [1 1 0 1]\n",
            " [1 1 1 1]\n",
            " [1 1 1 1]\n",
            " [1 1 0 0]]\n",
            "\n",
            "Fitness Última Geração: \n",
            "[1624  945 1624 1624 1064    0    0  924]\n",
            "\n",
            "Os parametros otimizados para as entradas fornecidas são: \n",
            "[array([1, 1, 1, 0])]\n"
          ]
        }
      ]
    },
    {
      "cell_type": "code",
      "source": [
        "itens_selecionados = numero_itens * parametros \n",
        "print('\\n Itens selecionados que maximizarão a mochila sem quebrá-la:')\n",
        "for i in range(itens_selecionados.shape[1]):\n",
        "  if itens_selecionados[0][i] != 0:\n",
        "      print('{}\\n'.format(itens_selecionados[0][i]))"
      ],
      "metadata": {
        "colab": {
          "base_uri": "https://localhost:8080/"
        },
        "outputId": "8cef3f5b-c594-496f-87e9-1f91db848c6d",
        "id": "_3aMK-c08lHX"
      },
      "execution_count": null,
      "outputs": [
        {
          "output_type": "stream",
          "name": "stdout",
          "text": [
            "\n",
            " Itens selecionados que maximizarão a mochila sem quebrá-la:\n",
            "1\n",
            "\n",
            "2\n",
            "\n",
            "3\n",
            "\n"
          ]
        }
      ]
    },
    {
      "cell_type": "code",
      "source": [
        "fitness_medio = [np.mean(fitness) for fitness in historico_fitness]\n",
        "fitness_max = [np.max(fitness) for fitness in historico_fitness]\n",
        "plt.plot(list(range(n_geracoes)), fitness_medio, label = 'Fitness Médio')\n",
        "plt.plot(list(range(n_geracoes)), fitness_max, label = 'Fitness Máximo')\n",
        "plt.legend()\n",
        "plt.title('Fitness ao decorrer das gerações')\n",
        "plt.xlabel('Geração')\n",
        "plt.ylabel('Fitness')\n",
        "plt.show()\n",
        "print(np.asarray(historico_fitness).shape)"
      ],
      "metadata": {
        "colab": {
          "base_uri": "https://localhost:8080/",
          "height": 312
        },
        "outputId": "82689fcd-76cf-4a68-db32-8817ecf2c2ed",
        "id": "RInRAxP28lHX"
      },
      "execution_count": null,
      "outputs": [
        {
          "output_type": "display_data",
          "data": {
            "text/plain": [
              "<Figure size 432x288 with 1 Axes>"
            ],
            "image/png": "[encoded data removed]"
          },
          "metadata": {
            "needs_background": "light"
          }
        },
        {
          "output_type": "stream",
          "name": "stdout",
          "text": [
            "(300, 8)\n"
          ]
        }
      ]
    },
    {
      "cell_type": "markdown",
      "metadata": {
        "id": "K1gPUauQCUlo"
      },
      "source": [
        "# **Exercício 3**\n",
        "\n",
        "Dado o dataset (heart.csv) onde possui informações de pessoas que tiveram ataques cardíacos. Utilize uma rede neural artificial para criar um modelo inteligente que consiga realizar a predição. (pts:1.5)  \n",
        "Você está livre para escolher melhor estrutura para rede neural (número de camadas, número de neurônios, funções de ativação). \n",
        "Obs: Você deve encontrar apresentar um modelo com no MINIMO 70% de acurácia e precisão.\n"
      ]
    },
    {
      "cell_type": "code",
      "execution_count": null,
      "metadata": {
        "id": "uWGAIITICUlz"
      },
      "outputs": [],
      "source": [
        "import pandas as pd\n",
        "dataset = pd.read_csv(\"heart.csv\")"
      ]
    },
    {
      "cell_type": "code",
      "execution_count": null,
      "metadata": {
        "colab": {
          "base_uri": "https://localhost:8080/",
          "height": 206
        },
        "outputId": "83419d4d-2487-48d3-e53c-dde589c6ad83",
        "id": "P1zHWp1TCUlz"
      },
      "outputs": [
        {
          "output_type": "execute_result",
          "data": {
            "text/plain": [
              "   age  sex  cp  trestbps  chol  fbs  restecg  thalach  exang  oldpeak  slope  \\\n",
              "0   63    1   3       145   233    1        0      150      0      2.3      0   \n",
              "1   37    1   2       130   250    0        1      187      0      3.5      0   \n",
              "2   41    0   1       130   204    0        0      172      0      1.4      2   \n",
              "3   56    1   1       120   236    0        1      178      0      0.8      2   \n",
              "4   57    0   0       120   354    0        1      163      1      0.6      2   \n",
              "\n",
              "   ca  thal  target  \n",
              "0   0     1       1  \n",
              "1   0     2       1  \n",
              "2   0     2       1  \n",
              "3   0     2       1  \n",
              "4   0     2       1  "
            ],
            "text/html": [
              "\n",
              "  <div id=\"df-7312f583-4296-43e1-8344-e7e4361818bf\">\n",
              "    <div class=\"colab-df-container\">\n",
              "      <div>\n",
              "<style scoped>\n",
              "    .dataframe tbody tr th:only-of-type {\n",
              "        vertical-align: middle;\n",
              "    }\n",
              "\n",
              "    .dataframe tbody tr th {\n",
              "        vertical-align: top;\n",
              "    }\n",
              "\n",
              "    .dataframe thead th {\n",
              "        text-align: right;\n",
              "    }\n",
              "</style>\n",
              "<table border=\"1\" class=\"dataframe\">\n",
              "  <thead>\n",
              "    <tr style=\"text-align: right;\">\n",
              "      <th></th>\n",
              "      <th>age</th>\n",
              "      <th>sex</th>\n",
              "      <th>cp</th>\n",
              "      <th>trestbps</th>\n",
              "      <th>chol</th>\n",
              "      <th>fbs</th>\n",
              "      <th>restecg</th>\n",
              "      <th>thalach</th>\n",
              "      <th>exang</th>\n",
              "      <th>oldpeak</th>\n",
              "      <th>slope</th>\n",
              "      <th>ca</th>\n",
              "      <th>thal</th>\n",
              "      <th>target</th>\n",
              "    </tr>\n",
              "  </thead>\n",
              "  <tbody>\n",
              "    <tr>\n",
              "      <th>0</th>\n",
              "      <td>63</td>\n",
              "      <td>1</td>\n",
              "      <td>3</td>\n",
              "      <td>145</td>\n",
              "      <td>233</td>\n",
              "      <td>1</td>\n",
              "      <td>0</td>\n",
              "      <td>150</td>\n",
              "      <td>0</td>\n",
              "      <td>2.3</td>\n",
              "      <td>0</td>\n",
              "      <td>0</td>\n",
              "      <td>1</td>\n",
              "      <td>1</td>\n",
              "    </tr>\n",
              "    <tr>\n",
              "      <th>1</th>\n",
              "      <td>37</td>\n",
              "      <td>1</td>\n",
              "      <td>2</td>\n",
              "      <td>130</td>\n",
              "      <td>250</td>\n",
              "      <td>0</td>\n",
              "      <td>1</td>\n",
              "      <td>187</td>\n",
              "      <td>0</td>\n",
              "      <td>3.5</td>\n",
              "      <td>0</td>\n",
              "      <td>0</td>\n",
              "      <td>2</td>\n",
              "      <td>1</td>\n",
              "    </tr>\n",
              "    <tr>\n",
              "      <th>2</th>\n",
              "      <td>41</td>\n",
              "      <td>0</td>\n",
              "      <td>1</td>\n",
              "      <td>130</td>\n",
              "      <td>204</td>\n",
              "      <td>0</td>\n",
              "      <td>0</td>\n",
              "      <td>172</td>\n",
              "      <td>0</td>\n",
              "      <td>1.4</td>\n",
              "      <td>2</td>\n",
              "      <td>0</td>\n",
              "      <td>2</td>\n",
              "      <td>1</td>\n",
              "    </tr>\n",
              "    <tr>\n",
              "      <th>3</th>\n",
              "      <td>56</td>\n",
              "      <td>1</td>\n",
              "      <td>1</td>\n",
              "      <td>120</td>\n",
              "      <td>236</td>\n",
              "      <td>0</td>\n",
              "      <td>1</td>\n",
              "      <td>178</td>\n",
              "      <td>0</td>\n",
              "      <td>0.8</td>\n",
              "      <td>2</td>\n",
              "      <td>0</td>\n",
              "      <td>2</td>\n",
              "      <td>1</td>\n",
              "    </tr>\n",
              "    <tr>\n",
              "      <th>4</th>\n",
              "      <td>57</td>\n",
              "      <td>0</td>\n",
              "      <td>0</td>\n",
              "      <td>120</td>\n",
              "      <td>354</td>\n",
              "      <td>0</td>\n",
              "      <td>1</td>\n",
              "      <td>163</td>\n",
              "      <td>1</td>\n",
              "      <td>0.6</td>\n",
              "      <td>2</td>\n",
              "      <td>0</td>\n",
              "      <td>2</td>\n",
              "      <td>1</td>\n",
              "    </tr>\n",
              "  </tbody>\n",
              "</table>\n",
              "</div>\n",
              "      <button class=\"colab-df-convert\" onclick=\"convertToInteractive('df-7312f583-4296-43e1-8344-e7e4361818bf')\"\n",
              "              title=\"Convert this dataframe to an interactive table.\"\n",
              "              style=\"display:none;\">\n",
              "        \n",
              "  <svg xmlns=\"http://www.w3.org/2000/svg\" height=\"24px\"viewBox=\"0 0 24 24\"\n",
              "       width=\"24px\">\n",
              "    <path d=\"M0 0h24v24H0V0z\" fill=\"none\"/>\n",
              "    <path d=\"M18.56 5.44l.94 2.06.94-2.06 2.06-.94-2.06-.94-.94-2.06-.94 2.06-2.06.94zm-11 1L8.5 8.5l.94-2.06 2.06-.94-2.06-.94L8.5 2.5l-.94 2.06-2.06.94zm10 10l.94 2.06.94-2.06 2.06-.94-2.06-.94-.94-2.06-.94 2.06-2.06.94z\"/><path d=\"M17.41 7.96l-1.37-1.37c-.4-.4-.92-.59-1.43-.59-.52 0-1.04.2-1.43.59L10.3 9.45l-7.72 7.72c-.78.78-.78 2.05 0 2.83L4 21.41c.39.39.9.59 1.41.59.51 0 1.02-.2 1.41-.59l7.78-7.78 2.81-2.81c.8-.78.8-2.07 0-2.86zM5.41 20L4 18.59l7.72-7.72 1.47 1.35L5.41 20z\"/>\n",
              "  </svg>\n",
              "      </button>\n",
              "      \n",
              "  <style>\n",
              "    .colab-df-container {\n",
              "      display:flex;\n",
              "      flex-wrap:wrap;\n",
              "      gap: 12px;\n",
              "    }\n",
              "\n",
              "    .colab-df-convert {\n",
              "      background-color: #E8F0FE;\n",
              "      border: none;\n",
              "      border-radius: 50%;\n",
              "      cursor: pointer;\n",
              "      display: none;\n",
              "      fill: #1967D2;\n",
              "      height: 32px;\n",
              "      padding: 0 0 0 0;\n",
              "      width: 32px;\n",
              "    }\n",
              "\n",
              "    .colab-df-convert:hover {\n",
              "      background-color: #E2EBFA;\n",
              "      box-shadow: 0px 1px 2px rgba(60, 64, 67, 0.3), 0px 1px 3px 1px rgba(60, 64, 67, 0.15);\n",
              "      fill: #174EA6;\n",
              "    }\n",
              "\n",
              "    [theme=dark] .colab-df-convert {\n",
              "      background-color: #3B4455;\n",
              "      fill: #D2E3FC;\n",
              "    }\n",
              "\n",
              "    [theme=dark] .colab-df-convert:hover {\n",
              "      background-color: #434B5C;\n",
              "      box-shadow: 0px 1px 3px 1px rgba(0, 0, 0, 0.15);\n",
              "      filter: drop-shadow(0px 1px 2px rgba(0, 0, 0, 0.3));\n",
              "      fill: #FFFFFF;\n",
              "    }\n",
              "  </style>\n",
              "\n",
              "      <script>\n",
              "        const buttonEl =\n",
              "          document.querySelector('#df-7312f583-4296-43e1-8344-e7e4361818bf button.colab-df-convert');\n",
              "        buttonEl.style.display =\n",
              "          google.colab.kernel.accessAllowed ? 'block' : 'none';\n",
              "\n",
              "        async function convertToInteractive(key) {\n",
              "          const element = document.querySelector('#df-7312f583-4296-43e1-8344-e7e4361818bf');\n",
              "          const dataTable =\n",
              "            await google.colab.kernel.invokeFunction('convertToInteractive',\n",
              "                                                     [key], {});\n",
              "          if (!dataTable) return;\n",
              "\n",
              "          const docLinkHtml = 'Like what you see? Visit the ' +\n",
              "            '<a target=\"_blank\" href=https://colab.research.google.com/notebooks/data_table.ipynb>data table notebook</a>'\n",
              "            + ' to learn more about interactive tables.';\n",
              "          element.innerHTML = '';\n",
              "          dataTable['output_type'] = 'display_data';\n",
              "          await google.colab.output.renderOutput(dataTable, element);\n",
              "          const docLink = document.createElement('div');\n",
              "          docLink.innerHTML = docLinkHtml;\n",
              "          element.appendChild(docLink);\n",
              "        }\n",
              "      </script>\n",
              "    </div>\n",
              "  </div>\n",
              "  "
            ]
          },
          "metadata": {},
          "execution_count": 51
        }
      ],
      "source": [
        "dataset.head()"
      ]
    },
    {
      "cell_type": "code",
      "execution_count": null,
      "metadata": {
        "colab": {
          "base_uri": "https://localhost:8080/"
        },
        "outputId": "b76e7179-0a60-45c1-aafb-dc99d12712e3",
        "id": "HERupx-dCUl0"
      },
      "outputs": [
        {
          "output_type": "stream",
          "name": "stdout",
          "text": [
            "<class 'pandas.core.frame.DataFrame'>\n",
            "RangeIndex: 303 entries, 0 to 302\n",
            "Data columns (total 14 columns):\n",
            " #   Column    Non-Null Count  Dtype  \n",
            "---  ------    --------------  -----  \n",
            " 0   age       303 non-null    int64  \n",
            " 1   sex       303 non-null    int64  \n",
            " 2   cp        303 non-null    int64  \n",
            " 3   trestbps  303 non-null    int64  \n",
            " 4   chol      303 non-null    int64  \n",
            " 5   fbs       303 non-null    int64  \n",
            " 6   restecg   303 non-null    int64  \n",
            " 7   thalach   303 non-null    int64  \n",
            " 8   exang     303 non-null    int64  \n",
            " 9   oldpeak   303 non-null    float64\n",
            " 10  slope     303 non-null    int64  \n",
            " 11  ca        303 non-null    int64  \n",
            " 12  thal      303 non-null    int64  \n",
            " 13  target    303 non-null    int64  \n",
            "dtypes: float64(1), int64(13)\n",
            "memory usage: 33.3 KB\n"
          ]
        }
      ],
      "source": [
        "dataset.info()"
      ]
    },
    {
      "cell_type": "code",
      "execution_count": null,
      "metadata": {
        "colab": {
          "base_uri": "https://localhost:8080/",
          "height": 300
        },
        "outputId": "96809b76-d309-44fa-f6cb-c3912ecf5273",
        "id": "Yl70CPzSCUl0"
      },
      "outputs": [
        {
          "output_type": "execute_result",
          "data": {
            "text/plain": [
              "              age         sex          cp    trestbps        chol         fbs  \\\n",
              "count  303.000000  303.000000  303.000000  303.000000  303.000000  303.000000   \n",
              "mean    54.366337    0.683168    0.966997  131.623762  246.264026    0.148515   \n",
              "std      9.082101    0.466011    1.032052   17.538143   51.830751    0.356198   \n",
              "min     29.000000    0.000000    0.000000   94.000000  126.000000    0.000000   \n",
              "25%     47.500000    0.000000    0.000000  120.000000  211.000000    0.000000   \n",
              "50%     55.000000    1.000000    1.000000  130.000000  240.000000    0.000000   \n",
              "75%     61.000000    1.000000    2.000000  140.000000  274.500000    0.000000   \n",
              "max     77.000000    1.000000    3.000000  200.000000  564.000000    1.000000   \n",
              "\n",
              "          restecg     thalach       exang     oldpeak       slope          ca  \\\n",
              "count  303.000000  303.000000  303.000000  303.000000  303.000000  303.000000   \n",
              "mean     0.528053  149.646865    0.326733    1.039604    1.399340    0.729373   \n",
              "std      0.525860   22.905161    0.469794    1.161075    0.616226    1.022606   \n",
              "min      0.000000   71.000000    0.000000    0.000000    0.000000    0.000000   \n",
              "25%      0.000000  133.500000    0.000000    0.000000    1.000000    0.000000   \n",
              "50%      1.000000  153.000000    0.000000    0.800000    1.000000    0.000000   \n",
              "75%      1.000000  166.000000    1.000000    1.600000    2.000000    1.000000   \n",
              "max      2.000000  202.000000    1.000000    6.200000    2.000000    4.000000   \n",
              "\n",
              "             thal      target  \n",
              "count  303.000000  303.000000  \n",
              "mean     2.313531    0.544554  \n",
              "std      0.612277    0.498835  \n",
              "min      0.000000    0.000000  \n",
              "25%      2.000000    0.000000  \n",
              "50%      2.000000    1.000000  \n",
              "75%      3.000000    1.000000  \n",
              "max      3.000000    1.000000  "
            ],
            "text/html": [
              "\n",
              "  <div id=\"df-85cd6671-d56e-4ebe-82cb-1f6741cee7d7\">\n",
              "    <div class=\"colab-df-container\">\n",
              "      <div>\n",
              "<style scoped>\n",
              "    .dataframe tbody tr th:only-of-type {\n",
              "        vertical-align: middle;\n",
              "    }\n",
              "\n",
              "    .dataframe tbody tr th {\n",
              "        vertical-align: top;\n",
              "    }\n",
              "\n",
              "    .dataframe thead th {\n",
              "        text-align: right;\n",
              "    }\n",
              "</style>\n",
              "<table border=\"1\" class=\"dataframe\">\n",
              "  <thead>\n",
              "    <tr style=\"text-align: right;\">\n",
              "      <th></th>\n",
              "      <th>age</th>\n",
              "      <th>sex</th>\n",
              "      <th>cp</th>\n",
              "      <th>trestbps</th>\n",
              "      <th>chol</th>\n",
              "      <th>fbs</th>\n",
              "      <th>restecg</th>\n",
              "      <th>thalach</th>\n",
              "      <th>exang</th>\n",
              "      <th>oldpeak</th>\n",
              "      <th>slope</th>\n",
              "      <th>ca</th>\n",
              "      <th>thal</th>\n",
              "      <th>target</th>\n",
              "    </tr>\n",
              "  </thead>\n",
              "  <tbody>\n",
              "    <tr>\n",
              "      <th>count</th>\n",
              "      <td>303.000000</td>\n",
              "      <td>303.000000</td>\n",
              "      <td>303.000000</td>\n",
              "      <td>303.000000</td>\n",
              "      <td>303.000000</td>\n",
              "      <td>303.000000</td>\n",
              "      <td>303.000000</td>\n",
              "      <td>303.000000</td>\n",
              "      <td>303.000000</td>\n",
              "      <td>303.000000</td>\n",
              "      <td>303.000000</td>\n",
              "      <td>303.000000</td>\n",
              "      <td>303.000000</td>\n",
              "      <td>303.000000</td>\n",
              "    </tr>\n",
              "    <tr>\n",
              "      <th>mean</th>\n",
              "      <td>54.366337</td>\n",
              "      <td>0.683168</td>\n",
              "      <td>0.966997</td>\n",
              "      <td>131.623762</td>\n",
              "      <td>246.264026</td>\n",
              "      <td>0.148515</td>\n",
              "      <td>0.528053</td>\n",
              "      <td>149.646865</td>\n",
              "      <td>0.326733</td>\n",
              "      <td>1.039604</td>\n",
              "      <td>1.399340</td>\n",
              "      <td>0.729373</td>\n",
              "      <td>2.313531</td>\n",
              "      <td>0.544554</td>\n",
              "    </tr>\n",
              "    <tr>\n",
              "      <th>std</th>\n",
              "      <td>9.082101</td>\n",
              "      <td>0.466011</td>\n",
              "      <td>1.032052</td>\n",
              "      <td>17.538143</td>\n",
              "      <td>51.830751</td>\n",
              "      <td>0.356198</td>\n",
              "      <td>0.525860</td>\n",
              "      <td>22.905161</td>\n",
              "      <td>0.469794</td>\n",
              "      <td>1.161075</td>\n",
              "      <td>0.616226</td>\n",
              "      <td>1.022606</td>\n",
              "      <td>0.612277</td>\n",
              "      <td>0.498835</td>\n",
              "    </tr>\n",
              "    <tr>\n",
              "      <th>min</th>\n",
              "      <td>29.000000</td>\n",
              "      <td>0.000000</td>\n",
              "      <td>0.000000</td>\n",
              "      <td>94.000000</td>\n",
              "      <td>126.000000</td>\n",
              "      <td>0.000000</td>\n",
              "      <td>0.000000</td>\n",
              "      <td>71.000000</td>\n",
              "      <td>0.000000</td>\n",
              "      <td>0.000000</td>\n",
              "      <td>0.000000</td>\n",
              "      <td>0.000000</td>\n",
              "      <td>0.000000</td>\n",
              "      <td>0.000000</td>\n",
              "    </tr>\n",
              "    <tr>\n",
              "      <th>25%</th>\n",
              "      <td>47.500000</td>\n",
              "      <td>0.000000</td>\n",
              "      <td>0.000000</td>\n",
              "      <td>120.000000</td>\n",
              "      <td>211.000000</td>\n",
              "      <td>0.000000</td>\n",
              "      <td>0.000000</td>\n",
              "      <td>133.500000</td>\n",
              "      <td>0.000000</td>\n",
              "      <td>0.000000</td>\n",
              "      <td>1.000000</td>\n",
              "      <td>0.000000</td>\n",
              "      <td>2.000000</td>\n",
              "      <td>0.000000</td>\n",
              "    </tr>\n",
              "    <tr>\n",
              "      <th>50%</th>\n",
              "      <td>55.000000</td>\n",
              "      <td>1.000000</td>\n",
              "      <td>1.000000</td>\n",
              "      <td>130.000000</td>\n",
              "      <td>240.000000</td>\n",
              "      <td>0.000000</td>\n",
              "      <td>1.000000</td>\n",
              "      <td>153.000000</td>\n",
              "      <td>0.000000</td>\n",
              "      <td>0.800000</td>\n",
              "      <td>1.000000</td>\n",
              "      <td>0.000000</td>\n",
              "      <td>2.000000</td>\n",
              "      <td>1.000000</td>\n",
              "    </tr>\n",
              "    <tr>\n",
              "      <th>75%</th>\n",
              "      <td>61.000000</td>\n",
              "      <td>1.000000</td>\n",
              "      <td>2.000000</td>\n",
              "      <td>140.000000</td>\n",
              "      <td>274.500000</td>\n",
              "      <td>0.000000</td>\n",
              "      <td>1.000000</td>\n",
              "      <td>166.000000</td>\n",
              "      <td>1.000000</td>\n",
              "      <td>1.600000</td>\n",
              "      <td>2.000000</td>\n",
              "      <td>1.000000</td>\n",
              "      <td>3.000000</td>\n",
              "      <td>1.000000</td>\n",
              "    </tr>\n",
              "    <tr>\n",
              "      <th>max</th>\n",
              "      <td>77.000000</td>\n",
              "      <td>1.000000</td>\n",
              "      <td>3.000000</td>\n",
              "      <td>200.000000</td>\n",
              "      <td>564.000000</td>\n",
              "      <td>1.000000</td>\n",
              "      <td>2.000000</td>\n",
              "      <td>202.000000</td>\n",
              "      <td>1.000000</td>\n",
              "      <td>6.200000</td>\n",
              "      <td>2.000000</td>\n",
              "      <td>4.000000</td>\n",
              "      <td>3.000000</td>\n",
              "      <td>1.000000</td>\n",
              "    </tr>\n",
              "  </tbody>\n",
              "</table>\n",
              "</div>\n",
              "      <button class=\"colab-df-convert\" onclick=\"convertToInteractive('df-85cd6671-d56e-4ebe-82cb-1f6741cee7d7')\"\n",
              "              title=\"Convert this dataframe to an interactive table.\"\n",
              "              style=\"display:none;\">\n",
              "        \n",
              "  <svg xmlns=\"http://www.w3.org/2000/svg\" height=\"24px\"viewBox=\"0 0 24 24\"\n",
              "       width=\"24px\">\n",
              "    <path d=\"M0 0h24v24H0V0z\" fill=\"none\"/>\n",
              "    <path d=\"M18.56 5.44l.94 2.06.94-2.06 2.06-.94-2.06-.94-.94-2.06-.94 2.06-2.06.94zm-11 1L8.5 8.5l.94-2.06 2.06-.94-2.06-.94L8.5 2.5l-.94 2.06-2.06.94zm10 10l.94 2.06.94-2.06 2.06-.94-2.06-.94-.94-2.06-.94 2.06-2.06.94z\"/><path d=\"M17.41 7.96l-1.37-1.37c-.4-.4-.92-.59-1.43-.59-.52 0-1.04.2-1.43.59L10.3 9.45l-7.72 7.72c-.78.78-.78 2.05 0 2.83L4 21.41c.39.39.9.59 1.41.59.51 0 1.02-.2 1.41-.59l7.78-7.78 2.81-2.81c.8-.78.8-2.07 0-2.86zM5.41 20L4 18.59l7.72-7.72 1.47 1.35L5.41 20z\"/>\n",
              "  </svg>\n",
              "      </button>\n",
              "      \n",
              "  <style>\n",
              "    .colab-df-container {\n",
              "      display:flex;\n",
              "      flex-wrap:wrap;\n",
              "      gap: 12px;\n",
              "    }\n",
              "\n",
              "    .colab-df-convert {\n",
              "      background-color: #E8F0FE;\n",
              "      border: none;\n",
              "      border-radius: 50%;\n",
              "      cursor: pointer;\n",
              "      display: none;\n",
              "      fill: #1967D2;\n",
              "      height: 32px;\n",
              "      padding: 0 0 0 0;\n",
              "      width: 32px;\n",
              "    }\n",
              "\n",
              "    .colab-df-convert:hover {\n",
              "      background-color: #E2EBFA;\n",
              "      box-shadow: 0px 1px 2px rgba(60, 64, 67, 0.3), 0px 1px 3px 1px rgba(60, 64, 67, 0.15);\n",
              "      fill: #174EA6;\n",
              "    }\n",
              "\n",
              "    [theme=dark] .colab-df-convert {\n",
              "      background-color: #3B4455;\n",
              "      fill: #D2E3FC;\n",
              "    }\n",
              "\n",
              "    [theme=dark] .colab-df-convert:hover {\n",
              "      background-color: #434B5C;\n",
              "      box-shadow: 0px 1px 3px 1px rgba(0, 0, 0, 0.15);\n",
              "      filter: drop-shadow(0px 1px 2px rgba(0, 0, 0, 0.3));\n",
              "      fill: #FFFFFF;\n",
              "    }\n",
              "  </style>\n",
              "\n",
              "      <script>\n",
              "        const buttonEl =\n",
              "          document.querySelector('#df-85cd6671-d56e-4ebe-82cb-1f6741cee7d7 button.colab-df-convert');\n",
              "        buttonEl.style.display =\n",
              "          google.colab.kernel.accessAllowed ? 'block' : 'none';\n",
              "\n",
              "        async function convertToInteractive(key) {\n",
              "          const element = document.querySelector('#df-85cd6671-d56e-4ebe-82cb-1f6741cee7d7');\n",
              "          const dataTable =\n",
              "            await google.colab.kernel.invokeFunction('convertToInteractive',\n",
              "                                                     [key], {});\n",
              "          if (!dataTable) return;\n",
              "\n",
              "          const docLinkHtml = 'Like what you see? Visit the ' +\n",
              "            '<a target=\"_blank\" href=https://colab.research.google.com/notebooks/data_table.ipynb>data table notebook</a>'\n",
              "            + ' to learn more about interactive tables.';\n",
              "          element.innerHTML = '';\n",
              "          dataTable['output_type'] = 'display_data';\n",
              "          await google.colab.output.renderOutput(dataTable, element);\n",
              "          const docLink = document.createElement('div');\n",
              "          docLink.innerHTML = docLinkHtml;\n",
              "          element.appendChild(docLink);\n",
              "        }\n",
              "      </script>\n",
              "    </div>\n",
              "  </div>\n",
              "  "
            ]
          },
          "metadata": {},
          "execution_count": 53
        }
      ],
      "source": [
        "dataset.describe()"
      ]
    },
    {
      "cell_type": "code",
      "source": [
        "x_entrada = dataset[['age', 'sex', 'cp', 'trestbps', 'chol', 'fbs', 'restecg', 'thalach', 'exang', 'oldpeak', 'slope', 'ca', 'thal']]\n",
        "y_saida = dataset['target']"
      ],
      "metadata": {
        "id": "8kOdz6TZCUl0"
      },
      "execution_count": null,
      "outputs": []
    },
    {
      "cell_type": "code",
      "source": [
        "x_entrada"
      ],
      "metadata": {
        "colab": {
          "base_uri": "https://localhost:8080/",
          "height": 424
        },
        "id": "4k2uWnUdCUl0",
        "outputId": "0438c41f-1972-4d71-f03a-c382c330e6cb"
      },
      "execution_count": null,
      "outputs": [
        {
          "output_type": "execute_result",
          "data": {
            "text/plain": [
              "     age  sex  cp  trestbps  chol  fbs  restecg  thalach  exang  oldpeak  \\\n",
              "0     63    1   3       145   233    1        0      150      0      2.3   \n",
              "1     37    1   2       130   250    0        1      187      0      3.5   \n",
              "2     41    0   1       130   204    0        0      172      0      1.4   \n",
              "3     56    1   1       120   236    0        1      178      0      0.8   \n",
              "4     57    0   0       120   354    0        1      163      1      0.6   \n",
              "..   ...  ...  ..       ...   ...  ...      ...      ...    ...      ...   \n",
              "298   57    0   0       140   241    0        1      123      1      0.2   \n",
              "299   45    1   3       110   264    0        1      132      0      1.2   \n",
              "300   68    1   0       144   193    1        1      141      0      3.4   \n",
              "301   57    1   0       130   131    0        1      115      1      1.2   \n",
              "302   57    0   1       130   236    0        0      174      0      0.0   \n",
              "\n",
              "     slope  ca  thal  \n",
              "0        0   0     1  \n",
              "1        0   0     2  \n",
              "2        2   0     2  \n",
              "3        2   0     2  \n",
              "4        2   0     2  \n",
              "..     ...  ..   ...  \n",
              "298      1   0     3  \n",
              "299      1   0     3  \n",
              "300      1   2     3  \n",
              "301      1   1     3  \n",
              "302      1   1     2  \n",
              "\n",
              "[303 rows x 13 columns]"
            ],
            "text/html": [
              "\n",
              "  <div id=\"df-f4bf6852-eb42-47b0-8f42-70779190e91c\">\n",
              "    <div class=\"colab-df-container\">\n",
              "      <div>\n",
              "<style scoped>\n",
              "    .dataframe tbody tr th:only-of-type {\n",
              "        vertical-align: middle;\n",
              "    }\n",
              "\n",
              "    .dataframe tbody tr th {\n",
              "        vertical-align: top;\n",
              "    }\n",
              "\n",
              "    .dataframe thead th {\n",
              "        text-align: right;\n",
              "    }\n",
              "</style>\n",
              "<table border=\"1\" class=\"dataframe\">\n",
              "  <thead>\n",
              "    <tr style=\"text-align: right;\">\n",
              "      <th></th>\n",
              "      <th>age</th>\n",
              "      <th>sex</th>\n",
              "      <th>cp</th>\n",
              "      <th>trestbps</th>\n",
              "      <th>chol</th>\n",
              "      <th>fbs</th>\n",
              "      <th>restecg</th>\n",
              "      <th>thalach</th>\n",
              "      <th>exang</th>\n",
              "      <th>oldpeak</th>\n",
              "      <th>slope</th>\n",
              "      <th>ca</th>\n",
              "      <th>thal</th>\n",
              "    </tr>\n",
              "  </thead>\n",
              "  <tbody>\n",
              "    <tr>\n",
              "      <th>0</th>\n",
              "      <td>63</td>\n",
              "      <td>1</td>\n",
              "      <td>3</td>\n",
              "      <td>145</td>\n",
              "      <td>233</td>\n",
              "      <td>1</td>\n",
              "      <td>0</td>\n",
              "      <td>150</td>\n",
              "      <td>0</td>\n",
              "      <td>2.3</td>\n",
              "      <td>0</td>\n",
              "      <td>0</td>\n",
              "      <td>1</td>\n",
              "    </tr>\n",
              "    <tr>\n",
              "      <th>1</th>\n",
              "      <td>37</td>\n",
              "      <td>1</td>\n",
              "      <td>2</td>\n",
              "      <td>130</td>\n",
              "      <td>250</td>\n",
              "      <td>0</td>\n",
              "      <td>1</td>\n",
              "      <td>187</td>\n",
              "      <td>0</td>\n",
              "      <td>3.5</td>\n",
              "      <td>0</td>\n",
              "      <td>0</td>\n",
              "      <td>2</td>\n",
              "    </tr>\n",
              "    <tr>\n",
              "      <th>2</th>\n",
              "      <td>41</td>\n",
              "      <td>0</td>\n",
              "      <td>1</td>\n",
              "      <td>130</td>\n",
              "      <td>204</td>\n",
              "      <td>0</td>\n",
              "      <td>0</td>\n",
              "      <td>172</td>\n",
              "      <td>0</td>\n",
              "      <td>1.4</td>\n",
              "      <td>2</td>\n",
              "      <td>0</td>\n",
              "      <td>2</td>\n",
              "    </tr>\n",
              "    <tr>\n",
              "      <th>3</th>\n",
              "      <td>56</td>\n",
              "      <td>1</td>\n",
              "      <td>1</td>\n",
              "      <td>120</td>\n",
              "      <td>236</td>\n",
              "      <td>0</td>\n",
              "      <td>1</td>\n",
              "      <td>178</td>\n",
              "      <td>0</td>\n",
              "      <td>0.8</td>\n",
              "      <td>2</td>\n",
              "      <td>0</td>\n",
              "      <td>2</td>\n",
              "    </tr>\n",
              "    <tr>\n",
              "      <th>4</th>\n",
              "      <td>57</td>\n",
              "      <td>0</td>\n",
              "      <td>0</td>\n",
              "      <td>120</td>\n",
              "      <td>354</td>\n",
              "      <td>0</td>\n",
              "      <td>1</td>\n",
              "      <td>163</td>\n",
              "      <td>1</td>\n",
              "      <td>0.6</td>\n",
              "      <td>2</td>\n",
              "      <td>0</td>\n",
              "      <td>2</td>\n",
              "    </tr>\n",
              "    <tr>\n",
              "      <th>...</th>\n",
              "      <td>...</td>\n",
              "      <td>...</td>\n",
              "      <td>...</td>\n",
              "      <td>...</td>\n",
              "      <td>...</td>\n",
              "      <td>...</td>\n",
              "      <td>...</td>\n",
              "      <td>...</td>\n",
              "      <td>...</td>\n",
              "      <td>...</td>\n",
              "      <td>...</td>\n",
              "      <td>...</td>\n",
              "      <td>...</td>\n",
              "    </tr>\n",
              "    <tr>\n",
              "      <th>298</th>\n",
              "      <td>57</td>\n",
              "      <td>0</td>\n",
              "      <td>0</td>\n",
              "      <td>140</td>\n",
              "      <td>241</td>\n",
              "      <td>0</td>\n",
              "      <td>1</td>\n",
              "      <td>123</td>\n",
              "      <td>1</td>\n",
              "      <td>0.2</td>\n",
              "      <td>1</td>\n",
              "      <td>0</td>\n",
              "      <td>3</td>\n",
              "    </tr>\n",
              "    <tr>\n",
              "      <th>299</th>\n",
              "      <td>45</td>\n",
              "      <td>1</td>\n",
              "      <td>3</td>\n",
              "      <td>110</td>\n",
              "      <td>264</td>\n",
              "      <td>0</td>\n",
              "      <td>1</td>\n",
              "      <td>132</td>\n",
              "      <td>0</td>\n",
              "      <td>1.2</td>\n",
              "      <td>1</td>\n",
              "      <td>0</td>\n",
              "      <td>3</td>\n",
              "    </tr>\n",
              "    <tr>\n",
              "      <th>300</th>\n",
              "      <td>68</td>\n",
              "      <td>1</td>\n",
              "      <td>0</td>\n",
              "      <td>144</td>\n",
              "      <td>193</td>\n",
              "      <td>1</td>\n",
              "      <td>1</td>\n",
              "      <td>141</td>\n",
              "      <td>0</td>\n",
              "      <td>3.4</td>\n",
              "      <td>1</td>\n",
              "      <td>2</td>\n",
              "      <td>3</td>\n",
              "    </tr>\n",
              "    <tr>\n",
              "      <th>301</th>\n",
              "      <td>57</td>\n",
              "      <td>1</td>\n",
              "      <td>0</td>\n",
              "      <td>130</td>\n",
              "      <td>131</td>\n",
              "      <td>0</td>\n",
              "      <td>1</td>\n",
              "      <td>115</td>\n",
              "      <td>1</td>\n",
              "      <td>1.2</td>\n",
              "      <td>1</td>\n",
              "      <td>1</td>\n",
              "      <td>3</td>\n",
              "    </tr>\n",
              "    <tr>\n",
              "      <th>302</th>\n",
              "      <td>57</td>\n",
              "      <td>0</td>\n",
              "      <td>1</td>\n",
              "      <td>130</td>\n",
              "      <td>236</td>\n",
              "      <td>0</td>\n",
              "      <td>0</td>\n",
              "      <td>174</td>\n",
              "      <td>0</td>\n",
              "      <td>0.0</td>\n",
              "      <td>1</td>\n",
              "      <td>1</td>\n",
              "      <td>2</td>\n",
              "    </tr>\n",
              "  </tbody>\n",
              "</table>\n",
              "<p>303 rows × 13 columns</p>\n",
              "</div>\n",
              "      <button class=\"colab-df-convert\" onclick=\"convertToInteractive('df-f4bf6852-eb42-47b0-8f42-70779190e91c')\"\n",
              "              title=\"Convert this dataframe to an interactive table.\"\n",
              "              style=\"display:none;\">\n",
              "        \n",
              "  <svg xmlns=\"http://www.w3.org/2000/svg\" height=\"24px\"viewBox=\"0 0 24 24\"\n",
              "       width=\"24px\">\n",
              "    <path d=\"M0 0h24v24H0V0z\" fill=\"none\"/>\n",
              "    <path d=\"M18.56 5.44l.94 2.06.94-2.06 2.06-.94-2.06-.94-.94-2.06-.94 2.06-2.06.94zm-11 1L8.5 8.5l.94-2.06 2.06-.94-2.06-.94L8.5 2.5l-.94 2.06-2.06.94zm10 10l.94 2.06.94-2.06 2.06-.94-2.06-.94-.94-2.06-.94 2.06-2.06.94z\"/><path d=\"M17.41 7.96l-1.37-1.37c-.4-.4-.92-.59-1.43-.59-.52 0-1.04.2-1.43.59L10.3 9.45l-7.72 7.72c-.78.78-.78 2.05 0 2.83L4 21.41c.39.39.9.59 1.41.59.51 0 1.02-.2 1.41-.59l7.78-7.78 2.81-2.81c.8-.78.8-2.07 0-2.86zM5.41 20L4 18.59l7.72-7.72 1.47 1.35L5.41 20z\"/>\n",
              "  </svg>\n",
              "      </button>\n",
              "      \n",
              "  <style>\n",
              "    .colab-df-container {\n",
              "      display:flex;\n",
              "      flex-wrap:wrap;\n",
              "      gap: 12px;\n",
              "    }\n",
              "\n",
              "    .colab-df-convert {\n",
              "      background-color: #E8F0FE;\n",
              "      border: none;\n",
              "      border-radius: 50%;\n",
              "      cursor: pointer;\n",
              "      display: none;\n",
              "      fill: #1967D2;\n",
              "      height: 32px;\n",
              "      padding: 0 0 0 0;\n",
              "      width: 32px;\n",
              "    }\n",
              "\n",
              "    .colab-df-convert:hover {\n",
              "      background-color: #E2EBFA;\n",
              "      box-shadow: 0px 1px 2px rgba(60, 64, 67, 0.3), 0px 1px 3px 1px rgba(60, 64, 67, 0.15);\n",
              "      fill: #174EA6;\n",
              "    }\n",
              "\n",
              "    [theme=dark] .colab-df-convert {\n",
              "      background-color: #3B4455;\n",
              "      fill: #D2E3FC;\n",
              "    }\n",
              "\n",
              "    [theme=dark] .colab-df-convert:hover {\n",
              "      background-color: #434B5C;\n",
              "      box-shadow: 0px 1px 3px 1px rgba(0, 0, 0, 0.15);\n",
              "      filter: drop-shadow(0px 1px 2px rgba(0, 0, 0, 0.3));\n",
              "      fill: #FFFFFF;\n",
              "    }\n",
              "  </style>\n",
              "\n",
              "      <script>\n",
              "        const buttonEl =\n",
              "          document.querySelector('#df-f4bf6852-eb42-47b0-8f42-70779190e91c button.colab-df-convert');\n",
              "        buttonEl.style.display =\n",
              "          google.colab.kernel.accessAllowed ? 'block' : 'none';\n",
              "\n",
              "        async function convertToInteractive(key) {\n",
              "          const element = document.querySelector('#df-f4bf6852-eb42-47b0-8f42-70779190e91c');\n",
              "          const dataTable =\n",
              "            await google.colab.kernel.invokeFunction('convertToInteractive',\n",
              "                                                     [key], {});\n",
              "          if (!dataTable) return;\n",
              "\n",
              "          const docLinkHtml = 'Like what you see? Visit the ' +\n",
              "            '<a target=\"_blank\" href=https://colab.research.google.com/notebooks/data_table.ipynb>data table notebook</a>'\n",
              "            + ' to learn more about interactive tables.';\n",
              "          element.innerHTML = '';\n",
              "          dataTable['output_type'] = 'display_data';\n",
              "          await google.colab.output.renderOutput(dataTable, element);\n",
              "          const docLink = document.createElement('div');\n",
              "          docLink.innerHTML = docLinkHtml;\n",
              "          element.appendChild(docLink);\n",
              "        }\n",
              "      </script>\n",
              "    </div>\n",
              "  </div>\n",
              "  "
            ]
          },
          "metadata": {},
          "execution_count": 55
        }
      ]
    },
    {
      "cell_type": "code",
      "source": [
        "y_saida"
      ],
      "metadata": {
        "colab": {
          "base_uri": "https://localhost:8080/"
        },
        "id": "Fctgz9UHCUl0",
        "outputId": "dadcca9b-6bd5-46cc-ec5e-eb8d46189656"
      },
      "execution_count": null,
      "outputs": [
        {
          "output_type": "execute_result",
          "data": {
            "text/plain": [
              "0      1\n",
              "1      1\n",
              "2      1\n",
              "3      1\n",
              "4      1\n",
              "      ..\n",
              "298    0\n",
              "299    0\n",
              "300    0\n",
              "301    0\n",
              "302    0\n",
              "Name: target, Length: 303, dtype: int64"
            ]
          },
          "metadata": {},
          "execution_count": 56
        }
      ]
    },
    {
      "cell_type": "code",
      "source": [
        "from sklearn.model_selection import train_test_split"
      ],
      "metadata": {
        "id": "VsFWaFPLCUl0"
      },
      "execution_count": null,
      "outputs": []
    },
    {
      "cell_type": "code",
      "source": [
        "x_train, x_test, y_train, y_test = train_test_split(x_entrada, y_saida, test_size = 0.25, random_state = 0)"
      ],
      "metadata": {
        "id": "OS892NPqCUl1"
      },
      "execution_count": null,
      "outputs": []
    },
    {
      "cell_type": "code",
      "source": [
        "from sklearn.preprocessing import MinMaxScaler\n",
        "sc = MinMaxScaler()\n",
        "x_train = sc.fit_transform(x_train)\n",
        "x_test = sc.transform(x_test)"
      ],
      "metadata": {
        "id": "JMAJ4lhCCUl1"
      },
      "execution_count": null,
      "outputs": []
    },
    {
      "cell_type": "code",
      "source": [
        "tamanho_entrada = x_entrada.shape[1]"
      ],
      "metadata": {
        "id": "82fU_AupCUl1"
      },
      "execution_count": null,
      "outputs": []
    },
    {
      "cell_type": "code",
      "source": [
        "import tensorflow\n",
        "from tensorflow.keras.models import Sequential\n",
        "from tensorflow.keras.layers import Dense\n",
        "from tensorflow.keras.callbacks import EarlyStopping"
      ],
      "metadata": {
        "id": "qONQV848CUl1"
      },
      "execution_count": null,
      "outputs": []
    },
    {
      "cell_type": "code",
      "source": [
        "model = Sequential()\n",
        "model.add(Dense(40, input_shape=[x_entrada.shape[1]], activation='relu'))\n",
        "\n",
        "model.add(Dense(40, activation='relu'))\n",
        "model.add(Dense(40, activation='relu'))\n",
        "\n",
        "model.add(Dense(1, activation='sigmoid'))"
      ],
      "metadata": {
        "id": "4oMGVqX3CUl1"
      },
      "execution_count": null,
      "outputs": []
    },
    {
      "cell_type": "code",
      "source": [
        "model.compile(loss='binary_crossentropy', optimizer='adam', metrics=['accuracy'])\n",
        "print(model.summary())"
      ],
      "metadata": {
        "colab": {
          "base_uri": "https://localhost:8080/"
        },
        "id": "D0C99_bmKwSe",
        "outputId": "0ad3865f-a047-4d1f-eb1d-d4a2af974266"
      },
      "execution_count": null,
      "outputs": [
        {
          "output_type": "stream",
          "name": "stdout",
          "text": [
            "Model: \"sequential\"\n",
            "_________________________________________________________________\n",
            " Layer (type)                Output Shape              Param #   \n",
            "=================================================================\n",
            " dense (Dense)               (None, 40)                560       \n",
            "                                                                 \n",
            " dense_1 (Dense)             (None, 40)                1640      \n",
            "                                                                 \n",
            " dense_2 (Dense)             (None, 40)                1640      \n",
            "                                                                 \n",
            " dense_3 (Dense)             (None, 1)                 41        \n",
            "                                                                 \n",
            "=================================================================\n",
            "Total params: 3,881\n",
            "Trainable params: 3,881\n",
            "Non-trainable params: 0\n",
            "_________________________________________________________________\n",
            "None\n"
          ]
        }
      ]
    },
    {
      "cell_type": "code",
      "source": [
        "history = model.fit(x_train, y_train,\n",
        "                    epochs=200,\n",
        "                    batch_size=35,\n",
        "                    verbose=1,\n",
        "                    validation_split=0.2,\n",
        "                    callbacks=[EarlyStopping(monitor='val_loss', patience=5)])"
      ],
      "metadata": {
        "colab": {
          "base_uri": "https://localhost:8080/"
        },
        "id": "rF5yfZ3OKydm",
        "outputId": "0290209a-67be-4b92-ea0a-9d43cb20eeb1"
      },
      "execution_count": null,
      "outputs": [
        {
          "output_type": "stream",
          "name": "stdout",
          "text": [
            "Epoch 1/200\n",
            "6/6 [==============================] - 1s 38ms/step - loss: 0.6847 - accuracy: 0.5470 - val_loss: 0.6573 - val_accuracy: 0.7174\n",
            "Epoch 2/200\n",
            "6/6 [==============================] - 0s 6ms/step - loss: 0.6694 - accuracy: 0.6519 - val_loss: 0.6485 - val_accuracy: 0.8261\n",
            "Epoch 3/200\n",
            "6/6 [==============================] - 0s 6ms/step - loss: 0.6594 - accuracy: 0.7348 - val_loss: 0.6362 - val_accuracy: 0.8043\n",
            "Epoch 4/200\n",
            "6/6 [==============================] - 0s 6ms/step - loss: 0.6463 - accuracy: 0.7403 - val_loss: 0.6158 - val_accuracy: 0.8261\n",
            "Epoch 5/200\n",
            "6/6 [==============================] - 0s 6ms/step - loss: 0.6324 - accuracy: 0.7624 - val_loss: 0.5945 - val_accuracy: 0.8261\n",
            "Epoch 6/200\n",
            "6/6 [==============================] - 0s 6ms/step - loss: 0.6147 - accuracy: 0.7459 - val_loss: 0.5746 - val_accuracy: 0.8043\n",
            "Epoch 7/200\n",
            "6/6 [==============================] - 0s 6ms/step - loss: 0.5941 - accuracy: 0.7459 - val_loss: 0.5470 - val_accuracy: 0.8043\n",
            "Epoch 8/200\n",
            "6/6 [==============================] - 0s 7ms/step - loss: 0.5698 - accuracy: 0.7459 - val_loss: 0.5109 - val_accuracy: 0.8043\n",
            "Epoch 9/200\n",
            "6/6 [==============================] - 0s 6ms/step - loss: 0.5455 - accuracy: 0.7569 - val_loss: 0.4843 - val_accuracy: 0.8043\n",
            "Epoch 10/200\n",
            "6/6 [==============================] - 0s 6ms/step - loss: 0.5255 - accuracy: 0.7569 - val_loss: 0.4799 - val_accuracy: 0.7609\n",
            "Epoch 11/200\n",
            "6/6 [==============================] - 0s 6ms/step - loss: 0.5063 - accuracy: 0.7680 - val_loss: 0.4531 - val_accuracy: 0.8043\n",
            "Epoch 12/200\n",
            "6/6 [==============================] - 0s 6ms/step - loss: 0.4837 - accuracy: 0.7735 - val_loss: 0.4207 - val_accuracy: 0.8478\n",
            "Epoch 13/200\n",
            "6/6 [==============================] - 0s 8ms/step - loss: 0.4626 - accuracy: 0.7735 - val_loss: 0.3885 - val_accuracy: 0.8478\n",
            "Epoch 14/200\n",
            "6/6 [==============================] - 0s 7ms/step - loss: 0.4463 - accuracy: 0.8011 - val_loss: 0.3796 - val_accuracy: 0.8478\n",
            "Epoch 15/200\n",
            "6/6 [==============================] - 0s 6ms/step - loss: 0.4315 - accuracy: 0.8066 - val_loss: 0.3595 - val_accuracy: 0.8478\n",
            "Epoch 16/200\n",
            "6/6 [==============================] - 0s 6ms/step - loss: 0.4188 - accuracy: 0.8122 - val_loss: 0.3656 - val_accuracy: 0.8478\n",
            "Epoch 17/200\n",
            "6/6 [==============================] - 0s 6ms/step - loss: 0.4098 - accuracy: 0.8122 - val_loss: 0.3545 - val_accuracy: 0.8478\n",
            "Epoch 18/200\n",
            "6/6 [==============================] - 0s 6ms/step - loss: 0.3963 - accuracy: 0.8343 - val_loss: 0.3301 - val_accuracy: 0.8261\n",
            "Epoch 19/200\n",
            "6/6 [==============================] - 0s 6ms/step - loss: 0.3852 - accuracy: 0.8398 - val_loss: 0.3461 - val_accuracy: 0.8478\n",
            "Epoch 20/200\n",
            "6/6 [==============================] - 0s 6ms/step - loss: 0.3779 - accuracy: 0.8287 - val_loss: 0.3553 - val_accuracy: 0.8478\n",
            "Epoch 21/200\n",
            "6/6 [==============================] - 0s 7ms/step - loss: 0.3739 - accuracy: 0.8287 - val_loss: 0.3548 - val_accuracy: 0.8478\n",
            "Epoch 22/200\n",
            "6/6 [==============================] - 0s 6ms/step - loss: 0.3604 - accuracy: 0.8343 - val_loss: 0.3174 - val_accuracy: 0.8478\n",
            "Epoch 23/200\n",
            "6/6 [==============================] - 0s 7ms/step - loss: 0.3644 - accuracy: 0.8619 - val_loss: 0.3144 - val_accuracy: 0.8696\n",
            "Epoch 24/200\n",
            "6/6 [==============================] - 0s 7ms/step - loss: 0.3522 - accuracy: 0.8674 - val_loss: 0.3332 - val_accuracy: 0.8261\n",
            "Epoch 25/200\n",
            "6/6 [==============================] - 0s 6ms/step - loss: 0.3486 - accuracy: 0.8453 - val_loss: 0.3401 - val_accuracy: 0.8261\n",
            "Epoch 26/200\n",
            "6/6 [==============================] - 0s 6ms/step - loss: 0.3438 - accuracy: 0.8453 - val_loss: 0.3255 - val_accuracy: 0.8478\n",
            "Epoch 27/200\n",
            "6/6 [==============================] - 0s 7ms/step - loss: 0.3360 - accuracy: 0.8674 - val_loss: 0.3227 - val_accuracy: 0.8696\n",
            "Epoch 28/200\n",
            "6/6 [==============================] - 0s 7ms/step - loss: 0.3308 - accuracy: 0.8785 - val_loss: 0.3219 - val_accuracy: 0.8696\n"
          ]
        }
      ]
    },
    {
      "cell_type": "code",
      "source": [
        "import matplotlib.pyplot as plt\n",
        "plt.plot(history.history['loss'])\n",
        "plt.plot(history.history['val_loss'])\n",
        "plt.legend(['loss', 'val_loss'])\n",
        "plt.title('Loss')\n",
        "plt.xlabel('Epoch')"
      ],
      "metadata": {
        "colab": {
          "base_uri": "https://localhost:8080/",
          "height": 312
        },
        "id": "H0I2sOmQK2O5",
        "outputId": "aa9b3d25-791f-48a8-871d-155eff15fbc6"
      },
      "execution_count": null,
      "outputs": [
        {
          "output_type": "execute_result",
          "data": {
            "text/plain": [
              "Text(0.5, 0, 'Epoch')"
            ]
          },
          "metadata": {},
          "execution_count": 65
        },
        {
          "output_type": "display_data",
          "data": {
            "text/plain": [
              "<Figure size 432x288 with 1 Axes>"
            ],
            "image/png": "[encoded data removed]"
          },
          "metadata": {
            "needs_background": "light"
          }
        }
      ]
    },
    {
      "cell_type": "code",
      "source": [
        "y_pred = model.predict(x_test)"
      ],
      "metadata": {
        "id": "XsADKe9fLYhh"
      },
      "execution_count": null,
      "outputs": []
    },
    {
      "cell_type": "code",
      "source": [
        "y_pred_bin = [ ( 1 if elem > 0.5 else 0) for elem in y_pred ]"
      ],
      "metadata": {
        "id": "yuK9fzC1LatV"
      },
      "execution_count": null,
      "outputs": []
    },
    {
      "cell_type": "code",
      "source": [
        "from sklearn.metrics import classification_report\n",
        "print(classification_report(y_test,y_pred_bin))"
      ],
      "metadata": {
        "colab": {
          "base_uri": "https://localhost:8080/"
        },
        "id": "5_0Fv-_-LcCP",
        "outputId": "9c9d200e-06f0-4351-ce5b-f4ebbb57d1ed"
      },
      "execution_count": null,
      "outputs": [
        {
          "output_type": "stream",
          "name": "stdout",
          "text": [
            "              precision    recall  f1-score   support\n",
            "\n",
            "           0       0.86      0.73      0.79        33\n",
            "           1       0.81      0.91      0.86        43\n",
            "\n",
            "    accuracy                           0.83        76\n",
            "   macro avg       0.83      0.82      0.82        76\n",
            "weighted avg       0.83      0.83      0.83        76\n",
            "\n"
          ]
        }
      ]
    },
    {
      "cell_type": "code",
      "source": [
        "import seaborn as sns\n",
        "from sklearn.metrics import confusion_matrix\n",
        "import numpy as np\n",
        "\n",
        "cf_matrix = confusion_matrix(y_test, y_pred_bin)\n",
        "sns.heatmap(cf_matrix/np.sum(cf_matrix), annot=True, fmt='.2%', cmap='Blues')"
      ],
      "metadata": {
        "colab": {
          "base_uri": "https://localhost:8080/",
          "height": 282
        },
        "id": "AJHU6SjVLdoS",
        "outputId": "3420abba-ac55-4a48-a4c6-92915a853ddc"
      },
      "execution_count": null,
      "outputs": [
        {
          "output_type": "execute_result",
          "data": {
            "text/plain": [
              "<matplotlib.axes._subplots.AxesSubplot at 0x7f328ed71810>"
            ]
          },
          "metadata": {},
          "execution_count": 69
        },
        {
          "output_type": "display_data",
          "data": {
            "text/plain": [
              "<Figure size 432x288 with 2 Axes>"
            ],
            "image/png": "[encoded data removed]"
          },
          "metadata": {
            "needs_background": "light"
          }
        }
      ]
    }
  ],
  "metadata": {
    "colab": {
      "name": "algoritmos_geneticos.ipynb",
      "provenance": [],
      "collapsed_sections": [],
      "authorship_tag": "ABX9TyOtfG23kgBw4z6goy3Kt5Xj",
      "include_colab_link": true
    },
    "kernelspec": {
      "display_name": "Python 3",
      "name": "python3"
    },
    "language_info": {
      "name": "python"
    }
  },
  "nbformat": 4,
  "nbformat_minor": 0
}