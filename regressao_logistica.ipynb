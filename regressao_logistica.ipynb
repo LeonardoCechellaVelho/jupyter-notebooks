{
  "nbformat": 4,
  "nbformat_minor": 0,
  "metadata": {
    "colab": {
      "name": "regressao_logistica.ipynb",
      "provenance": [],
      "collapsed_sections": [],
      "authorship_tag": "ABX9TyN1e9xeCbzKetsJ9vKRDnD9",
      "include_colab_link": true
    },
    "kernelspec": {
      "name": "python3",
      "display_name": "Python 3"
    }
  },
  "cells": [
    {
      "cell_type": "markdown",
      "metadata": {
        "id": "view-in-github",
        "colab_type": "text"
      },
      "source": [
        "<a href=\"https://colab.research.google.com/github/LeonardoCechellaVelho/machine-learning/blob/master/regressao_logistica.ipynb\" target=\"_parent\"><img src=\"https://colab.research.google.com/assets/colab-badge.svg\" alt=\"Open In Colab\"/></a>"
      ]
    },
    {
      "cell_type": "code",
      "metadata": {
        "id": "3XlP9lnSFRBv",
        "colab": {
          "resources": {
            "http://localhost:8080/nbextensions/google.colab/files.js": {
              "data": "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",
              "ok": true,
              "headers": [
                [
                  "content-type",
                  "application/javascript"
                ]
              ],
              "status": 200,
              "status_text": ""
            }
          },
          "base_uri": "https://localhost:8080/",
          "height": 72
        },
        "outputId": "0ce6f729-56f5-470b-a7be-55b283690528"
      },
      "source": [
        "from google.colab import files  #biblioteca utilizada para carregar os dados para o google colab\n",
        "uploaded = files.upload()"
      ],
      "execution_count": null,
      "outputs": [
        {
          "output_type": "display_data",
          "data": {
            "text/html": [
              "\n",
              "     <input type=\"file\" id=\"files-45f1a757-56b9-436d-b898-c15e448ee65b\" name=\"files[]\" multiple disabled\n",
              "        style=\"border:none\" />\n",
              "     <output id=\"result-45f1a757-56b9-436d-b898-c15e448ee65b\">\n",
              "      Upload widget is only available when the cell has been executed in the\n",
              "      current browser session. Please rerun this cell to enable.\n",
              "      </output>\n",
              "      <script src=\"/nbextensions/google.colab/files.js\"></script> "
            ],
            "text/plain": [
              "<IPython.core.display.HTML object>"
            ]
          },
          "metadata": {
            "tags": []
          }
        },
        {
          "output_type": "stream",
          "text": [
            "Saving Dataset_Titanic.csv to Dataset_Titanic (3).csv\n"
          ],
          "name": "stdout"
        }
      ]
    },
    {
      "cell_type": "code",
      "metadata": {
        "id": "CvDXtlGAF-f0"
      },
      "source": [
        "import pandas as pd\n",
        "import numpy as np"
      ],
      "execution_count": null,
      "outputs": []
    },
    {
      "cell_type": "code",
      "metadata": {
        "id": "DX7G5Mae5ivM"
      },
      "source": [
        "nome_arquivo = \"Dataset_Titanic.csv\"\n",
        "data_frame = pd.read_csv(nome_arquivo, sep=',')"
      ],
      "execution_count": null,
      "outputs": []
    },
    {
      "cell_type": "code",
      "metadata": {
        "id": "ZwVnOBkz6LqF",
        "colab": {
          "base_uri": "https://localhost:8080/",
          "height": 204
        },
        "outputId": "7edd84ca-0bf0-4acd-80dd-8216102a46ea"
      },
      "source": [
        "data_frame.head()"
      ],
      "execution_count": null,
      "outputs": [
        {
          "output_type": "execute_result",
          "data": {
            "text/html": [
              "<div>\n",
              "<style scoped>\n",
              "    .dataframe tbody tr th:only-of-type {\n",
              "        vertical-align: middle;\n",
              "    }\n",
              "\n",
              "    .dataframe tbody tr th {\n",
              "        vertical-align: top;\n",
              "    }\n",
              "\n",
              "    .dataframe thead th {\n",
              "        text-align: right;\n",
              "    }\n",
              "</style>\n",
              "<table border=\"1\" class=\"dataframe\">\n",
              "  <thead>\n",
              "    <tr style=\"text-align: right;\">\n",
              "      <th></th>\n",
              "      <th>PassengerId</th>\n",
              "      <th>Survived</th>\n",
              "      <th>Pclass</th>\n",
              "      <th>Name</th>\n",
              "      <th>Sex</th>\n",
              "      <th>Age</th>\n",
              "      <th>SibSp</th>\n",
              "      <th>Parch</th>\n",
              "      <th>Ticket</th>\n",
              "      <th>Fare</th>\n",
              "      <th>Cabin</th>\n",
              "      <th>Embarked</th>\n",
              "    </tr>\n",
              "  </thead>\n",
              "  <tbody>\n",
              "    <tr>\n",
              "      <th>0</th>\n",
              "      <td>1</td>\n",
              "      <td>0</td>\n",
              "      <td>3</td>\n",
              "      <td>Braund, Mr. Owen Harris</td>\n",
              "      <td>male</td>\n",
              "      <td>22.0</td>\n",
              "      <td>1</td>\n",
              "      <td>0</td>\n",
              "      <td>A/5 21171</td>\n",
              "      <td>7.2500</td>\n",
              "      <td>NaN</td>\n",
              "      <td>S</td>\n",
              "    </tr>\n",
              "    <tr>\n",
              "      <th>1</th>\n",
              "      <td>2</td>\n",
              "      <td>1</td>\n",
              "      <td>1</td>\n",
              "      <td>Cumings, Mrs. John Bradley (Florence Briggs Th...</td>\n",
              "      <td>female</td>\n",
              "      <td>38.0</td>\n",
              "      <td>1</td>\n",
              "      <td>0</td>\n",
              "      <td>PC 17599</td>\n",
              "      <td>71.2833</td>\n",
              "      <td>C85</td>\n",
              "      <td>C</td>\n",
              "    </tr>\n",
              "    <tr>\n",
              "      <th>2</th>\n",
              "      <td>3</td>\n",
              "      <td>1</td>\n",
              "      <td>3</td>\n",
              "      <td>Heikkinen, Miss. Laina</td>\n",
              "      <td>female</td>\n",
              "      <td>26.0</td>\n",
              "      <td>0</td>\n",
              "      <td>0</td>\n",
              "      <td>STON/O2. 3101282</td>\n",
              "      <td>7.9250</td>\n",
              "      <td>NaN</td>\n",
              "      <td>S</td>\n",
              "    </tr>\n",
              "    <tr>\n",
              "      <th>3</th>\n",
              "      <td>4</td>\n",
              "      <td>1</td>\n",
              "      <td>1</td>\n",
              "      <td>Futrelle, Mrs. Jacques Heath (Lily May Peel)</td>\n",
              "      <td>female</td>\n",
              "      <td>35.0</td>\n",
              "      <td>1</td>\n",
              "      <td>0</td>\n",
              "      <td>113803</td>\n",
              "      <td>53.1000</td>\n",
              "      <td>C123</td>\n",
              "      <td>S</td>\n",
              "    </tr>\n",
              "    <tr>\n",
              "      <th>4</th>\n",
              "      <td>5</td>\n",
              "      <td>0</td>\n",
              "      <td>3</td>\n",
              "      <td>Allen, Mr. William Henry</td>\n",
              "      <td>male</td>\n",
              "      <td>35.0</td>\n",
              "      <td>0</td>\n",
              "      <td>0</td>\n",
              "      <td>373450</td>\n",
              "      <td>8.0500</td>\n",
              "      <td>NaN</td>\n",
              "      <td>S</td>\n",
              "    </tr>\n",
              "  </tbody>\n",
              "</table>\n",
              "</div>"
            ],
            "text/plain": [
              "   PassengerId  Survived  Pclass  ...     Fare Cabin  Embarked\n",
              "0            1         0       3  ...   7.2500   NaN         S\n",
              "1            2         1       1  ...  71.2833   C85         C\n",
              "2            3         1       3  ...   7.9250   NaN         S\n",
              "3            4         1       1  ...  53.1000  C123         S\n",
              "4            5         0       3  ...   8.0500   NaN         S\n",
              "\n",
              "[5 rows x 12 columns]"
            ]
          },
          "metadata": {
            "tags": []
          },
          "execution_count": 106
        }
      ]
    },
    {
      "cell_type": "code",
      "metadata": {
        "id": "Op1ncHi67JYi",
        "colab": {
          "base_uri": "https://localhost:8080/",
          "height": 340
        },
        "outputId": "cacbbd52-8cc0-4e49-a5df-dd28709f8aac"
      },
      "source": [
        "data_frame.info()"
      ],
      "execution_count": null,
      "outputs": [
        {
          "output_type": "stream",
          "text": [
            "<class 'pandas.core.frame.DataFrame'>\n",
            "RangeIndex: 891 entries, 0 to 890\n",
            "Data columns (total 12 columns):\n",
            " #   Column       Non-Null Count  Dtype  \n",
            "---  ------       --------------  -----  \n",
            " 0   PassengerId  891 non-null    int64  \n",
            " 1   Survived     891 non-null    int64  \n",
            " 2   Pclass       891 non-null    int64  \n",
            " 3   Name         891 non-null    object \n",
            " 4   Sex          891 non-null    object \n",
            " 5   Age          714 non-null    float64\n",
            " 6   SibSp        891 non-null    int64  \n",
            " 7   Parch        891 non-null    int64  \n",
            " 8   Ticket       891 non-null    object \n",
            " 9   Fare         891 non-null    float64\n",
            " 10  Cabin        204 non-null    object \n",
            " 11  Embarked     889 non-null    object \n",
            "dtypes: float64(2), int64(5), object(5)\n",
            "memory usage: 83.7+ KB\n"
          ],
          "name": "stdout"
        }
      ]
    },
    {
      "cell_type": "code",
      "metadata": {
        "id": "kaeftm7o6qft",
        "colab": {
          "base_uri": "https://localhost:8080/",
          "height": 297
        },
        "outputId": "5f115ad9-6056-47d9-c9d4-940e3d3162b3"
      },
      "source": [
        "data_frame.describe()"
      ],
      "execution_count": null,
      "outputs": [
        {
          "output_type": "execute_result",
          "data": {
            "text/html": [
              "<div>\n",
              "<style scoped>\n",
              "    .dataframe tbody tr th:only-of-type {\n",
              "        vertical-align: middle;\n",
              "    }\n",
              "\n",
              "    .dataframe tbody tr th {\n",
              "        vertical-align: top;\n",
              "    }\n",
              "\n",
              "    .dataframe thead th {\n",
              "        text-align: right;\n",
              "    }\n",
              "</style>\n",
              "<table border=\"1\" class=\"dataframe\">\n",
              "  <thead>\n",
              "    <tr style=\"text-align: right;\">\n",
              "      <th></th>\n",
              "      <th>PassengerId</th>\n",
              "      <th>Survived</th>\n",
              "      <th>Pclass</th>\n",
              "      <th>Age</th>\n",
              "      <th>SibSp</th>\n",
              "      <th>Parch</th>\n",
              "      <th>Fare</th>\n",
              "    </tr>\n",
              "  </thead>\n",
              "  <tbody>\n",
              "    <tr>\n",
              "      <th>count</th>\n",
              "      <td>891.000000</td>\n",
              "      <td>891.000000</td>\n",
              "      <td>891.000000</td>\n",
              "      <td>714.000000</td>\n",
              "      <td>891.000000</td>\n",
              "      <td>891.000000</td>\n",
              "      <td>891.000000</td>\n",
              "    </tr>\n",
              "    <tr>\n",
              "      <th>mean</th>\n",
              "      <td>446.000000</td>\n",
              "      <td>0.383838</td>\n",
              "      <td>2.308642</td>\n",
              "      <td>29.699118</td>\n",
              "      <td>0.523008</td>\n",
              "      <td>0.381594</td>\n",
              "      <td>32.204208</td>\n",
              "    </tr>\n",
              "    <tr>\n",
              "      <th>std</th>\n",
              "      <td>257.353842</td>\n",
              "      <td>0.486592</td>\n",
              "      <td>0.836071</td>\n",
              "      <td>14.526497</td>\n",
              "      <td>1.102743</td>\n",
              "      <td>0.806057</td>\n",
              "      <td>49.693429</td>\n",
              "    </tr>\n",
              "    <tr>\n",
              "      <th>min</th>\n",
              "      <td>1.000000</td>\n",
              "      <td>0.000000</td>\n",
              "      <td>1.000000</td>\n",
              "      <td>0.420000</td>\n",
              "      <td>0.000000</td>\n",
              "      <td>0.000000</td>\n",
              "      <td>0.000000</td>\n",
              "    </tr>\n",
              "    <tr>\n",
              "      <th>25%</th>\n",
              "      <td>223.500000</td>\n",
              "      <td>0.000000</td>\n",
              "      <td>2.000000</td>\n",
              "      <td>20.125000</td>\n",
              "      <td>0.000000</td>\n",
              "      <td>0.000000</td>\n",
              "      <td>7.910400</td>\n",
              "    </tr>\n",
              "    <tr>\n",
              "      <th>50%</th>\n",
              "      <td>446.000000</td>\n",
              "      <td>0.000000</td>\n",
              "      <td>3.000000</td>\n",
              "      <td>28.000000</td>\n",
              "      <td>0.000000</td>\n",
              "      <td>0.000000</td>\n",
              "      <td>14.454200</td>\n",
              "    </tr>\n",
              "    <tr>\n",
              "      <th>75%</th>\n",
              "      <td>668.500000</td>\n",
              "      <td>1.000000</td>\n",
              "      <td>3.000000</td>\n",
              "      <td>38.000000</td>\n",
              "      <td>1.000000</td>\n",
              "      <td>0.000000</td>\n",
              "      <td>31.000000</td>\n",
              "    </tr>\n",
              "    <tr>\n",
              "      <th>max</th>\n",
              "      <td>891.000000</td>\n",
              "      <td>1.000000</td>\n",
              "      <td>3.000000</td>\n",
              "      <td>80.000000</td>\n",
              "      <td>8.000000</td>\n",
              "      <td>6.000000</td>\n",
              "      <td>512.329200</td>\n",
              "    </tr>\n",
              "  </tbody>\n",
              "</table>\n",
              "</div>"
            ],
            "text/plain": [
              "       PassengerId    Survived      Pclass  ...       SibSp       Parch        Fare\n",
              "count   891.000000  891.000000  891.000000  ...  891.000000  891.000000  891.000000\n",
              "mean    446.000000    0.383838    2.308642  ...    0.523008    0.381594   32.204208\n",
              "std     257.353842    0.486592    0.836071  ...    1.102743    0.806057   49.693429\n",
              "min       1.000000    0.000000    1.000000  ...    0.000000    0.000000    0.000000\n",
              "25%     223.500000    0.000000    2.000000  ...    0.000000    0.000000    7.910400\n",
              "50%     446.000000    0.000000    3.000000  ...    0.000000    0.000000   14.454200\n",
              "75%     668.500000    1.000000    3.000000  ...    1.000000    0.000000   31.000000\n",
              "max     891.000000    1.000000    3.000000  ...    8.000000    6.000000  512.329200\n",
              "\n",
              "[8 rows x 7 columns]"
            ]
          },
          "metadata": {
            "tags": []
          },
          "execution_count": 7
        }
      ]
    },
    {
      "cell_type": "code",
      "metadata": {
        "id": "trfcMTwR6dnz"
      },
      "source": [
        "from sklearn import preprocessing"
      ],
      "execution_count": null,
      "outputs": []
    },
    {
      "cell_type": "code",
      "metadata": {
        "id": "8UOmve4i63dR"
      },
      "source": [
        "fare_scaled = preprocessing.scale(data_frame['Fare'])"
      ],
      "execution_count": null,
      "outputs": []
    },
    {
      "cell_type": "code",
      "metadata": {
        "id": "UcayzItA70Rg",
        "colab": {
          "base_uri": "https://localhost:8080/",
          "height": 1000
        },
        "outputId": "17d1f133-6db7-4f2e-b3c7-5a05c651be06"
      },
      "source": [
        "fare_scaled"
      ],
      "execution_count": null,
      "outputs": [
        {
          "output_type": "execute_result",
          "data": {
            "text/plain": [
              "array([-5.02445171e-01,  7.86845294e-01, -4.88854258e-01,  4.20730236e-01,\n",
              "       -4.86337422e-01, -4.78116429e-01,  3.95813561e-01, -2.24083121e-01,\n",
              "       -4.24256141e-01, -4.29555021e-02, -3.12172378e-01, -1.13845709e-01,\n",
              "       -4.86337422e-01, -1.87093118e-02, -4.90279793e-01, -3.26266659e-01,\n",
              "       -6.19988892e-02, -3.86670720e-01, -2.85997284e-01, -5.02948539e-01,\n",
              "       -1.24919787e-01, -3.86670720e-01, -4.86756223e-01,  6.63597416e-02,\n",
              "       -2.24083121e-01, -1.64441595e-02, -5.02948539e-01,  4.64700108e+00,\n",
              "       -4.89776426e-01, -4.89442190e-01, -9.02720170e-02,  2.30172882e+00,\n",
              "       -4.92377828e-01, -4.37007438e-01,  1.00606170e+00,  3.98582080e-01,\n",
              "       -5.02863973e-01, -4.86337422e-01, -2.85997284e-01, -4.22073541e-01,\n",
              "       -4.57645492e-01, -2.25593223e-01, -4.89442190e-01,  1.88762532e-01,\n",
              "       -4.89776426e-01, -4.86337422e-01, -3.36334002e-01, -4.92377828e-01,\n",
              "       -2.11917743e-01, -2.90024222e-01,  1.50673744e-01, -4.91371093e-01,\n",
              "        8.96496787e-01, -1.24919787e-01,  5.99510151e-01,  6.63597416e-02,\n",
              "       -4.37007438e-01, -5.02863973e-01, -8.96840841e-02,  2.95895176e-01,\n",
              "       -5.02863973e-01,  9.62353321e-01,  1.03232136e+00, -8.66638810e-02,\n",
              "       -9.02720170e-02, -3.41452240e-01, -4.37007438e-01, -4.84156835e-01,\n",
              "       -4.88854258e-01, -4.74004926e-01, -4.37007438e-01,  2.95895176e-01,\n",
              "        8.31477855e-01, -3.57390858e-01,  4.89103607e-01, -4.94391297e-01,\n",
              "       -4.89442190e-01, -4.86337422e-01, -6.45157251e-02, -3.97241431e-01,\n",
              "       -4.67209469e-01, -4.57142125e-01, -4.91622777e-01,  2.99922113e-01,\n",
              "       -4.37007438e-01, -3.29286862e-01,  4.37082185e-02, -4.86337422e-01,\n",
              "        4.64700108e+00, -4.86337422e-01, -4.86337422e-01, -4.90279793e-01,\n",
              "        5.83317835e-01, -2.34150465e-01, -5.02445171e-01, -4.86337422e-01,\n",
              "        4.93298232e-02,  6.27277898e-01, -1.85323848e-01, -1.24919787e-01,\n",
              "       -4.89442190e-01, -4.89442190e-01,  9.07737982e-01, -4.74172044e-01,\n",
              "       -4.88854258e-01, -4.89442190e-01, -4.94391297e-01, -4.91874461e-01,\n",
              "       -4.89442190e-01, -1.62168958e-01,  3.98582080e-01, -3.57390858e-01,\n",
              "       -4.86337422e-01, -4.50598352e-01, -3.57308306e-01, -4.88854258e-01,\n",
              "       -4.92377828e-01, -2.25593223e-01,  4.33533223e+00, -1.87093118e-02,\n",
              "        8.31477855e-01, -4.86337422e-01, -4.29555021e-02, -3.86670720e-01,\n",
              "        9.07737982e-01, -4.22073541e-01, -4.92377828e-01, -5.04625758e-01,\n",
              "       -1.98244277e-01, -5.07982210e-01, -4.89442190e-01, -5.06472109e-01,\n",
              "       -3.56468689e-01, -1.24919787e-01, -3.86670720e-01, -3.45479177e-01,\n",
              "       -1.19215630e-01,  4.20730236e-01, -4.62846282e-01,  9.46245572e-01,\n",
              "       -3.41452240e-01, -4.92377828e-01, -3.29286862e-01, -5.12512515e-01,\n",
              "       -4.16872751e-01,  9.15281006e-02, -4.91455659e-01,  4.37082185e-02,\n",
              "       -1.24919787e-01, -3.86670720e-01, -3.96234697e-01,  6.92548513e-01,\n",
              "       -4.86337422e-01, -3.56468689e-01, -5.01186753e-01,  5.87429338e-01,\n",
              "       -4.92714077e-01, -4.86337422e-01, -4.74004926e-01,  7.51945840e-01,\n",
              "       -3.24253190e-01, -3.31300330e-01, -4.91874461e-01, -4.74004926e-01,\n",
              "        1.50673744e-01, -2.35157199e-01,  4.58986142e-01, -8.66638810e-02,\n",
              "       -1.26429888e-01,  4.89103607e-01,  2.60903672e-02, -6.19988892e-02,\n",
              "       -4.24256141e-01, -4.88854258e-01, -3.03713226e-02, -4.90279793e-01,\n",
              "       -1.35657615e-01, -7.03044477e-02, -3.86670720e-01, -6.48421654e-01,\n",
              "        7.51945840e-01, -3.45394611e-01, -1.64441595e-02,  1.36831147e-01,\n",
              "       -2.04955168e-01,  3.58312706e-01, -3.36334002e-01, -1.13845709e-01,\n",
              "       -3.36334002e-01, -4.89442190e-01, -3.86670720e-01, -3.86670720e-01,\n",
              "       -4.90279793e-01, -1.24919787e-01, -9.02720170e-02,  2.30172882e+00,\n",
              "       -4.92377828e-01, -4.79205715e-01, -4.92377828e-01, -3.86670720e-01,\n",
              "       -4.57142125e-01,  7.51945840e-01, -5.17630753e-01, -5.02948539e-01,\n",
              "       -4.86337422e-01, -4.37762489e-01, -3.29286862e-01, -2.70141218e-01,\n",
              "       -4.92377828e-01, -2.42463508e-02, -5.06472109e-01, -2.25593223e-01,\n",
              "       -5.02445171e-01, -3.86670720e-01, -4.92377828e-01,  1.63233504e+00,\n",
              "       -4.88854258e-01, -1.04785100e-01,  8.87687861e-01, -4.37007438e-01,\n",
              "       -4.86337422e-01, -3.86670720e-01, -4.86337422e-01, -4.89442190e-01,\n",
              "        1.16370019e+00, -4.60162328e-01, -4.37007438e-01, -5.02445171e-01,\n",
              "       -3.86670720e-01, -1.35657615e-01,  1.03232136e+00, -4.91874461e-01,\n",
              "       -3.76603377e-01, -1.64441595e-02, -4.37007438e-01, -4.96404765e-01,\n",
              "       -1.24919787e-01, -1.19886115e-01, -4.37007438e-01, -4.01268368e-01,\n",
              "       -3.57390858e-01, -3.36334002e-01, -4.37007438e-01, -5.04962007e-01,\n",
              "       -5.02948539e-01,  1.16370019e+00, -4.91874461e-01, -3.56468689e-01,\n",
              "        4.09740724e-01, -1.24919787e-01, -5.02445171e-01, -4.37762489e-01,\n",
              "       -1.13845709e-01, -3.24253190e-01, -2.41449289e-01, -3.41452240e-01,\n",
              "        9.46245572e-01,  1.09322879e+00,  9.66716653e+00, -1.24919787e-01,\n",
              "       -4.92377828e-01, -1.64441595e-02,  9.55306181e-01, -6.48421654e-01,\n",
              "       -4.92377828e-01, -4.37007438e-01,  1.50673744e-01, -4.91874461e-01,\n",
              "        2.44149778e+00,  2.08251241e+00, -2.42463508e-02, -6.48421654e-01,\n",
              "       -2.55795253e-01, -5.04214441e-02, -4.92377828e-01,  9.21244331e-01,\n",
              "       -4.92377828e-01, -6.48421654e-01, -6.19988892e-02, -2.40694238e-01,\n",
              "       -4.92377828e-01, -4.90279793e-01, -4.57142125e-01, -4.86337422e-01,\n",
              "       -1.24919787e-01, -4.74004926e-01, -4.57142125e-01, -4.89442190e-01,\n",
              "       -3.86670720e-01, -4.92377828e-01,  9.39198431e-01,  1.18542955e+00,\n",
              "       -3.89187556e-01, -4.70229672e-01, -4.89442190e-01, -9.02720170e-02,\n",
              "       -5.02863973e-01,  2.40299019e+00, -3.43136943e-02,  4.33533223e+00,\n",
              "       -4.92377828e-01, -1.80290176e-01, -6.48421654e-01, -3.99758267e-01,\n",
              "       -4.86337422e-01,  2.40299019e+00,  1.58417891e+00,  1.54424578e+00,\n",
              "       -1.65189161e-01,  4.97829980e-01,  1.02594470e+00,  4.63441690e+00,\n",
              "       -1.24919787e-01, -4.89442190e-01, -1.19886115e-01, -4.90279793e-01,\n",
              "       -1.24919787e-01, -3.66536033e-01,  2.67111778e+00,  2.05969377e+00,\n",
              "       -5.02445171e-01, -4.89442190e-01, -3.99758267e-01, -6.45157251e-02,\n",
              "        7.51945840e-01,  2.08251241e+00, -5.22831542e-01, -3.86670720e-01,\n",
              "       -2.35157199e-01,  5.18971402e-01, -1.80290176e-01, -7.45830687e-02,\n",
              "        2.44149778e+00, -2.85997284e-01,  2.04257929e+00, -4.89442190e-01,\n",
              "        6.92548513e-01,  2.05969377e+00, -4.86337422e-01,  6.63597416e-02,\n",
              "       -1.24919787e-01,  4.64700108e+00, -3.86670720e-01, -3.86670720e-01,\n",
              "       -3.86670720e-01, -3.86670720e-01, -3.86670720e-01, -3.24253190e-01,\n",
              "       -3.28280127e-01, -4.74004926e-01, -4.62679164e-01,  5.62923980e-02,\n",
              "       -5.02863973e-01, -2.90024222e-01, -5.02948539e-01, -4.57142125e-01,\n",
              "        4.58986142e-01, -3.86670720e-01, -4.89776426e-01, -4.89776426e-01,\n",
              "       -8.66638810e-02, -9.02720170e-02, -3.57390858e-01, -5.06472109e-01,\n",
              "       -3.36334002e-01, -5.02445171e-01,  8.66713557e-01, -5.02863973e-01,\n",
              "       -4.92377828e-01,  7.46912168e-01,  4.67879633e-01, -5.17630753e-01,\n",
              "       -4.86337422e-01,  2.08251241e+00, -2.24083121e-01,  1.00606170e+00,\n",
              "       -5.02445171e-01,  3.61006469e+00, -5.67631221e-01, -4.91874461e-01,\n",
              "        3.93272305e+00, -3.31467448e-01, -4.88854258e-01,  3.98582080e-01,\n",
              "       -4.89442190e-01,  8.31477855e-01,  2.95895176e-01, -3.86670720e-01,\n",
              "       -4.92796629e-01, -4.06805407e-01,  1.76774081e+00, -4.91455659e-01,\n",
              "       -4.88854258e-01,  1.63233504e+00, -3.12172378e-01, -4.91455659e-01,\n",
              "       -4.90279793e-01, -1.24919787e-01, -4.37007438e-01, -3.93717861e-01,\n",
              "       -4.88854258e-01, -4.86337422e-01, -4.50598352e-01, -3.29286862e-01,\n",
              "       -4.74004926e-01, -2.25593223e-01, -4.92377828e-01, -2.70896269e-01,\n",
              "       -4.91874461e-01, -1.35657615e-01, -4.89442190e-01, -5.10331928e-01,\n",
              "        1.16370019e+00, -6.48421654e-01, -4.88854258e-01, -4.86337422e-01,\n",
              "        5.95568003e-03, -3.86670720e-01, -3.86670720e-01, -1.62168958e-01,\n",
              "       -4.89442190e-01, -4.92714077e-01, -4.89860992e-01, -3.58482158e-01,\n",
              "       -2.41449289e-01, -5.02445171e-01, -1.24919787e-01, -1.24919787e-01,\n",
              "       -4.92377828e-01, -4.86337422e-01, -1.13845709e-01, -3.24253190e-01,\n",
              "       -1.24919787e-01, -5.04962007e-01,  4.77107360e-01,  1.76774081e+00,\n",
              "        4.37082185e-02, -2.70896269e-01,  4.64700108e+00, -4.37007438e-01,\n",
              "       -1.19886115e-01, -4.57142125e-01, -4.91874461e-01, -3.86670720e-01,\n",
              "       -4.85079004e-01,  9.99769611e-01, -2.55795253e-01, -1.13845709e-01,\n",
              "       -2.60661807e-01, -3.43136943e-02, -8.96840841e-02, -2.46398395e-01,\n",
              "       -8.96840841e-02,  1.14566354e+00, -4.86337422e-01, -4.89442190e-01,\n",
              "       -1.13845709e-01,  3.95813561e-01, -4.37007438e-01, -4.92377828e-01,\n",
              "       -1.13845709e-01, -4.86337422e-01,  1.26763803e-01, -3.86670720e-01,\n",
              "       -4.86337422e-01, -5.06472109e-01, -6.48421654e-01, -1.13845709e-01,\n",
              "       -4.92881195e-01, -2.60661807e-01, -5.02445171e-01, -4.74004926e-01,\n",
              "       -8.96840841e-02, -3.70730088e-01, -4.50346668e-01,  3.98582080e-01,\n",
              "       -2.25593223e-01, -5.06556675e-01, -4.96992698e-01, -4.01016685e-01,\n",
              "        2.95895176e-01, -6.48421654e-01, -4.86337422e-01, -4.55380340e-01,\n",
              "        1.18542955e+00, -1.35657615e-01,  1.16370019e+00, -5.04214441e-02,\n",
              "       -4.86337422e-01, -3.28280127e-01, -2.46398395e-01, -5.02445171e-01,\n",
              "       -3.43136943e-02,  3.48329928e-01, -4.86337422e-01, -3.57308306e-01,\n",
              "        9.27453868e-01, -3.44387877e-01,  2.40299019e+00, -4.91455659e-01,\n",
              "       -4.74004926e-01, -4.92377828e-01, -4.94810098e-01, -4.55380340e-01,\n",
              "        1.09322879e+00,  1.54424578e+00, -1.24919787e-01, -1.13845709e-01,\n",
              "       -1.94887825e-01,  4.89103607e-01, -4.92377828e-01, -4.86337422e-01,\n",
              "       -1.19131064e-01,  5.47578765e-01, -4.97496065e-01,  3.65765123e-02,\n",
              "       -4.37007438e-01, -1.62168958e-01, -1.24919787e-01, -4.89442190e-01,\n",
              "        1.23417160e+00, -4.89442190e-01, -5.02948539e-01,  5.18971402e-01,\n",
              "       -5.02863973e-01, -4.92377828e-01, -4.37007438e-01,  3.81703316e+00,\n",
              "       -4.88854258e-01, -4.16872751e-01, -1.24919787e-01, -5.02863973e-01,\n",
              "       -5.02863973e-01, -1.98244277e-01, -4.74004926e-01, -1.19886115e-01,\n",
              "       -1.13845709e-01,  1.49441243e+00, -3.56468689e-01,  3.48245362e-01,\n",
              "        7.81141137e-01, -1.87093118e-02, -1.87093118e-02, -1.24919787e-01,\n",
              "        1.49441243e+00, -1.24919787e-01, -1.24919787e-01, -3.69304552e-01,\n",
              "       -2.35157199e-01,  9.15281006e-02,  1.58417891e+00, -1.24919787e-01,\n",
              "       -4.90783161e-01, -5.02948539e-01, -4.91874461e-01, -1.13845709e-01,\n",
              "        1.48911959e-01,  3.93272305e+00,  9.55306181e-01, -2.98078096e-01,\n",
              "       -4.92377828e-01, -4.89442190e-01, -3.76603377e-01, -4.86337422e-01,\n",
              "       -4.86337422e-01, -1.62168958e-01, -4.89442190e-01, -2.24083121e-01,\n",
              "       -5.02863973e-01, -4.90279793e-01, -4.37007438e-01,  3.88095935e-01,\n",
              "       -1.17117595e-01, -4.92377828e-01, -4.86337422e-01, -3.56468689e-01,\n",
              "       -3.86670720e-01,  4.77107360e-01, -3.57308306e-01, -4.88854258e-01,\n",
              "       -4.43810379e-02,  1.58417891e+00, -1.24919787e-01,  1.59482670e-01,\n",
              "       -4.72998191e-01,  9.55306181e-01, -3.46401346e-01,  9.46245572e-01,\n",
              "       -4.86337422e-01, -4.86337422e-01, -5.04962007e-01,  9.27453868e-01,\n",
              "       -5.02445171e-01, -4.92377828e-01, -1.24919787e-01, -1.62168958e-01,\n",
              "        1.60230236e-02, -6.48421654e-01, -5.02948539e-01,  4.97829980e-01,\n",
              "       -1.04785100e-01, -4.89442190e-01,  2.05289083e-01, -4.86337422e-01,\n",
              "       -1.13845709e-01, -3.35327268e-01, -4.89442190e-01, -3.43136943e-02,\n",
              "        1.88762532e-01,  2.44149778e+00, -1.87093118e-02, -5.06472109e-01,\n",
              "       -3.36334002e-01, -4.92377828e-01, -4.86337422e-01,  6.60333014e-01,\n",
              "       -3.58482158e-01, -3.24253190e-01,  1.36831147e-01, -4.37007438e-01,\n",
              "       -3.57390858e-01,  4.09740724e-01, -3.31467448e-01, -4.90279793e-01,\n",
              "       -3.24253190e-01,  2.34754408e-03, -3.99758267e-01,  9.21244331e-01,\n",
              "       -4.89442190e-01, -4.92714077e-01, -4.43810379e-02, -5.06387543e-01,\n",
              "       -3.43136943e-02, -6.48421654e-01, -8.66638810e-02, -3.86670720e-01,\n",
              "       -4.88854258e-01, -1.19886115e-01,  1.50673744e-01, -3.24253190e-01,\n",
              "       -4.90279793e-01,  7.46912168e-01, -8.66638810e-02,  4.89103607e-01,\n",
              "       -2.60661807e-01,  8.96496787e-01, -4.89442190e-01,  6.63597416e-02,\n",
              "       -4.96404765e-01, -4.96404765e-01, -4.89442190e-01, -1.85323848e-01,\n",
              "       -4.78619796e-01, -4.90783161e-01, -5.12512515e-01,  8.31477855e-01,\n",
              "       -4.89442190e-01, -3.36334002e-01, -3.86670720e-01,  1.63233504e+00,\n",
              "        2.04257929e+00, -5.02948539e-01, -1.33225345e-01, -4.97496065e-01,\n",
              "       -4.88854258e-01,  8.31477855e-01, -3.86670720e-01, -4.91874461e-01,\n",
              "       -4.86337422e-01,  3.98582080e-01,  1.36831147e-01,  3.98582080e-01,\n",
              "       -4.37007438e-01, -3.86670720e-01, -6.48421654e-01, -4.91874461e-01,\n",
              "       -4.86337422e-01, -4.50262103e-01,  2.95895176e-01,  9.66716653e+00,\n",
              "       -4.84575637e-01,  8.96496787e-01, -4.62679164e-01,  2.95895176e-01,\n",
              "        1.36831147e-01,  1.88762532e-01,  1.50673744e-01, -4.43635777e-01,\n",
              "       -4.91455659e-01,  3.60679280e+00,  4.99255516e-01, -3.78280596e-01,\n",
              "        4.89103607e-01, -5.02948539e-01, -1.13845709e-01, -3.76603377e-01,\n",
              "       -4.86337422e-01, -4.92714077e-01,  1.58417891e+00, -4.94391297e-01,\n",
              "        3.93272305e+00, -1.19131064e-01, -3.57390858e-01, -4.92544946e-01,\n",
              "       -4.90279793e-01, -1.24919787e-01, -3.76603377e-01, -1.19131064e-01,\n",
              "        2.40299019e+00, -3.41452240e-01,  3.48329928e-01, -1.13845709e-01,\n",
              "        3.98582080e-01, -4.57478375e-01, -3.86670720e-01, -4.94391297e-01,\n",
              "        3.93272305e+00, -4.37007438e-01, -3.36334002e-01, -4.91874461e-01,\n",
              "        1.60230236e-02, -5.06387543e-01, -3.86670720e-01, -3.86670720e-01,\n",
              "        4.20730236e-01, -4.74004926e-01, -2.25593223e-01, -4.92629511e-01,\n",
              "       -1.24919787e-01, -4.88854258e-01,  3.60679280e+00, -2.70141218e-01,\n",
              "       -6.48421654e-01, -3.86670720e-01, -3.86670720e-01, -3.24253190e-01,\n",
              "        4.37082185e-02,  9.66716653e+00, -4.89442190e-01, -4.89442190e-01,\n",
              "       -4.43810379e-02,  9.39198431e-01,  4.63441690e+00, -3.24253190e-01,\n",
              "       -4.88854258e-01,  7.81141137e-01, -2.40694238e-01, -3.86670720e-01,\n",
              "        4.20730236e-01, -4.92377828e-01, -1.85323848e-01, -3.97241431e-01,\n",
              "       -4.57142125e-01, -4.89442190e-01,  6.60333014e-01, -3.56468689e-01,\n",
              "       -4.91455659e-01, -4.16872751e-01, -4.86337422e-01,  1.09322879e+00,\n",
              "       -3.56468689e-01, -5.04962007e-01, -5.02863973e-01,  1.76774081e+00,\n",
              "       -4.91874461e-01,  9.21244331e-01,  1.48911959e-01, -4.92377828e-01,\n",
              "       -1.62168958e-01, -4.80045332e-01, -4.57142125e-01, -4.90279793e-01,\n",
              "       -4.37007438e-01, -5.02948539e-01, -1.85323848e-01, -4.92377828e-01,\n",
              "       -4.92377828e-01, -3.97241431e-01, -4.92629511e-01,  3.60679280e+00,\n",
              "       -5.02863973e-01,  4.99255516e-01, -4.43810379e-02, -1.76263239e-01,\n",
              "       -5.06472109e-01, -5.02445171e-01, -4.97496065e-01, -6.19988892e-02,\n",
              "       -2.34150465e-01,  9.46245572e-01, -4.92377828e-01, -1.24919787e-01,\n",
              "        7.51945840e-01, -3.03713226e-02, -4.89442190e-01, -3.86670720e-01,\n",
              "       -1.26345323e-01, -4.73586124e-01, -5.02863973e-01, -1.62168958e-01,\n",
              "       -3.86670720e-01, -1.19886115e-01,  1.76774081e+00, -4.76940563e-01,\n",
              "       -5.07982210e-01, -4.91874461e-01, -6.48421654e-01, -4.91874461e-01,\n",
              "       -3.86670720e-01,  4.20730236e-01, -4.89609308e-01, -1.62168958e-01,\n",
              "       -4.37007438e-01, -1.87093118e-02, -4.86337422e-01, -6.48421654e-01,\n",
              "       -4.88854258e-01,  9.66463381e-02, -5.18552921e-01, -8.66638810e-02,\n",
              "        1.23417160e+00, -4.74004926e-01, -6.48421654e-01, -3.97241431e-01,\n",
              "        1.50673744e-01, -5.08485578e-01,  4.89103607e-01,  9.66463381e-02,\n",
              "       -4.92377828e-01,  9.62353321e-01, -3.57390858e-01, -2.70896269e-01,\n",
              "       -5.02863973e-01, -4.90279793e-01, -4.81303750e-01,  1.02594470e+00,\n",
              "       -4.74004926e-01, -4.86337422e-01,  4.89103607e-01, -5.04214441e-02,\n",
              "       -4.88854258e-01, -4.37007438e-01, -2.42463508e-02, -5.18804605e-01,\n",
              "       -4.74004926e-01, -4.96404765e-01,  7.51945840e-01, -4.89442190e-01,\n",
              "        1.60230236e-02,  1.14566354e+00, -1.87093118e-02, -4.91874461e-01,\n",
              "       -3.41452240e-01,  1.44885022e-01, -1.24919787e-01, -4.60162328e-01,\n",
              "        2.67111778e+00, -1.13845709e-01, -2.60661807e-01, -5.02863973e-01,\n",
              "       -3.64355446e-01, -4.16872751e-01, -1.26345323e-01,  7.51945840e-01,\n",
              "       -3.86670720e-01, -3.86670720e-01, -3.69389118e-01,  3.68295484e-01,\n",
              "       -4.57142125e-01, -4.24256141e-01, -4.89442190e-01,  4.09740724e-01,\n",
              "       -5.47748218e-01, -4.67209469e-01, -1.65189161e-01, -5.02948539e-01,\n",
              "       -4.50179550e-01, -4.89442190e-01, -4.89442190e-01,  1.02594470e+00,\n",
              "       -1.24919787e-01, -4.89442190e-01, -4.36671189e-01, -4.37007438e-01,\n",
              "       -5.06472109e-01, -6.19988892e-02, -3.86670720e-01, -4.43810379e-02,\n",
              "       -1.76263239e-01, -4.43810379e-02, -4.92377828e-01])"
            ]
          },
          "metadata": {
            "tags": []
          },
          "execution_count": 153
        }
      ]
    },
    {
      "cell_type": "code",
      "metadata": {
        "id": "nfnxVUWI73fr"
      },
      "source": [
        "data_frame['fare_scaled'] = fare_scaled"
      ],
      "execution_count": null,
      "outputs": []
    },
    {
      "cell_type": "code",
      "metadata": {
        "id": "A8B9vfzq8A17",
        "colab": {
          "base_uri": "https://localhost:8080/",
          "height": 204
        },
        "outputId": "9875e7d0-22ae-467c-86f7-d74f8090fc54"
      },
      "source": [
        "data_frame.head()"
      ],
      "execution_count": null,
      "outputs": [
        {
          "output_type": "execute_result",
          "data": {
            "text/html": [
              "<div>\n",
              "<style scoped>\n",
              "    .dataframe tbody tr th:only-of-type {\n",
              "        vertical-align: middle;\n",
              "    }\n",
              "\n",
              "    .dataframe tbody tr th {\n",
              "        vertical-align: top;\n",
              "    }\n",
              "\n",
              "    .dataframe thead th {\n",
              "        text-align: right;\n",
              "    }\n",
              "</style>\n",
              "<table border=\"1\" class=\"dataframe\">\n",
              "  <thead>\n",
              "    <tr style=\"text-align: right;\">\n",
              "      <th></th>\n",
              "      <th>PassengerId</th>\n",
              "      <th>Survived</th>\n",
              "      <th>Pclass</th>\n",
              "      <th>Name</th>\n",
              "      <th>Sex</th>\n",
              "      <th>Age</th>\n",
              "      <th>SibSp</th>\n",
              "      <th>Parch</th>\n",
              "      <th>Ticket</th>\n",
              "      <th>Fare</th>\n",
              "      <th>Cabin</th>\n",
              "      <th>Embarked</th>\n",
              "      <th>fare_scaled</th>\n",
              "    </tr>\n",
              "  </thead>\n",
              "  <tbody>\n",
              "    <tr>\n",
              "      <th>0</th>\n",
              "      <td>1</td>\n",
              "      <td>0</td>\n",
              "      <td>3</td>\n",
              "      <td>Braund, Mr. Owen Harris</td>\n",
              "      <td>male</td>\n",
              "      <td>22.0</td>\n",
              "      <td>1</td>\n",
              "      <td>0</td>\n",
              "      <td>A/5 21171</td>\n",
              "      <td>7.2500</td>\n",
              "      <td>NaN</td>\n",
              "      <td>S</td>\n",
              "      <td>-0.502445</td>\n",
              "    </tr>\n",
              "    <tr>\n",
              "      <th>1</th>\n",
              "      <td>2</td>\n",
              "      <td>1</td>\n",
              "      <td>1</td>\n",
              "      <td>Cumings, Mrs. John Bradley (Florence Briggs Th...</td>\n",
              "      <td>female</td>\n",
              "      <td>38.0</td>\n",
              "      <td>1</td>\n",
              "      <td>0</td>\n",
              "      <td>PC 17599</td>\n",
              "      <td>71.2833</td>\n",
              "      <td>C85</td>\n",
              "      <td>C</td>\n",
              "      <td>0.786845</td>\n",
              "    </tr>\n",
              "    <tr>\n",
              "      <th>2</th>\n",
              "      <td>3</td>\n",
              "      <td>1</td>\n",
              "      <td>3</td>\n",
              "      <td>Heikkinen, Miss. Laina</td>\n",
              "      <td>female</td>\n",
              "      <td>26.0</td>\n",
              "      <td>0</td>\n",
              "      <td>0</td>\n",
              "      <td>STON/O2. 3101282</td>\n",
              "      <td>7.9250</td>\n",
              "      <td>NaN</td>\n",
              "      <td>S</td>\n",
              "      <td>-0.488854</td>\n",
              "    </tr>\n",
              "    <tr>\n",
              "      <th>3</th>\n",
              "      <td>4</td>\n",
              "      <td>1</td>\n",
              "      <td>1</td>\n",
              "      <td>Futrelle, Mrs. Jacques Heath (Lily May Peel)</td>\n",
              "      <td>female</td>\n",
              "      <td>35.0</td>\n",
              "      <td>1</td>\n",
              "      <td>0</td>\n",
              "      <td>113803</td>\n",
              "      <td>53.1000</td>\n",
              "      <td>C123</td>\n",
              "      <td>S</td>\n",
              "      <td>0.420730</td>\n",
              "    </tr>\n",
              "    <tr>\n",
              "      <th>4</th>\n",
              "      <td>5</td>\n",
              "      <td>0</td>\n",
              "      <td>3</td>\n",
              "      <td>Allen, Mr. William Henry</td>\n",
              "      <td>male</td>\n",
              "      <td>35.0</td>\n",
              "      <td>0</td>\n",
              "      <td>0</td>\n",
              "      <td>373450</td>\n",
              "      <td>8.0500</td>\n",
              "      <td>NaN</td>\n",
              "      <td>S</td>\n",
              "      <td>-0.486337</td>\n",
              "    </tr>\n",
              "  </tbody>\n",
              "</table>\n",
              "</div>"
            ],
            "text/plain": [
              "   PassengerId  Survived  Pclass  ... Cabin Embarked  fare_scaled\n",
              "0            1         0       3  ...   NaN        S    -0.502445\n",
              "1            2         1       1  ...   C85        C     0.786845\n",
              "2            3         1       3  ...   NaN        S    -0.488854\n",
              "3            4         1       1  ...  C123        S     0.420730\n",
              "4            5         0       3  ...   NaN        S    -0.486337\n",
              "\n",
              "[5 rows x 13 columns]"
            ]
          },
          "metadata": {
            "tags": []
          },
          "execution_count": 155
        }
      ]
    },
    {
      "cell_type": "code",
      "metadata": {
        "id": "AnBKCgI78tKv"
      },
      "source": [
        "min_fare = data_frame['Fare'].min()"
      ],
      "execution_count": null,
      "outputs": []
    },
    {
      "cell_type": "code",
      "metadata": {
        "id": "jmZ0DdGA84iu"
      },
      "source": [
        "max_fare = data_frame['Fare'].max()"
      ],
      "execution_count": null,
      "outputs": []
    },
    {
      "cell_type": "code",
      "metadata": {
        "id": "O6hjjIRq88Je"
      },
      "source": [
        "data_frame['normalized_fare'] = data_frame['Fare'].apply(lambda x: ((x-min_fare)/(max_fare-min_fare)))"
      ],
      "execution_count": null,
      "outputs": []
    },
    {
      "cell_type": "code",
      "metadata": {
        "id": "fL_m_olN9vmn",
        "colab": {
          "base_uri": "https://localhost:8080/",
          "height": 34
        },
        "outputId": "4aebec89-5f68-4591-f6ed-4ce4a7bfb2fa"
      },
      "source": [
        "data_frame['normalized_fare'].max()"
      ],
      "execution_count": null,
      "outputs": [
        {
          "output_type": "execute_result",
          "data": {
            "text/plain": [
              "1.0"
            ]
          },
          "metadata": {
            "tags": []
          },
          "execution_count": 159
        }
      ]
    },
    {
      "cell_type": "code",
      "metadata": {
        "id": "38ppWbzs9-zQ"
      },
      "source": [
        "min_max = preprocessing.MinMaxScaler()"
      ],
      "execution_count": null,
      "outputs": []
    },
    {
      "cell_type": "code",
      "metadata": {
        "id": "u5TMk8YFAARJ"
      },
      "source": [
        "one_hot = pd.get_dummies(data_frame['Sex'])"
      ],
      "execution_count": null,
      "outputs": []
    },
    {
      "cell_type": "code",
      "metadata": {
        "id": "apCFgrUtCU6K"
      },
      "source": [
        "data_frame = data_frame.join(one_hot)"
      ],
      "execution_count": null,
      "outputs": []
    },
    {
      "cell_type": "code",
      "metadata": {
        "id": "C5jQVKmTAXaX",
        "colab": {
          "base_uri": "https://localhost:8080/",
          "height": 306
        },
        "outputId": "b7b6bb3e-699b-464d-a939-ff3008133602"
      },
      "source": [
        "data_frame.isnull().sum() * 100 / 891"
      ],
      "execution_count": null,
      "outputs": [
        {
          "output_type": "execute_result",
          "data": {
            "text/plain": [
              "PassengerId         0.000000\n",
              "Survived            0.000000\n",
              "Pclass              0.000000\n",
              "Name                0.000000\n",
              "Sex                 0.000000\n",
              "Age                19.865320\n",
              "SibSp               0.000000\n",
              "Parch               0.000000\n",
              "Ticket              0.000000\n",
              "Fare                0.000000\n",
              "Cabin              77.104377\n",
              "Embarked            0.224467\n",
              "fare_scaled         0.000000\n",
              "normalized_fare     0.000000\n",
              "female              0.000000\n",
              "male                0.000000\n",
              "dtype: float64"
            ]
          },
          "metadata": {
            "tags": []
          },
          "execution_count": 163
        }
      ]
    },
    {
      "cell_type": "code",
      "metadata": {
        "id": "4i9oP3R0CZ33"
      },
      "source": [
        "mean_age = data_frame['Age'].mean()"
      ],
      "execution_count": null,
      "outputs": []
    },
    {
      "cell_type": "code",
      "metadata": {
        "id": "7piHlVWQCrgP",
        "colab": {
          "base_uri": "https://localhost:8080/",
          "height": 34
        },
        "outputId": "9127899b-0399-48cf-b138-ef07d6af3968"
      },
      "source": [
        "mean_age"
      ],
      "execution_count": null,
      "outputs": [
        {
          "output_type": "execute_result",
          "data": {
            "text/plain": [
              "29.69911764705882"
            ]
          },
          "metadata": {
            "tags": []
          },
          "execution_count": 165
        }
      ]
    },
    {
      "cell_type": "code",
      "metadata": {
        "id": "P07B4RkgCu-n"
      },
      "source": [
        "data_frame['Age'].fillna(mean_age, inplace=True)"
      ],
      "execution_count": null,
      "outputs": []
    },
    {
      "cell_type": "code",
      "metadata": {
        "id": "OPDmbe61DJru"
      },
      "source": [
        "import seaborn as sns"
      ],
      "execution_count": null,
      "outputs": []
    },
    {
      "cell_type": "code",
      "metadata": {
        "id": "7DyYyVaoEurw",
        "colab": {
          "base_uri": "https://localhost:8080/",
          "height": 265
        },
        "outputId": "a04fa9e5-327c-4408-dca0-81fd52af0a45"
      },
      "source": [
        "ax = sns.boxplot(data=data_frame['Age'])"
      ],
      "execution_count": null,
      "outputs": [
        {
          "output_type": "display_data",
          "data": {
            "image/png": "[encoded data removed]",
            "text/plain": [
              "<Figure size 432x288 with 1 Axes>"
            ]
          },
          "metadata": {
            "tags": [],
            "needs_background": "light"
          }
        }
      ]
    },
    {
      "cell_type": "code",
      "metadata": {
        "id": "PjAAUpoAFL5v"
      },
      "source": [
        "from sklearn.linear_model import LogisticRegression"
      ],
      "execution_count": null,
      "outputs": []
    },
    {
      "cell_type": "code",
      "metadata": {
        "id": "N0wbnB8IFlEn"
      },
      "source": [
        "x = data_frame[['Age', 'Fare']]"
      ],
      "execution_count": null,
      "outputs": []
    },
    {
      "cell_type": "code",
      "metadata": {
        "id": "B5JIdKV-Guta"
      },
      "source": [
        "y = data_frame['Survived']"
      ],
      "execution_count": null,
      "outputs": []
    },
    {
      "cell_type": "code",
      "metadata": {
        "id": "Kh5EtvZrG1R2"
      },
      "source": [
        "model = LogisticRegression(random_state= 0).fit(x, y)"
      ],
      "execution_count": null,
      "outputs": []
    },
    {
      "cell_type": "code",
      "metadata": {
        "id": "vJCCHh6dHRy3"
      },
      "source": [
        "pred = model.predict(x)"
      ],
      "execution_count": null,
      "outputs": []
    },
    {
      "cell_type": "code",
      "metadata": {
        "id": "3voe0FUaHXb5",
        "colab": {
          "base_uri": "https://localhost:8080/",
          "height": 34
        },
        "outputId": "a619ed1d-8f0c-4897-d441-457f9d89841d"
      },
      "source": [
        "model.score(x,y)"
      ],
      "execution_count": null,
      "outputs": [
        {
          "output_type": "execute_result",
          "data": {
            "text/plain": [
              "0.6565656565656566"
            ]
          },
          "metadata": {
            "tags": []
          },
          "execution_count": 174
        }
      ]
    },
    {
      "cell_type": "code",
      "metadata": {
        "id": "gPBRgAAGHc2I",
        "colab": {
          "base_uri": "https://localhost:8080/",
          "height": 34
        },
        "outputId": "91f59a02-f173-4c5d-a144-4b7d58801045"
      },
      "source": [
        "print('Y = {} X = {}'.format(model.coef_,model.intercept_))"
      ],
      "execution_count": null,
      "outputs": [
        {
          "output_type": "stream",
          "text": [
            "Y = [[-0.01032814  1.21442419 -1.15065692  0.57307773]] X = [0.0631568]\n"
          ],
          "name": "stdout"
        }
      ]
    },
    {
      "cell_type": "code",
      "metadata": {
        "id": "DrO1VeRVI8Bm"
      },
      "source": [
        "import pickle\n",
        "filename = 'finalized_model.sav'\n",
        "pickle.dump(model, open(filename, 'wb'))"
      ],
      "execution_count": null,
      "outputs": []
    },
    {
      "cell_type": "code",
      "metadata": {
        "id": "vS2mzbGTAV6t"
      },
      "source": [
        "corr_pearson = x.apply(lambda x : x.corr(y, method='pearson'))"
      ],
      "execution_count": null,
      "outputs": []
    },
    {
      "cell_type": "code",
      "metadata": {
        "id": "AJtKUD5_Agb2"
      },
      "source": [
        "ind_pearson = np.argsort(corr_pearson)"
      ],
      "execution_count": null,
      "outputs": []
    },
    {
      "cell_type": "code",
      "metadata": {
        "id": "KknpcGQQBEAB",
        "colab": {
          "base_uri": "https://localhost:8080/",
          "height": 68
        },
        "outputId": "a919aa3e-cfd1-465c-abcb-b02d6df6d540"
      },
      "source": [
        "print(corr_pearson[ind_pearson])"
      ],
      "execution_count": null,
      "outputs": [
        {
          "output_type": "stream",
          "text": [
            "Age    -0.069809\n",
            "Fare    0.257307\n",
            "dtype: float64\n"
          ],
          "name": "stdout"
        }
      ]
    },
    {
      "cell_type": "code",
      "metadata": {
        "id": "c962LTvvBjQe"
      },
      "source": [
        "mt_corr_pearson = data_frame.corr(method='pearson')"
      ],
      "execution_count": null,
      "outputs": []
    },
    {
      "cell_type": "code",
      "metadata": {
        "id": "-vUowAGxB83y",
        "colab": {
          "base_uri": "https://localhost:8080/",
          "height": 271
        },
        "outputId": "68a6cb7c-30f3-4040-d3be-fe7861bb3e88"
      },
      "source": [
        "mt_corr_pearson.style.background_gradient(cmap='coolwarm').set_precision(2)"
      ],
      "execution_count": null,
      "outputs": [
        {
          "output_type": "execute_result",
          "data": {
            "text/html": [
              "<style  type=\"text/css\" >\n",
              "    #T_dee204fa_e342_11ea_adb8_0242ac1c0002row0_col0 {\n",
              "            background-color:  #b40426;\n",
              "            color:  #f1f1f1;\n",
              "        }    #T_dee204fa_e342_11ea_adb8_0242ac1c0002row0_col1 {\n",
              "            background-color:  #afcafc;\n",
              "            color:  #000000;\n",
              "        }    #T_dee204fa_e342_11ea_adb8_0242ac1c0002row0_col2 {\n",
              "            background-color:  #a9c6fd;\n",
              "            color:  #000000;\n",
              "        }    #T_dee204fa_e342_11ea_adb8_0242ac1c0002row0_col3 {\n",
              "            background-color:  #96b7ff;\n",
              "            color:  #000000;\n",
              "        }    #T_dee204fa_e342_11ea_adb8_0242ac1c0002row0_col4 {\n",
              "            background-color:  #6788ee;\n",
              "            color:  #000000;\n",
              "        }    #T_dee204fa_e342_11ea_adb8_0242ac1c0002row0_col5 {\n",
              "            background-color:  #7a9df8;\n",
              "            color:  #000000;\n",
              "        }    #T_dee204fa_e342_11ea_adb8_0242ac1c0002row0_col6 {\n",
              "            background-color:  #b3cdfb;\n",
              "            color:  #000000;\n",
              "        }    #T_dee204fa_e342_11ea_adb8_0242ac1c0002row0_col7 {\n",
              "            background-color:  #b3cdfb;\n",
              "            color:  #000000;\n",
              "        }    #T_dee204fa_e342_11ea_adb8_0242ac1c0002row0_col8 {\n",
              "            background-color:  #b3cdfb;\n",
              "            color:  #000000;\n",
              "        }    #T_dee204fa_e342_11ea_adb8_0242ac1c0002row0_col9 {\n",
              "            background-color:  #d7dce3;\n",
              "            color:  #000000;\n",
              "        }    #T_dee204fa_e342_11ea_adb8_0242ac1c0002row0_col10 {\n",
              "            background-color:  #e2dad5;\n",
              "            color:  #000000;\n",
              "        }    #T_dee204fa_e342_11ea_adb8_0242ac1c0002row1_col0 {\n",
              "            background-color:  #4961d2;\n",
              "            color:  #f1f1f1;\n",
              "        }    #T_dee204fa_e342_11ea_adb8_0242ac1c0002row1_col1 {\n",
              "            background-color:  #b40426;\n",
              "            color:  #f1f1f1;\n",
              "        }    #T_dee204fa_e342_11ea_adb8_0242ac1c0002row1_col2 {\n",
              "            background-color:  #6485ec;\n",
              "            color:  #000000;\n",
              "        }    #T_dee204fa_e342_11ea_adb8_0242ac1c0002row1_col3 {\n",
              "            background-color:  #7a9df8;\n",
              "            color:  #000000;\n",
              "        }    #T_dee204fa_e342_11ea_adb8_0242ac1c0002row1_col4 {\n",
              "            background-color:  #6c8ff1;\n",
              "            color:  #000000;\n",
              "        }    #T_dee204fa_e342_11ea_adb8_0242ac1c0002row1_col5 {\n",
              "            background-color:  #92b4fe;\n",
              "            color:  #000000;\n",
              "        }    #T_dee204fa_e342_11ea_adb8_0242ac1c0002row1_col6 {\n",
              "            background-color:  #e2dad5;\n",
              "            color:  #000000;\n",
              "        }    #T_dee204fa_e342_11ea_adb8_0242ac1c0002row1_col7 {\n",
              "            background-color:  #e2dad5;\n",
              "            color:  #000000;\n",
              "        }    #T_dee204fa_e342_11ea_adb8_0242ac1c0002row1_col8 {\n",
              "            background-color:  #e2dad5;\n",
              "            color:  #000000;\n",
              "        }    #T_dee204fa_e342_11ea_adb8_0242ac1c0002row1_col9 {\n",
              "            background-color:  #f29072;\n",
              "            color:  #000000;\n",
              "        }    #T_dee204fa_e342_11ea_adb8_0242ac1c0002row1_col10 {\n",
              "            background-color:  #85a8fc;\n",
              "            color:  #000000;\n",
              "        }    #T_dee204fa_e342_11ea_adb8_0242ac1c0002row2_col0 {\n",
              "            background-color:  #4055c8;\n",
              "            color:  #f1f1f1;\n",
              "        }    #T_dee204fa_e342_11ea_adb8_0242ac1c0002row2_col1 {\n",
              "            background-color:  #6384eb;\n",
              "            color:  #000000;\n",
              "        }    #T_dee204fa_e342_11ea_adb8_0242ac1c0002row2_col2 {\n",
              "            background-color:  #b40426;\n",
              "            color:  #f1f1f1;\n",
              "        }    #T_dee204fa_e342_11ea_adb8_0242ac1c0002row2_col3 {\n",
              "            background-color:  #3b4cc0;\n",
              "            color:  #f1f1f1;\n",
              "        }    #T_dee204fa_e342_11ea_adb8_0242ac1c0002row2_col4 {\n",
              "            background-color:  #8fb1fe;\n",
              "            color:  #000000;\n",
              "        }    #T_dee204fa_e342_11ea_adb8_0242ac1c0002row2_col5 {\n",
              "            background-color:  #80a3fa;\n",
              "            color:  #000000;\n",
              "        }    #T_dee204fa_e342_11ea_adb8_0242ac1c0002row2_col6 {\n",
              "            background-color:  #3b4cc0;\n",
              "            color:  #f1f1f1;\n",
              "        }    #T_dee204fa_e342_11ea_adb8_0242ac1c0002row2_col7 {\n",
              "            background-color:  #3b4cc0;\n",
              "            color:  #f1f1f1;\n",
              "        }    #T_dee204fa_e342_11ea_adb8_0242ac1c0002row2_col8 {\n",
              "            background-color:  #3b4cc0;\n",
              "            color:  #f1f1f1;\n",
              "        }    #T_dee204fa_e342_11ea_adb8_0242ac1c0002row2_col9 {\n",
              "            background-color:  #cbd8ee;\n",
              "            color:  #000000;\n",
              "        }    #T_dee204fa_e342_11ea_adb8_0242ac1c0002row2_col10 {\n",
              "            background-color:  #ecd3c5;\n",
              "            color:  #000000;\n",
              "        }    #T_dee204fa_e342_11ea_adb8_0242ac1c0002row3_col0 {\n",
              "            background-color:  #5470de;\n",
              "            color:  #000000;\n",
              "        }    #T_dee204fa_e342_11ea_adb8_0242ac1c0002row3_col1 {\n",
              "            background-color:  #a1c0ff;\n",
              "            color:  #000000;\n",
              "        }    #T_dee204fa_e342_11ea_adb8_0242ac1c0002row3_col2 {\n",
              "            background-color:  #6788ee;\n",
              "            color:  #000000;\n",
              "        }    #T_dee204fa_e342_11ea_adb8_0242ac1c0002row3_col3 {\n",
              "            background-color:  #b40426;\n",
              "            color:  #f1f1f1;\n",
              "        }    #T_dee204fa_e342_11ea_adb8_0242ac1c0002row3_col4 {\n",
              "            background-color:  #3b4cc0;\n",
              "            color:  #f1f1f1;\n",
              "        }    #T_dee204fa_e342_11ea_adb8_0242ac1c0002row3_col5 {\n",
              "            background-color:  #4a63d3;\n",
              "            color:  #f1f1f1;\n",
              "        }    #T_dee204fa_e342_11ea_adb8_0242ac1c0002row3_col6 {\n",
              "            background-color:  #c4d5f3;\n",
              "            color:  #000000;\n",
              "        }    #T_dee204fa_e342_11ea_adb8_0242ac1c0002row3_col7 {\n",
              "            background-color:  #c4d5f3;\n",
              "            color:  #000000;\n",
              "        }    #T_dee204fa_e342_11ea_adb8_0242ac1c0002row3_col8 {\n",
              "            background-color:  #c4d5f3;\n",
              "            color:  #000000;\n",
              "        }    #T_dee204fa_e342_11ea_adb8_0242ac1c0002row3_col9 {\n",
              "            background-color:  #d2dbe8;\n",
              "            color:  #000000;\n",
              "        }    #T_dee204fa_e342_11ea_adb8_0242ac1c0002row3_col10 {\n",
              "            background-color:  #e7d7ce;\n",
              "            color:  #000000;\n",
              "        }    #T_dee204fa_e342_11ea_adb8_0242ac1c0002row4_col0 {\n",
              "            background-color:  #3b4cc0;\n",
              "            color:  #f1f1f1;\n",
              "        }    #T_dee204fa_e342_11ea_adb8_0242ac1c0002row4_col1 {\n",
              "            background-color:  #a9c6fd;\n",
              "            color:  #000000;\n",
              "        }    #T_dee204fa_e342_11ea_adb8_0242ac1c0002row4_col2 {\n",
              "            background-color:  #c3d5f4;\n",
              "            color:  #000000;\n",
              "        }    #T_dee204fa_e342_11ea_adb8_0242ac1c0002row4_col3 {\n",
              "            background-color:  #506bda;\n",
              "            color:  #000000;\n",
              "        }    #T_dee204fa_e342_11ea_adb8_0242ac1c0002row4_col4 {\n",
              "            background-color:  #b40426;\n",
              "            color:  #f1f1f1;\n",
              "        }    #T_dee204fa_e342_11ea_adb8_0242ac1c0002row4_col5 {\n",
              "            background-color:  #e4d9d2;\n",
              "            color:  #000000;\n",
              "        }    #T_dee204fa_e342_11ea_adb8_0242ac1c0002row4_col6 {\n",
              "            background-color:  #d2dbe8;\n",
              "            color:  #000000;\n",
              "        }    #T_dee204fa_e342_11ea_adb8_0242ac1c0002row4_col7 {\n",
              "            background-color:  #d2dbe8;\n",
              "            color:  #000000;\n",
              "        }    #T_dee204fa_e342_11ea_adb8_0242ac1c0002row4_col8 {\n",
              "            background-color:  #d2dbe8;\n",
              "            color:  #000000;\n",
              "        }    #T_dee204fa_e342_11ea_adb8_0242ac1c0002row4_col9 {\n",
              "            background-color:  #ead4c8;\n",
              "            color:  #000000;\n",
              "        }    #T_dee204fa_e342_11ea_adb8_0242ac1c0002row4_col10 {\n",
              "            background-color:  #cdd9ec;\n",
              "            color:  #000000;\n",
              "        }    #T_dee204fa_e342_11ea_adb8_0242ac1c0002row5_col0 {\n",
              "            background-color:  #4a63d3;\n",
              "            color:  #f1f1f1;\n",
              "        }    #T_dee204fa_e342_11ea_adb8_0242ac1c0002row5_col1 {\n",
              "            background-color:  #c1d4f4;\n",
              "            color:  #000000;\n",
              "        }    #T_dee204fa_e342_11ea_adb8_0242ac1c0002row5_col2 {\n",
              "            background-color:  #b5cdfa;\n",
              "            color:  #000000;\n",
              "        }    #T_dee204fa_e342_11ea_adb8_0242ac1c0002row5_col3 {\n",
              "            background-color:  #5e7de7;\n",
              "            color:  #000000;\n",
              "        }    #T_dee204fa_e342_11ea_adb8_0242ac1c0002row5_col4 {\n",
              "            background-color:  #e3d9d3;\n",
              "            color:  #000000;\n",
              "        }    #T_dee204fa_e342_11ea_adb8_0242ac1c0002row5_col5 {\n",
              "            background-color:  #b40426;\n",
              "            color:  #f1f1f1;\n",
              "        }    #T_dee204fa_e342_11ea_adb8_0242ac1c0002row5_col6 {\n",
              "            background-color:  #dbdcde;\n",
              "            color:  #000000;\n",
              "        }    #T_dee204fa_e342_11ea_adb8_0242ac1c0002row5_col7 {\n",
              "            background-color:  #dbdcde;\n",
              "            color:  #000000;\n",
              "        }    #T_dee204fa_e342_11ea_adb8_0242ac1c0002row5_col8 {\n",
              "            background-color:  #dbdcde;\n",
              "            color:  #000000;\n",
              "        }    #T_dee204fa_e342_11ea_adb8_0242ac1c0002row5_col9 {\n",
              "            background-color:  #f4c5ad;\n",
              "            color:  #000000;\n",
              "        }    #T_dee204fa_e342_11ea_adb8_0242ac1c0002row5_col10 {\n",
              "            background-color:  #b9d0f9;\n",
              "            color:  #000000;\n",
              "        }    #T_dee204fa_e342_11ea_adb8_0242ac1c0002row6_col0 {\n",
              "            background-color:  #4e68d8;\n",
              "            color:  #000000;\n",
              "        }    #T_dee204fa_e342_11ea_adb8_0242ac1c0002row6_col1 {\n",
              "            background-color:  #e1dad6;\n",
              "            color:  #000000;\n",
              "        }    #T_dee204fa_e342_11ea_adb8_0242ac1c0002row6_col2 {\n",
              "            background-color:  #3b4cc0;\n",
              "            color:  #f1f1f1;\n",
              "        }    #T_dee204fa_e342_11ea_adb8_0242ac1c0002row6_col3 {\n",
              "            background-color:  #a5c3fe;\n",
              "            color:  #000000;\n",
              "        }    #T_dee204fa_e342_11ea_adb8_0242ac1c0002row6_col4 {\n",
              "            background-color:  #a5c3fe;\n",
              "            color:  #000000;\n",
              "        }    #T_dee204fa_e342_11ea_adb8_0242ac1c0002row6_col5 {\n",
              "            background-color:  #b6cefa;\n",
              "            color:  #000000;\n",
              "        }    #T_dee204fa_e342_11ea_adb8_0242ac1c0002row6_col6 {\n",
              "            background-color:  #b40426;\n",
              "            color:  #f1f1f1;\n",
              "        }    #T_dee204fa_e342_11ea_adb8_0242ac1c0002row6_col7 {\n",
              "            background-color:  #b40426;\n",
              "            color:  #f1f1f1;\n",
              "        }    #T_dee204fa_e342_11ea_adb8_0242ac1c0002row6_col8 {\n",
              "            background-color:  #b40426;\n",
              "            color:  #f1f1f1;\n",
              "        }    #T_dee204fa_e342_11ea_adb8_0242ac1c0002row6_col9 {\n",
              "            background-color:  #f1cdba;\n",
              "            color:  #000000;\n",
              "        }    #T_dee204fa_e342_11ea_adb8_0242ac1c0002row6_col10 {\n",
              "            background-color:  #c3d5f4;\n",
              "            color:  #000000;\n",
              "        }    #T_dee204fa_e342_11ea_adb8_0242ac1c0002row7_col0 {\n",
              "            background-color:  #4e68d8;\n",
              "            color:  #000000;\n",
              "        }    #T_dee204fa_e342_11ea_adb8_0242ac1c0002row7_col1 {\n",
              "            background-color:  #e1dad6;\n",
              "            color:  #000000;\n",
              "        }    #T_dee204fa_e342_11ea_adb8_0242ac1c0002row7_col2 {\n",
              "            background-color:  #3b4cc0;\n",
              "            color:  #f1f1f1;\n",
              "        }    #T_dee204fa_e342_11ea_adb8_0242ac1c0002row7_col3 {\n",
              "            background-color:  #a5c3fe;\n",
              "            color:  #000000;\n",
              "        }    #T_dee204fa_e342_11ea_adb8_0242ac1c0002row7_col4 {\n",
              "            background-color:  #a5c3fe;\n",
              "            color:  #000000;\n",
              "        }    #T_dee204fa_e342_11ea_adb8_0242ac1c0002row7_col5 {\n",
              "            background-color:  #b6cefa;\n",
              "            color:  #000000;\n",
              "        }    #T_dee204fa_e342_11ea_adb8_0242ac1c0002row7_col6 {\n",
              "            background-color:  #b40426;\n",
              "            color:  #f1f1f1;\n",
              "        }    #T_dee204fa_e342_11ea_adb8_0242ac1c0002row7_col7 {\n",
              "            background-color:  #b40426;\n",
              "            color:  #f1f1f1;\n",
              "        }    #T_dee204fa_e342_11ea_adb8_0242ac1c0002row7_col8 {\n",
              "            background-color:  #b40426;\n",
              "            color:  #f1f1f1;\n",
              "        }    #T_dee204fa_e342_11ea_adb8_0242ac1c0002row7_col9 {\n",
              "            background-color:  #f1cdba;\n",
              "            color:  #000000;\n",
              "        }    #T_dee204fa_e342_11ea_adb8_0242ac1c0002row7_col10 {\n",
              "            background-color:  #c3d5f4;\n",
              "            color:  #000000;\n",
              "        }    #T_dee204fa_e342_11ea_adb8_0242ac1c0002row8_col0 {\n",
              "            background-color:  #4e68d8;\n",
              "            color:  #000000;\n",
              "        }    #T_dee204fa_e342_11ea_adb8_0242ac1c0002row8_col1 {\n",
              "            background-color:  #e1dad6;\n",
              "            color:  #000000;\n",
              "        }    #T_dee204fa_e342_11ea_adb8_0242ac1c0002row8_col2 {\n",
              "            background-color:  #3b4cc0;\n",
              "            color:  #f1f1f1;\n",
              "        }    #T_dee204fa_e342_11ea_adb8_0242ac1c0002row8_col3 {\n",
              "            background-color:  #a5c3fe;\n",
              "            color:  #000000;\n",
              "        }    #T_dee204fa_e342_11ea_adb8_0242ac1c0002row8_col4 {\n",
              "            background-color:  #a5c3fe;\n",
              "            color:  #000000;\n",
              "        }    #T_dee204fa_e342_11ea_adb8_0242ac1c0002row8_col5 {\n",
              "            background-color:  #b6cefa;\n",
              "            color:  #000000;\n",
              "        }    #T_dee204fa_e342_11ea_adb8_0242ac1c0002row8_col6 {\n",
              "            background-color:  #b40426;\n",
              "            color:  #f1f1f1;\n",
              "        }    #T_dee204fa_e342_11ea_adb8_0242ac1c0002row8_col7 {\n",
              "            background-color:  #b40426;\n",
              "            color:  #f1f1f1;\n",
              "        }    #T_dee204fa_e342_11ea_adb8_0242ac1c0002row8_col8 {\n",
              "            background-color:  #b40426;\n",
              "            color:  #f1f1f1;\n",
              "        }    #T_dee204fa_e342_11ea_adb8_0242ac1c0002row8_col9 {\n",
              "            background-color:  #f1cdba;\n",
              "            color:  #000000;\n",
              "        }    #T_dee204fa_e342_11ea_adb8_0242ac1c0002row8_col10 {\n",
              "            background-color:  #c3d5f4;\n",
              "            color:  #000000;\n",
              "        }    #T_dee204fa_e342_11ea_adb8_0242ac1c0002row9_col0 {\n",
              "            background-color:  #3e51c5;\n",
              "            color:  #f1f1f1;\n",
              "        }    #T_dee204fa_e342_11ea_adb8_0242ac1c0002row9_col1 {\n",
              "            background-color:  #f7aa8c;\n",
              "            color:  #000000;\n",
              "        }    #T_dee204fa_e342_11ea_adb8_0242ac1c0002row9_col2 {\n",
              "            background-color:  #93b5fe;\n",
              "            color:  #000000;\n",
              "        }    #T_dee204fa_e342_11ea_adb8_0242ac1c0002row9_col3 {\n",
              "            background-color:  #7699f6;\n",
              "            color:  #000000;\n",
              "        }    #T_dee204fa_e342_11ea_adb8_0242ac1c0002row9_col4 {\n",
              "            background-color:  #98b9ff;\n",
              "            color:  #000000;\n",
              "        }    #T_dee204fa_e342_11ea_adb8_0242ac1c0002row9_col5 {\n",
              "            background-color:  #bed2f6;\n",
              "            color:  #000000;\n",
              "        }    #T_dee204fa_e342_11ea_adb8_0242ac1c0002row9_col6 {\n",
              "            background-color:  #d5dbe5;\n",
              "            color:  #000000;\n",
              "        }    #T_dee204fa_e342_11ea_adb8_0242ac1c0002row9_col7 {\n",
              "            background-color:  #d5dbe5;\n",
              "            color:  #000000;\n",
              "        }    #T_dee204fa_e342_11ea_adb8_0242ac1c0002row9_col8 {\n",
              "            background-color:  #d5dbe5;\n",
              "            color:  #000000;\n",
              "        }    #T_dee204fa_e342_11ea_adb8_0242ac1c0002row9_col9 {\n",
              "            background-color:  #b40426;\n",
              "            color:  #f1f1f1;\n",
              "        }    #T_dee204fa_e342_11ea_adb8_0242ac1c0002row9_col10 {\n",
              "            background-color:  #3b4cc0;\n",
              "            color:  #f1f1f1;\n",
              "        }    #T_dee204fa_e342_11ea_adb8_0242ac1c0002row10_col0 {\n",
              "            background-color:  #5875e1;\n",
              "            color:  #000000;\n",
              "        }    #T_dee204fa_e342_11ea_adb8_0242ac1c0002row10_col1 {\n",
              "            background-color:  #3b4cc0;\n",
              "            color:  #f1f1f1;\n",
              "        }    #T_dee204fa_e342_11ea_adb8_0242ac1c0002row10_col2 {\n",
              "            background-color:  #ccd9ed;\n",
              "            color:  #000000;\n",
              "        }    #T_dee204fa_e342_11ea_adb8_0242ac1c0002row10_col3 {\n",
              "            background-color:  #a2c1ff;\n",
              "            color:  #000000;\n",
              "        }    #T_dee204fa_e342_11ea_adb8_0242ac1c0002row10_col4 {\n",
              "            background-color:  #5875e1;\n",
              "            color:  #000000;\n",
              "        }    #T_dee204fa_e342_11ea_adb8_0242ac1c0002row10_col5 {\n",
              "            background-color:  #3b4cc0;\n",
              "            color:  #f1f1f1;\n",
              "        }    #T_dee204fa_e342_11ea_adb8_0242ac1c0002row10_col6 {\n",
              "            background-color:  #88abfd;\n",
              "            color:  #000000;\n",
              "        }    #T_dee204fa_e342_11ea_adb8_0242ac1c0002row10_col7 {\n",
              "            background-color:  #88abfd;\n",
              "            color:  #000000;\n",
              "        }    #T_dee204fa_e342_11ea_adb8_0242ac1c0002row10_col8 {\n",
              "            background-color:  #88abfd;\n",
              "            color:  #000000;\n",
              "        }    #T_dee204fa_e342_11ea_adb8_0242ac1c0002row10_col9 {\n",
              "            background-color:  #3b4cc0;\n",
              "            color:  #f1f1f1;\n",
              "        }    #T_dee204fa_e342_11ea_adb8_0242ac1c0002row10_col10 {\n",
              "            background-color:  #b40426;\n",
              "            color:  #f1f1f1;\n",
              "        }</style><table id=\"T_dee204fa_e342_11ea_adb8_0242ac1c0002\" ><thead>    <tr>        <th class=\"blank level0\" ></th>        <th class=\"col_heading level0 col0\" >PassengerId</th>        <th class=\"col_heading level0 col1\" >Survived</th>        <th class=\"col_heading level0 col2\" >Pclass</th>        <th class=\"col_heading level0 col3\" >Age</th>        <th class=\"col_heading level0 col4\" >SibSp</th>        <th class=\"col_heading level0 col5\" >Parch</th>        <th class=\"col_heading level0 col6\" >Fare</th>        <th class=\"col_heading level0 col7\" >fare_scaled</th>        <th class=\"col_heading level0 col8\" >normalized_fare</th>        <th class=\"col_heading level0 col9\" >female</th>        <th class=\"col_heading level0 col10\" >male</th>    </tr></thead><tbody>\n",
              "                <tr>\n",
              "                        <th id=\"T_dee204fa_e342_11ea_adb8_0242ac1c0002level0_row0\" class=\"row_heading level0 row0\" >PassengerId</th>\n",
              "                        <td id=\"T_dee204fa_e342_11ea_adb8_0242ac1c0002row0_col0\" class=\"data row0 col0\" >1.00</td>\n",
              "                        <td id=\"T_dee204fa_e342_11ea_adb8_0242ac1c0002row0_col1\" class=\"data row0 col1\" >-0.01</td>\n",
              "                        <td id=\"T_dee204fa_e342_11ea_adb8_0242ac1c0002row0_col2\" class=\"data row0 col2\" >-0.04</td>\n",
              "                        <td id=\"T_dee204fa_e342_11ea_adb8_0242ac1c0002row0_col3\" class=\"data row0 col3\" >0.03</td>\n",
              "                        <td id=\"T_dee204fa_e342_11ea_adb8_0242ac1c0002row0_col4\" class=\"data row0 col4\" >-0.06</td>\n",
              "                        <td id=\"T_dee204fa_e342_11ea_adb8_0242ac1c0002row0_col5\" class=\"data row0 col5\" >-0.00</td>\n",
              "                        <td id=\"T_dee204fa_e342_11ea_adb8_0242ac1c0002row0_col6\" class=\"data row0 col6\" >0.01</td>\n",
              "                        <td id=\"T_dee204fa_e342_11ea_adb8_0242ac1c0002row0_col7\" class=\"data row0 col7\" >0.01</td>\n",
              "                        <td id=\"T_dee204fa_e342_11ea_adb8_0242ac1c0002row0_col8\" class=\"data row0 col8\" >0.01</td>\n",
              "                        <td id=\"T_dee204fa_e342_11ea_adb8_0242ac1c0002row0_col9\" class=\"data row0 col9\" >-0.04</td>\n",
              "                        <td id=\"T_dee204fa_e342_11ea_adb8_0242ac1c0002row0_col10\" class=\"data row0 col10\" >0.04</td>\n",
              "            </tr>\n",
              "            <tr>\n",
              "                        <th id=\"T_dee204fa_e342_11ea_adb8_0242ac1c0002level0_row1\" class=\"row_heading level0 row1\" >Survived</th>\n",
              "                        <td id=\"T_dee204fa_e342_11ea_adb8_0242ac1c0002row1_col0\" class=\"data row1 col0\" >-0.01</td>\n",
              "                        <td id=\"T_dee204fa_e342_11ea_adb8_0242ac1c0002row1_col1\" class=\"data row1 col1\" >1.00</td>\n",
              "                        <td id=\"T_dee204fa_e342_11ea_adb8_0242ac1c0002row1_col2\" class=\"data row1 col2\" >-0.34</td>\n",
              "                        <td id=\"T_dee204fa_e342_11ea_adb8_0242ac1c0002row1_col3\" class=\"data row1 col3\" >-0.07</td>\n",
              "                        <td id=\"T_dee204fa_e342_11ea_adb8_0242ac1c0002row1_col4\" class=\"data row1 col4\" >-0.04</td>\n",
              "                        <td id=\"T_dee204fa_e342_11ea_adb8_0242ac1c0002row1_col5\" class=\"data row1 col5\" >0.08</td>\n",
              "                        <td id=\"T_dee204fa_e342_11ea_adb8_0242ac1c0002row1_col6\" class=\"data row1 col6\" >0.26</td>\n",
              "                        <td id=\"T_dee204fa_e342_11ea_adb8_0242ac1c0002row1_col7\" class=\"data row1 col7\" >0.26</td>\n",
              "                        <td id=\"T_dee204fa_e342_11ea_adb8_0242ac1c0002row1_col8\" class=\"data row1 col8\" >0.26</td>\n",
              "                        <td id=\"T_dee204fa_e342_11ea_adb8_0242ac1c0002row1_col9\" class=\"data row1 col9\" >0.54</td>\n",
              "                        <td id=\"T_dee204fa_e342_11ea_adb8_0242ac1c0002row1_col10\" class=\"data row1 col10\" >-0.54</td>\n",
              "            </tr>\n",
              "            <tr>\n",
              "                        <th id=\"T_dee204fa_e342_11ea_adb8_0242ac1c0002level0_row2\" class=\"row_heading level0 row2\" >Pclass</th>\n",
              "                        <td id=\"T_dee204fa_e342_11ea_adb8_0242ac1c0002row2_col0\" class=\"data row2 col0\" >-0.04</td>\n",
              "                        <td id=\"T_dee204fa_e342_11ea_adb8_0242ac1c0002row2_col1\" class=\"data row2 col1\" >-0.34</td>\n",
              "                        <td id=\"T_dee204fa_e342_11ea_adb8_0242ac1c0002row2_col2\" class=\"data row2 col2\" >1.00</td>\n",
              "                        <td id=\"T_dee204fa_e342_11ea_adb8_0242ac1c0002row2_col3\" class=\"data row2 col3\" >-0.33</td>\n",
              "                        <td id=\"T_dee204fa_e342_11ea_adb8_0242ac1c0002row2_col4\" class=\"data row2 col4\" >0.08</td>\n",
              "                        <td id=\"T_dee204fa_e342_11ea_adb8_0242ac1c0002row2_col5\" class=\"data row2 col5\" >0.02</td>\n",
              "                        <td id=\"T_dee204fa_e342_11ea_adb8_0242ac1c0002row2_col6\" class=\"data row2 col6\" >-0.55</td>\n",
              "                        <td id=\"T_dee204fa_e342_11ea_adb8_0242ac1c0002row2_col7\" class=\"data row2 col7\" >-0.55</td>\n",
              "                        <td id=\"T_dee204fa_e342_11ea_adb8_0242ac1c0002row2_col8\" class=\"data row2 col8\" >-0.55</td>\n",
              "                        <td id=\"T_dee204fa_e342_11ea_adb8_0242ac1c0002row2_col9\" class=\"data row2 col9\" >-0.13</td>\n",
              "                        <td id=\"T_dee204fa_e342_11ea_adb8_0242ac1c0002row2_col10\" class=\"data row2 col10\" >0.13</td>\n",
              "            </tr>\n",
              "            <tr>\n",
              "                        <th id=\"T_dee204fa_e342_11ea_adb8_0242ac1c0002level0_row3\" class=\"row_heading level0 row3\" >Age</th>\n",
              "                        <td id=\"T_dee204fa_e342_11ea_adb8_0242ac1c0002row3_col0\" class=\"data row3 col0\" >0.03</td>\n",
              "                        <td id=\"T_dee204fa_e342_11ea_adb8_0242ac1c0002row3_col1\" class=\"data row3 col1\" >-0.07</td>\n",
              "                        <td id=\"T_dee204fa_e342_11ea_adb8_0242ac1c0002row3_col2\" class=\"data row3 col2\" >-0.33</td>\n",
              "                        <td id=\"T_dee204fa_e342_11ea_adb8_0242ac1c0002row3_col3\" class=\"data row3 col3\" >1.00</td>\n",
              "                        <td id=\"T_dee204fa_e342_11ea_adb8_0242ac1c0002row3_col4\" class=\"data row3 col4\" >-0.23</td>\n",
              "                        <td id=\"T_dee204fa_e342_11ea_adb8_0242ac1c0002row3_col5\" class=\"data row3 col5\" >-0.18</td>\n",
              "                        <td id=\"T_dee204fa_e342_11ea_adb8_0242ac1c0002row3_col6\" class=\"data row3 col6\" >0.09</td>\n",
              "                        <td id=\"T_dee204fa_e342_11ea_adb8_0242ac1c0002row3_col7\" class=\"data row3 col7\" >0.09</td>\n",
              "                        <td id=\"T_dee204fa_e342_11ea_adb8_0242ac1c0002row3_col8\" class=\"data row3 col8\" >0.09</td>\n",
              "                        <td id=\"T_dee204fa_e342_11ea_adb8_0242ac1c0002row3_col9\" class=\"data row3 col9\" >-0.08</td>\n",
              "                        <td id=\"T_dee204fa_e342_11ea_adb8_0242ac1c0002row3_col10\" class=\"data row3 col10\" >0.08</td>\n",
              "            </tr>\n",
              "            <tr>\n",
              "                        <th id=\"T_dee204fa_e342_11ea_adb8_0242ac1c0002level0_row4\" class=\"row_heading level0 row4\" >SibSp</th>\n",
              "                        <td id=\"T_dee204fa_e342_11ea_adb8_0242ac1c0002row4_col0\" class=\"data row4 col0\" >-0.06</td>\n",
              "                        <td id=\"T_dee204fa_e342_11ea_adb8_0242ac1c0002row4_col1\" class=\"data row4 col1\" >-0.04</td>\n",
              "                        <td id=\"T_dee204fa_e342_11ea_adb8_0242ac1c0002row4_col2\" class=\"data row4 col2\" >0.08</td>\n",
              "                        <td id=\"T_dee204fa_e342_11ea_adb8_0242ac1c0002row4_col3\" class=\"data row4 col3\" >-0.23</td>\n",
              "                        <td id=\"T_dee204fa_e342_11ea_adb8_0242ac1c0002row4_col4\" class=\"data row4 col4\" >1.00</td>\n",
              "                        <td id=\"T_dee204fa_e342_11ea_adb8_0242ac1c0002row4_col5\" class=\"data row4 col5\" >0.41</td>\n",
              "                        <td id=\"T_dee204fa_e342_11ea_adb8_0242ac1c0002row4_col6\" class=\"data row4 col6\" >0.16</td>\n",
              "                        <td id=\"T_dee204fa_e342_11ea_adb8_0242ac1c0002row4_col7\" class=\"data row4 col7\" >0.16</td>\n",
              "                        <td id=\"T_dee204fa_e342_11ea_adb8_0242ac1c0002row4_col8\" class=\"data row4 col8\" >0.16</td>\n",
              "                        <td id=\"T_dee204fa_e342_11ea_adb8_0242ac1c0002row4_col9\" class=\"data row4 col9\" >0.11</td>\n",
              "                        <td id=\"T_dee204fa_e342_11ea_adb8_0242ac1c0002row4_col10\" class=\"data row4 col10\" >-0.11</td>\n",
              "            </tr>\n",
              "            <tr>\n",
              "                        <th id=\"T_dee204fa_e342_11ea_adb8_0242ac1c0002level0_row5\" class=\"row_heading level0 row5\" >Parch</th>\n",
              "                        <td id=\"T_dee204fa_e342_11ea_adb8_0242ac1c0002row5_col0\" class=\"data row5 col0\" >-0.00</td>\n",
              "                        <td id=\"T_dee204fa_e342_11ea_adb8_0242ac1c0002row5_col1\" class=\"data row5 col1\" >0.08</td>\n",
              "                        <td id=\"T_dee204fa_e342_11ea_adb8_0242ac1c0002row5_col2\" class=\"data row5 col2\" >0.02</td>\n",
              "                        <td id=\"T_dee204fa_e342_11ea_adb8_0242ac1c0002row5_col3\" class=\"data row5 col3\" >-0.18</td>\n",
              "                        <td id=\"T_dee204fa_e342_11ea_adb8_0242ac1c0002row5_col4\" class=\"data row5 col4\" >0.41</td>\n",
              "                        <td id=\"T_dee204fa_e342_11ea_adb8_0242ac1c0002row5_col5\" class=\"data row5 col5\" >1.00</td>\n",
              "                        <td id=\"T_dee204fa_e342_11ea_adb8_0242ac1c0002row5_col6\" class=\"data row5 col6\" >0.22</td>\n",
              "                        <td id=\"T_dee204fa_e342_11ea_adb8_0242ac1c0002row5_col7\" class=\"data row5 col7\" >0.22</td>\n",
              "                        <td id=\"T_dee204fa_e342_11ea_adb8_0242ac1c0002row5_col8\" class=\"data row5 col8\" >0.22</td>\n",
              "                        <td id=\"T_dee204fa_e342_11ea_adb8_0242ac1c0002row5_col9\" class=\"data row5 col9\" >0.25</td>\n",
              "                        <td id=\"T_dee204fa_e342_11ea_adb8_0242ac1c0002row5_col10\" class=\"data row5 col10\" >-0.25</td>\n",
              "            </tr>\n",
              "            <tr>\n",
              "                        <th id=\"T_dee204fa_e342_11ea_adb8_0242ac1c0002level0_row6\" class=\"row_heading level0 row6\" >Fare</th>\n",
              "                        <td id=\"T_dee204fa_e342_11ea_adb8_0242ac1c0002row6_col0\" class=\"data row6 col0\" >0.01</td>\n",
              "                        <td id=\"T_dee204fa_e342_11ea_adb8_0242ac1c0002row6_col1\" class=\"data row6 col1\" >0.26</td>\n",
              "                        <td id=\"T_dee204fa_e342_11ea_adb8_0242ac1c0002row6_col2\" class=\"data row6 col2\" >-0.55</td>\n",
              "                        <td id=\"T_dee204fa_e342_11ea_adb8_0242ac1c0002row6_col3\" class=\"data row6 col3\" >0.09</td>\n",
              "                        <td id=\"T_dee204fa_e342_11ea_adb8_0242ac1c0002row6_col4\" class=\"data row6 col4\" >0.16</td>\n",
              "                        <td id=\"T_dee204fa_e342_11ea_adb8_0242ac1c0002row6_col5\" class=\"data row6 col5\" >0.22</td>\n",
              "                        <td id=\"T_dee204fa_e342_11ea_adb8_0242ac1c0002row6_col6\" class=\"data row6 col6\" >1.00</td>\n",
              "                        <td id=\"T_dee204fa_e342_11ea_adb8_0242ac1c0002row6_col7\" class=\"data row6 col7\" >1.00</td>\n",
              "                        <td id=\"T_dee204fa_e342_11ea_adb8_0242ac1c0002row6_col8\" class=\"data row6 col8\" >1.00</td>\n",
              "                        <td id=\"T_dee204fa_e342_11ea_adb8_0242ac1c0002row6_col9\" class=\"data row6 col9\" >0.18</td>\n",
              "                        <td id=\"T_dee204fa_e342_11ea_adb8_0242ac1c0002row6_col10\" class=\"data row6 col10\" >-0.18</td>\n",
              "            </tr>\n",
              "            <tr>\n",
              "                        <th id=\"T_dee204fa_e342_11ea_adb8_0242ac1c0002level0_row7\" class=\"row_heading level0 row7\" >fare_scaled</th>\n",
              "                        <td id=\"T_dee204fa_e342_11ea_adb8_0242ac1c0002row7_col0\" class=\"data row7 col0\" >0.01</td>\n",
              "                        <td id=\"T_dee204fa_e342_11ea_adb8_0242ac1c0002row7_col1\" class=\"data row7 col1\" >0.26</td>\n",
              "                        <td id=\"T_dee204fa_e342_11ea_adb8_0242ac1c0002row7_col2\" class=\"data row7 col2\" >-0.55</td>\n",
              "                        <td id=\"T_dee204fa_e342_11ea_adb8_0242ac1c0002row7_col3\" class=\"data row7 col3\" >0.09</td>\n",
              "                        <td id=\"T_dee204fa_e342_11ea_adb8_0242ac1c0002row7_col4\" class=\"data row7 col4\" >0.16</td>\n",
              "                        <td id=\"T_dee204fa_e342_11ea_adb8_0242ac1c0002row7_col5\" class=\"data row7 col5\" >0.22</td>\n",
              "                        <td id=\"T_dee204fa_e342_11ea_adb8_0242ac1c0002row7_col6\" class=\"data row7 col6\" >1.00</td>\n",
              "                        <td id=\"T_dee204fa_e342_11ea_adb8_0242ac1c0002row7_col7\" class=\"data row7 col7\" >1.00</td>\n",
              "                        <td id=\"T_dee204fa_e342_11ea_adb8_0242ac1c0002row7_col8\" class=\"data row7 col8\" >1.00</td>\n",
              "                        <td id=\"T_dee204fa_e342_11ea_adb8_0242ac1c0002row7_col9\" class=\"data row7 col9\" >0.18</td>\n",
              "                        <td id=\"T_dee204fa_e342_11ea_adb8_0242ac1c0002row7_col10\" class=\"data row7 col10\" >-0.18</td>\n",
              "            </tr>\n",
              "            <tr>\n",
              "                        <th id=\"T_dee204fa_e342_11ea_adb8_0242ac1c0002level0_row8\" class=\"row_heading level0 row8\" >normalized_fare</th>\n",
              "                        <td id=\"T_dee204fa_e342_11ea_adb8_0242ac1c0002row8_col0\" class=\"data row8 col0\" >0.01</td>\n",
              "                        <td id=\"T_dee204fa_e342_11ea_adb8_0242ac1c0002row8_col1\" class=\"data row8 col1\" >0.26</td>\n",
              "                        <td id=\"T_dee204fa_e342_11ea_adb8_0242ac1c0002row8_col2\" class=\"data row8 col2\" >-0.55</td>\n",
              "                        <td id=\"T_dee204fa_e342_11ea_adb8_0242ac1c0002row8_col3\" class=\"data row8 col3\" >0.09</td>\n",
              "                        <td id=\"T_dee204fa_e342_11ea_adb8_0242ac1c0002row8_col4\" class=\"data row8 col4\" >0.16</td>\n",
              "                        <td id=\"T_dee204fa_e342_11ea_adb8_0242ac1c0002row8_col5\" class=\"data row8 col5\" >0.22</td>\n",
              "                        <td id=\"T_dee204fa_e342_11ea_adb8_0242ac1c0002row8_col6\" class=\"data row8 col6\" >1.00</td>\n",
              "                        <td id=\"T_dee204fa_e342_11ea_adb8_0242ac1c0002row8_col7\" class=\"data row8 col7\" >1.00</td>\n",
              "                        <td id=\"T_dee204fa_e342_11ea_adb8_0242ac1c0002row8_col8\" class=\"data row8 col8\" >1.00</td>\n",
              "                        <td id=\"T_dee204fa_e342_11ea_adb8_0242ac1c0002row8_col9\" class=\"data row8 col9\" >0.18</td>\n",
              "                        <td id=\"T_dee204fa_e342_11ea_adb8_0242ac1c0002row8_col10\" class=\"data row8 col10\" >-0.18</td>\n",
              "            </tr>\n",
              "            <tr>\n",
              "                        <th id=\"T_dee204fa_e342_11ea_adb8_0242ac1c0002level0_row9\" class=\"row_heading level0 row9\" >female</th>\n",
              "                        <td id=\"T_dee204fa_e342_11ea_adb8_0242ac1c0002row9_col0\" class=\"data row9 col0\" >-0.04</td>\n",
              "                        <td id=\"T_dee204fa_e342_11ea_adb8_0242ac1c0002row9_col1\" class=\"data row9 col1\" >0.54</td>\n",
              "                        <td id=\"T_dee204fa_e342_11ea_adb8_0242ac1c0002row9_col2\" class=\"data row9 col2\" >-0.13</td>\n",
              "                        <td id=\"T_dee204fa_e342_11ea_adb8_0242ac1c0002row9_col3\" class=\"data row9 col3\" >-0.08</td>\n",
              "                        <td id=\"T_dee204fa_e342_11ea_adb8_0242ac1c0002row9_col4\" class=\"data row9 col4\" >0.11</td>\n",
              "                        <td id=\"T_dee204fa_e342_11ea_adb8_0242ac1c0002row9_col5\" class=\"data row9 col5\" >0.25</td>\n",
              "                        <td id=\"T_dee204fa_e342_11ea_adb8_0242ac1c0002row9_col6\" class=\"data row9 col6\" >0.18</td>\n",
              "                        <td id=\"T_dee204fa_e342_11ea_adb8_0242ac1c0002row9_col7\" class=\"data row9 col7\" >0.18</td>\n",
              "                        <td id=\"T_dee204fa_e342_11ea_adb8_0242ac1c0002row9_col8\" class=\"data row9 col8\" >0.18</td>\n",
              "                        <td id=\"T_dee204fa_e342_11ea_adb8_0242ac1c0002row9_col9\" class=\"data row9 col9\" >1.00</td>\n",
              "                        <td id=\"T_dee204fa_e342_11ea_adb8_0242ac1c0002row9_col10\" class=\"data row9 col10\" >-1.00</td>\n",
              "            </tr>\n",
              "            <tr>\n",
              "                        <th id=\"T_dee204fa_e342_11ea_adb8_0242ac1c0002level0_row10\" class=\"row_heading level0 row10\" >male</th>\n",
              "                        <td id=\"T_dee204fa_e342_11ea_adb8_0242ac1c0002row10_col0\" class=\"data row10 col0\" >0.04</td>\n",
              "                        <td id=\"T_dee204fa_e342_11ea_adb8_0242ac1c0002row10_col1\" class=\"data row10 col1\" >-0.54</td>\n",
              "                        <td id=\"T_dee204fa_e342_11ea_adb8_0242ac1c0002row10_col2\" class=\"data row10 col2\" >0.13</td>\n",
              "                        <td id=\"T_dee204fa_e342_11ea_adb8_0242ac1c0002row10_col3\" class=\"data row10 col3\" >0.08</td>\n",
              "                        <td id=\"T_dee204fa_e342_11ea_adb8_0242ac1c0002row10_col4\" class=\"data row10 col4\" >-0.11</td>\n",
              "                        <td id=\"T_dee204fa_e342_11ea_adb8_0242ac1c0002row10_col5\" class=\"data row10 col5\" >-0.25</td>\n",
              "                        <td id=\"T_dee204fa_e342_11ea_adb8_0242ac1c0002row10_col6\" class=\"data row10 col6\" >-0.18</td>\n",
              "                        <td id=\"T_dee204fa_e342_11ea_adb8_0242ac1c0002row10_col7\" class=\"data row10 col7\" >-0.18</td>\n",
              "                        <td id=\"T_dee204fa_e342_11ea_adb8_0242ac1c0002row10_col8\" class=\"data row10 col8\" >-0.18</td>\n",
              "                        <td id=\"T_dee204fa_e342_11ea_adb8_0242ac1c0002row10_col9\" class=\"data row10 col9\" >-1.00</td>\n",
              "                        <td id=\"T_dee204fa_e342_11ea_adb8_0242ac1c0002row10_col10\" class=\"data row10 col10\" >1.00</td>\n",
              "            </tr>\n",
              "    </tbody></table>"
            ],
            "text/plain": [
              "<pandas.io.formats.style.Styler at 0x7ff1a689d630>"
            ]
          },
          "metadata": {
            "tags": []
          },
          "execution_count": 180
        }
      ]
    },
    {
      "cell_type": "code",
      "metadata": {
        "id": "VfXpcz0TDgvk"
      },
      "source": [
        "corr_spearman = x.apply(lambda x : x.corr(y, method='spearman'))"
      ],
      "execution_count": null,
      "outputs": []
    },
    {
      "cell_type": "code",
      "metadata": {
        "id": "s8oZClt3Dto-"
      },
      "source": [
        "ind_spearman = np.argsort(corr_spearman)"
      ],
      "execution_count": null,
      "outputs": []
    },
    {
      "cell_type": "code",
      "metadata": {
        "id": "8EQM1n8HD15x",
        "colab": {
          "base_uri": "https://localhost:8080/",
          "height": 68
        },
        "outputId": "d23ad72d-6d7d-4193-9ed4-6b7b37026676"
      },
      "source": [
        "print(corr_spearman[ind_spearman])"
      ],
      "execution_count": null,
      "outputs": [
        {
          "output_type": "stream",
          "text": [
            "Age    -0.039109\n",
            "Fare    0.323736\n",
            "dtype: float64\n"
          ],
          "name": "stdout"
        }
      ]
    },
    {
      "cell_type": "code",
      "metadata": {
        "id": "o7C8YqqWETNu"
      },
      "source": [
        "from sklearn.feature_selection import RFE"
      ],
      "execution_count": null,
      "outputs": []
    },
    {
      "cell_type": "code",
      "metadata": {
        "id": "fxSgBFmREcfc"
      },
      "source": [
        "model_RFE = LogisticRegression()"
      ],
      "execution_count": null,
      "outputs": []
    },
    {
      "cell_type": "code",
      "metadata": {
        "id": "DHB59yGnEkx9"
      },
      "source": [
        "rfe = RFE(model_RFE,2)"
      ],
      "execution_count": null,
      "outputs": []
    },
    {
      "cell_type": "code",
      "metadata": {
        "id": "DWOttCKpEt6s"
      },
      "source": [
        "fit = rfe.fit(x,y)"
      ],
      "execution_count": null,
      "outputs": []
    },
    {
      "cell_type": "code",
      "metadata": {
        "id": "y1Ube0eWEyBp",
        "colab": {
          "base_uri": "https://localhost:8080/",
          "height": 34
        },
        "outputId": "d1c7e9d5-a381-4956-c875-9923cafd6844"
      },
      "source": [
        "print(\"Numero de caracteristicas\", fit.n_features_)"
      ],
      "execution_count": null,
      "outputs": [
        {
          "output_type": "stream",
          "text": [
            "Numero de caracteristicas 2\n"
          ],
          "name": "stdout"
        }
      ]
    },
    {
      "cell_type": "code",
      "metadata": {
        "id": "RJddh1mKFC1J",
        "colab": {
          "base_uri": "https://localhost:8080/",
          "height": 34
        },
        "outputId": "1bb0bcbe-6be9-46ff-d427-8d8f15841bae"
      },
      "source": [
        "print(\"Caracteristicas selecionadas\", fit.support_)"
      ],
      "execution_count": null,
      "outputs": [
        {
          "output_type": "stream",
          "text": [
            "Caracteristicas selecionadas [ True  True]\n"
          ],
          "name": "stdout"
        }
      ]
    },
    {
      "cell_type": "code",
      "metadata": {
        "id": "Gxbdf5UQFy2_"
      },
      "source": [
        "from sklearn.model_selection import train_test_split"
      ],
      "execution_count": null,
      "outputs": []
    },
    {
      "cell_type": "code",
      "metadata": {
        "id": "0PUXlpOJGHD9"
      },
      "source": [
        "x_train, x_test, y_train, y_test = train_test_split(x,y, test_size=0.4)"
      ],
      "execution_count": null,
      "outputs": []
    },
    {
      "cell_type": "code",
      "metadata": {
        "id": "AlTVBukfGctj"
      },
      "source": [
        "from xgboost import XGBClassifier"
      ],
      "execution_count": null,
      "outputs": []
    },
    {
      "cell_type": "code",
      "metadata": {
        "id": "VS8VI-HkHuVi"
      },
      "source": [
        "model_arv = XGBClassifier()"
      ],
      "execution_count": null,
      "outputs": []
    },
    {
      "cell_type": "code",
      "metadata": {
        "id": "RKH8BKGxH6Cn",
        "colab": {
          "base_uri": "https://localhost:8080/",
          "height": 136
        },
        "outputId": "c506327d-c1a0-4f56-a564-50f8670eda7b"
      },
      "source": [
        "model_arv.fit(x_train,y_train)"
      ],
      "execution_count": null,
      "outputs": [
        {
          "output_type": "execute_result",
          "data": {
            "text/plain": [
              "XGBClassifier(base_score=0.5, booster='gbtree', colsample_bylevel=1,\n",
              "              colsample_bynode=1, colsample_bytree=1, gamma=0,\n",
              "              learning_rate=0.1, max_delta_step=0, max_depth=3,\n",
              "              min_child_weight=1, missing=None, n_estimators=100, n_jobs=1,\n",
              "              nthread=None, objective='binary:logistic', random_state=0,\n",
              "              reg_alpha=0, reg_lambda=1, scale_pos_weight=1, seed=None,\n",
              "              silent=None, subsample=1, verbosity=1)"
            ]
          },
          "metadata": {
            "tags": []
          },
          "execution_count": 194
        }
      ]
    },
    {
      "cell_type": "code",
      "metadata": {
        "id": "xBYY6DH4IGiF"
      },
      "source": [
        "y_predict = model_arv.predict(x_test)"
      ],
      "execution_count": null,
      "outputs": []
    },
    {
      "cell_type": "code",
      "metadata": {
        "id": "4n3cRxGHInAG"
      },
      "source": [
        "from sklearn.metrics import accuracy_score"
      ],
      "execution_count": null,
      "outputs": []
    },
    {
      "cell_type": "code",
      "metadata": {
        "id": "iq4m6jXQIuT3"
      },
      "source": [
        "acc = accuracy_score(y_test, y_predict)"
      ],
      "execution_count": null,
      "outputs": []
    },
    {
      "cell_type": "code",
      "metadata": {
        "id": "RQ_AyzwmJAI4",
        "colab": {
          "base_uri": "https://localhost:8080/",
          "height": 34
        },
        "outputId": "6a44c303-799e-43cf-b7a8-3949edabcec3"
      },
      "source": [
        "acc"
      ],
      "execution_count": null,
      "outputs": [
        {
          "output_type": "execute_result",
          "data": {
            "text/plain": [
              "0.6946778711484594"
            ]
          },
          "metadata": {
            "tags": []
          },
          "execution_count": 198
        }
      ]
    },
    {
      "cell_type": "code",
      "metadata": {
        "id": "tned0WbKRCI4"
      },
      "source": [
        "from sklearn.decomposition import PCA"
      ],
      "execution_count": null,
      "outputs": []
    },
    {
      "cell_type": "code",
      "metadata": {
        "id": "vw4NPuLxRHUS"
      },
      "source": [
        "pca = PCA(n_components=1)"
      ],
      "execution_count": null,
      "outputs": []
    },
    {
      "cell_type": "code",
      "metadata": {
        "id": "6_RhZLT-Rc_Z",
        "colab": {
          "base_uri": "https://localhost:8080/",
          "height": 51
        },
        "outputId": "fadf4038-a055-4dac-daa1-34a1f3323a38"
      },
      "source": [
        "pca.fit(data_frame[['Fare', 'Age']])"
      ],
      "execution_count": null,
      "outputs": [
        {
          "output_type": "execute_result",
          "data": {
            "text/plain": [
              "PCA(copy=True, iterated_power='auto', n_components=1, random_state=None,\n",
              "    svd_solver='auto', tol=0.0, whiten=False)"
            ]
          },
          "metadata": {
            "tags": []
          },
          "execution_count": 201
        }
      ]
    },
    {
      "cell_type": "code",
      "metadata": {
        "id": "cZ82Ljj6RgEl"
      },
      "source": [
        "fare_age = pca.transform(x[['Fare', 'Age']])"
      ],
      "execution_count": null,
      "outputs": []
    },
    {
      "cell_type": "code",
      "metadata": {
        "id": "IBQYwogEV_Ni",
        "colab": {
          "base_uri": "https://localhost:8080/",
          "height": 119
        },
        "outputId": "b6d1aec5-1cd6-4d97-bd1e-a38dd3e8bbd3"
      },
      "source": [
        "x['fare_age'] = fare_age"
      ],
      "execution_count": null,
      "outputs": [
        {
          "output_type": "stream",
          "text": [
            "/usr/local/lib/python3.6/dist-packages/ipykernel_launcher.py:1: SettingWithCopyWarning: \n",
            "A value is trying to be set on a copy of a slice from a DataFrame.\n",
            "Try using .loc[row_indexer,col_indexer] = value instead\n",
            "\n",
            "See the caveats in the documentation: https://pandas.pydata.org/pandas-docs/stable/user_guide/indexing.html#returning-a-view-versus-a-copy\n",
            "  \"\"\"Entry point for launching an IPython kernel.\n"
          ],
          "name": "stderr"
        }
      ]
    },
    {
      "cell_type": "code",
      "metadata": {
        "id": "yJoHLsDySh_D",
        "colab": {
          "base_uri": "https://localhost:8080/",
          "height": 102
        },
        "outputId": "0bf51f40-0779-47f8-a35e-c927cc6e9c6f"
      },
      "source": [
        "x.drop(['Age', 'Fare'], axis=1,inplace=True)"
      ],
      "execution_count": null,
      "outputs": [
        {
          "output_type": "stream",
          "text": [
            "/usr/local/lib/python3.6/dist-packages/pandas/core/frame.py:3997: SettingWithCopyWarning: \n",
            "A value is trying to be set on a copy of a slice from a DataFrame\n",
            "\n",
            "See the caveats in the documentation: https://pandas.pydata.org/pandas-docs/stable/user_guide/indexing.html#returning-a-view-versus-a-copy\n",
            "  errors=errors,\n"
          ],
          "name": "stderr"
        }
      ]
    },
    {
      "cell_type": "code",
      "metadata": {
        "id": "GqK0bzWhTwHH",
        "colab": {
          "base_uri": "https://localhost:8080/",
          "height": 419
        },
        "outputId": "a7bc6bf0-1948-4ff3-ec72-3938081d2431"
      },
      "source": [
        "x"
      ],
      "execution_count": null,
      "outputs": [
        {
          "output_type": "execute_result",
          "data": {
            "text/html": [
              "<div>\n",
              "<style scoped>\n",
              "    .dataframe tbody tr th:only-of-type {\n",
              "        vertical-align: middle;\n",
              "    }\n",
              "\n",
              "    .dataframe tbody tr th {\n",
              "        vertical-align: top;\n",
              "    }\n",
              "\n",
              "    .dataframe thead th {\n",
              "        text-align: right;\n",
              "    }\n",
              "</style>\n",
              "<table border=\"1\" class=\"dataframe\">\n",
              "  <thead>\n",
              "    <tr style=\"text-align: right;\">\n",
              "      <th></th>\n",
              "      <th>fare_age</th>\n",
              "    </tr>\n",
              "  </thead>\n",
              "  <tbody>\n",
              "    <tr>\n",
              "      <th>0</th>\n",
              "      <td>-25.143783</td>\n",
              "    </tr>\n",
              "    <tr>\n",
              "      <th>1</th>\n",
              "      <td>39.279465</td>\n",
              "    </tr>\n",
              "    <tr>\n",
              "      <th>2</th>\n",
              "      <td>-24.366234</td>\n",
              "    </tr>\n",
              "    <tr>\n",
              "      <th>3</th>\n",
              "      <td>21.025089</td>\n",
              "    </tr>\n",
              "    <tr>\n",
              "      <th>4</th>\n",
              "      <td>-24.010039</td>\n",
              "    </tr>\n",
              "    <tr>\n",
              "      <th>...</th>\n",
              "      <td>...</td>\n",
              "    </tr>\n",
              "    <tr>\n",
              "      <th>886</th>\n",
              "      <td>-19.267217</td>\n",
              "    </tr>\n",
              "    <tr>\n",
              "      <th>887</th>\n",
              "      <td>-2.478372</td>\n",
              "    </tr>\n",
              "    <tr>\n",
              "      <th>888</th>\n",
              "      <td>-8.751318</td>\n",
              "    </tr>\n",
              "    <tr>\n",
              "      <th>889</th>\n",
              "      <td>-2.298521</td>\n",
              "    </tr>\n",
              "    <tr>\n",
              "      <th>890</th>\n",
              "      <td>-24.387019</td>\n",
              "    </tr>\n",
              "  </tbody>\n",
              "</table>\n",
              "<p>891 rows × 1 columns</p>\n",
              "</div>"
            ],
            "text/plain": [
              "      fare_age\n",
              "0   -25.143783\n",
              "1    39.279465\n",
              "2   -24.366234\n",
              "3    21.025089\n",
              "4   -24.010039\n",
              "..         ...\n",
              "886 -19.267217\n",
              "887  -2.478372\n",
              "888  -8.751318\n",
              "889  -2.298521\n",
              "890 -24.387019\n",
              "\n",
              "[891 rows x 1 columns]"
            ]
          },
          "metadata": {
            "tags": []
          },
          "execution_count": 205
        }
      ]
    },
    {
      "cell_type": "code",
      "metadata": {
        "id": "hUyhsKnmVvAy"
      },
      "source": [
        "import seaborn as sns"
      ],
      "execution_count": null,
      "outputs": []
    },
    {
      "cell_type": "code",
      "metadata": {
        "id": "QHBRGJSuVxuO",
        "colab": {
          "base_uri": "https://localhost:8080/",
          "height": 386
        },
        "outputId": "d9a3b63a-9e25-4bff-9f55-820a28055e42"
      },
      "source": [
        "sns.lmplot(x=\"Age\", y=\"Fare\", data=data_frame)"
      ],
      "execution_count": null,
      "outputs": [
        {
          "output_type": "execute_result",
          "data": {
            "text/plain": [
              "<seaborn.axisgrid.FacetGrid at 0x7ff190405fd0>"
            ]
          },
          "metadata": {
            "tags": []
          },
          "execution_count": 209
        },
        {
          "output_type": "display_data",
          "data": {
            "image/png": "[encoded data removed]",
            "text/plain": [
              "<Figure size 360x360 with 1 Axes>"
            ]
          },
          "metadata": {
            "tags": [],
            "needs_background": "light"
          }
        }
      ]
    }
  ]
}