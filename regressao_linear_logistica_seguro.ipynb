{
  "nbformat": 4,
  "nbformat_minor": 0,
  "metadata": {
    "colab": {
      "name": "regressao_linear_logistica_seguro.ipynb",
      "provenance": [],
      "include_colab_link": true
    },
    "kernelspec": {
      "name": "python3",
      "display_name": "Python 3"
    }
  },
  "cells": [
    {
      "cell_type": "markdown",
      "metadata": {
        "id": "view-in-github",
        "colab_type": "text"
      },
      "source": [
        "<a href=\"https://colab.research.google.com/github/LeonardoCechellaVelho/machine-learning/blob/master/regressao_linear_logistica_seguro.ipynb\" target=\"_parent\"><img src=\"https://colab.research.google.com/assets/colab-badge.svg\" alt=\"Open In Colab\"/></a>"
      ]
    },
    {
      "cell_type": "markdown",
      "metadata": {
        "id": "YCThn3d5xb_c"
      },
      "source": [
        "------------------REGRESSÃO LINEAR------------------------\n",
        "\n",
        "Neste desafio vamos passar por todo o processo de pré-processamento e criação de um modelo de aprendizado (regressão linear) de máquina no famoso conjunto de dados seguro de saúde, que é usado em competições de Machine Learning. Neste dataset você pode encontrar 6 atributos sobre pessoas e seus respectivos preços para o plano de saúde.\n",
        "\n",
        "**Objetivo:** É seu trabalho como engenheiro da computação prever o preço do seguro de uma pessoa, ou seja, criar um modelo para isso.\n",
        "\n",
        "**Itens que você deve cumprir:**\n",
        "\n",
        "\n",
        "\n",
        "*   Apresentar os dados do dataset (info,describe, head) \n",
        "\n",
        "*   Realizar analises exploratorias, verificando possíveis dados faltantes e transformações.\n",
        "\n",
        "*   Aplicar técnicas de pré-processamento (substituir dados faltantes pelas médias, transformação de dados categóricos)\n",
        "\n",
        "*   Verificar a correlação entre as variáveis\n",
        "\n",
        "\n",
        "*   Criar um modelo utilizando regressão linear, treinar esse modelo e fazer a previsão.\n",
        "\n",
        "\n",
        "*   Com base na previsão verificar o \"score , R2\" para avaliar o modelo\n",
        "\n",
        "\n",
        "\n",
        "*   Utilizar o modelo para prever o quanto você pagaria de seguro. \n",
        "\n",
        "\n",
        "------------------REGRESSÃO LOGÍSTICA ------------------------\n",
        "\n",
        "Neste desafio vamos passar por todo o processo de pré-processamento e criação de um modelo de aprendizado (regressão linear) de máquina no famoso conjunto de dados sobre a possibilidade de ataque cardíaco, que é usado em competições de Machine Learning. Este dataset contém 14 atributos, o campo \"target\" refere-se à presença de doença cardíaca no paciente. É um número inteiro com valor 0 = nenhuma / menos chance de ataque cardíaco e 1 = mais chance de ataque cardíaco\n",
        "\n",
        "Informação de Atributo\n",
        "\n",
        "1) idade\n",
        "\n",
        "2) sexo\n",
        "\n",
        "3) tipo de dor no peito (4 valores)\n",
        "\n",
        "4) pressão arterial em repouso\n",
        "\n",
        "5) colesterol sérico em mg / dl\n",
        "\n",
        "6) açúcar no sangue em jejum> 120 mg / dl\n",
        "\n",
        "7) resultados eletrocardiográficos de repouso (valores 0,1,2)\n",
        "\n",
        "8) frequência cardíaca máxima alcançada\n",
        "\n",
        "9) angina induzida por exercício\n",
        "\n",
        "10) pico antigo = depressão de ST induzida por exercício em relação ao repouso\n",
        "\n",
        "11) a inclinação do segmento ST de pico de exercício\n",
        "\n",
        "12) número de vasos principais (0-3) coloridos por fluorosopia\n",
        "\n",
        "13) thal: 0 = normal; 1 = defeito corrigido; 2 = defeito reversível\n",
        "\n",
        "14) alvo: 0 = menos chance de ataque cardíaco 1 = mais chance de ataque cardíaco\n",
        "\n",
        "Objetivo: É seu trabalho como engenheiro da computação prever se pessoa é propensa a ter um ataque cardíaco, ou seja, criar um modelo para isso.\n",
        "\n",
        "\n",
        "**Itens que você deve cumprir:**\n",
        "\n",
        "\n",
        "*   Apresentar os dados do dataset (info,describe, head) \n",
        "\n",
        "*   Realizar analises exploratorias, verificando possíveis dados faltantes e transformações.\n",
        "\n",
        "\n",
        "*   Verificar a correlação entre as variáveis\n",
        "\n",
        "\n",
        "*   Criar um modelo utilizando regressão l´gística, treinar esse modelo e fazer a previsão.\n",
        "\n",
        "\n",
        "*   Com base na previsão verificar o \"score , R2\" para avaliar o modelo\n",
        "\n",
        "\n",
        "\n"
      ]
    },
    {
      "cell_type": "code",
      "metadata": {
        "id": "0wy_-k3Qh4h1",
        "colab": {
          "base_uri": "https://localhost:8080/",
          "height": 71
        },
        "outputId": "2780ef7c-d85f-4ca7-d6b9-28e5d52a1af2"
      },
      "source": [
        "import pandas as pd #biblioteca utilizada para o tratamento de dados via dataframes \n",
        "import numpy as np #biblioteca utilizada para o tratamento de valores numéricos (vetores e matrizes)\n",
        "import matplotlib.pyplot as plt #biblioteca utilizada para construir os gráficos\n",
        "import seaborn as sns #biblioteca utilizada para construir os gráficos\n",
        "from sklearn.linear_model import LogisticRegression # biblioteca para regressão logística \n",
        "from sklearn.decomposition import PCA #biblioteca para PCA\n",
        "from sklearn.feature_selection import RFE #biblioteca para aplicação RFE\n",
        "from sklearn.preprocessing import LabelEncoder\n",
        "from sklearn.linear_model import LinearRegression #importa o modelo de regressão linear univariada\n",
        "from sklearn.metrics import r2_score #método para o cálculo do R2 (coeficiente de determinação)\n",
        "from sklearn import preprocessing"
      ],
      "execution_count": null,
      "outputs": [
        {
          "output_type": "stream",
          "text": [
            "/usr/local/lib/python3.6/dist-packages/statsmodels/tools/_testing.py:19: FutureWarning: pandas.util.testing is deprecated. Use the functions in the public API at pandas.testing instead.\n",
            "  import pandas.util.testing as tm\n"
          ],
          "name": "stderr"
        }
      ]
    },
    {
      "cell_type": "markdown",
      "metadata": {
        "id": "rjimxpD_52dd"
      },
      "source": [
        "**Dataset insuracance.csv ----- REGRESSÃO LINEAR ------------**"
      ]
    },
    {
      "cell_type": "code",
      "metadata": {
        "id": "TlNRTRIbisxv",
        "colab": {
          "resources": {
            "http://localhost:8080/nbextensions/google.colab/files.js": {
              "data": "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",
              "ok": true,
              "headers": [
                [
                  "content-type",
                  "application/javascript"
                ]
              ],
              "status": 200,
              "status_text": ""
            }
          },
          "base_uri": "https://localhost:8080/",
          "height": 72
        },
        "outputId": "e52c68a2-15c7-41f3-ee38-5458ee853087"
      },
      "source": [
        "from google.colab import files  #biblioteca utilizada para carregar os dados para o google colab\n",
        "uploaded = files.upload()"
      ],
      "execution_count": null,
      "outputs": [
        {
          "output_type": "display_data",
          "data": {
            "text/html": [
              "\n",
              "     <input type=\"file\" id=\"files-51e38fad-8971-491b-a8bb-79ca6d9e2763\" name=\"files[]\" multiple disabled\n",
              "        style=\"border:none\" />\n",
              "     <output id=\"result-51e38fad-8971-491b-a8bb-79ca6d9e2763\">\n",
              "      Upload widget is only available when the cell has been executed in the\n",
              "      current browser session. Please rerun this cell to enable.\n",
              "      </output>\n",
              "      <script src=\"/nbextensions/google.colab/files.js\"></script> "
            ],
            "text/plain": [
              "<IPython.core.display.HTML object>"
            ]
          },
          "metadata": {
            "tags": []
          }
        },
        {
          "output_type": "stream",
          "text": [
            "Saving insurance.csv to insurance.csv\n"
          ],
          "name": "stdout"
        }
      ]
    },
    {
      "cell_type": "markdown",
      "metadata": {
        "id": "q1UpbAAl15bS"
      },
      "source": [
        "**Apresentar informações sobre o dataset (head,info,describe)**"
      ]
    },
    {
      "cell_type": "code",
      "metadata": {
        "id": "ZG_DbGTY2DcK"
      },
      "source": [
        "nome_do_arquivo=\"insurance.csv\" \n",
        "dataframe = pd.read_csv(nome_do_arquivo)"
      ],
      "execution_count": null,
      "outputs": []
    },
    {
      "cell_type": "code",
      "metadata": {
        "id": "ij4BZ6ob2Dl9",
        "colab": {
          "base_uri": "https://localhost:8080/",
          "height": 204
        },
        "outputId": "d59c8271-2a49-44d6-bceb-54ee2733ee0c"
      },
      "source": [
        "dataframe.head()"
      ],
      "execution_count": null,
      "outputs": [
        {
          "output_type": "execute_result",
          "data": {
            "text/html": [
              "<div>\n",
              "<style scoped>\n",
              "    .dataframe tbody tr th:only-of-type {\n",
              "        vertical-align: middle;\n",
              "    }\n",
              "\n",
              "    .dataframe tbody tr th {\n",
              "        vertical-align: top;\n",
              "    }\n",
              "\n",
              "    .dataframe thead th {\n",
              "        text-align: right;\n",
              "    }\n",
              "</style>\n",
              "<table border=\"1\" class=\"dataframe\">\n",
              "  <thead>\n",
              "    <tr style=\"text-align: right;\">\n",
              "      <th></th>\n",
              "      <th>age</th>\n",
              "      <th>sex</th>\n",
              "      <th>bmi</th>\n",
              "      <th>children</th>\n",
              "      <th>smoker</th>\n",
              "      <th>region</th>\n",
              "      <th>charges</th>\n",
              "    </tr>\n",
              "  </thead>\n",
              "  <tbody>\n",
              "    <tr>\n",
              "      <th>0</th>\n",
              "      <td>19.0</td>\n",
              "      <td>female</td>\n",
              "      <td>27.900</td>\n",
              "      <td>0</td>\n",
              "      <td>yes</td>\n",
              "      <td>southwest</td>\n",
              "      <td>16884.92400</td>\n",
              "    </tr>\n",
              "    <tr>\n",
              "      <th>1</th>\n",
              "      <td>18.0</td>\n",
              "      <td>male</td>\n",
              "      <td>33.770</td>\n",
              "      <td>1</td>\n",
              "      <td>no</td>\n",
              "      <td>southeast</td>\n",
              "      <td>1725.55230</td>\n",
              "    </tr>\n",
              "    <tr>\n",
              "      <th>2</th>\n",
              "      <td>28.0</td>\n",
              "      <td>male</td>\n",
              "      <td>33.000</td>\n",
              "      <td>3</td>\n",
              "      <td>no</td>\n",
              "      <td>southeast</td>\n",
              "      <td>4449.46200</td>\n",
              "    </tr>\n",
              "    <tr>\n",
              "      <th>3</th>\n",
              "      <td>33.0</td>\n",
              "      <td>male</td>\n",
              "      <td>22.705</td>\n",
              "      <td>0</td>\n",
              "      <td>no</td>\n",
              "      <td>northwest</td>\n",
              "      <td>21984.47061</td>\n",
              "    </tr>\n",
              "    <tr>\n",
              "      <th>4</th>\n",
              "      <td>32.0</td>\n",
              "      <td>male</td>\n",
              "      <td>28.880</td>\n",
              "      <td>0</td>\n",
              "      <td>no</td>\n",
              "      <td>northwest</td>\n",
              "      <td>3866.85520</td>\n",
              "    </tr>\n",
              "  </tbody>\n",
              "</table>\n",
              "</div>"
            ],
            "text/plain": [
              "    age     sex     bmi  children smoker     region      charges\n",
              "0  19.0  female  27.900         0    yes  southwest  16884.92400\n",
              "1  18.0    male  33.770         1     no  southeast   1725.55230\n",
              "2  28.0    male  33.000         3     no  southeast   4449.46200\n",
              "3  33.0    male  22.705         0     no  northwest  21984.47061\n",
              "4  32.0    male  28.880         0     no  northwest   3866.85520"
            ]
          },
          "metadata": {
            "tags": []
          },
          "execution_count": 5
        }
      ]
    },
    {
      "cell_type": "code",
      "metadata": {
        "id": "LxvNZ48G2Dw_",
        "colab": {
          "base_uri": "https://localhost:8080/",
          "height": 255
        },
        "outputId": "dc725c4b-dca9-4f18-80c9-e65b11a05619"
      },
      "source": [
        "dataframe.info()"
      ],
      "execution_count": null,
      "outputs": [
        {
          "output_type": "stream",
          "text": [
            "<class 'pandas.core.frame.DataFrame'>\n",
            "RangeIndex: 1338 entries, 0 to 1337\n",
            "Data columns (total 7 columns):\n",
            " #   Column    Non-Null Count  Dtype  \n",
            "---  ------    --------------  -----  \n",
            " 0   age       1321 non-null   float64\n",
            " 1   sex       1338 non-null   object \n",
            " 2   bmi       1338 non-null   float64\n",
            " 3   children  1338 non-null   int64  \n",
            " 4   smoker    1338 non-null   object \n",
            " 5   region    1338 non-null   object \n",
            " 6   charges   1338 non-null   float64\n",
            "dtypes: float64(3), int64(1), object(3)\n",
            "memory usage: 73.3+ KB\n"
          ],
          "name": "stdout"
        }
      ]
    },
    {
      "cell_type": "code",
      "metadata": {
        "id": "Z-8ei2iLznvu",
        "colab": {
          "base_uri": "https://localhost:8080/",
          "height": 297
        },
        "outputId": "26e08550-32ae-443c-d8f1-b3c6b74ffe1e"
      },
      "source": [
        "dataframe.describe()"
      ],
      "execution_count": null,
      "outputs": [
        {
          "output_type": "execute_result",
          "data": {
            "text/html": [
              "<div>\n",
              "<style scoped>\n",
              "    .dataframe tbody tr th:only-of-type {\n",
              "        vertical-align: middle;\n",
              "    }\n",
              "\n",
              "    .dataframe tbody tr th {\n",
              "        vertical-align: top;\n",
              "    }\n",
              "\n",
              "    .dataframe thead th {\n",
              "        text-align: right;\n",
              "    }\n",
              "</style>\n",
              "<table border=\"1\" class=\"dataframe\">\n",
              "  <thead>\n",
              "    <tr style=\"text-align: right;\">\n",
              "      <th></th>\n",
              "      <th>age</th>\n",
              "      <th>bmi</th>\n",
              "      <th>children</th>\n",
              "      <th>charges</th>\n",
              "    </tr>\n",
              "  </thead>\n",
              "  <tbody>\n",
              "    <tr>\n",
              "      <th>count</th>\n",
              "      <td>1321.000000</td>\n",
              "      <td>1338.000000</td>\n",
              "      <td>1338.000000</td>\n",
              "      <td>1338.000000</td>\n",
              "    </tr>\n",
              "    <tr>\n",
              "      <th>mean</th>\n",
              "      <td>39.248297</td>\n",
              "      <td>30.663397</td>\n",
              "      <td>1.094918</td>\n",
              "      <td>13270.422265</td>\n",
              "    </tr>\n",
              "    <tr>\n",
              "      <th>std</th>\n",
              "      <td>14.017591</td>\n",
              "      <td>6.098187</td>\n",
              "      <td>1.205493</td>\n",
              "      <td>12110.011237</td>\n",
              "    </tr>\n",
              "    <tr>\n",
              "      <th>min</th>\n",
              "      <td>18.000000</td>\n",
              "      <td>15.960000</td>\n",
              "      <td>0.000000</td>\n",
              "      <td>1121.873900</td>\n",
              "    </tr>\n",
              "    <tr>\n",
              "      <th>25%</th>\n",
              "      <td>27.000000</td>\n",
              "      <td>26.296250</td>\n",
              "      <td>0.000000</td>\n",
              "      <td>4740.287150</td>\n",
              "    </tr>\n",
              "    <tr>\n",
              "      <th>50%</th>\n",
              "      <td>39.000000</td>\n",
              "      <td>30.400000</td>\n",
              "      <td>1.000000</td>\n",
              "      <td>9382.033000</td>\n",
              "    </tr>\n",
              "    <tr>\n",
              "      <th>75%</th>\n",
              "      <td>51.000000</td>\n",
              "      <td>34.693750</td>\n",
              "      <td>2.000000</td>\n",
              "      <td>16639.912515</td>\n",
              "    </tr>\n",
              "    <tr>\n",
              "      <th>max</th>\n",
              "      <td>64.000000</td>\n",
              "      <td>53.130000</td>\n",
              "      <td>5.000000</td>\n",
              "      <td>63770.428010</td>\n",
              "    </tr>\n",
              "  </tbody>\n",
              "</table>\n",
              "</div>"
            ],
            "text/plain": [
              "               age          bmi     children       charges\n",
              "count  1321.000000  1338.000000  1338.000000   1338.000000\n",
              "mean     39.248297    30.663397     1.094918  13270.422265\n",
              "std      14.017591     6.098187     1.205493  12110.011237\n",
              "min      18.000000    15.960000     0.000000   1121.873900\n",
              "25%      27.000000    26.296250     0.000000   4740.287150\n",
              "50%      39.000000    30.400000     1.000000   9382.033000\n",
              "75%      51.000000    34.693750     2.000000  16639.912515\n",
              "max      64.000000    53.130000     5.000000  63770.428010"
            ]
          },
          "metadata": {
            "tags": []
          },
          "execution_count": 7
        }
      ]
    },
    {
      "cell_type": "markdown",
      "metadata": {
        "id": "VyerHiEV2EbT"
      },
      "source": [
        "**Verificar dados nullos e dados categóricos**"
      ]
    },
    {
      "cell_type": "code",
      "metadata": {
        "id": "hNpDDdud2N-I",
        "colab": {
          "base_uri": "https://localhost:8080/",
          "height": 153
        },
        "outputId": "e596603b-00e6-437a-e47f-c94b84625294"
      },
      "source": [
        "dataframe.isnull().sum()"
      ],
      "execution_count": null,
      "outputs": [
        {
          "output_type": "execute_result",
          "data": {
            "text/plain": [
              "age         17\n",
              "sex          0\n",
              "bmi          0\n",
              "children     0\n",
              "smoker       0\n",
              "region       0\n",
              "charges      0\n",
              "dtype: int64"
            ]
          },
          "metadata": {
            "tags": []
          },
          "execution_count": 8
        }
      ]
    },
    {
      "cell_type": "code",
      "metadata": {
        "id": "lkH_sDrL2OPd"
      },
      "source": [
        "m_age = dataframe['age'].mean()"
      ],
      "execution_count": null,
      "outputs": []
    },
    {
      "cell_type": "code",
      "metadata": {
        "id": "GQ0y05Xo2OgA",
        "colab": {
          "base_uri": "https://localhost:8080/",
          "height": 34
        },
        "outputId": "483f5b72-e250-4c87-e31a-d8b21ca3a266"
      },
      "source": [
        "m_age"
      ],
      "execution_count": null,
      "outputs": [
        {
          "output_type": "execute_result",
          "data": {
            "text/plain": [
              "39.24829674489023"
            ]
          },
          "metadata": {
            "tags": []
          },
          "execution_count": 16
        }
      ]
    },
    {
      "cell_type": "markdown",
      "metadata": {
        "id": "HDJ1XJOj2Ove"
      },
      "source": [
        "**Substituir dados nulos e realizar transformações em todos os dados categóricos**"
      ]
    },
    {
      "cell_type": "code",
      "metadata": {
        "id": "YS45EIQ72ZpL"
      },
      "source": [
        "dataframe['age'].fillna(dataframe['age'].mean(),inplace = True)"
      ],
      "execution_count": null,
      "outputs": []
    },
    {
      "cell_type": "code",
      "metadata": {
        "id": "mQ7Qyn802Zwi",
        "colab": {
          "base_uri": "https://localhost:8080/",
          "height": 153
        },
        "outputId": "f0db6fcf-7c2a-4712-8a43-88443e94deaa"
      },
      "source": [
        "dataframe.isnull().sum()"
      ],
      "execution_count": null,
      "outputs": [
        {
          "output_type": "execute_result",
          "data": {
            "text/plain": [
              "age         0\n",
              "sex         0\n",
              "bmi         0\n",
              "children    0\n",
              "smoker      0\n",
              "region      0\n",
              "charges     0\n",
              "dtype: int64"
            ]
          },
          "metadata": {
            "tags": []
          },
          "execution_count": 18
        }
      ]
    },
    {
      "cell_type": "code",
      "metadata": {
        "id": "zuvdQUBx2aAO"
      },
      "source": [
        "one_hot1 = pd.get_dummies(dataframe['sex'])"
      ],
      "execution_count": null,
      "outputs": []
    },
    {
      "cell_type": "code",
      "metadata": {
        "id": "QdKkjlCb2aPR",
        "colab": {
          "base_uri": "https://localhost:8080/",
          "height": 419
        },
        "outputId": "60e73236-e2a3-482d-f319-36955b2626f9"
      },
      "source": [
        "one_hot1"
      ],
      "execution_count": null,
      "outputs": [
        {
          "output_type": "execute_result",
          "data": {
            "text/html": [
              "<div>\n",
              "<style scoped>\n",
              "    .dataframe tbody tr th:only-of-type {\n",
              "        vertical-align: middle;\n",
              "    }\n",
              "\n",
              "    .dataframe tbody tr th {\n",
              "        vertical-align: top;\n",
              "    }\n",
              "\n",
              "    .dataframe thead th {\n",
              "        text-align: right;\n",
              "    }\n",
              "</style>\n",
              "<table border=\"1\" class=\"dataframe\">\n",
              "  <thead>\n",
              "    <tr style=\"text-align: right;\">\n",
              "      <th></th>\n",
              "      <th>female</th>\n",
              "      <th>male</th>\n",
              "    </tr>\n",
              "  </thead>\n",
              "  <tbody>\n",
              "    <tr>\n",
              "      <th>0</th>\n",
              "      <td>1</td>\n",
              "      <td>0</td>\n",
              "    </tr>\n",
              "    <tr>\n",
              "      <th>1</th>\n",
              "      <td>0</td>\n",
              "      <td>1</td>\n",
              "    </tr>\n",
              "    <tr>\n",
              "      <th>2</th>\n",
              "      <td>0</td>\n",
              "      <td>1</td>\n",
              "    </tr>\n",
              "    <tr>\n",
              "      <th>3</th>\n",
              "      <td>0</td>\n",
              "      <td>1</td>\n",
              "    </tr>\n",
              "    <tr>\n",
              "      <th>4</th>\n",
              "      <td>0</td>\n",
              "      <td>1</td>\n",
              "    </tr>\n",
              "    <tr>\n",
              "      <th>...</th>\n",
              "      <td>...</td>\n",
              "      <td>...</td>\n",
              "    </tr>\n",
              "    <tr>\n",
              "      <th>1333</th>\n",
              "      <td>0</td>\n",
              "      <td>1</td>\n",
              "    </tr>\n",
              "    <tr>\n",
              "      <th>1334</th>\n",
              "      <td>1</td>\n",
              "      <td>0</td>\n",
              "    </tr>\n",
              "    <tr>\n",
              "      <th>1335</th>\n",
              "      <td>1</td>\n",
              "      <td>0</td>\n",
              "    </tr>\n",
              "    <tr>\n",
              "      <th>1336</th>\n",
              "      <td>1</td>\n",
              "      <td>0</td>\n",
              "    </tr>\n",
              "    <tr>\n",
              "      <th>1337</th>\n",
              "      <td>1</td>\n",
              "      <td>0</td>\n",
              "    </tr>\n",
              "  </tbody>\n",
              "</table>\n",
              "<p>1338 rows × 2 columns</p>\n",
              "</div>"
            ],
            "text/plain": [
              "      female  male\n",
              "0          1     0\n",
              "1          0     1\n",
              "2          0     1\n",
              "3          0     1\n",
              "4          0     1\n",
              "...      ...   ...\n",
              "1333       0     1\n",
              "1334       1     0\n",
              "1335       1     0\n",
              "1336       1     0\n",
              "1337       1     0\n",
              "\n",
              "[1338 rows x 2 columns]"
            ]
          },
          "metadata": {
            "tags": []
          },
          "execution_count": 20
        }
      ]
    },
    {
      "cell_type": "code",
      "metadata": {
        "id": "kI52Rakn2aV2"
      },
      "source": [
        "dataframe = dataframe.join(one_hot1)"
      ],
      "execution_count": null,
      "outputs": []
    },
    {
      "cell_type": "code",
      "metadata": {
        "id": "KmuLsO122aJh"
      },
      "source": [
        "one_hot2 = pd.get_dummies(dataframe['smoker'])"
      ],
      "execution_count": null,
      "outputs": []
    },
    {
      "cell_type": "code",
      "metadata": {
        "id": "W1SAnctm5eEm",
        "colab": {
          "base_uri": "https://localhost:8080/",
          "height": 419
        },
        "outputId": "80dee833-25ca-4c57-9e2a-c61edf45d9ff"
      },
      "source": [
        "one_hot2"
      ],
      "execution_count": null,
      "outputs": [
        {
          "output_type": "execute_result",
          "data": {
            "text/html": [
              "<div>\n",
              "<style scoped>\n",
              "    .dataframe tbody tr th:only-of-type {\n",
              "        vertical-align: middle;\n",
              "    }\n",
              "\n",
              "    .dataframe tbody tr th {\n",
              "        vertical-align: top;\n",
              "    }\n",
              "\n",
              "    .dataframe thead th {\n",
              "        text-align: right;\n",
              "    }\n",
              "</style>\n",
              "<table border=\"1\" class=\"dataframe\">\n",
              "  <thead>\n",
              "    <tr style=\"text-align: right;\">\n",
              "      <th></th>\n",
              "      <th>no</th>\n",
              "      <th>yes</th>\n",
              "    </tr>\n",
              "  </thead>\n",
              "  <tbody>\n",
              "    <tr>\n",
              "      <th>0</th>\n",
              "      <td>0</td>\n",
              "      <td>1</td>\n",
              "    </tr>\n",
              "    <tr>\n",
              "      <th>1</th>\n",
              "      <td>1</td>\n",
              "      <td>0</td>\n",
              "    </tr>\n",
              "    <tr>\n",
              "      <th>2</th>\n",
              "      <td>1</td>\n",
              "      <td>0</td>\n",
              "    </tr>\n",
              "    <tr>\n",
              "      <th>3</th>\n",
              "      <td>1</td>\n",
              "      <td>0</td>\n",
              "    </tr>\n",
              "    <tr>\n",
              "      <th>4</th>\n",
              "      <td>1</td>\n",
              "      <td>0</td>\n",
              "    </tr>\n",
              "    <tr>\n",
              "      <th>...</th>\n",
              "      <td>...</td>\n",
              "      <td>...</td>\n",
              "    </tr>\n",
              "    <tr>\n",
              "      <th>1333</th>\n",
              "      <td>1</td>\n",
              "      <td>0</td>\n",
              "    </tr>\n",
              "    <tr>\n",
              "      <th>1334</th>\n",
              "      <td>1</td>\n",
              "      <td>0</td>\n",
              "    </tr>\n",
              "    <tr>\n",
              "      <th>1335</th>\n",
              "      <td>1</td>\n",
              "      <td>0</td>\n",
              "    </tr>\n",
              "    <tr>\n",
              "      <th>1336</th>\n",
              "      <td>1</td>\n",
              "      <td>0</td>\n",
              "    </tr>\n",
              "    <tr>\n",
              "      <th>1337</th>\n",
              "      <td>0</td>\n",
              "      <td>1</td>\n",
              "    </tr>\n",
              "  </tbody>\n",
              "</table>\n",
              "<p>1338 rows × 2 columns</p>\n",
              "</div>"
            ],
            "text/plain": [
              "      no  yes\n",
              "0      0    1\n",
              "1      1    0\n",
              "2      1    0\n",
              "3      1    0\n",
              "4      1    0\n",
              "...   ..  ...\n",
              "1333   1    0\n",
              "1334   1    0\n",
              "1335   1    0\n",
              "1336   1    0\n",
              "1337   0    1\n",
              "\n",
              "[1338 rows x 2 columns]"
            ]
          },
          "metadata": {
            "tags": []
          },
          "execution_count": 23
        }
      ]
    },
    {
      "cell_type": "code",
      "metadata": {
        "id": "dIM7MIAg2Z5F"
      },
      "source": [
        "dataframe = dataframe.join(one_hot2)"
      ],
      "execution_count": null,
      "outputs": []
    },
    {
      "cell_type": "code",
      "metadata": {
        "id": "GjJPG3PE5byR",
        "colab": {
          "base_uri": "https://localhost:8080/",
          "height": 419
        },
        "outputId": "8cbab544-f90c-4239-ed03-74390aa288b8"
      },
      "source": [
        "one_hot2"
      ],
      "execution_count": null,
      "outputs": [
        {
          "output_type": "execute_result",
          "data": {
            "text/html": [
              "<div>\n",
              "<style scoped>\n",
              "    .dataframe tbody tr th:only-of-type {\n",
              "        vertical-align: middle;\n",
              "    }\n",
              "\n",
              "    .dataframe tbody tr th {\n",
              "        vertical-align: top;\n",
              "    }\n",
              "\n",
              "    .dataframe thead th {\n",
              "        text-align: right;\n",
              "    }\n",
              "</style>\n",
              "<table border=\"1\" class=\"dataframe\">\n",
              "  <thead>\n",
              "    <tr style=\"text-align: right;\">\n",
              "      <th></th>\n",
              "      <th>no</th>\n",
              "      <th>yes</th>\n",
              "    </tr>\n",
              "  </thead>\n",
              "  <tbody>\n",
              "    <tr>\n",
              "      <th>0</th>\n",
              "      <td>0</td>\n",
              "      <td>1</td>\n",
              "    </tr>\n",
              "    <tr>\n",
              "      <th>1</th>\n",
              "      <td>1</td>\n",
              "      <td>0</td>\n",
              "    </tr>\n",
              "    <tr>\n",
              "      <th>2</th>\n",
              "      <td>1</td>\n",
              "      <td>0</td>\n",
              "    </tr>\n",
              "    <tr>\n",
              "      <th>3</th>\n",
              "      <td>1</td>\n",
              "      <td>0</td>\n",
              "    </tr>\n",
              "    <tr>\n",
              "      <th>4</th>\n",
              "      <td>1</td>\n",
              "      <td>0</td>\n",
              "    </tr>\n",
              "    <tr>\n",
              "      <th>...</th>\n",
              "      <td>...</td>\n",
              "      <td>...</td>\n",
              "    </tr>\n",
              "    <tr>\n",
              "      <th>1333</th>\n",
              "      <td>1</td>\n",
              "      <td>0</td>\n",
              "    </tr>\n",
              "    <tr>\n",
              "      <th>1334</th>\n",
              "      <td>1</td>\n",
              "      <td>0</td>\n",
              "    </tr>\n",
              "    <tr>\n",
              "      <th>1335</th>\n",
              "      <td>1</td>\n",
              "      <td>0</td>\n",
              "    </tr>\n",
              "    <tr>\n",
              "      <th>1336</th>\n",
              "      <td>1</td>\n",
              "      <td>0</td>\n",
              "    </tr>\n",
              "    <tr>\n",
              "      <th>1337</th>\n",
              "      <td>0</td>\n",
              "      <td>1</td>\n",
              "    </tr>\n",
              "  </tbody>\n",
              "</table>\n",
              "<p>1338 rows × 2 columns</p>\n",
              "</div>"
            ],
            "text/plain": [
              "      no  yes\n",
              "0      0    1\n",
              "1      1    0\n",
              "2      1    0\n",
              "3      1    0\n",
              "4      1    0\n",
              "...   ..  ...\n",
              "1333   1    0\n",
              "1334   1    0\n",
              "1335   1    0\n",
              "1336   1    0\n",
              "1337   0    1\n",
              "\n",
              "[1338 rows x 2 columns]"
            ]
          },
          "metadata": {
            "tags": []
          },
          "execution_count": 25
        }
      ]
    },
    {
      "cell_type": "code",
      "metadata": {
        "id": "lSSHYXxe5rGQ",
        "colab": {
          "base_uri": "https://localhost:8080/",
          "height": 419
        },
        "outputId": "34d2332c-49c4-4ddb-d80e-da21d3e9ac92"
      },
      "source": [
        "dataframe"
      ],
      "execution_count": null,
      "outputs": [
        {
          "output_type": "execute_result",
          "data": {
            "text/html": [
              "<div>\n",
              "<style scoped>\n",
              "    .dataframe tbody tr th:only-of-type {\n",
              "        vertical-align: middle;\n",
              "    }\n",
              "\n",
              "    .dataframe tbody tr th {\n",
              "        vertical-align: top;\n",
              "    }\n",
              "\n",
              "    .dataframe thead th {\n",
              "        text-align: right;\n",
              "    }\n",
              "</style>\n",
              "<table border=\"1\" class=\"dataframe\">\n",
              "  <thead>\n",
              "    <tr style=\"text-align: right;\">\n",
              "      <th></th>\n",
              "      <th>age</th>\n",
              "      <th>sex</th>\n",
              "      <th>bmi</th>\n",
              "      <th>children</th>\n",
              "      <th>smoker</th>\n",
              "      <th>region</th>\n",
              "      <th>charges</th>\n",
              "      <th>female</th>\n",
              "      <th>male</th>\n",
              "      <th>no</th>\n",
              "      <th>yes</th>\n",
              "    </tr>\n",
              "  </thead>\n",
              "  <tbody>\n",
              "    <tr>\n",
              "      <th>0</th>\n",
              "      <td>19.000000</td>\n",
              "      <td>female</td>\n",
              "      <td>27.900</td>\n",
              "      <td>0</td>\n",
              "      <td>yes</td>\n",
              "      <td>southwest</td>\n",
              "      <td>16884.92400</td>\n",
              "      <td>1</td>\n",
              "      <td>0</td>\n",
              "      <td>0</td>\n",
              "      <td>1</td>\n",
              "    </tr>\n",
              "    <tr>\n",
              "      <th>1</th>\n",
              "      <td>18.000000</td>\n",
              "      <td>male</td>\n",
              "      <td>33.770</td>\n",
              "      <td>1</td>\n",
              "      <td>no</td>\n",
              "      <td>southeast</td>\n",
              "      <td>1725.55230</td>\n",
              "      <td>0</td>\n",
              "      <td>1</td>\n",
              "      <td>1</td>\n",
              "      <td>0</td>\n",
              "    </tr>\n",
              "    <tr>\n",
              "      <th>2</th>\n",
              "      <td>28.000000</td>\n",
              "      <td>male</td>\n",
              "      <td>33.000</td>\n",
              "      <td>3</td>\n",
              "      <td>no</td>\n",
              "      <td>southeast</td>\n",
              "      <td>4449.46200</td>\n",
              "      <td>0</td>\n",
              "      <td>1</td>\n",
              "      <td>1</td>\n",
              "      <td>0</td>\n",
              "    </tr>\n",
              "    <tr>\n",
              "      <th>3</th>\n",
              "      <td>33.000000</td>\n",
              "      <td>male</td>\n",
              "      <td>22.705</td>\n",
              "      <td>0</td>\n",
              "      <td>no</td>\n",
              "      <td>northwest</td>\n",
              "      <td>21984.47061</td>\n",
              "      <td>0</td>\n",
              "      <td>1</td>\n",
              "      <td>1</td>\n",
              "      <td>0</td>\n",
              "    </tr>\n",
              "    <tr>\n",
              "      <th>4</th>\n",
              "      <td>32.000000</td>\n",
              "      <td>male</td>\n",
              "      <td>28.880</td>\n",
              "      <td>0</td>\n",
              "      <td>no</td>\n",
              "      <td>northwest</td>\n",
              "      <td>3866.85520</td>\n",
              "      <td>0</td>\n",
              "      <td>1</td>\n",
              "      <td>1</td>\n",
              "      <td>0</td>\n",
              "    </tr>\n",
              "    <tr>\n",
              "      <th>...</th>\n",
              "      <td>...</td>\n",
              "      <td>...</td>\n",
              "      <td>...</td>\n",
              "      <td>...</td>\n",
              "      <td>...</td>\n",
              "      <td>...</td>\n",
              "      <td>...</td>\n",
              "      <td>...</td>\n",
              "      <td>...</td>\n",
              "      <td>...</td>\n",
              "      <td>...</td>\n",
              "    </tr>\n",
              "    <tr>\n",
              "      <th>1333</th>\n",
              "      <td>50.000000</td>\n",
              "      <td>male</td>\n",
              "      <td>30.970</td>\n",
              "      <td>3</td>\n",
              "      <td>no</td>\n",
              "      <td>northwest</td>\n",
              "      <td>10600.54830</td>\n",
              "      <td>0</td>\n",
              "      <td>1</td>\n",
              "      <td>1</td>\n",
              "      <td>0</td>\n",
              "    </tr>\n",
              "    <tr>\n",
              "      <th>1334</th>\n",
              "      <td>18.000000</td>\n",
              "      <td>female</td>\n",
              "      <td>31.920</td>\n",
              "      <td>0</td>\n",
              "      <td>no</td>\n",
              "      <td>northeast</td>\n",
              "      <td>2205.98080</td>\n",
              "      <td>1</td>\n",
              "      <td>0</td>\n",
              "      <td>1</td>\n",
              "      <td>0</td>\n",
              "    </tr>\n",
              "    <tr>\n",
              "      <th>1335</th>\n",
              "      <td>39.248297</td>\n",
              "      <td>female</td>\n",
              "      <td>36.850</td>\n",
              "      <td>0</td>\n",
              "      <td>no</td>\n",
              "      <td>southeast</td>\n",
              "      <td>1629.83350</td>\n",
              "      <td>1</td>\n",
              "      <td>0</td>\n",
              "      <td>1</td>\n",
              "      <td>0</td>\n",
              "    </tr>\n",
              "    <tr>\n",
              "      <th>1336</th>\n",
              "      <td>21.000000</td>\n",
              "      <td>female</td>\n",
              "      <td>25.800</td>\n",
              "      <td>0</td>\n",
              "      <td>no</td>\n",
              "      <td>southwest</td>\n",
              "      <td>2007.94500</td>\n",
              "      <td>1</td>\n",
              "      <td>0</td>\n",
              "      <td>1</td>\n",
              "      <td>0</td>\n",
              "    </tr>\n",
              "    <tr>\n",
              "      <th>1337</th>\n",
              "      <td>61.000000</td>\n",
              "      <td>female</td>\n",
              "      <td>29.070</td>\n",
              "      <td>0</td>\n",
              "      <td>yes</td>\n",
              "      <td>northwest</td>\n",
              "      <td>29141.36030</td>\n",
              "      <td>1</td>\n",
              "      <td>0</td>\n",
              "      <td>0</td>\n",
              "      <td>1</td>\n",
              "    </tr>\n",
              "  </tbody>\n",
              "</table>\n",
              "<p>1338 rows × 11 columns</p>\n",
              "</div>"
            ],
            "text/plain": [
              "            age     sex     bmi  children  ... female male  no  yes\n",
              "0     19.000000  female  27.900         0  ...      1    0   0    1\n",
              "1     18.000000    male  33.770         1  ...      0    1   1    0\n",
              "2     28.000000    male  33.000         3  ...      0    1   1    0\n",
              "3     33.000000    male  22.705         0  ...      0    1   1    0\n",
              "4     32.000000    male  28.880         0  ...      0    1   1    0\n",
              "...         ...     ...     ...       ...  ...    ...  ...  ..  ...\n",
              "1333  50.000000    male  30.970         3  ...      0    1   1    0\n",
              "1334  18.000000  female  31.920         0  ...      1    0   1    0\n",
              "1335  39.248297  female  36.850         0  ...      1    0   1    0\n",
              "1336  21.000000  female  25.800         0  ...      1    0   1    0\n",
              "1337  61.000000  female  29.070         0  ...      1    0   0    1\n",
              "\n",
              "[1338 rows x 11 columns]"
            ]
          },
          "metadata": {
            "tags": []
          },
          "execution_count": 26
        }
      ]
    },
    {
      "cell_type": "markdown",
      "metadata": {
        "id": "5IbCOSEg2dlS"
      },
      "source": [
        "**Verificar as correlações entre variáveis, escolher qualquer método**"
      ]
    },
    {
      "cell_type": "code",
      "metadata": {
        "id": "ATPO3dqn2lcg"
      },
      "source": [
        "corr_pearson = dataframe.corr(method='pearson')"
      ],
      "execution_count": null,
      "outputs": []
    },
    {
      "cell_type": "code",
      "metadata": {
        "id": "Q5GIBxCe2lm_",
        "colab": {
          "base_uri": "https://localhost:8080/",
          "height": 208
        },
        "outputId": "14727380-4006-4c5b-decf-40e50f62f753"
      },
      "source": [
        "corr_pearson.style.background_gradient(cmap='coolwarm').set_precision(2)"
      ],
      "execution_count": null,
      "outputs": [
        {
          "output_type": "execute_result",
          "data": {
            "text/html": [
              "<style  type=\"text/css\" >\n",
              "    #T_2c8b35ee_f939_11ea_bcca_0242ac1c0002row0_col0 {\n",
              "            background-color:  #b40426;\n",
              "            color:  #f1f1f1;\n",
              "        }    #T_2c8b35ee_f939_11ea_bcca_0242ac1c0002row0_col1 {\n",
              "            background-color:  #688aef;\n",
              "            color:  #000000;\n",
              "        }    #T_2c8b35ee_f939_11ea_bcca_0242ac1c0002row0_col2 {\n",
              "            background-color:  #4b64d5;\n",
              "            color:  #f1f1f1;\n",
              "        }    #T_2c8b35ee_f939_11ea_bcca_0242ac1c0002row0_col3 {\n",
              "            background-color:  #f2c9b4;\n",
              "            color:  #000000;\n",
              "        }    #T_2c8b35ee_f939_11ea_bcca_0242ac1c0002row0_col4 {\n",
              "            background-color:  #dfdbd9;\n",
              "            color:  #000000;\n",
              "        }    #T_2c8b35ee_f939_11ea_bcca_0242ac1c0002row0_col5 {\n",
              "            background-color:  #dadce0;\n",
              "            color:  #000000;\n",
              "        }    #T_2c8b35ee_f939_11ea_bcca_0242ac1c0002row0_col6 {\n",
              "            background-color:  #dfdbd9;\n",
              "            color:  #000000;\n",
              "        }    #T_2c8b35ee_f939_11ea_bcca_0242ac1c0002row0_col7 {\n",
              "            background-color:  #dadce0;\n",
              "            color:  #000000;\n",
              "        }    #T_2c8b35ee_f939_11ea_bcca_0242ac1c0002row1_col0 {\n",
              "            background-color:  #6282ea;\n",
              "            color:  #000000;\n",
              "        }    #T_2c8b35ee_f939_11ea_bcca_0242ac1c0002row1_col1 {\n",
              "            background-color:  #b40426;\n",
              "            color:  #f1f1f1;\n",
              "        }    #T_2c8b35ee_f939_11ea_bcca_0242ac1c0002row1_col2 {\n",
              "            background-color:  #4358cb;\n",
              "            color:  #f1f1f1;\n",
              "        }    #T_2c8b35ee_f939_11ea_bcca_0242ac1c0002row1_col3 {\n",
              "            background-color:  #ead5c9;\n",
              "            color:  #000000;\n",
              "        }    #T_2c8b35ee_f939_11ea_bcca_0242ac1c0002row1_col4 {\n",
              "            background-color:  #d7dce3;\n",
              "            color:  #000000;\n",
              "        }    #T_2c8b35ee_f939_11ea_bcca_0242ac1c0002row1_col5 {\n",
              "            background-color:  #e2dad5;\n",
              "            color:  #000000;\n",
              "        }    #T_2c8b35ee_f939_11ea_bcca_0242ac1c0002row1_col6 {\n",
              "            background-color:  #dcdddd;\n",
              "            color:  #000000;\n",
              "        }    #T_2c8b35ee_f939_11ea_bcca_0242ac1c0002row1_col7 {\n",
              "            background-color:  #dddcdc;\n",
              "            color:  #000000;\n",
              "        }    #T_2c8b35ee_f939_11ea_bcca_0242ac1c0002row2_col0 {\n",
              "            background-color:  #4c66d6;\n",
              "            color:  #000000;\n",
              "        }    #T_2c8b35ee_f939_11ea_bcca_0242ac1c0002row2_col1 {\n",
              "            background-color:  #4b64d5;\n",
              "            color:  #f1f1f1;\n",
              "        }    #T_2c8b35ee_f939_11ea_bcca_0242ac1c0002row2_col2 {\n",
              "            background-color:  #b40426;\n",
              "            color:  #f1f1f1;\n",
              "        }    #T_2c8b35ee_f939_11ea_bcca_0242ac1c0002row2_col3 {\n",
              "            background-color:  #d7dce3;\n",
              "            color:  #000000;\n",
              "        }    #T_2c8b35ee_f939_11ea_bcca_0242ac1c0002row2_col4 {\n",
              "            background-color:  #dadce0;\n",
              "            color:  #000000;\n",
              "        }    #T_2c8b35ee_f939_11ea_bcca_0242ac1c0002row2_col5 {\n",
              "            background-color:  #dfdbd9;\n",
              "            color:  #000000;\n",
              "        }    #T_2c8b35ee_f939_11ea_bcca_0242ac1c0002row2_col6 {\n",
              "            background-color:  #dcdddd;\n",
              "            color:  #000000;\n",
              "        }    #T_2c8b35ee_f939_11ea_bcca_0242ac1c0002row2_col7 {\n",
              "            background-color:  #dddcdc;\n",
              "            color:  #000000;\n",
              "        }    #T_2c8b35ee_f939_11ea_bcca_0242ac1c0002row3_col0 {\n",
              "            background-color:  #a2c1ff;\n",
              "            color:  #000000;\n",
              "        }    #T_2c8b35ee_f939_11ea_bcca_0242ac1c0002row3_col1 {\n",
              "            background-color:  #86a9fc;\n",
              "            color:  #000000;\n",
              "        }    #T_2c8b35ee_f939_11ea_bcca_0242ac1c0002row3_col2 {\n",
              "            background-color:  #5470de;\n",
              "            color:  #000000;\n",
              "        }    #T_2c8b35ee_f939_11ea_bcca_0242ac1c0002row3_col3 {\n",
              "            background-color:  #b40426;\n",
              "            color:  #f1f1f1;\n",
              "        }    #T_2c8b35ee_f939_11ea_bcca_0242ac1c0002row3_col4 {\n",
              "            background-color:  #d5dbe5;\n",
              "            color:  #000000;\n",
              "        }    #T_2c8b35ee_f939_11ea_bcca_0242ac1c0002row3_col5 {\n",
              "            background-color:  #e4d9d2;\n",
              "            color:  #000000;\n",
              "        }    #T_2c8b35ee_f939_11ea_bcca_0242ac1c0002row3_col6 {\n",
              "            background-color:  #5b7ae5;\n",
              "            color:  #000000;\n",
              "        }    #T_2c8b35ee_f939_11ea_bcca_0242ac1c0002row3_col7 {\n",
              "            background-color:  #d85646;\n",
              "            color:  #000000;\n",
              "        }    #T_2c8b35ee_f939_11ea_bcca_0242ac1c0002row4_col0 {\n",
              "            background-color:  #465ecf;\n",
              "            color:  #f1f1f1;\n",
              "        }    #T_2c8b35ee_f939_11ea_bcca_0242ac1c0002row4_col1 {\n",
              "            background-color:  #3b4cc0;\n",
              "            color:  #f1f1f1;\n",
              "        }    #T_2c8b35ee_f939_11ea_bcca_0242ac1c0002row4_col2 {\n",
              "            background-color:  #3b4cc0;\n",
              "            color:  #f1f1f1;\n",
              "        }    #T_2c8b35ee_f939_11ea_bcca_0242ac1c0002row4_col3 {\n",
              "            background-color:  #c3d5f4;\n",
              "            color:  #000000;\n",
              "        }    #T_2c8b35ee_f939_11ea_bcca_0242ac1c0002row4_col4 {\n",
              "            background-color:  #b40426;\n",
              "            color:  #f1f1f1;\n",
              "        }    #T_2c8b35ee_f939_11ea_bcca_0242ac1c0002row4_col5 {\n",
              "            background-color:  #3b4cc0;\n",
              "            color:  #f1f1f1;\n",
              "        }    #T_2c8b35ee_f939_11ea_bcca_0242ac1c0002row4_col6 {\n",
              "            background-color:  #e6d7cf;\n",
              "            color:  #000000;\n",
              "        }    #T_2c8b35ee_f939_11ea_bcca_0242ac1c0002row4_col7 {\n",
              "            background-color:  #d3dbe7;\n",
              "            color:  #000000;\n",
              "        }    #T_2c8b35ee_f939_11ea_bcca_0242ac1c0002row5_col0 {\n",
              "            background-color:  #3b4cc0;\n",
              "            color:  #f1f1f1;\n",
              "        }    #T_2c8b35ee_f939_11ea_bcca_0242ac1c0002row5_col1 {\n",
              "            background-color:  #5572df;\n",
              "            color:  #000000;\n",
              "        }    #T_2c8b35ee_f939_11ea_bcca_0242ac1c0002row5_col2 {\n",
              "            background-color:  #445acc;\n",
              "            color:  #f1f1f1;\n",
              "        }    #T_2c8b35ee_f939_11ea_bcca_0242ac1c0002row5_col3 {\n",
              "            background-color:  #d5dbe5;\n",
              "            color:  #000000;\n",
              "        }    #T_2c8b35ee_f939_11ea_bcca_0242ac1c0002row5_col4 {\n",
              "            background-color:  #3b4cc0;\n",
              "            color:  #f1f1f1;\n",
              "        }    #T_2c8b35ee_f939_11ea_bcca_0242ac1c0002row5_col5 {\n",
              "            background-color:  #b40426;\n",
              "            color:  #f1f1f1;\n",
              "        }    #T_2c8b35ee_f939_11ea_bcca_0242ac1c0002row5_col6 {\n",
              "            background-color:  #d3dbe7;\n",
              "            color:  #000000;\n",
              "        }    #T_2c8b35ee_f939_11ea_bcca_0242ac1c0002row5_col7 {\n",
              "            background-color:  #e6d7cf;\n",
              "            color:  #000000;\n",
              "        }    #T_2c8b35ee_f939_11ea_bcca_0242ac1c0002row6_col0 {\n",
              "            background-color:  #465ecf;\n",
              "            color:  #f1f1f1;\n",
              "        }    #T_2c8b35ee_f939_11ea_bcca_0242ac1c0002row6_col1 {\n",
              "            background-color:  #465ecf;\n",
              "            color:  #f1f1f1;\n",
              "        }    #T_2c8b35ee_f939_11ea_bcca_0242ac1c0002row6_col2 {\n",
              "            background-color:  #3d50c3;\n",
              "            color:  #f1f1f1;\n",
              "        }    #T_2c8b35ee_f939_11ea_bcca_0242ac1c0002row6_col3 {\n",
              "            background-color:  #3b4cc0;\n",
              "            color:  #f1f1f1;\n",
              "        }    #T_2c8b35ee_f939_11ea_bcca_0242ac1c0002row6_col4 {\n",
              "            background-color:  #e6d7cf;\n",
              "            color:  #000000;\n",
              "        }    #T_2c8b35ee_f939_11ea_bcca_0242ac1c0002row6_col5 {\n",
              "            background-color:  #d3dbe7;\n",
              "            color:  #000000;\n",
              "        }    #T_2c8b35ee_f939_11ea_bcca_0242ac1c0002row6_col6 {\n",
              "            background-color:  #b40426;\n",
              "            color:  #f1f1f1;\n",
              "        }    #T_2c8b35ee_f939_11ea_bcca_0242ac1c0002row6_col7 {\n",
              "            background-color:  #3b4cc0;\n",
              "            color:  #f1f1f1;\n",
              "        }    #T_2c8b35ee_f939_11ea_bcca_0242ac1c0002row7_col0 {\n",
              "            background-color:  #3b4cc0;\n",
              "            color:  #f1f1f1;\n",
              "        }    #T_2c8b35ee_f939_11ea_bcca_0242ac1c0002row7_col1 {\n",
              "            background-color:  #4961d2;\n",
              "            color:  #f1f1f1;\n",
              "        }    #T_2c8b35ee_f939_11ea_bcca_0242ac1c0002row7_col2 {\n",
              "            background-color:  #4257c9;\n",
              "            color:  #f1f1f1;\n",
              "        }    #T_2c8b35ee_f939_11ea_bcca_0242ac1c0002row7_col3 {\n",
              "            background-color:  #dc5d4a;\n",
              "            color:  #000000;\n",
              "        }    #T_2c8b35ee_f939_11ea_bcca_0242ac1c0002row7_col4 {\n",
              "            background-color:  #d3dbe7;\n",
              "            color:  #000000;\n",
              "        }    #T_2c8b35ee_f939_11ea_bcca_0242ac1c0002row7_col5 {\n",
              "            background-color:  #e6d7cf;\n",
              "            color:  #000000;\n",
              "        }    #T_2c8b35ee_f939_11ea_bcca_0242ac1c0002row7_col6 {\n",
              "            background-color:  #3b4cc0;\n",
              "            color:  #f1f1f1;\n",
              "        }    #T_2c8b35ee_f939_11ea_bcca_0242ac1c0002row7_col7 {\n",
              "            background-color:  #b40426;\n",
              "            color:  #f1f1f1;\n",
              "        }</style><table id=\"T_2c8b35ee_f939_11ea_bcca_0242ac1c0002\" ><thead>    <tr>        <th class=\"blank level0\" ></th>        <th class=\"col_heading level0 col0\" >age</th>        <th class=\"col_heading level0 col1\" >bmi</th>        <th class=\"col_heading level0 col2\" >children</th>        <th class=\"col_heading level0 col3\" >charges</th>        <th class=\"col_heading level0 col4\" >female</th>        <th class=\"col_heading level0 col5\" >male</th>        <th class=\"col_heading level0 col6\" >no</th>        <th class=\"col_heading level0 col7\" >yes</th>    </tr></thead><tbody>\n",
              "                <tr>\n",
              "                        <th id=\"T_2c8b35ee_f939_11ea_bcca_0242ac1c0002level0_row0\" class=\"row_heading level0 row0\" >age</th>\n",
              "                        <td id=\"T_2c8b35ee_f939_11ea_bcca_0242ac1c0002row0_col0\" class=\"data row0 col0\" >1.00</td>\n",
              "                        <td id=\"T_2c8b35ee_f939_11ea_bcca_0242ac1c0002row0_col1\" class=\"data row0 col1\" >0.11</td>\n",
              "                        <td id=\"T_2c8b35ee_f939_11ea_bcca_0242ac1c0002row0_col2\" class=\"data row0 col2\" >0.04</td>\n",
              "                        <td id=\"T_2c8b35ee_f939_11ea_bcca_0242ac1c0002row0_col3\" class=\"data row0 col3\" >0.30</td>\n",
              "                        <td id=\"T_2c8b35ee_f939_11ea_bcca_0242ac1c0002row0_col4\" class=\"data row0 col4\" >0.02</td>\n",
              "                        <td id=\"T_2c8b35ee_f939_11ea_bcca_0242ac1c0002row0_col5\" class=\"data row0 col5\" >-0.02</td>\n",
              "                        <td id=\"T_2c8b35ee_f939_11ea_bcca_0242ac1c0002row0_col6\" class=\"data row0 col6\" >0.02</td>\n",
              "                        <td id=\"T_2c8b35ee_f939_11ea_bcca_0242ac1c0002row0_col7\" class=\"data row0 col7\" >-0.02</td>\n",
              "            </tr>\n",
              "            <tr>\n",
              "                        <th id=\"T_2c8b35ee_f939_11ea_bcca_0242ac1c0002level0_row1\" class=\"row_heading level0 row1\" >bmi</th>\n",
              "                        <td id=\"T_2c8b35ee_f939_11ea_bcca_0242ac1c0002row1_col0\" class=\"data row1 col0\" >0.11</td>\n",
              "                        <td id=\"T_2c8b35ee_f939_11ea_bcca_0242ac1c0002row1_col1\" class=\"data row1 col1\" >1.00</td>\n",
              "                        <td id=\"T_2c8b35ee_f939_11ea_bcca_0242ac1c0002row1_col2\" class=\"data row1 col2\" >0.01</td>\n",
              "                        <td id=\"T_2c8b35ee_f939_11ea_bcca_0242ac1c0002row1_col3\" class=\"data row1 col3\" >0.20</td>\n",
              "                        <td id=\"T_2c8b35ee_f939_11ea_bcca_0242ac1c0002row1_col4\" class=\"data row1 col4\" >-0.05</td>\n",
              "                        <td id=\"T_2c8b35ee_f939_11ea_bcca_0242ac1c0002row1_col5\" class=\"data row1 col5\" >0.05</td>\n",
              "                        <td id=\"T_2c8b35ee_f939_11ea_bcca_0242ac1c0002row1_col6\" class=\"data row1 col6\" >-0.00</td>\n",
              "                        <td id=\"T_2c8b35ee_f939_11ea_bcca_0242ac1c0002row1_col7\" class=\"data row1 col7\" >0.00</td>\n",
              "            </tr>\n",
              "            <tr>\n",
              "                        <th id=\"T_2c8b35ee_f939_11ea_bcca_0242ac1c0002level0_row2\" class=\"row_heading level0 row2\" >children</th>\n",
              "                        <td id=\"T_2c8b35ee_f939_11ea_bcca_0242ac1c0002row2_col0\" class=\"data row2 col0\" >0.04</td>\n",
              "                        <td id=\"T_2c8b35ee_f939_11ea_bcca_0242ac1c0002row2_col1\" class=\"data row2 col1\" >0.01</td>\n",
              "                        <td id=\"T_2c8b35ee_f939_11ea_bcca_0242ac1c0002row2_col2\" class=\"data row2 col2\" >1.00</td>\n",
              "                        <td id=\"T_2c8b35ee_f939_11ea_bcca_0242ac1c0002row2_col3\" class=\"data row2 col3\" >0.07</td>\n",
              "                        <td id=\"T_2c8b35ee_f939_11ea_bcca_0242ac1c0002row2_col4\" class=\"data row2 col4\" >-0.02</td>\n",
              "                        <td id=\"T_2c8b35ee_f939_11ea_bcca_0242ac1c0002row2_col5\" class=\"data row2 col5\" >0.02</td>\n",
              "                        <td id=\"T_2c8b35ee_f939_11ea_bcca_0242ac1c0002row2_col6\" class=\"data row2 col6\" >-0.01</td>\n",
              "                        <td id=\"T_2c8b35ee_f939_11ea_bcca_0242ac1c0002row2_col7\" class=\"data row2 col7\" >0.01</td>\n",
              "            </tr>\n",
              "            <tr>\n",
              "                        <th id=\"T_2c8b35ee_f939_11ea_bcca_0242ac1c0002level0_row3\" class=\"row_heading level0 row3\" >charges</th>\n",
              "                        <td id=\"T_2c8b35ee_f939_11ea_bcca_0242ac1c0002row3_col0\" class=\"data row3 col0\" >0.30</td>\n",
              "                        <td id=\"T_2c8b35ee_f939_11ea_bcca_0242ac1c0002row3_col1\" class=\"data row3 col1\" >0.20</td>\n",
              "                        <td id=\"T_2c8b35ee_f939_11ea_bcca_0242ac1c0002row3_col2\" class=\"data row3 col2\" >0.07</td>\n",
              "                        <td id=\"T_2c8b35ee_f939_11ea_bcca_0242ac1c0002row3_col3\" class=\"data row3 col3\" >1.00</td>\n",
              "                        <td id=\"T_2c8b35ee_f939_11ea_bcca_0242ac1c0002row3_col4\" class=\"data row3 col4\" >-0.06</td>\n",
              "                        <td id=\"T_2c8b35ee_f939_11ea_bcca_0242ac1c0002row3_col5\" class=\"data row3 col5\" >0.06</td>\n",
              "                        <td id=\"T_2c8b35ee_f939_11ea_bcca_0242ac1c0002row3_col6\" class=\"data row3 col6\" >-0.79</td>\n",
              "                        <td id=\"T_2c8b35ee_f939_11ea_bcca_0242ac1c0002row3_col7\" class=\"data row3 col7\" >0.79</td>\n",
              "            </tr>\n",
              "            <tr>\n",
              "                        <th id=\"T_2c8b35ee_f939_11ea_bcca_0242ac1c0002level0_row4\" class=\"row_heading level0 row4\" >female</th>\n",
              "                        <td id=\"T_2c8b35ee_f939_11ea_bcca_0242ac1c0002row4_col0\" class=\"data row4 col0\" >0.02</td>\n",
              "                        <td id=\"T_2c8b35ee_f939_11ea_bcca_0242ac1c0002row4_col1\" class=\"data row4 col1\" >-0.05</td>\n",
              "                        <td id=\"T_2c8b35ee_f939_11ea_bcca_0242ac1c0002row4_col2\" class=\"data row4 col2\" >-0.02</td>\n",
              "                        <td id=\"T_2c8b35ee_f939_11ea_bcca_0242ac1c0002row4_col3\" class=\"data row4 col3\" >-0.06</td>\n",
              "                        <td id=\"T_2c8b35ee_f939_11ea_bcca_0242ac1c0002row4_col4\" class=\"data row4 col4\" >1.00</td>\n",
              "                        <td id=\"T_2c8b35ee_f939_11ea_bcca_0242ac1c0002row4_col5\" class=\"data row4 col5\" >-1.00</td>\n",
              "                        <td id=\"T_2c8b35ee_f939_11ea_bcca_0242ac1c0002row4_col6\" class=\"data row4 col6\" >0.08</td>\n",
              "                        <td id=\"T_2c8b35ee_f939_11ea_bcca_0242ac1c0002row4_col7\" class=\"data row4 col7\" >-0.08</td>\n",
              "            </tr>\n",
              "            <tr>\n",
              "                        <th id=\"T_2c8b35ee_f939_11ea_bcca_0242ac1c0002level0_row5\" class=\"row_heading level0 row5\" >male</th>\n",
              "                        <td id=\"T_2c8b35ee_f939_11ea_bcca_0242ac1c0002row5_col0\" class=\"data row5 col0\" >-0.02</td>\n",
              "                        <td id=\"T_2c8b35ee_f939_11ea_bcca_0242ac1c0002row5_col1\" class=\"data row5 col1\" >0.05</td>\n",
              "                        <td id=\"T_2c8b35ee_f939_11ea_bcca_0242ac1c0002row5_col2\" class=\"data row5 col2\" >0.02</td>\n",
              "                        <td id=\"T_2c8b35ee_f939_11ea_bcca_0242ac1c0002row5_col3\" class=\"data row5 col3\" >0.06</td>\n",
              "                        <td id=\"T_2c8b35ee_f939_11ea_bcca_0242ac1c0002row5_col4\" class=\"data row5 col4\" >-1.00</td>\n",
              "                        <td id=\"T_2c8b35ee_f939_11ea_bcca_0242ac1c0002row5_col5\" class=\"data row5 col5\" >1.00</td>\n",
              "                        <td id=\"T_2c8b35ee_f939_11ea_bcca_0242ac1c0002row5_col6\" class=\"data row5 col6\" >-0.08</td>\n",
              "                        <td id=\"T_2c8b35ee_f939_11ea_bcca_0242ac1c0002row5_col7\" class=\"data row5 col7\" >0.08</td>\n",
              "            </tr>\n",
              "            <tr>\n",
              "                        <th id=\"T_2c8b35ee_f939_11ea_bcca_0242ac1c0002level0_row6\" class=\"row_heading level0 row6\" >no</th>\n",
              "                        <td id=\"T_2c8b35ee_f939_11ea_bcca_0242ac1c0002row6_col0\" class=\"data row6 col0\" >0.02</td>\n",
              "                        <td id=\"T_2c8b35ee_f939_11ea_bcca_0242ac1c0002row6_col1\" class=\"data row6 col1\" >-0.00</td>\n",
              "                        <td id=\"T_2c8b35ee_f939_11ea_bcca_0242ac1c0002row6_col2\" class=\"data row6 col2\" >-0.01</td>\n",
              "                        <td id=\"T_2c8b35ee_f939_11ea_bcca_0242ac1c0002row6_col3\" class=\"data row6 col3\" >-0.79</td>\n",
              "                        <td id=\"T_2c8b35ee_f939_11ea_bcca_0242ac1c0002row6_col4\" class=\"data row6 col4\" >0.08</td>\n",
              "                        <td id=\"T_2c8b35ee_f939_11ea_bcca_0242ac1c0002row6_col5\" class=\"data row6 col5\" >-0.08</td>\n",
              "                        <td id=\"T_2c8b35ee_f939_11ea_bcca_0242ac1c0002row6_col6\" class=\"data row6 col6\" >1.00</td>\n",
              "                        <td id=\"T_2c8b35ee_f939_11ea_bcca_0242ac1c0002row6_col7\" class=\"data row6 col7\" >-1.00</td>\n",
              "            </tr>\n",
              "            <tr>\n",
              "                        <th id=\"T_2c8b35ee_f939_11ea_bcca_0242ac1c0002level0_row7\" class=\"row_heading level0 row7\" >yes</th>\n",
              "                        <td id=\"T_2c8b35ee_f939_11ea_bcca_0242ac1c0002row7_col0\" class=\"data row7 col0\" >-0.02</td>\n",
              "                        <td id=\"T_2c8b35ee_f939_11ea_bcca_0242ac1c0002row7_col1\" class=\"data row7 col1\" >0.00</td>\n",
              "                        <td id=\"T_2c8b35ee_f939_11ea_bcca_0242ac1c0002row7_col2\" class=\"data row7 col2\" >0.01</td>\n",
              "                        <td id=\"T_2c8b35ee_f939_11ea_bcca_0242ac1c0002row7_col3\" class=\"data row7 col3\" >0.79</td>\n",
              "                        <td id=\"T_2c8b35ee_f939_11ea_bcca_0242ac1c0002row7_col4\" class=\"data row7 col4\" >-0.08</td>\n",
              "                        <td id=\"T_2c8b35ee_f939_11ea_bcca_0242ac1c0002row7_col5\" class=\"data row7 col5\" >0.08</td>\n",
              "                        <td id=\"T_2c8b35ee_f939_11ea_bcca_0242ac1c0002row7_col6\" class=\"data row7 col6\" >-1.00</td>\n",
              "                        <td id=\"T_2c8b35ee_f939_11ea_bcca_0242ac1c0002row7_col7\" class=\"data row7 col7\" >1.00</td>\n",
              "            </tr>\n",
              "    </tbody></table>"
            ],
            "text/plain": [
              "<pandas.io.formats.style.Styler at 0x7f6a56559080>"
            ]
          },
          "metadata": {
            "tags": []
          },
          "execution_count": 28
        }
      ]
    },
    {
      "cell_type": "code",
      "metadata": {
        "id": "j8jrsJBy2l2Y"
      },
      "source": [
        "corr_spearman = dataframe.corr(method='spearman')"
      ],
      "execution_count": null,
      "outputs": []
    },
    {
      "cell_type": "code",
      "metadata": {
        "id": "A0lyDGjq2lvG",
        "colab": {
          "base_uri": "https://localhost:8080/",
          "height": 208
        },
        "outputId": "d72cba0f-19bb-4bd1-fe4c-2e6decc6d0ba"
      },
      "source": [
        "corr_spearman.style.background_gradient(cmap='coolwarm').set_precision(2)"
      ],
      "execution_count": null,
      "outputs": [
        {
          "output_type": "execute_result",
          "data": {
            "text/html": [
              "<style  type=\"text/css\" >\n",
              "    #T_2dac6aec_f939_11ea_bcca_0242ac1c0002row0_col0 {\n",
              "            background-color:  #b40426;\n",
              "            color:  #f1f1f1;\n",
              "        }    #T_2dac6aec_f939_11ea_bcca_0242ac1c0002row0_col1 {\n",
              "            background-color:  #688aef;\n",
              "            color:  #000000;\n",
              "        }    #T_2dac6aec_f939_11ea_bcca_0242ac1c0002row0_col2 {\n",
              "            background-color:  #506bda;\n",
              "            color:  #000000;\n",
              "        }    #T_2dac6aec_f939_11ea_bcca_0242ac1c0002row0_col3 {\n",
              "            background-color:  #f7a688;\n",
              "            color:  #000000;\n",
              "        }    #T_2dac6aec_f939_11ea_bcca_0242ac1c0002row0_col4 {\n",
              "            background-color:  #dfdbd9;\n",
              "            color:  #000000;\n",
              "        }    #T_2dac6aec_f939_11ea_bcca_0242ac1c0002row0_col5 {\n",
              "            background-color:  #dadce0;\n",
              "            color:  #000000;\n",
              "        }    #T_2dac6aec_f939_11ea_bcca_0242ac1c0002row0_col6 {\n",
              "            background-color:  #dfdbd9;\n",
              "            color:  #000000;\n",
              "        }    #T_2dac6aec_f939_11ea_bcca_0242ac1c0002row0_col7 {\n",
              "            background-color:  #dadce0;\n",
              "            color:  #000000;\n",
              "        }    #T_2dac6aec_f939_11ea_bcca_0242ac1c0002row1_col0 {\n",
              "            background-color:  #6282ea;\n",
              "            color:  #000000;\n",
              "        }    #T_2dac6aec_f939_11ea_bcca_0242ac1c0002row1_col1 {\n",
              "            background-color:  #b40426;\n",
              "            color:  #f1f1f1;\n",
              "        }    #T_2dac6aec_f939_11ea_bcca_0242ac1c0002row1_col2 {\n",
              "            background-color:  #445acc;\n",
              "            color:  #f1f1f1;\n",
              "        }    #T_2dac6aec_f939_11ea_bcca_0242ac1c0002row1_col3 {\n",
              "            background-color:  #d5dbe5;\n",
              "            color:  #000000;\n",
              "        }    #T_2dac6aec_f939_11ea_bcca_0242ac1c0002row1_col4 {\n",
              "            background-color:  #d7dce3;\n",
              "            color:  #000000;\n",
              "        }    #T_2dac6aec_f939_11ea_bcca_0242ac1c0002row1_col5 {\n",
              "            background-color:  #e2dad5;\n",
              "            color:  #000000;\n",
              "        }    #T_2dac6aec_f939_11ea_bcca_0242ac1c0002row1_col6 {\n",
              "            background-color:  #dcdddd;\n",
              "            color:  #000000;\n",
              "        }    #T_2dac6aec_f939_11ea_bcca_0242ac1c0002row1_col7 {\n",
              "            background-color:  #dddcdc;\n",
              "            color:  #000000;\n",
              "        }    #T_2dac6aec_f939_11ea_bcca_0242ac1c0002row2_col0 {\n",
              "            background-color:  #516ddb;\n",
              "            color:  #000000;\n",
              "        }    #T_2dac6aec_f939_11ea_bcca_0242ac1c0002row2_col1 {\n",
              "            background-color:  #4b64d5;\n",
              "            color:  #f1f1f1;\n",
              "        }    #T_2dac6aec_f939_11ea_bcca_0242ac1c0002row2_col2 {\n",
              "            background-color:  #b40426;\n",
              "            color:  #f1f1f1;\n",
              "        }    #T_2dac6aec_f939_11ea_bcca_0242ac1c0002row2_col3 {\n",
              "            background-color:  #d7dce3;\n",
              "            color:  #000000;\n",
              "        }    #T_2dac6aec_f939_11ea_bcca_0242ac1c0002row2_col4 {\n",
              "            background-color:  #dbdcde;\n",
              "            color:  #000000;\n",
              "        }    #T_2dac6aec_f939_11ea_bcca_0242ac1c0002row2_col5 {\n",
              "            background-color:  #dedcdb;\n",
              "            color:  #000000;\n",
              "        }    #T_2dac6aec_f939_11ea_bcca_0242ac1c0002row2_col6 {\n",
              "            background-color:  #dadce0;\n",
              "            color:  #000000;\n",
              "        }    #T_2dac6aec_f939_11ea_bcca_0242ac1c0002row2_col7 {\n",
              "            background-color:  #dfdbd9;\n",
              "            color:  #000000;\n",
              "        }    #T_2dac6aec_f939_11ea_bcca_0242ac1c0002row3_col0 {\n",
              "            background-color:  #e7d7ce;\n",
              "            color:  #000000;\n",
              "        }    #T_2dac6aec_f939_11ea_bcca_0242ac1c0002row3_col1 {\n",
              "            background-color:  #6c8ff1;\n",
              "            color:  #000000;\n",
              "        }    #T_2dac6aec_f939_11ea_bcca_0242ac1c0002row3_col2 {\n",
              "            background-color:  #688aef;\n",
              "            color:  #000000;\n",
              "        }    #T_2dac6aec_f939_11ea_bcca_0242ac1c0002row3_col3 {\n",
              "            background-color:  #b40426;\n",
              "            color:  #f1f1f1;\n",
              "        }    #T_2dac6aec_f939_11ea_bcca_0242ac1c0002row3_col4 {\n",
              "            background-color:  #dbdcde;\n",
              "            color:  #000000;\n",
              "        }    #T_2dac6aec_f939_11ea_bcca_0242ac1c0002row3_col5 {\n",
              "            background-color:  #dedcdb;\n",
              "            color:  #000000;\n",
              "        }    #T_2dac6aec_f939_11ea_bcca_0242ac1c0002row3_col6 {\n",
              "            background-color:  #7093f3;\n",
              "            color:  #000000;\n",
              "        }    #T_2dac6aec_f939_11ea_bcca_0242ac1c0002row3_col7 {\n",
              "            background-color:  #e8765c;\n",
              "            color:  #000000;\n",
              "        }    #T_2dac6aec_f939_11ea_bcca_0242ac1c0002row4_col0 {\n",
              "            background-color:  #465ecf;\n",
              "            color:  #f1f1f1;\n",
              "        }    #T_2dac6aec_f939_11ea_bcca_0242ac1c0002row4_col1 {\n",
              "            background-color:  #3b4cc0;\n",
              "            color:  #f1f1f1;\n",
              "        }    #T_2dac6aec_f939_11ea_bcca_0242ac1c0002row4_col2 {\n",
              "            background-color:  #3b4cc0;\n",
              "            color:  #f1f1f1;\n",
              "        }    #T_2dac6aec_f939_11ea_bcca_0242ac1c0002row4_col3 {\n",
              "            background-color:  #bed2f6;\n",
              "            color:  #000000;\n",
              "        }    #T_2dac6aec_f939_11ea_bcca_0242ac1c0002row4_col4 {\n",
              "            background-color:  #b40426;\n",
              "            color:  #f1f1f1;\n",
              "        }    #T_2dac6aec_f939_11ea_bcca_0242ac1c0002row4_col5 {\n",
              "            background-color:  #3b4cc0;\n",
              "            color:  #f1f1f1;\n",
              "        }    #T_2dac6aec_f939_11ea_bcca_0242ac1c0002row4_col6 {\n",
              "            background-color:  #e6d7cf;\n",
              "            color:  #000000;\n",
              "        }    #T_2dac6aec_f939_11ea_bcca_0242ac1c0002row4_col7 {\n",
              "            background-color:  #d3dbe7;\n",
              "            color:  #000000;\n",
              "        }    #T_2dac6aec_f939_11ea_bcca_0242ac1c0002row5_col0 {\n",
              "            background-color:  #3b4cc0;\n",
              "            color:  #f1f1f1;\n",
              "        }    #T_2dac6aec_f939_11ea_bcca_0242ac1c0002row5_col1 {\n",
              "            background-color:  #5470de;\n",
              "            color:  #000000;\n",
              "        }    #T_2dac6aec_f939_11ea_bcca_0242ac1c0002row5_col2 {\n",
              "            background-color:  #445acc;\n",
              "            color:  #f1f1f1;\n",
              "        }    #T_2dac6aec_f939_11ea_bcca_0242ac1c0002row5_col3 {\n",
              "            background-color:  #c1d4f4;\n",
              "            color:  #000000;\n",
              "        }    #T_2dac6aec_f939_11ea_bcca_0242ac1c0002row5_col4 {\n",
              "            background-color:  #3b4cc0;\n",
              "            color:  #f1f1f1;\n",
              "        }    #T_2dac6aec_f939_11ea_bcca_0242ac1c0002row5_col5 {\n",
              "            background-color:  #b40426;\n",
              "            color:  #f1f1f1;\n",
              "        }    #T_2dac6aec_f939_11ea_bcca_0242ac1c0002row5_col6 {\n",
              "            background-color:  #d3dbe7;\n",
              "            color:  #000000;\n",
              "        }    #T_2dac6aec_f939_11ea_bcca_0242ac1c0002row5_col7 {\n",
              "            background-color:  #e6d7cf;\n",
              "            color:  #000000;\n",
              "        }    #T_2dac6aec_f939_11ea_bcca_0242ac1c0002row6_col0 {\n",
              "            background-color:  #465ecf;\n",
              "            color:  #f1f1f1;\n",
              "        }    #T_2dac6aec_f939_11ea_bcca_0242ac1c0002row6_col1 {\n",
              "            background-color:  #465ecf;\n",
              "            color:  #f1f1f1;\n",
              "        }    #T_2dac6aec_f939_11ea_bcca_0242ac1c0002row6_col2 {\n",
              "            background-color:  #3b4cc0;\n",
              "            color:  #f1f1f1;\n",
              "        }    #T_2dac6aec_f939_11ea_bcca_0242ac1c0002row6_col3 {\n",
              "            background-color:  #3b4cc0;\n",
              "            color:  #f1f1f1;\n",
              "        }    #T_2dac6aec_f939_11ea_bcca_0242ac1c0002row6_col4 {\n",
              "            background-color:  #e6d7cf;\n",
              "            color:  #000000;\n",
              "        }    #T_2dac6aec_f939_11ea_bcca_0242ac1c0002row6_col5 {\n",
              "            background-color:  #d3dbe7;\n",
              "            color:  #000000;\n",
              "        }    #T_2dac6aec_f939_11ea_bcca_0242ac1c0002row6_col6 {\n",
              "            background-color:  #b40426;\n",
              "            color:  #f1f1f1;\n",
              "        }    #T_2dac6aec_f939_11ea_bcca_0242ac1c0002row6_col7 {\n",
              "            background-color:  #3b4cc0;\n",
              "            color:  #f1f1f1;\n",
              "        }    #T_2dac6aec_f939_11ea_bcca_0242ac1c0002row7_col0 {\n",
              "            background-color:  #3b4cc0;\n",
              "            color:  #f1f1f1;\n",
              "        }    #T_2dac6aec_f939_11ea_bcca_0242ac1c0002row7_col1 {\n",
              "            background-color:  #485fd1;\n",
              "            color:  #f1f1f1;\n",
              "        }    #T_2dac6aec_f939_11ea_bcca_0242ac1c0002row7_col2 {\n",
              "            background-color:  #445acc;\n",
              "            color:  #f1f1f1;\n",
              "        }    #T_2dac6aec_f939_11ea_bcca_0242ac1c0002row7_col3 {\n",
              "            background-color:  #ee8468;\n",
              "            color:  #000000;\n",
              "        }    #T_2dac6aec_f939_11ea_bcca_0242ac1c0002row7_col4 {\n",
              "            background-color:  #d3dbe7;\n",
              "            color:  #000000;\n",
              "        }    #T_2dac6aec_f939_11ea_bcca_0242ac1c0002row7_col5 {\n",
              "            background-color:  #e6d7cf;\n",
              "            color:  #000000;\n",
              "        }    #T_2dac6aec_f939_11ea_bcca_0242ac1c0002row7_col6 {\n",
              "            background-color:  #3b4cc0;\n",
              "            color:  #f1f1f1;\n",
              "        }    #T_2dac6aec_f939_11ea_bcca_0242ac1c0002row7_col7 {\n",
              "            background-color:  #b40426;\n",
              "            color:  #f1f1f1;\n",
              "        }</style><table id=\"T_2dac6aec_f939_11ea_bcca_0242ac1c0002\" ><thead>    <tr>        <th class=\"blank level0\" ></th>        <th class=\"col_heading level0 col0\" >age</th>        <th class=\"col_heading level0 col1\" >bmi</th>        <th class=\"col_heading level0 col2\" >children</th>        <th class=\"col_heading level0 col3\" >charges</th>        <th class=\"col_heading level0 col4\" >female</th>        <th class=\"col_heading level0 col5\" >male</th>        <th class=\"col_heading level0 col6\" >no</th>        <th class=\"col_heading level0 col7\" >yes</th>    </tr></thead><tbody>\n",
              "                <tr>\n",
              "                        <th id=\"T_2dac6aec_f939_11ea_bcca_0242ac1c0002level0_row0\" class=\"row_heading level0 row0\" >age</th>\n",
              "                        <td id=\"T_2dac6aec_f939_11ea_bcca_0242ac1c0002row0_col0\" class=\"data row0 col0\" >1.00</td>\n",
              "                        <td id=\"T_2dac6aec_f939_11ea_bcca_0242ac1c0002row0_col1\" class=\"data row0 col1\" >0.11</td>\n",
              "                        <td id=\"T_2dac6aec_f939_11ea_bcca_0242ac1c0002row0_col2\" class=\"data row0 col2\" >0.06</td>\n",
              "                        <td id=\"T_2dac6aec_f939_11ea_bcca_0242ac1c0002row0_col3\" class=\"data row0 col3\" >0.53</td>\n",
              "                        <td id=\"T_2dac6aec_f939_11ea_bcca_0242ac1c0002row0_col4\" class=\"data row0 col4\" >0.02</td>\n",
              "                        <td id=\"T_2dac6aec_f939_11ea_bcca_0242ac1c0002row0_col5\" class=\"data row0 col5\" >-0.02</td>\n",
              "                        <td id=\"T_2dac6aec_f939_11ea_bcca_0242ac1c0002row0_col6\" class=\"data row0 col6\" >0.02</td>\n",
              "                        <td id=\"T_2dac6aec_f939_11ea_bcca_0242ac1c0002row0_col7\" class=\"data row0 col7\" >-0.02</td>\n",
              "            </tr>\n",
              "            <tr>\n",
              "                        <th id=\"T_2dac6aec_f939_11ea_bcca_0242ac1c0002level0_row1\" class=\"row_heading level0 row1\" >bmi</th>\n",
              "                        <td id=\"T_2dac6aec_f939_11ea_bcca_0242ac1c0002row1_col0\" class=\"data row1 col0\" >0.11</td>\n",
              "                        <td id=\"T_2dac6aec_f939_11ea_bcca_0242ac1c0002row1_col1\" class=\"data row1 col1\" >1.00</td>\n",
              "                        <td id=\"T_2dac6aec_f939_11ea_bcca_0242ac1c0002row1_col2\" class=\"data row1 col2\" >0.02</td>\n",
              "                        <td id=\"T_2dac6aec_f939_11ea_bcca_0242ac1c0002row1_col3\" class=\"data row1 col3\" >0.12</td>\n",
              "                        <td id=\"T_2dac6aec_f939_11ea_bcca_0242ac1c0002row1_col4\" class=\"data row1 col4\" >-0.04</td>\n",
              "                        <td id=\"T_2dac6aec_f939_11ea_bcca_0242ac1c0002row1_col5\" class=\"data row1 col5\" >0.04</td>\n",
              "                        <td id=\"T_2dac6aec_f939_11ea_bcca_0242ac1c0002row1_col6\" class=\"data row1 col6\" >-0.00</td>\n",
              "                        <td id=\"T_2dac6aec_f939_11ea_bcca_0242ac1c0002row1_col7\" class=\"data row1 col7\" >0.00</td>\n",
              "            </tr>\n",
              "            <tr>\n",
              "                        <th id=\"T_2dac6aec_f939_11ea_bcca_0242ac1c0002level0_row2\" class=\"row_heading level0 row2\" >children</th>\n",
              "                        <td id=\"T_2dac6aec_f939_11ea_bcca_0242ac1c0002row2_col0\" class=\"data row2 col0\" >0.06</td>\n",
              "                        <td id=\"T_2dac6aec_f939_11ea_bcca_0242ac1c0002row2_col1\" class=\"data row2 col1\" >0.02</td>\n",
              "                        <td id=\"T_2dac6aec_f939_11ea_bcca_0242ac1c0002row2_col2\" class=\"data row2 col2\" >1.00</td>\n",
              "                        <td id=\"T_2dac6aec_f939_11ea_bcca_0242ac1c0002row2_col3\" class=\"data row2 col3\" >0.13</td>\n",
              "                        <td id=\"T_2dac6aec_f939_11ea_bcca_0242ac1c0002row2_col4\" class=\"data row2 col4\" >-0.02</td>\n",
              "                        <td id=\"T_2dac6aec_f939_11ea_bcca_0242ac1c0002row2_col5\" class=\"data row2 col5\" >0.02</td>\n",
              "                        <td id=\"T_2dac6aec_f939_11ea_bcca_0242ac1c0002row2_col6\" class=\"data row2 col6\" >-0.02</td>\n",
              "                        <td id=\"T_2dac6aec_f939_11ea_bcca_0242ac1c0002row2_col7\" class=\"data row2 col7\" >0.02</td>\n",
              "            </tr>\n",
              "            <tr>\n",
              "                        <th id=\"T_2dac6aec_f939_11ea_bcca_0242ac1c0002level0_row3\" class=\"row_heading level0 row3\" >charges</th>\n",
              "                        <td id=\"T_2dac6aec_f939_11ea_bcca_0242ac1c0002row3_col0\" class=\"data row3 col0\" >0.53</td>\n",
              "                        <td id=\"T_2dac6aec_f939_11ea_bcca_0242ac1c0002row3_col1\" class=\"data row3 col1\" >0.12</td>\n",
              "                        <td id=\"T_2dac6aec_f939_11ea_bcca_0242ac1c0002row3_col2\" class=\"data row3 col2\" >0.13</td>\n",
              "                        <td id=\"T_2dac6aec_f939_11ea_bcca_0242ac1c0002row3_col3\" class=\"data row3 col3\" >1.00</td>\n",
              "                        <td id=\"T_2dac6aec_f939_11ea_bcca_0242ac1c0002row3_col4\" class=\"data row3 col4\" >-0.01</td>\n",
              "                        <td id=\"T_2dac6aec_f939_11ea_bcca_0242ac1c0002row3_col5\" class=\"data row3 col5\" >0.01</td>\n",
              "                        <td id=\"T_2dac6aec_f939_11ea_bcca_0242ac1c0002row3_col6\" class=\"data row3 col6\" >-0.66</td>\n",
              "                        <td id=\"T_2dac6aec_f939_11ea_bcca_0242ac1c0002row3_col7\" class=\"data row3 col7\" >0.66</td>\n",
              "            </tr>\n",
              "            <tr>\n",
              "                        <th id=\"T_2dac6aec_f939_11ea_bcca_0242ac1c0002level0_row4\" class=\"row_heading level0 row4\" >female</th>\n",
              "                        <td id=\"T_2dac6aec_f939_11ea_bcca_0242ac1c0002row4_col0\" class=\"data row4 col0\" >0.02</td>\n",
              "                        <td id=\"T_2dac6aec_f939_11ea_bcca_0242ac1c0002row4_col1\" class=\"data row4 col1\" >-0.04</td>\n",
              "                        <td id=\"T_2dac6aec_f939_11ea_bcca_0242ac1c0002row4_col2\" class=\"data row4 col2\" >-0.02</td>\n",
              "                        <td id=\"T_2dac6aec_f939_11ea_bcca_0242ac1c0002row4_col3\" class=\"data row4 col3\" >-0.01</td>\n",
              "                        <td id=\"T_2dac6aec_f939_11ea_bcca_0242ac1c0002row4_col4\" class=\"data row4 col4\" >1.00</td>\n",
              "                        <td id=\"T_2dac6aec_f939_11ea_bcca_0242ac1c0002row4_col5\" class=\"data row4 col5\" >-1.00</td>\n",
              "                        <td id=\"T_2dac6aec_f939_11ea_bcca_0242ac1c0002row4_col6\" class=\"data row4 col6\" >0.08</td>\n",
              "                        <td id=\"T_2dac6aec_f939_11ea_bcca_0242ac1c0002row4_col7\" class=\"data row4 col7\" >-0.08</td>\n",
              "            </tr>\n",
              "            <tr>\n",
              "                        <th id=\"T_2dac6aec_f939_11ea_bcca_0242ac1c0002level0_row5\" class=\"row_heading level0 row5\" >male</th>\n",
              "                        <td id=\"T_2dac6aec_f939_11ea_bcca_0242ac1c0002row5_col0\" class=\"data row5 col0\" >-0.02</td>\n",
              "                        <td id=\"T_2dac6aec_f939_11ea_bcca_0242ac1c0002row5_col1\" class=\"data row5 col1\" >0.04</td>\n",
              "                        <td id=\"T_2dac6aec_f939_11ea_bcca_0242ac1c0002row5_col2\" class=\"data row5 col2\" >0.02</td>\n",
              "                        <td id=\"T_2dac6aec_f939_11ea_bcca_0242ac1c0002row5_col3\" class=\"data row5 col3\" >0.01</td>\n",
              "                        <td id=\"T_2dac6aec_f939_11ea_bcca_0242ac1c0002row5_col4\" class=\"data row5 col4\" >-1.00</td>\n",
              "                        <td id=\"T_2dac6aec_f939_11ea_bcca_0242ac1c0002row5_col5\" class=\"data row5 col5\" >1.00</td>\n",
              "                        <td id=\"T_2dac6aec_f939_11ea_bcca_0242ac1c0002row5_col6\" class=\"data row5 col6\" >-0.08</td>\n",
              "                        <td id=\"T_2dac6aec_f939_11ea_bcca_0242ac1c0002row5_col7\" class=\"data row5 col7\" >0.08</td>\n",
              "            </tr>\n",
              "            <tr>\n",
              "                        <th id=\"T_2dac6aec_f939_11ea_bcca_0242ac1c0002level0_row6\" class=\"row_heading level0 row6\" >no</th>\n",
              "                        <td id=\"T_2dac6aec_f939_11ea_bcca_0242ac1c0002row6_col0\" class=\"data row6 col0\" >0.02</td>\n",
              "                        <td id=\"T_2dac6aec_f939_11ea_bcca_0242ac1c0002row6_col1\" class=\"data row6 col1\" >-0.00</td>\n",
              "                        <td id=\"T_2dac6aec_f939_11ea_bcca_0242ac1c0002row6_col2\" class=\"data row6 col2\" >-0.02</td>\n",
              "                        <td id=\"T_2dac6aec_f939_11ea_bcca_0242ac1c0002row6_col3\" class=\"data row6 col3\" >-0.66</td>\n",
              "                        <td id=\"T_2dac6aec_f939_11ea_bcca_0242ac1c0002row6_col4\" class=\"data row6 col4\" >0.08</td>\n",
              "                        <td id=\"T_2dac6aec_f939_11ea_bcca_0242ac1c0002row6_col5\" class=\"data row6 col5\" >-0.08</td>\n",
              "                        <td id=\"T_2dac6aec_f939_11ea_bcca_0242ac1c0002row6_col6\" class=\"data row6 col6\" >1.00</td>\n",
              "                        <td id=\"T_2dac6aec_f939_11ea_bcca_0242ac1c0002row6_col7\" class=\"data row6 col7\" >-1.00</td>\n",
              "            </tr>\n",
              "            <tr>\n",
              "                        <th id=\"T_2dac6aec_f939_11ea_bcca_0242ac1c0002level0_row7\" class=\"row_heading level0 row7\" >yes</th>\n",
              "                        <td id=\"T_2dac6aec_f939_11ea_bcca_0242ac1c0002row7_col0\" class=\"data row7 col0\" >-0.02</td>\n",
              "                        <td id=\"T_2dac6aec_f939_11ea_bcca_0242ac1c0002row7_col1\" class=\"data row7 col1\" >0.00</td>\n",
              "                        <td id=\"T_2dac6aec_f939_11ea_bcca_0242ac1c0002row7_col2\" class=\"data row7 col2\" >0.02</td>\n",
              "                        <td id=\"T_2dac6aec_f939_11ea_bcca_0242ac1c0002row7_col3\" class=\"data row7 col3\" >0.66</td>\n",
              "                        <td id=\"T_2dac6aec_f939_11ea_bcca_0242ac1c0002row7_col4\" class=\"data row7 col4\" >-0.08</td>\n",
              "                        <td id=\"T_2dac6aec_f939_11ea_bcca_0242ac1c0002row7_col5\" class=\"data row7 col5\" >0.08</td>\n",
              "                        <td id=\"T_2dac6aec_f939_11ea_bcca_0242ac1c0002row7_col6\" class=\"data row7 col6\" >-1.00</td>\n",
              "                        <td id=\"T_2dac6aec_f939_11ea_bcca_0242ac1c0002row7_col7\" class=\"data row7 col7\" >1.00</td>\n",
              "            </tr>\n",
              "    </tbody></table>"
            ],
            "text/plain": [
              "<pandas.io.formats.style.Styler at 0x7f6a561f7dd8>"
            ]
          },
          "metadata": {
            "tags": []
          },
          "execution_count": 30
        }
      ]
    },
    {
      "cell_type": "markdown",
      "metadata": {
        "id": "9Cf3Ro_e26Dy"
      },
      "source": [
        "**Definir as variáveis X e Y**\n",
        "\n",
        "Opcional (bônus) :  separar as variáveis x e y em : x_train, x_test, y_train e y_test. Você pode fazer isso manualmente por vetores ou pode utilizar o train_test_split do sklearn\n"
      ]
    },
    {
      "cell_type": "code",
      "metadata": {
        "id": "OX1HQuby3z4C"
      },
      "source": [
        "x = dataframe[['yes','no','female','male','age']]"
      ],
      "execution_count": null,
      "outputs": []
    },
    {
      "cell_type": "code",
      "metadata": {
        "id": "g2IEHjXl30AD"
      },
      "source": [
        "y = dataframe[['charges']]"
      ],
      "execution_count": null,
      "outputs": []
    },
    {
      "cell_type": "code",
      "metadata": {
        "id": "dcMwxGUISlLX"
      },
      "source": [
        "from sklearn.preprocessing import MinMaxScaler"
      ],
      "execution_count": null,
      "outputs": []
    },
    {
      "cell_type": "code",
      "metadata": {
        "id": "66ezdRrNSu-R"
      },
      "source": [
        "scaler = MinMaxScaler(feature_range=(0,1))"
      ],
      "execution_count": null,
      "outputs": []
    },
    {
      "cell_type": "code",
      "metadata": {
        "id": "ZrpBAAwETDNm"
      },
      "source": [
        "x_scaled = scaler.fit_transform(x)"
      ],
      "execution_count": null,
      "outputs": []
    },
    {
      "cell_type": "code",
      "metadata": {
        "id": "g_ebRA6YTDCR"
      },
      "source": [
        ""
      ],
      "execution_count": null,
      "outputs": []
    },
    {
      "cell_type": "code",
      "metadata": {
        "id": "-lgFwOGF_QJx"
      },
      "source": [
        "from sklearn.model_selection import train_test_split"
      ],
      "execution_count": null,
      "outputs": []
    },
    {
      "cell_type": "code",
      "metadata": {
        "id": "yx_dT93S30IZ"
      },
      "source": [
        "x_train, x_test, y_train, y_test = train_test_split(x, y, test_size=0.33, random_state=42)"
      ],
      "execution_count": null,
      "outputs": []
    },
    {
      "cell_type": "code",
      "metadata": {
        "id": "P-nL5KxNRkLA"
      },
      "source": [
        "from sklearn.tree import DecisionTreeRegressor"
      ],
      "execution_count": null,
      "outputs": []
    },
    {
      "cell_type": "code",
      "metadata": {
        "id": "58C8Sdk5Rs7x"
      },
      "source": [
        "clf_tree = DecisionTreeRegressor()"
      ],
      "execution_count": null,
      "outputs": []
    },
    {
      "cell_type": "code",
      "metadata": {
        "id": "cdrHOEj6Rssy",
        "colab": {
          "base_uri": "https://localhost:8080/",
          "height": 119
        },
        "outputId": "d4bdbbdf-01e1-46cf-8e8e-9cc3db17855f"
      },
      "source": [
        "clf_tree.fit(x_train,y_train)"
      ],
      "execution_count": null,
      "outputs": [
        {
          "output_type": "execute_result",
          "data": {
            "text/plain": [
              "DecisionTreeRegressor(ccp_alpha=0.0, criterion='mse', max_depth=None,\n",
              "                      max_features=None, max_leaf_nodes=None,\n",
              "                      min_impurity_decrease=0.0, min_impurity_split=None,\n",
              "                      min_samples_leaf=1, min_samples_split=2,\n",
              "                      min_weight_fraction_leaf=0.0, presort='deprecated',\n",
              "                      random_state=None, splitter='best')"
            ]
          },
          "metadata": {
            "tags": []
          },
          "execution_count": 40
        }
      ]
    },
    {
      "cell_type": "code",
      "metadata": {
        "id": "XJpozzwVRj_q"
      },
      "source": [
        "pred_tree = clf_tree.predict(x_test)"
      ],
      "execution_count": null,
      "outputs": []
    },
    {
      "cell_type": "code",
      "metadata": {
        "id": "p79TLSjrSFjw",
        "colab": {
          "base_uri": "https://localhost:8080/",
          "height": 34
        },
        "outputId": "e6f9b1bc-a2c3-4219-bd9f-fb7230119f30"
      },
      "source": [
        "r2_score(y_test, pred_tree)"
      ],
      "execution_count": null,
      "outputs": [
        {
          "output_type": "execute_result",
          "data": {
            "text/plain": [
              "0.609131650582838"
            ]
          },
          "metadata": {
            "tags": []
          },
          "execution_count": 42
        }
      ]
    },
    {
      "cell_type": "code",
      "metadata": {
        "id": "poYyy2diSFaa"
      },
      "source": [
        "from sklearn import tree"
      ],
      "execution_count": null,
      "outputs": []
    },
    {
      "cell_type": "code",
      "metadata": {
        "id": "14XM78ZDSQ88"
      },
      "source": [
        "import pydotplus"
      ],
      "execution_count": null,
      "outputs": []
    },
    {
      "cell_type": "code",
      "metadata": {
        "id": "BjTrThpdSX61"
      },
      "source": [
        "from IPython.display import Image"
      ],
      "execution_count": null,
      "outputs": []
    },
    {
      "cell_type": "code",
      "metadata": {
        "id": "ZHCyNH0zSdjF"
      },
      "source": [
        "dot = tree.export_graphviz(clf_tree)"
      ],
      "execution_count": null,
      "outputs": []
    },
    {
      "cell_type": "code",
      "metadata": {
        "id": "lyzsAPt0Sd7J"
      },
      "source": [
        "graph = pydotplus.graph_from_dot_data(dot)"
      ],
      "execution_count": null,
      "outputs": []
    },
    {
      "cell_type": "code",
      "metadata": {
        "id": "nwtFSHnySdyG"
      },
      "source": [
        "Image(graph.create_png())"
      ],
      "execution_count": null,
      "outputs": []
    },
    {
      "cell_type": "code",
      "metadata": {
        "id": "8oPZMUZPWV_8"
      },
      "source": [
        ""
      ],
      "execution_count": null,
      "outputs": []
    },
    {
      "cell_type": "code",
      "metadata": {
        "id": "DmLbiy7WSda8"
      },
      "source": [
        "from sklearn.ensemble import RandomForestClassifier"
      ],
      "execution_count": null,
      "outputs": []
    },
    {
      "cell_type": "code",
      "metadata": {
        "id": "5_wfBa8XS9CH"
      },
      "source": [
        "clf_random = RandomForestClassifier()"
      ],
      "execution_count": null,
      "outputs": []
    },
    {
      "cell_type": "code",
      "metadata": {
        "id": "qPhO_GvSWXYd"
      },
      "source": [
        "clf_random.fit(x_train,y_train)"
      ],
      "execution_count": null,
      "outputs": []
    },
    {
      "cell_type": "code",
      "metadata": {
        "id": "9z1mILamWXgT"
      },
      "source": [
        "pred_Random = clf_random.predict(x_test)"
      ],
      "execution_count": null,
      "outputs": []
    },
    {
      "cell_type": "code",
      "metadata": {
        "id": "mK2TG8B7WXcD"
      },
      "source": [
        "from sklearn.metrics import accuracy_score"
      ],
      "execution_count": null,
      "outputs": []
    },
    {
      "cell_type": "code",
      "metadata": {
        "id": "K768wtP8WXVk"
      },
      "source": [
        "accuracy_score(y_test, pred_Random)"
      ],
      "execution_count": null,
      "outputs": []
    },
    {
      "cell_type": "code",
      "metadata": {
        "id": "qAoT6TU2W917"
      },
      "source": [
        "for x in range(0,500):\n",
        "  clf_random = RandomForestClassifier(n_estimators=x)\n",
        "  clf_random.fit(x_train,y_train)\n",
        "  pred_Random = clf_random.predict(x_test)\n",
        "  acc = accuracy_score(y_test, pred_Random)\n",
        "  print('N arvore: {}  Acc: {}'.format(x,acc))"
      ],
      "execution_count": null,
      "outputs": []
    },
    {
      "cell_type": "code",
      "metadata": {
        "id": "gjaIrQB9W9t0"
      },
      "source": [
        "clf_random.n_estimators"
      ],
      "execution_count": null,
      "outputs": []
    },
    {
      "cell_type": "code",
      "metadata": {
        "id": "mOJAZIbAYYGj"
      },
      "source": [
        "clf_random.estimators_[2]"
      ],
      "execution_count": null,
      "outputs": []
    },
    {
      "cell_type": "code",
      "metadata": {
        "id": "P2TKEGy4YYLY"
      },
      "source": [
        ""
      ],
      "execution_count": null,
      "outputs": []
    },
    {
      "cell_type": "code",
      "metadata": {
        "id": "gMU4jxyEYX_d"
      },
      "source": [
        ""
      ],
      "execution_count": null,
      "outputs": []
    },
    {
      "cell_type": "code",
      "metadata": {
        "id": "KPvP2lSqS86A"
      },
      "source": [
        ""
      ],
      "execution_count": null,
      "outputs": []
    },
    {
      "cell_type": "code",
      "metadata": {
        "id": "KIzhK5QAOegK"
      },
      "source": [
        "from sklearn.neighbors import KNeighborsRegressor"
      ],
      "execution_count": null,
      "outputs": []
    },
    {
      "cell_type": "code",
      "metadata": {
        "id": "08JSWdfdOewt"
      },
      "source": [
        "model_KNN = KNeighborsRegressor(n_neighbors=13)"
      ],
      "execution_count": null,
      "outputs": []
    },
    {
      "cell_type": "code",
      "metadata": {
        "id": "osMuwBbOOfRQ",
        "colab": {
          "base_uri": "https://localhost:8080/",
          "height": 68
        },
        "outputId": "41874c24-6d72-468d-d8f4-0c6f2df0575d"
      },
      "source": [
        "model_KNN.fit(x_train,y_train)"
      ],
      "execution_count": null,
      "outputs": [
        {
          "output_type": "execute_result",
          "data": {
            "text/plain": [
              "KNeighborsRegressor(algorithm='auto', leaf_size=30, metric='minkowski',\n",
              "                    metric_params=None, n_jobs=None, n_neighbors=13, p=2,\n",
              "                    weights='uniform')"
            ]
          },
          "metadata": {
            "tags": []
          },
          "execution_count": 115
        }
      ]
    },
    {
      "cell_type": "code",
      "metadata": {
        "id": "fl87wIfPOfBD"
      },
      "source": [
        "pred_KNN = model_KNN.predict(x_test)"
      ],
      "execution_count": null,
      "outputs": []
    },
    {
      "cell_type": "code",
      "metadata": {
        "id": "oodLPHJNOeoJ",
        "colab": {
          "base_uri": "https://localhost:8080/",
          "height": 34
        },
        "outputId": "bfa11e6a-554b-477d-95b7-1d4de7d4e8cb"
      },
      "source": [
        "r2_score(y_test,pred_KNN)"
      ],
      "execution_count": null,
      "outputs": [
        {
          "output_type": "execute_result",
          "data": {
            "text/plain": [
              "0.5325680256176983"
            ]
          },
          "metadata": {
            "tags": []
          },
          "execution_count": 117
        }
      ]
    },
    {
      "cell_type": "code",
      "metadata": {
        "id": "CVMsdwrYOeXI"
      },
      "source": [
        "K_n = 20"
      ],
      "execution_count": null,
      "outputs": []
    },
    {
      "cell_type": "code",
      "metadata": {
        "id": "IQZIIQtrRdx2",
        "colab": {
          "base_uri": "https://localhost:8080/",
          "height": 340
        },
        "outputId": "785881df-e7f3-40c4-c43f-675dd0066508"
      },
      "source": [
        "for x in range(1, K_n):\n",
        "  model_KNN = KNeighborsRegressor(n_neighbors=x)\n",
        "  model_KNN.fit(x_train,y_train)\n",
        "  pred_KNN = model_KNN.predict(x_test)\n",
        "  R2 = r2_score(y_test,pred_KNN)\n",
        "  print(' K:{} R2:{}'.format(x,R2))"
      ],
      "execution_count": null,
      "outputs": [
        {
          "output_type": "stream",
          "text": [
            " K:1 R2:0.4897344319621062\n",
            " K:2 R2:0.6184732136142583\n",
            " K:3 R2:0.6222313766071476\n",
            " K:4 R2:0.6425482393120805\n",
            " K:5 R2:0.6505494184956406\n",
            " K:6 R2:0.6493637999739255\n",
            " K:7 R2:0.6280728631896486\n",
            " K:8 R2:0.6113701373804885\n",
            " K:9 R2:0.5967538461461841\n",
            " K:10 R2:0.5784783355182078\n",
            " K:11 R2:0.5584514700062269\n",
            " K:12 R2:0.5475384621991797\n",
            " K:13 R2:0.5325680256176983\n",
            " K:14 R2:0.5231651699789037\n",
            " K:15 R2:0.5082239048644874\n",
            " K:16 R2:0.4896834667352332\n",
            " K:17 R2:0.48835327088179203\n",
            " K:18 R2:0.474199718229132\n",
            " K:19 R2:0.45613895709795527\n"
          ],
          "name": "stdout"
        }
      ]
    },
    {
      "cell_type": "code",
      "metadata": {
        "id": "dQQvGvyKRdkE"
      },
      "source": [
        ""
      ],
      "execution_count": null,
      "outputs": []
    },
    {
      "cell_type": "markdown",
      "metadata": {
        "id": "MCjO7dbC32Gb"
      },
      "source": [
        "**Crie um modelo de regressão linear**"
      ]
    },
    {
      "cell_type": "code",
      "metadata": {
        "id": "G1pllqeK5mQk"
      },
      "source": [
        "reg = LinearRegression().fit(x, y)"
      ],
      "execution_count": null,
      "outputs": []
    },
    {
      "cell_type": "markdown",
      "metadata": {
        "id": "AjyQW2Cx44Ai"
      },
      "source": [
        "**Treine o modelo**"
      ]
    },
    {
      "cell_type": "code",
      "metadata": {
        "id": "8tHeRVBc_ebC"
      },
      "source": [
        "from xgboost import XGBClassifier"
      ],
      "execution_count": null,
      "outputs": []
    },
    {
      "cell_type": "code",
      "metadata": {
        "id": "1tBoegc_5nyK"
      },
      "source": [
        "model_arv = XGBClassifier()"
      ],
      "execution_count": null,
      "outputs": []
    },
    {
      "cell_type": "code",
      "metadata": {
        "id": "arsimszF49If",
        "colab": {
          "base_uri": "https://localhost:8080/",
          "height": 224
        },
        "outputId": "fc6b1e4c-d686-40aa-f9ad-4cac3baee39b"
      },
      "source": [
        "model_arv.fit(x_train,y_train)"
      ],
      "execution_count": null,
      "outputs": [
        {
          "output_type": "stream",
          "text": [
            "/usr/local/lib/python3.6/dist-packages/sklearn/preprocessing/_label.py:235: DataConversionWarning: A column-vector y was passed when a 1d array was expected. Please change the shape of y to (n_samples, ), for example using ravel().\n",
            "  y = column_or_1d(y, warn=True)\n",
            "/usr/local/lib/python3.6/dist-packages/sklearn/preprocessing/_label.py:268: DataConversionWarning: A column-vector y was passed when a 1d array was expected. Please change the shape of y to (n_samples, ), for example using ravel().\n",
            "  y = column_or_1d(y, warn=True)\n"
          ],
          "name": "stderr"
        },
        {
          "output_type": "execute_result",
          "data": {
            "text/plain": [
              "XGBClassifier(base_score=0.5, booster='gbtree', colsample_bylevel=1,\n",
              "              colsample_bynode=1, colsample_bytree=1, gamma=0,\n",
              "              learning_rate=0.1, max_delta_step=0, max_depth=3,\n",
              "              min_child_weight=1, missing=None, n_estimators=100, n_jobs=1,\n",
              "              nthread=None, objective='multi:softprob', random_state=0,\n",
              "              reg_alpha=0, reg_lambda=1, scale_pos_weight=1, seed=None,\n",
              "              silent=None, subsample=1, verbosity=1)"
            ]
          },
          "metadata": {
            "tags": []
          },
          "execution_count": 31
        }
      ]
    },
    {
      "cell_type": "markdown",
      "metadata": {
        "id": "nehqJDYv4_hU"
      },
      "source": [
        "**Print a equação que representa o modelo**"
      ]
    },
    {
      "cell_type": "code",
      "metadata": {
        "id": "HDkPnF5b5kR3",
        "colab": {
          "base_uri": "https://localhost:8080/",
          "height": 51
        },
        "outputId": "dadb813d-d33c-4c6e-c49a-d1b0d21192fc"
      },
      "source": [
        "print('Y = {}X {}'.format(reg.coef_,reg.intercept_))"
      ],
      "execution_count": null,
      "outputs": [
        {
          "output_type": "stream",
          "text": [
            "Y = [[ 11904.72504296 -11904.72504296    -40.06085711     40.06085711\n",
            "     273.72193045]]X [9555.83181023]\n"
          ],
          "name": "stdout"
        }
      ]
    },
    {
      "cell_type": "markdown",
      "metadata": {
        "id": "eHGa6KeR5EDx"
      },
      "source": [
        "**Print 'score' R2 do modelo**"
      ]
    },
    {
      "cell_type": "code",
      "metadata": {
        "id": "G9UIaxRl5jmc"
      },
      "source": [
        "previsao = reg.predict(x)"
      ],
      "execution_count": null,
      "outputs": []
    },
    {
      "cell_type": "code",
      "metadata": {
        "id": "8SqbzHQe7K_Y"
      },
      "source": [
        "r2 = r2_score(y,previsao)"
      ],
      "execution_count": null,
      "outputs": []
    },
    {
      "cell_type": "code",
      "metadata": {
        "id": "C_8A27Q-AoY0",
        "colab": {
          "base_uri": "https://localhost:8080/",
          "height": 34
        },
        "outputId": "b27e0ba3-e752-4f5e-86a9-b944010d0948"
      },
      "source": [
        "print(\"Coeficiente de Determinação (R2):\", r2)"
      ],
      "execution_count": null,
      "outputs": [
        {
          "output_type": "stream",
          "text": [
            "Coeficiente de Determinação (R2): 0.7188016743854042\n"
          ],
          "name": "stdout"
        }
      ]
    },
    {
      "cell_type": "markdown",
      "metadata": {
        "id": "M7oFhyZP5W0W"
      },
      "source": [
        "**Utilizar o modelo para prever o quanto você pagaria de seguro.**\n",
        "\n",
        "model_reg.predict(np.array([[seus dados de acordo com a entrada do modelo]]))"
      ]
    },
    {
      "cell_type": "code",
      "metadata": {
        "id": "SYRqSbrC5ilH",
        "colab": {
          "base_uri": "https://localhost:8080/",
          "height": 34
        },
        "outputId": "91c05ef5-cf80-4291-c287-a8601ada6308"
      },
      "source": [
        "reg.predict(np.array([[0,1,0,1,22]])) #df[['yes','no','female','male','age']]"
      ],
      "execution_count": null,
      "outputs": [
        {
          "output_type": "execute_result",
          "data": {
            "text/plain": [
              "array([[3713.05009435]])"
            ]
          },
          "metadata": {
            "tags": []
          },
          "execution_count": 36
        }
      ]
    },
    {
      "cell_type": "markdown",
      "metadata": {
        "id": "LvXjKQc36J3k"
      },
      "source": [
        "**Dataset heart.csv ----- REGRESSÃO LOGÍSTICA ------------**"
      ]
    },
    {
      "cell_type": "code",
      "metadata": {
        "id": "deBIHQDu-r10",
        "colab": {
          "resources": {
            "http://localhost:8080/nbextensions/google.colab/files.js": {
              "data": "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",
              "ok": true,
              "headers": [
                [
                  "content-type",
                  "application/javascript"
                ]
              ],
              "status": 200,
              "status_text": ""
            }
          },
          "base_uri": "https://localhost:8080/",
          "height": 72
        },
        "outputId": "4c5c3b1e-ea25-4260-8405-cdf7a05c9a3d"
      },
      "source": [
        "from google.colab import files  #biblioteca utilizada para carregar os dados para o google colab\n",
        "uploaded = files.upload()"
      ],
      "execution_count": null,
      "outputs": [
        {
          "output_type": "display_data",
          "data": {
            "text/html": [
              "\n",
              "     <input type=\"file\" id=\"files-61716fc9-3fb9-4374-b007-4236b0b7d078\" name=\"files[]\" multiple disabled\n",
              "        style=\"border:none\" />\n",
              "     <output id=\"result-61716fc9-3fb9-4374-b007-4236b0b7d078\">\n",
              "      Upload widget is only available when the cell has been executed in the\n",
              "      current browser session. Please rerun this cell to enable.\n",
              "      </output>\n",
              "      <script src=\"/nbextensions/google.colab/files.js\"></script> "
            ],
            "text/plain": [
              "<IPython.core.display.HTML object>"
            ]
          },
          "metadata": {
            "tags": []
          }
        },
        {
          "output_type": "stream",
          "text": [
            "Saving heart.csv to heart.csv\n"
          ],
          "name": "stdout"
        }
      ]
    },
    {
      "cell_type": "markdown",
      "metadata": {
        "id": "ToPMsuvf6UJN"
      },
      "source": [
        "**Apresentar informações sobre o dataset (head,info,describe)**"
      ]
    },
    {
      "cell_type": "code",
      "metadata": {
        "id": "Szj70cI46WkG"
      },
      "source": [
        "nome_do_arquivo=\"heart.csv\" \n",
        "dataframe_h = pd.read_csv(nome_do_arquivo)"
      ],
      "execution_count": null,
      "outputs": []
    },
    {
      "cell_type": "code",
      "metadata": {
        "id": "wx7fwZAY6Wxv"
      },
      "source": [
        "dataframe_h.head()"
      ],
      "execution_count": null,
      "outputs": []
    },
    {
      "cell_type": "code",
      "metadata": {
        "id": "pZ6y-FVg6XJk"
      },
      "source": [
        "dataframe_h.info()"
      ],
      "execution_count": null,
      "outputs": []
    },
    {
      "cell_type": "code",
      "metadata": {
        "id": "JJQSdqauBV3E"
      },
      "source": [
        "dataframe_h.describe()"
      ],
      "execution_count": null,
      "outputs": []
    },
    {
      "cell_type": "markdown",
      "metadata": {
        "id": "-Hee74Zx6bgK"
      },
      "source": [
        "**Verificar dados nullos e dados categóricos**"
      ]
    },
    {
      "cell_type": "code",
      "metadata": {
        "id": "O87zkk2l6gZa",
        "colab": {
          "base_uri": "https://localhost:8080/",
          "height": 272
        },
        "outputId": "4a52584c-fd2b-4ab8-83ba-b045ff838081"
      },
      "source": [
        "dataframe_h.isnull().sum()"
      ],
      "execution_count": null,
      "outputs": [
        {
          "output_type": "execute_result",
          "data": {
            "text/plain": [
              "age         0\n",
              "sex         0\n",
              "cp          0\n",
              "trestbps    0\n",
              "chol        0\n",
              "fbs         0\n",
              "restecg     0\n",
              "thalach     0\n",
              "exang       0\n",
              "oldpeak     0\n",
              "slope       0\n",
              "ca          0\n",
              "thal        0\n",
              "target      0\n",
              "dtype: int64"
            ]
          },
          "metadata": {
            "tags": []
          },
          "execution_count": 44
        }
      ]
    },
    {
      "cell_type": "markdown",
      "metadata": {
        "id": "svNK8jXh6hOR"
      },
      "source": [
        "**Verificar as correlações entre variáveis, escolher qualquer método**"
      ]
    },
    {
      "cell_type": "code",
      "metadata": {
        "id": "RTL7QJcD6jhO"
      },
      "source": [
        "corr_pearson = dataframe_h.corr(method='pearson')"
      ],
      "execution_count": null,
      "outputs": []
    },
    {
      "cell_type": "code",
      "metadata": {
        "id": "g1XEC3NC6juu",
        "colab": {
          "base_uri": "https://localhost:8080/",
          "height": 334
        },
        "outputId": "f933697d-2706-41d8-9948-cf3058fb0623"
      },
      "source": [
        "corr_pearson.style.background_gradient(cmap='coolwarm').set_precision(2)"
      ],
      "execution_count": null,
      "outputs": [
        {
          "output_type": "execute_result",
          "data": {
            "text/html": [
              "<style  type=\"text/css\" >\n",
              "    #T_a3bd68da_ee35_11ea_a331_0242ac1c0002row0_col0 {\n",
              "            background-color:  #b40426;\n",
              "            color:  #f1f1f1;\n",
              "        }    #T_a3bd68da_ee35_11ea_a331_0242ac1c0002row0_col1 {\n",
              "            background-color:  #6788ee;\n",
              "            color:  #000000;\n",
              "        }    #T_a3bd68da_ee35_11ea_a331_0242ac1c0002row0_col2 {\n",
              "            background-color:  #86a9fc;\n",
              "            color:  #000000;\n",
              "        }    #T_a3bd68da_ee35_11ea_a331_0242ac1c0002row0_col3 {\n",
              "            background-color:  #b6cefa;\n",
              "            color:  #000000;\n",
              "        }    #T_a3bd68da_ee35_11ea_a331_0242ac1c0002row0_col4 {\n",
              "            background-color:  #adc9fd;\n",
              "            color:  #000000;\n",
              "        }    #T_a3bd68da_ee35_11ea_a331_0242ac1c0002row0_col5 {\n",
              "            background-color:  #779af7;\n",
              "            color:  #000000;\n",
              "        }    #T_a3bd68da_ee35_11ea_a331_0242ac1c0002row0_col6 {\n",
              "            background-color:  #4358cb;\n",
              "            color:  #f1f1f1;\n",
              "        }    #T_a3bd68da_ee35_11ea_a331_0242ac1c0002row0_col7 {\n",
              "            background-color:  #3b4cc0;\n",
              "            color:  #f1f1f1;\n",
              "        }    #T_a3bd68da_ee35_11ea_a331_0242ac1c0002row0_col8 {\n",
              "            background-color:  #b7cff9;\n",
              "            color:  #000000;\n",
              "        }    #T_a3bd68da_ee35_11ea_a331_0242ac1c0002row0_col9 {\n",
              "            background-color:  #dcdddd;\n",
              "            color:  #000000;\n",
              "        }    #T_a3bd68da_ee35_11ea_a331_0242ac1c0002row0_col10 {\n",
              "            background-color:  #90b2fe;\n",
              "            color:  #000000;\n",
              "        }    #T_a3bd68da_ee35_11ea_a331_0242ac1c0002row0_col11 {\n",
              "            background-color:  #d7dce3;\n",
              "            color:  #000000;\n",
              "        }    #T_a3bd68da_ee35_11ea_a331_0242ac1c0002row0_col12 {\n",
              "            background-color:  #a1c0ff;\n",
              "            color:  #000000;\n",
              "        }    #T_a3bd68da_ee35_11ea_a331_0242ac1c0002row0_col13 {\n",
              "            background-color:  #688aef;\n",
              "            color:  #000000;\n",
              "        }    #T_a3bd68da_ee35_11ea_a331_0242ac1c0002row1_col0 {\n",
              "            background-color:  #80a3fa;\n",
              "            color:  #000000;\n",
              "        }    #T_a3bd68da_ee35_11ea_a331_0242ac1c0002row1_col1 {\n",
              "            background-color:  #b40426;\n",
              "            color:  #f1f1f1;\n",
              "        }    #T_a3bd68da_ee35_11ea_a331_0242ac1c0002row1_col2 {\n",
              "            background-color:  #8caffe;\n",
              "            color:  #000000;\n",
              "        }    #T_a3bd68da_ee35_11ea_a331_0242ac1c0002row1_col3 {\n",
              "            background-color:  #516ddb;\n",
              "            color:  #000000;\n",
              "        }    #T_a3bd68da_ee35_11ea_a331_0242ac1c0002row1_col4 {\n",
              "            background-color:  #3b4cc0;\n",
              "            color:  #f1f1f1;\n",
              "        }    #T_a3bd68da_ee35_11ea_a331_0242ac1c0002row1_col5 {\n",
              "            background-color:  #5f7fe8;\n",
              "            color:  #000000;\n",
              "        }    #T_a3bd68da_ee35_11ea_a331_0242ac1c0002row1_col6 {\n",
              "            background-color:  #536edd;\n",
              "            color:  #000000;\n",
              "        }    #T_a3bd68da_ee35_11ea_a331_0242ac1c0002row1_col7 {\n",
              "            background-color:  #8db0fe;\n",
              "            color:  #000000;\n",
              "        }    #T_a3bd68da_ee35_11ea_a331_0242ac1c0002row1_col8 {\n",
              "            background-color:  #c1d4f4;\n",
              "            color:  #000000;\n",
              "        }    #T_a3bd68da_ee35_11ea_a331_0242ac1c0002row1_col9 {\n",
              "            background-color:  #c9d7f0;\n",
              "            color:  #000000;\n",
              "        }    #T_a3bd68da_ee35_11ea_a331_0242ac1c0002row1_col10 {\n",
              "            background-color:  #aec9fc;\n",
              "            color:  #000000;\n",
              "        }    #T_a3bd68da_ee35_11ea_a331_0242ac1c0002row1_col11 {\n",
              "            background-color:  #b5cdfa;\n",
              "            color:  #000000;\n",
              "        }    #T_a3bd68da_ee35_11ea_a331_0242ac1c0002row1_col12 {\n",
              "            background-color:  #c4d5f3;\n",
              "            color:  #000000;\n",
              "        }    #T_a3bd68da_ee35_11ea_a331_0242ac1c0002row1_col13 {\n",
              "            background-color:  #5b7ae5;\n",
              "            color:  #000000;\n",
              "        }    #T_a3bd68da_ee35_11ea_a331_0242ac1c0002row2_col0 {\n",
              "            background-color:  #88abfd;\n",
              "            color:  #000000;\n",
              "        }    #T_a3bd68da_ee35_11ea_a331_0242ac1c0002row2_col1 {\n",
              "            background-color:  #7597f6;\n",
              "            color:  #000000;\n",
              "        }    #T_a3bd68da_ee35_11ea_a331_0242ac1c0002row2_col2 {\n",
              "            background-color:  #b40426;\n",
              "            color:  #f1f1f1;\n",
              "        }    #T_a3bd68da_ee35_11ea_a331_0242ac1c0002row2_col3 {\n",
              "            background-color:  #7093f3;\n",
              "            color:  #000000;\n",
              "        }    #T_a3bd68da_ee35_11ea_a331_0242ac1c0002row2_col4 {\n",
              "            background-color:  #5977e3;\n",
              "            color:  #000000;\n",
              "        }    #T_a3bd68da_ee35_11ea_a331_0242ac1c0002row2_col5 {\n",
              "            background-color:  #6f92f3;\n",
              "            color:  #000000;\n",
              "        }    #T_a3bd68da_ee35_11ea_a331_0242ac1c0002row2_col6 {\n",
              "            background-color:  #7093f3;\n",
              "            color:  #000000;\n",
              "        }    #T_a3bd68da_ee35_11ea_a331_0242ac1c0002row2_col7 {\n",
              "            background-color:  #dcdddd;\n",
              "            color:  #000000;\n",
              "        }    #T_a3bd68da_ee35_11ea_a331_0242ac1c0002row2_col8 {\n",
              "            background-color:  #4358cb;\n",
              "            color:  #f1f1f1;\n",
              "        }    #T_a3bd68da_ee35_11ea_a331_0242ac1c0002row2_col9 {\n",
              "            background-color:  #94b6ff;\n",
              "            color:  #000000;\n",
              "        }    #T_a3bd68da_ee35_11ea_a331_0242ac1c0002row2_col10 {\n",
              "            background-color:  #cdd9ec;\n",
              "            color:  #000000;\n",
              "        }    #T_a3bd68da_ee35_11ea_a331_0242ac1c0002row2_col11 {\n",
              "            background-color:  #6a8bef;\n",
              "            color:  #000000;\n",
              "        }    #T_a3bd68da_ee35_11ea_a331_0242ac1c0002row2_col12 {\n",
              "            background-color:  #6485ec;\n",
              "            color:  #000000;\n",
              "        }    #T_a3bd68da_ee35_11ea_a331_0242ac1c0002row2_col13 {\n",
              "            background-color:  #f2c9b4;\n",
              "            color:  #000000;\n",
              "        }    #T_a3bd68da_ee35_11ea_a331_0242ac1c0002row3_col0 {\n",
              "            background-color:  #d9dce1;\n",
              "            color:  #000000;\n",
              "        }    #T_a3bd68da_ee35_11ea_a331_0242ac1c0002row3_col1 {\n",
              "            background-color:  #7295f4;\n",
              "            color:  #000000;\n",
              "        }    #T_a3bd68da_ee35_11ea_a331_0242ac1c0002row3_col2 {\n",
              "            background-color:  #a5c3fe;\n",
              "            color:  #000000;\n",
              "        }    #T_a3bd68da_ee35_11ea_a331_0242ac1c0002row3_col3 {\n",
              "            background-color:  #b40426;\n",
              "            color:  #f1f1f1;\n",
              "        }    #T_a3bd68da_ee35_11ea_a331_0242ac1c0002row3_col4 {\n",
              "            background-color:  #93b5fe;\n",
              "            color:  #000000;\n",
              "        }    #T_a3bd68da_ee35_11ea_a331_0242ac1c0002row3_col5 {\n",
              "            background-color:  #89acfd;\n",
              "            color:  #000000;\n",
              "        }    #T_a3bd68da_ee35_11ea_a331_0242ac1c0002row3_col6 {\n",
              "            background-color:  #445acc;\n",
              "            color:  #f1f1f1;\n",
              "        }    #T_a3bd68da_ee35_11ea_a331_0242ac1c0002row3_col7 {\n",
              "            background-color:  #8db0fe;\n",
              "            color:  #000000;\n",
              "        }    #T_a3bd68da_ee35_11ea_a331_0242ac1c0002row3_col8 {\n",
              "            background-color:  #afcafc;\n",
              "            color:  #000000;\n",
              "        }    #T_a3bd68da_ee35_11ea_a331_0242ac1c0002row3_col9 {\n",
              "            background-color:  #dadce0;\n",
              "            color:  #000000;\n",
              "        }    #T_a3bd68da_ee35_11ea_a331_0242ac1c0002row3_col10 {\n",
              "            background-color:  #9bbcff;\n",
              "            color:  #000000;\n",
              "        }    #T_a3bd68da_ee35_11ea_a331_0242ac1c0002row3_col11 {\n",
              "            background-color:  #b1cbfc;\n",
              "            color:  #000000;\n",
              "        }    #T_a3bd68da_ee35_11ea_a331_0242ac1c0002row3_col12 {\n",
              "            background-color:  #9fbfff;\n",
              "            color:  #000000;\n",
              "        }    #T_a3bd68da_ee35_11ea_a331_0242ac1c0002row3_col13 {\n",
              "            background-color:  #7b9ff9;\n",
              "            color:  #000000;\n",
              "        }    #T_a3bd68da_ee35_11ea_a331_0242ac1c0002row4_col0 {\n",
              "            background-color:  #ccd9ed;\n",
              "            color:  #000000;\n",
              "        }    #T_a3bd68da_ee35_11ea_a331_0242ac1c0002row4_col1 {\n",
              "            background-color:  #4e68d8;\n",
              "            color:  #000000;\n",
              "        }    #T_a3bd68da_ee35_11ea_a331_0242ac1c0002row4_col2 {\n",
              "            background-color:  #85a8fc;\n",
              "            color:  #000000;\n",
              "        }    #T_a3bd68da_ee35_11ea_a331_0242ac1c0002row4_col3 {\n",
              "            background-color:  #86a9fc;\n",
              "            color:  #000000;\n",
              "        }    #T_a3bd68da_ee35_11ea_a331_0242ac1c0002row4_col4 {\n",
              "            background-color:  #b40426;\n",
              "            color:  #f1f1f1;\n",
              "        }    #T_a3bd68da_ee35_11ea_a331_0242ac1c0002row4_col5 {\n",
              "            background-color:  #5673e0;\n",
              "            color:  #000000;\n",
              "        }    #T_a3bd68da_ee35_11ea_a331_0242ac1c0002row4_col6 {\n",
              "            background-color:  #3b4cc0;\n",
              "            color:  #f1f1f1;\n",
              "        }    #T_a3bd68da_ee35_11ea_a331_0242ac1c0002row4_col7 {\n",
              "            background-color:  #97b8ff;\n",
              "            color:  #000000;\n",
              "        }    #T_a3bd68da_ee35_11ea_a331_0242ac1c0002row4_col8 {\n",
              "            background-color:  #afcafc;\n",
              "            color:  #000000;\n",
              "        }    #T_a3bd68da_ee35_11ea_a331_0242ac1c0002row4_col9 {\n",
              "            background-color:  #c0d4f5;\n",
              "            color:  #000000;\n",
              "        }    #T_a3bd68da_ee35_11ea_a331_0242ac1c0002row4_col10 {\n",
              "            background-color:  #b5cdfa;\n",
              "            color:  #000000;\n",
              "        }    #T_a3bd68da_ee35_11ea_a331_0242ac1c0002row4_col11 {\n",
              "            background-color:  #aac7fd;\n",
              "            color:  #000000;\n",
              "        }    #T_a3bd68da_ee35_11ea_a331_0242ac1c0002row4_col12 {\n",
              "            background-color:  #a9c6fd;\n",
              "            color:  #000000;\n",
              "        }    #T_a3bd68da_ee35_11ea_a331_0242ac1c0002row4_col13 {\n",
              "            background-color:  #8badfd;\n",
              "            color:  #000000;\n",
              "        }    #T_a3bd68da_ee35_11ea_a331_0242ac1c0002row5_col0 {\n",
              "            background-color:  #b7cff9;\n",
              "            color:  #000000;\n",
              "        }    #T_a3bd68da_ee35_11ea_a331_0242ac1c0002row5_col1 {\n",
              "            background-color:  #8fb1fe;\n",
              "            color:  #000000;\n",
              "        }    #T_a3bd68da_ee35_11ea_a331_0242ac1c0002row5_col2 {\n",
              "            background-color:  #afcafc;\n",
              "            color:  #000000;\n",
              "        }    #T_a3bd68da_ee35_11ea_a331_0242ac1c0002row5_col3 {\n",
              "            background-color:  #98b9ff;\n",
              "            color:  #000000;\n",
              "        }    #T_a3bd68da_ee35_11ea_a331_0242ac1c0002row5_col4 {\n",
              "            background-color:  #7396f5;\n",
              "            color:  #000000;\n",
              "        }    #T_a3bd68da_ee35_11ea_a331_0242ac1c0002row5_col5 {\n",
              "            background-color:  #b40426;\n",
              "            color:  #f1f1f1;\n",
              "        }    #T_a3bd68da_ee35_11ea_a331_0242ac1c0002row5_col6 {\n",
              "            background-color:  #4b64d5;\n",
              "            color:  #f1f1f1;\n",
              "        }    #T_a3bd68da_ee35_11ea_a331_0242ac1c0002row5_col7 {\n",
              "            background-color:  #97b8ff;\n",
              "            color:  #000000;\n",
              "        }    #T_a3bd68da_ee35_11ea_a331_0242ac1c0002row5_col8 {\n",
              "            background-color:  #a6c4fe;\n",
              "            color:  #000000;\n",
              "        }    #T_a3bd68da_ee35_11ea_a331_0242ac1c0002row5_col9 {\n",
              "            background-color:  #b6cefa;\n",
              "            color:  #000000;\n",
              "        }    #T_a3bd68da_ee35_11ea_a331_0242ac1c0002row5_col10 {\n",
              "            background-color:  #a9c6fd;\n",
              "            color:  #000000;\n",
              "        }    #T_a3bd68da_ee35_11ea_a331_0242ac1c0002row5_col11 {\n",
              "            background-color:  #bad0f8;\n",
              "            color:  #000000;\n",
              "        }    #T_a3bd68da_ee35_11ea_a331_0242ac1c0002row5_col12 {\n",
              "            background-color:  #86a9fc;\n",
              "            color:  #000000;\n",
              "        }    #T_a3bd68da_ee35_11ea_a331_0242ac1c0002row5_col13 {\n",
              "            background-color:  #98b9ff;\n",
              "            color:  #000000;\n",
              "        }    #T_a3bd68da_ee35_11ea_a331_0242ac1c0002row6_col0 {\n",
              "            background-color:  #7b9ff9;\n",
              "            color:  #000000;\n",
              "        }    #T_a3bd68da_ee35_11ea_a331_0242ac1c0002row6_col1 {\n",
              "            background-color:  #7295f4;\n",
              "            color:  #000000;\n",
              "        }    #T_a3bd68da_ee35_11ea_a331_0242ac1c0002row6_col2 {\n",
              "            background-color:  #a3c2fe;\n",
              "            color:  #000000;\n",
              "        }    #T_a3bd68da_ee35_11ea_a331_0242ac1c0002row6_col3 {\n",
              "            background-color:  #4257c9;\n",
              "            color:  #f1f1f1;\n",
              "        }    #T_a3bd68da_ee35_11ea_a331_0242ac1c0002row6_col4 {\n",
              "            background-color:  #465ecf;\n",
              "            color:  #f1f1f1;\n",
              "        }    #T_a3bd68da_ee35_11ea_a331_0242ac1c0002row6_col5 {\n",
              "            background-color:  #3b4cc0;\n",
              "            color:  #f1f1f1;\n",
              "        }    #T_a3bd68da_ee35_11ea_a331_0242ac1c0002row6_col6 {\n",
              "            background-color:  #b40426;\n",
              "            color:  #f1f1f1;\n",
              "        }    #T_a3bd68da_ee35_11ea_a331_0242ac1c0002row6_col7 {\n",
              "            background-color:  #a5c3fe;\n",
              "            color:  #000000;\n",
              "        }    #T_a3bd68da_ee35_11ea_a331_0242ac1c0002row6_col8 {\n",
              "            background-color:  #8fb1fe;\n",
              "            color:  #000000;\n",
              "        }    #T_a3bd68da_ee35_11ea_a331_0242ac1c0002row6_col9 {\n",
              "            background-color:  #a9c6fd;\n",
              "            color:  #000000;\n",
              "        }    #T_a3bd68da_ee35_11ea_a331_0242ac1c0002row6_col10 {\n",
              "            background-color:  #c7d7f0;\n",
              "            color:  #000000;\n",
              "        }    #T_a3bd68da_ee35_11ea_a331_0242ac1c0002row6_col11 {\n",
              "            background-color:  #85a8fc;\n",
              "            color:  #000000;\n",
              "        }    #T_a3bd68da_ee35_11ea_a331_0242ac1c0002row6_col12 {\n",
              "            background-color:  #8caffe;\n",
              "            color:  #000000;\n",
              "        }    #T_a3bd68da_ee35_11ea_a331_0242ac1c0002row6_col13 {\n",
              "            background-color:  #c0d4f5;\n",
              "            color:  #000000;\n",
              "        }    #T_a3bd68da_ee35_11ea_a331_0242ac1c0002row7_col0 {\n",
              "            background-color:  #3b4cc0;\n",
              "            color:  #f1f1f1;\n",
              "        }    #T_a3bd68da_ee35_11ea_a331_0242ac1c0002row7_col1 {\n",
              "            background-color:  #7699f6;\n",
              "            color:  #000000;\n",
              "        }    #T_a3bd68da_ee35_11ea_a331_0242ac1c0002row7_col2 {\n",
              "            background-color:  #dbdcde;\n",
              "            color:  #000000;\n",
              "        }    #T_a3bd68da_ee35_11ea_a331_0242ac1c0002row7_col3 {\n",
              "            background-color:  #5470de;\n",
              "            color:  #000000;\n",
              "        }    #T_a3bd68da_ee35_11ea_a331_0242ac1c0002row7_col4 {\n",
              "            background-color:  #6c8ff1;\n",
              "            color:  #000000;\n",
              "        }    #T_a3bd68da_ee35_11ea_a331_0242ac1c0002row7_col5 {\n",
              "            background-color:  #4f69d9;\n",
              "            color:  #000000;\n",
              "        }    #T_a3bd68da_ee35_11ea_a331_0242ac1c0002row7_col6 {\n",
              "            background-color:  #7093f3;\n",
              "            color:  #000000;\n",
              "        }    #T_a3bd68da_ee35_11ea_a331_0242ac1c0002row7_col7 {\n",
              "            background-color:  #b40426;\n",
              "            color:  #f1f1f1;\n",
              "        }    #T_a3bd68da_ee35_11ea_a331_0242ac1c0002row7_col8 {\n",
              "            background-color:  #465ecf;\n",
              "            color:  #f1f1f1;\n",
              "        }    #T_a3bd68da_ee35_11ea_a331_0242ac1c0002row7_col9 {\n",
              "            background-color:  #688aef;\n",
              "            color:  #000000;\n",
              "        }    #T_a3bd68da_ee35_11ea_a331_0242ac1c0002row7_col10 {\n",
              "            background-color:  #f3c8b2;\n",
              "            color:  #000000;\n",
              "        }    #T_a3bd68da_ee35_11ea_a331_0242ac1c0002row7_col11 {\n",
              "            background-color:  #6282ea;\n",
              "            color:  #000000;\n",
              "        }    #T_a3bd68da_ee35_11ea_a331_0242ac1c0002row7_col12 {\n",
              "            background-color:  #7699f6;\n",
              "            color:  #000000;\n",
              "        }    #T_a3bd68da_ee35_11ea_a331_0242ac1c0002row7_col13 {\n",
              "            background-color:  #f1ccb8;\n",
              "            color:  #000000;\n",
              "        }    #T_a3bd68da_ee35_11ea_a331_0242ac1c0002row8_col0 {\n",
              "            background-color:  #b1cbfc;\n",
              "            color:  #000000;\n",
              "        }    #T_a3bd68da_ee35_11ea_a331_0242ac1c0002row8_col1 {\n",
              "            background-color:  #a9c6fd;\n",
              "            color:  #000000;\n",
              "        }    #T_a3bd68da_ee35_11ea_a331_0242ac1c0002row8_col2 {\n",
              "            background-color:  #3b4cc0;\n",
              "            color:  #f1f1f1;\n",
              "        }    #T_a3bd68da_ee35_11ea_a331_0242ac1c0002row8_col3 {\n",
              "            background-color:  #7699f6;\n",
              "            color:  #000000;\n",
              "        }    #T_a3bd68da_ee35_11ea_a331_0242ac1c0002row8_col4 {\n",
              "            background-color:  #82a6fb;\n",
              "            color:  #000000;\n",
              "        }    #T_a3bd68da_ee35_11ea_a331_0242ac1c0002row8_col5 {\n",
              "            background-color:  #5977e3;\n",
              "            color:  #000000;\n",
              "        }    #T_a3bd68da_ee35_11ea_a331_0242ac1c0002row8_col6 {\n",
              "            background-color:  #4f69d9;\n",
              "            color:  #000000;\n",
              "        }    #T_a3bd68da_ee35_11ea_a331_0242ac1c0002row8_col7 {\n",
              "            background-color:  #3e51c5;\n",
              "            color:  #f1f1f1;\n",
              "        }    #T_a3bd68da_ee35_11ea_a331_0242ac1c0002row8_col8 {\n",
              "            background-color:  #b40426;\n",
              "            color:  #f1f1f1;\n",
              "        }    #T_a3bd68da_ee35_11ea_a331_0242ac1c0002row8_col9 {\n",
              "            background-color:  #e9d5cb;\n",
              "            color:  #000000;\n",
              "        }    #T_a3bd68da_ee35_11ea_a331_0242ac1c0002row8_col10 {\n",
              "            background-color:  #7b9ff9;\n",
              "            color:  #000000;\n",
              "        }    #T_a3bd68da_ee35_11ea_a331_0242ac1c0002row8_col11 {\n",
              "            background-color:  #b5cdfa;\n",
              "            color:  #000000;\n",
              "        }    #T_a3bd68da_ee35_11ea_a331_0242ac1c0002row8_col12 {\n",
              "            background-color:  #c3d5f4;\n",
              "            color:  #000000;\n",
              "        }    #T_a3bd68da_ee35_11ea_a331_0242ac1c0002row8_col13 {\n",
              "            background-color:  #3b4cc0;\n",
              "            color:  #f1f1f1;\n",
              "        }    #T_a3bd68da_ee35_11ea_a331_0242ac1c0002row9_col0 {\n",
              "            background-color:  #cbd8ee;\n",
              "            color:  #000000;\n",
              "        }    #T_a3bd68da_ee35_11ea_a331_0242ac1c0002row9_col1 {\n",
              "            background-color:  #9dbdff;\n",
              "            color:  #000000;\n",
              "        }    #T_a3bd68da_ee35_11ea_a331_0242ac1c0002row9_col2 {\n",
              "            background-color:  #7295f4;\n",
              "            color:  #000000;\n",
              "        }    #T_a3bd68da_ee35_11ea_a331_0242ac1c0002row9_col3 {\n",
              "            background-color:  #9dbdff;\n",
              "            color:  #000000;\n",
              "        }    #T_a3bd68da_ee35_11ea_a331_0242ac1c0002row9_col4 {\n",
              "            background-color:  #7ea1fa;\n",
              "            color:  #000000;\n",
              "        }    #T_a3bd68da_ee35_11ea_a331_0242ac1c0002row9_col5 {\n",
              "            background-color:  #5470de;\n",
              "            color:  #000000;\n",
              "        }    #T_a3bd68da_ee35_11ea_a331_0242ac1c0002row9_col6 {\n",
              "            background-color:  #536edd;\n",
              "            color:  #000000;\n",
              "        }    #T_a3bd68da_ee35_11ea_a331_0242ac1c0002row9_col7 {\n",
              "            background-color:  #455cce;\n",
              "            color:  #f1f1f1;\n",
              "        }    #T_a3bd68da_ee35_11ea_a331_0242ac1c0002row9_col8 {\n",
              "            background-color:  #dedcdb;\n",
              "            color:  #000000;\n",
              "        }    #T_a3bd68da_ee35_11ea_a331_0242ac1c0002row9_col9 {\n",
              "            background-color:  #b40426;\n",
              "            color:  #f1f1f1;\n",
              "        }    #T_a3bd68da_ee35_11ea_a331_0242ac1c0002row9_col10 {\n",
              "            background-color:  #3b4cc0;\n",
              "            color:  #f1f1f1;\n",
              "        }    #T_a3bd68da_ee35_11ea_a331_0242ac1c0002row9_col11 {\n",
              "            background-color:  #cdd9ec;\n",
              "            color:  #000000;\n",
              "        }    #T_a3bd68da_ee35_11ea_a331_0242ac1c0002row9_col12 {\n",
              "            background-color:  #c4d5f3;\n",
              "            color:  #000000;\n",
              "        }    #T_a3bd68da_ee35_11ea_a331_0242ac1c0002row9_col13 {\n",
              "            background-color:  #3c4ec2;\n",
              "            color:  #f1f1f1;\n",
              "        }    #T_a3bd68da_ee35_11ea_a331_0242ac1c0002row10_col0 {\n",
              "            background-color:  #6f92f3;\n",
              "            color:  #000000;\n",
              "        }    #T_a3bd68da_ee35_11ea_a331_0242ac1c0002row10_col1 {\n",
              "            background-color:  #7a9df8;\n",
              "            color:  #000000;\n",
              "        }    #T_a3bd68da_ee35_11ea_a331_0242ac1c0002row10_col2 {\n",
              "            background-color:  #b6cefa;\n",
              "            color:  #000000;\n",
              "        }    #T_a3bd68da_ee35_11ea_a331_0242ac1c0002row10_col3 {\n",
              "            background-color:  #4055c8;\n",
              "            color:  #f1f1f1;\n",
              "        }    #T_a3bd68da_ee35_11ea_a331_0242ac1c0002row10_col4 {\n",
              "            background-color:  #6e90f2;\n",
              "            color:  #000000;\n",
              "        }    #T_a3bd68da_ee35_11ea_a331_0242ac1c0002row10_col5 {\n",
              "            background-color:  #4055c8;\n",
              "            color:  #f1f1f1;\n",
              "        }    #T_a3bd68da_ee35_11ea_a331_0242ac1c0002row10_col6 {\n",
              "            background-color:  #80a3fa;\n",
              "            color:  #000000;\n",
              "        }    #T_a3bd68da_ee35_11ea_a331_0242ac1c0002row10_col7 {\n",
              "            background-color:  #ebd3c6;\n",
              "            color:  #000000;\n",
              "        }    #T_a3bd68da_ee35_11ea_a331_0242ac1c0002row10_col8 {\n",
              "            background-color:  #6180e9;\n",
              "            color:  #000000;\n",
              "        }    #T_a3bd68da_ee35_11ea_a331_0242ac1c0002row10_col9 {\n",
              "            background-color:  #3b4cc0;\n",
              "            color:  #f1f1f1;\n",
              "        }    #T_a3bd68da_ee35_11ea_a331_0242ac1c0002row10_col10 {\n",
              "            background-color:  #b40426;\n",
              "            color:  #f1f1f1;\n",
              "        }    #T_a3bd68da_ee35_11ea_a331_0242ac1c0002row10_col11 {\n",
              "            background-color:  #84a7fc;\n",
              "            color:  #000000;\n",
              "        }    #T_a3bd68da_ee35_11ea_a331_0242ac1c0002row10_col12 {\n",
              "            background-color:  #7396f5;\n",
              "            color:  #000000;\n",
              "        }    #T_a3bd68da_ee35_11ea_a331_0242ac1c0002row10_col13 {\n",
              "            background-color:  #e8d6cc;\n",
              "            color:  #000000;\n",
              "        }    #T_a3bd68da_ee35_11ea_a331_0242ac1c0002row11_col0 {\n",
              "            background-color:  #d8dce2;\n",
              "            color:  #000000;\n",
              "        }    #T_a3bd68da_ee35_11ea_a331_0242ac1c0002row11_col1 {\n",
              "            background-color:  #a2c1ff;\n",
              "            color:  #000000;\n",
              "        }    #T_a3bd68da_ee35_11ea_a331_0242ac1c0002row11_col2 {\n",
              "            background-color:  #6b8df0;\n",
              "            color:  #000000;\n",
              "        }    #T_a3bd68da_ee35_11ea_a331_0242ac1c0002row11_col3 {\n",
              "            background-color:  #81a4fb;\n",
              "            color:  #000000;\n",
              "        }    #T_a3bd68da_ee35_11ea_a331_0242ac1c0002row11_col4 {\n",
              "            background-color:  #84a7fc;\n",
              "            color:  #000000;\n",
              "        }    #T_a3bd68da_ee35_11ea_a331_0242ac1c0002row11_col5 {\n",
              "            background-color:  #7da0f9;\n",
              "            color:  #000000;\n",
              "        }    #T_a3bd68da_ee35_11ea_a331_0242ac1c0002row11_col6 {\n",
              "            background-color:  #4f69d9;\n",
              "            color:  #000000;\n",
              "        }    #T_a3bd68da_ee35_11ea_a331_0242ac1c0002row11_col7 {\n",
              "            background-color:  #6384eb;\n",
              "            color:  #000000;\n",
              "        }    #T_a3bd68da_ee35_11ea_a331_0242ac1c0002row11_col8 {\n",
              "            background-color:  #bbd1f8;\n",
              "            color:  #000000;\n",
              "        }    #T_a3bd68da_ee35_11ea_a331_0242ac1c0002row11_col9 {\n",
              "            background-color:  #dedcdb;\n",
              "            color:  #000000;\n",
              "        }    #T_a3bd68da_ee35_11ea_a331_0242ac1c0002row11_col10 {\n",
              "            background-color:  #a3c2fe;\n",
              "            color:  #000000;\n",
              "        }    #T_a3bd68da_ee35_11ea_a331_0242ac1c0002row11_col11 {\n",
              "            background-color:  #b40426;\n",
              "            color:  #f1f1f1;\n",
              "        }    #T_a3bd68da_ee35_11ea_a331_0242ac1c0002row11_col12 {\n",
              "            background-color:  #b6cefa;\n",
              "            color:  #000000;\n",
              "        }    #T_a3bd68da_ee35_11ea_a331_0242ac1c0002row11_col13 {\n",
              "            background-color:  #445acc;\n",
              "            color:  #f1f1f1;\n",
              "        }    #T_a3bd68da_ee35_11ea_a331_0242ac1c0002row12_col0 {\n",
              "            background-color:  #aac7fd;\n",
              "            color:  #000000;\n",
              "        }    #T_a3bd68da_ee35_11ea_a331_0242ac1c0002row12_col1 {\n",
              "            background-color:  #bbd1f8;\n",
              "            color:  #000000;\n",
              "        }    #T_a3bd68da_ee35_11ea_a331_0242ac1c0002row12_col2 {\n",
              "            background-color:  #6f92f3;\n",
              "            color:  #000000;\n",
              "        }    #T_a3bd68da_ee35_11ea_a331_0242ac1c0002row12_col3 {\n",
              "            background-color:  #7597f6;\n",
              "            color:  #000000;\n",
              "        }    #T_a3bd68da_ee35_11ea_a331_0242ac1c0002row12_col4 {\n",
              "            background-color:  #8caffe;\n",
              "            color:  #000000;\n",
              "        }    #T_a3bd68da_ee35_11ea_a331_0242ac1c0002row12_col5 {\n",
              "            background-color:  #4961d2;\n",
              "            color:  #f1f1f1;\n",
              "        }    #T_a3bd68da_ee35_11ea_a331_0242ac1c0002row12_col6 {\n",
              "            background-color:  #5f7fe8;\n",
              "            color:  #000000;\n",
              "        }    #T_a3bd68da_ee35_11ea_a331_0242ac1c0002row12_col7 {\n",
              "            background-color:  #81a4fb;\n",
              "            color:  #000000;\n",
              "        }    #T_a3bd68da_ee35_11ea_a331_0242ac1c0002row12_col8 {\n",
              "            background-color:  #cedaeb;\n",
              "            color:  #000000;\n",
              "        }    #T_a3bd68da_ee35_11ea_a331_0242ac1c0002row12_col9 {\n",
              "            background-color:  #dcdddd;\n",
              "            color:  #000000;\n",
              "        }    #T_a3bd68da_ee35_11ea_a331_0242ac1c0002row12_col10 {\n",
              "            background-color:  #9ebeff;\n",
              "            color:  #000000;\n",
              "        }    #T_a3bd68da_ee35_11ea_a331_0242ac1c0002row12_col11 {\n",
              "            background-color:  #bcd2f7;\n",
              "            color:  #000000;\n",
              "        }    #T_a3bd68da_ee35_11ea_a331_0242ac1c0002row12_col12 {\n",
              "            background-color:  #b40426;\n",
              "            color:  #f1f1f1;\n",
              "        }    #T_a3bd68da_ee35_11ea_a331_0242ac1c0002row12_col13 {\n",
              "            background-color:  #4e68d8;\n",
              "            color:  #000000;\n",
              "        }    #T_a3bd68da_ee35_11ea_a331_0242ac1c0002row13_col0 {\n",
              "            background-color:  #6180e9;\n",
              "            color:  #000000;\n",
              "        }    #T_a3bd68da_ee35_11ea_a331_0242ac1c0002row13_col1 {\n",
              "            background-color:  #3b4cc0;\n",
              "            color:  #f1f1f1;\n",
              "        }    #T_a3bd68da_ee35_11ea_a331_0242ac1c0002row13_col2 {\n",
              "            background-color:  #f1ccb8;\n",
              "            color:  #000000;\n",
              "        }    #T_a3bd68da_ee35_11ea_a331_0242ac1c0002row13_col3 {\n",
              "            background-color:  #3b4cc0;\n",
              "            color:  #f1f1f1;\n",
              "        }    #T_a3bd68da_ee35_11ea_a331_0242ac1c0002row13_col4 {\n",
              "            background-color:  #5875e1;\n",
              "            color:  #000000;\n",
              "        }    #T_a3bd68da_ee35_11ea_a331_0242ac1c0002row13_col5 {\n",
              "            background-color:  #4a63d3;\n",
              "            color:  #f1f1f1;\n",
              "        }    #T_a3bd68da_ee35_11ea_a331_0242ac1c0002row13_col6 {\n",
              "            background-color:  #8db0fe;\n",
              "            color:  #000000;\n",
              "        }    #T_a3bd68da_ee35_11ea_a331_0242ac1c0002row13_col7 {\n",
              "            background-color:  #f0cdbb;\n",
              "            color:  #000000;\n",
              "        }    #T_a3bd68da_ee35_11ea_a331_0242ac1c0002row13_col8 {\n",
              "            background-color:  #3b4cc0;\n",
              "            color:  #f1f1f1;\n",
              "        }    #T_a3bd68da_ee35_11ea_a331_0242ac1c0002row13_col9 {\n",
              "            background-color:  #5673e0;\n",
              "            color:  #000000;\n",
              "        }    #T_a3bd68da_ee35_11ea_a331_0242ac1c0002row13_col10 {\n",
              "            background-color:  #efcebd;\n",
              "            color:  #000000;\n",
              "        }    #T_a3bd68da_ee35_11ea_a331_0242ac1c0002row13_col11 {\n",
              "            background-color:  #3b4cc0;\n",
              "            color:  #f1f1f1;\n",
              "        }    #T_a3bd68da_ee35_11ea_a331_0242ac1c0002row13_col12 {\n",
              "            background-color:  #3b4cc0;\n",
              "            color:  #f1f1f1;\n",
              "        }    #T_a3bd68da_ee35_11ea_a331_0242ac1c0002row13_col13 {\n",
              "            background-color:  #b40426;\n",
              "            color:  #f1f1f1;\n",
              "        }</style><table id=\"T_a3bd68da_ee35_11ea_a331_0242ac1c0002\" ><thead>    <tr>        <th class=\"blank level0\" ></th>        <th class=\"col_heading level0 col0\" >age</th>        <th class=\"col_heading level0 col1\" >sex</th>        <th class=\"col_heading level0 col2\" >cp</th>        <th class=\"col_heading level0 col3\" >trestbps</th>        <th class=\"col_heading level0 col4\" >chol</th>        <th class=\"col_heading level0 col5\" >fbs</th>        <th class=\"col_heading level0 col6\" >restecg</th>        <th class=\"col_heading level0 col7\" >thalach</th>        <th class=\"col_heading level0 col8\" >exang</th>        <th class=\"col_heading level0 col9\" >oldpeak</th>        <th class=\"col_heading level0 col10\" >slope</th>        <th class=\"col_heading level0 col11\" >ca</th>        <th class=\"col_heading level0 col12\" >thal</th>        <th class=\"col_heading level0 col13\" >target</th>    </tr></thead><tbody>\n",
              "                <tr>\n",
              "                        <th id=\"T_a3bd68da_ee35_11ea_a331_0242ac1c0002level0_row0\" class=\"row_heading level0 row0\" >age</th>\n",
              "                        <td id=\"T_a3bd68da_ee35_11ea_a331_0242ac1c0002row0_col0\" class=\"data row0 col0\" >1.00</td>\n",
              "                        <td id=\"T_a3bd68da_ee35_11ea_a331_0242ac1c0002row0_col1\" class=\"data row0 col1\" >-0.10</td>\n",
              "                        <td id=\"T_a3bd68da_ee35_11ea_a331_0242ac1c0002row0_col2\" class=\"data row0 col2\" >-0.07</td>\n",
              "                        <td id=\"T_a3bd68da_ee35_11ea_a331_0242ac1c0002row0_col3\" class=\"data row0 col3\" >0.28</td>\n",
              "                        <td id=\"T_a3bd68da_ee35_11ea_a331_0242ac1c0002row0_col4\" class=\"data row0 col4\" >0.21</td>\n",
              "                        <td id=\"T_a3bd68da_ee35_11ea_a331_0242ac1c0002row0_col5\" class=\"data row0 col5\" >0.12</td>\n",
              "                        <td id=\"T_a3bd68da_ee35_11ea_a331_0242ac1c0002row0_col6\" class=\"data row0 col6\" >-0.12</td>\n",
              "                        <td id=\"T_a3bd68da_ee35_11ea_a331_0242ac1c0002row0_col7\" class=\"data row0 col7\" >-0.40</td>\n",
              "                        <td id=\"T_a3bd68da_ee35_11ea_a331_0242ac1c0002row0_col8\" class=\"data row0 col8\" >0.10</td>\n",
              "                        <td id=\"T_a3bd68da_ee35_11ea_a331_0242ac1c0002row0_col9\" class=\"data row0 col9\" >0.21</td>\n",
              "                        <td id=\"T_a3bd68da_ee35_11ea_a331_0242ac1c0002row0_col10\" class=\"data row0 col10\" >-0.17</td>\n",
              "                        <td id=\"T_a3bd68da_ee35_11ea_a331_0242ac1c0002row0_col11\" class=\"data row0 col11\" >0.28</td>\n",
              "                        <td id=\"T_a3bd68da_ee35_11ea_a331_0242ac1c0002row0_col12\" class=\"data row0 col12\" >0.07</td>\n",
              "                        <td id=\"T_a3bd68da_ee35_11ea_a331_0242ac1c0002row0_col13\" class=\"data row0 col13\" >-0.23</td>\n",
              "            </tr>\n",
              "            <tr>\n",
              "                        <th id=\"T_a3bd68da_ee35_11ea_a331_0242ac1c0002level0_row1\" class=\"row_heading level0 row1\" >sex</th>\n",
              "                        <td id=\"T_a3bd68da_ee35_11ea_a331_0242ac1c0002row1_col0\" class=\"data row1 col0\" >-0.10</td>\n",
              "                        <td id=\"T_a3bd68da_ee35_11ea_a331_0242ac1c0002row1_col1\" class=\"data row1 col1\" >1.00</td>\n",
              "                        <td id=\"T_a3bd68da_ee35_11ea_a331_0242ac1c0002row1_col2\" class=\"data row1 col2\" >-0.05</td>\n",
              "                        <td id=\"T_a3bd68da_ee35_11ea_a331_0242ac1c0002row1_col3\" class=\"data row1 col3\" >-0.06</td>\n",
              "                        <td id=\"T_a3bd68da_ee35_11ea_a331_0242ac1c0002row1_col4\" class=\"data row1 col4\" >-0.20</td>\n",
              "                        <td id=\"T_a3bd68da_ee35_11ea_a331_0242ac1c0002row1_col5\" class=\"data row1 col5\" >0.05</td>\n",
              "                        <td id=\"T_a3bd68da_ee35_11ea_a331_0242ac1c0002row1_col6\" class=\"data row1 col6\" >-0.06</td>\n",
              "                        <td id=\"T_a3bd68da_ee35_11ea_a331_0242ac1c0002row1_col7\" class=\"data row1 col7\" >-0.04</td>\n",
              "                        <td id=\"T_a3bd68da_ee35_11ea_a331_0242ac1c0002row1_col8\" class=\"data row1 col8\" >0.14</td>\n",
              "                        <td id=\"T_a3bd68da_ee35_11ea_a331_0242ac1c0002row1_col9\" class=\"data row1 col9\" >0.10</td>\n",
              "                        <td id=\"T_a3bd68da_ee35_11ea_a331_0242ac1c0002row1_col10\" class=\"data row1 col10\" >-0.03</td>\n",
              "                        <td id=\"T_a3bd68da_ee35_11ea_a331_0242ac1c0002row1_col11\" class=\"data row1 col11\" >0.12</td>\n",
              "                        <td id=\"T_a3bd68da_ee35_11ea_a331_0242ac1c0002row1_col12\" class=\"data row1 col12\" >0.21</td>\n",
              "                        <td id=\"T_a3bd68da_ee35_11ea_a331_0242ac1c0002row1_col13\" class=\"data row1 col13\" >-0.28</td>\n",
              "            </tr>\n",
              "            <tr>\n",
              "                        <th id=\"T_a3bd68da_ee35_11ea_a331_0242ac1c0002level0_row2\" class=\"row_heading level0 row2\" >cp</th>\n",
              "                        <td id=\"T_a3bd68da_ee35_11ea_a331_0242ac1c0002row2_col0\" class=\"data row2 col0\" >-0.07</td>\n",
              "                        <td id=\"T_a3bd68da_ee35_11ea_a331_0242ac1c0002row2_col1\" class=\"data row2 col1\" >-0.05</td>\n",
              "                        <td id=\"T_a3bd68da_ee35_11ea_a331_0242ac1c0002row2_col2\" class=\"data row2 col2\" >1.00</td>\n",
              "                        <td id=\"T_a3bd68da_ee35_11ea_a331_0242ac1c0002row2_col3\" class=\"data row2 col3\" >0.05</td>\n",
              "                        <td id=\"T_a3bd68da_ee35_11ea_a331_0242ac1c0002row2_col4\" class=\"data row2 col4\" >-0.08</td>\n",
              "                        <td id=\"T_a3bd68da_ee35_11ea_a331_0242ac1c0002row2_col5\" class=\"data row2 col5\" >0.09</td>\n",
              "                        <td id=\"T_a3bd68da_ee35_11ea_a331_0242ac1c0002row2_col6\" class=\"data row2 col6\" >0.04</td>\n",
              "                        <td id=\"T_a3bd68da_ee35_11ea_a331_0242ac1c0002row2_col7\" class=\"data row2 col7\" >0.30</td>\n",
              "                        <td id=\"T_a3bd68da_ee35_11ea_a331_0242ac1c0002row2_col8\" class=\"data row2 col8\" >-0.39</td>\n",
              "                        <td id=\"T_a3bd68da_ee35_11ea_a331_0242ac1c0002row2_col9\" class=\"data row2 col9\" >-0.15</td>\n",
              "                        <td id=\"T_a3bd68da_ee35_11ea_a331_0242ac1c0002row2_col10\" class=\"data row2 col10\" >0.12</td>\n",
              "                        <td id=\"T_a3bd68da_ee35_11ea_a331_0242ac1c0002row2_col11\" class=\"data row2 col11\" >-0.18</td>\n",
              "                        <td id=\"T_a3bd68da_ee35_11ea_a331_0242ac1c0002row2_col12\" class=\"data row2 col12\" >-0.16</td>\n",
              "                        <td id=\"T_a3bd68da_ee35_11ea_a331_0242ac1c0002row2_col13\" class=\"data row2 col13\" >0.43</td>\n",
              "            </tr>\n",
              "            <tr>\n",
              "                        <th id=\"T_a3bd68da_ee35_11ea_a331_0242ac1c0002level0_row3\" class=\"row_heading level0 row3\" >trestbps</th>\n",
              "                        <td id=\"T_a3bd68da_ee35_11ea_a331_0242ac1c0002row3_col0\" class=\"data row3 col0\" >0.28</td>\n",
              "                        <td id=\"T_a3bd68da_ee35_11ea_a331_0242ac1c0002row3_col1\" class=\"data row3 col1\" >-0.06</td>\n",
              "                        <td id=\"T_a3bd68da_ee35_11ea_a331_0242ac1c0002row3_col2\" class=\"data row3 col2\" >0.05</td>\n",
              "                        <td id=\"T_a3bd68da_ee35_11ea_a331_0242ac1c0002row3_col3\" class=\"data row3 col3\" >1.00</td>\n",
              "                        <td id=\"T_a3bd68da_ee35_11ea_a331_0242ac1c0002row3_col4\" class=\"data row3 col4\" >0.12</td>\n",
              "                        <td id=\"T_a3bd68da_ee35_11ea_a331_0242ac1c0002row3_col5\" class=\"data row3 col5\" >0.18</td>\n",
              "                        <td id=\"T_a3bd68da_ee35_11ea_a331_0242ac1c0002row3_col6\" class=\"data row3 col6\" >-0.11</td>\n",
              "                        <td id=\"T_a3bd68da_ee35_11ea_a331_0242ac1c0002row3_col7\" class=\"data row3 col7\" >-0.05</td>\n",
              "                        <td id=\"T_a3bd68da_ee35_11ea_a331_0242ac1c0002row3_col8\" class=\"data row3 col8\" >0.07</td>\n",
              "                        <td id=\"T_a3bd68da_ee35_11ea_a331_0242ac1c0002row3_col9\" class=\"data row3 col9\" >0.19</td>\n",
              "                        <td id=\"T_a3bd68da_ee35_11ea_a331_0242ac1c0002row3_col10\" class=\"data row3 col10\" >-0.12</td>\n",
              "                        <td id=\"T_a3bd68da_ee35_11ea_a331_0242ac1c0002row3_col11\" class=\"data row3 col11\" >0.10</td>\n",
              "                        <td id=\"T_a3bd68da_ee35_11ea_a331_0242ac1c0002row3_col12\" class=\"data row3 col12\" >0.06</td>\n",
              "                        <td id=\"T_a3bd68da_ee35_11ea_a331_0242ac1c0002row3_col13\" class=\"data row3 col13\" >-0.14</td>\n",
              "            </tr>\n",
              "            <tr>\n",
              "                        <th id=\"T_a3bd68da_ee35_11ea_a331_0242ac1c0002level0_row4\" class=\"row_heading level0 row4\" >chol</th>\n",
              "                        <td id=\"T_a3bd68da_ee35_11ea_a331_0242ac1c0002row4_col0\" class=\"data row4 col0\" >0.21</td>\n",
              "                        <td id=\"T_a3bd68da_ee35_11ea_a331_0242ac1c0002row4_col1\" class=\"data row4 col1\" >-0.20</td>\n",
              "                        <td id=\"T_a3bd68da_ee35_11ea_a331_0242ac1c0002row4_col2\" class=\"data row4 col2\" >-0.08</td>\n",
              "                        <td id=\"T_a3bd68da_ee35_11ea_a331_0242ac1c0002row4_col3\" class=\"data row4 col3\" >0.12</td>\n",
              "                        <td id=\"T_a3bd68da_ee35_11ea_a331_0242ac1c0002row4_col4\" class=\"data row4 col4\" >1.00</td>\n",
              "                        <td id=\"T_a3bd68da_ee35_11ea_a331_0242ac1c0002row4_col5\" class=\"data row4 col5\" >0.01</td>\n",
              "                        <td id=\"T_a3bd68da_ee35_11ea_a331_0242ac1c0002row4_col6\" class=\"data row4 col6\" >-0.15</td>\n",
              "                        <td id=\"T_a3bd68da_ee35_11ea_a331_0242ac1c0002row4_col7\" class=\"data row4 col7\" >-0.01</td>\n",
              "                        <td id=\"T_a3bd68da_ee35_11ea_a331_0242ac1c0002row4_col8\" class=\"data row4 col8\" >0.07</td>\n",
              "                        <td id=\"T_a3bd68da_ee35_11ea_a331_0242ac1c0002row4_col9\" class=\"data row4 col9\" >0.05</td>\n",
              "                        <td id=\"T_a3bd68da_ee35_11ea_a331_0242ac1c0002row4_col10\" class=\"data row4 col10\" >-0.00</td>\n",
              "                        <td id=\"T_a3bd68da_ee35_11ea_a331_0242ac1c0002row4_col11\" class=\"data row4 col11\" >0.07</td>\n",
              "                        <td id=\"T_a3bd68da_ee35_11ea_a331_0242ac1c0002row4_col12\" class=\"data row4 col12\" >0.10</td>\n",
              "                        <td id=\"T_a3bd68da_ee35_11ea_a331_0242ac1c0002row4_col13\" class=\"data row4 col13\" >-0.09</td>\n",
              "            </tr>\n",
              "            <tr>\n",
              "                        <th id=\"T_a3bd68da_ee35_11ea_a331_0242ac1c0002level0_row5\" class=\"row_heading level0 row5\" >fbs</th>\n",
              "                        <td id=\"T_a3bd68da_ee35_11ea_a331_0242ac1c0002row5_col0\" class=\"data row5 col0\" >0.12</td>\n",
              "                        <td id=\"T_a3bd68da_ee35_11ea_a331_0242ac1c0002row5_col1\" class=\"data row5 col1\" >0.05</td>\n",
              "                        <td id=\"T_a3bd68da_ee35_11ea_a331_0242ac1c0002row5_col2\" class=\"data row5 col2\" >0.09</td>\n",
              "                        <td id=\"T_a3bd68da_ee35_11ea_a331_0242ac1c0002row5_col3\" class=\"data row5 col3\" >0.18</td>\n",
              "                        <td id=\"T_a3bd68da_ee35_11ea_a331_0242ac1c0002row5_col4\" class=\"data row5 col4\" >0.01</td>\n",
              "                        <td id=\"T_a3bd68da_ee35_11ea_a331_0242ac1c0002row5_col5\" class=\"data row5 col5\" >1.00</td>\n",
              "                        <td id=\"T_a3bd68da_ee35_11ea_a331_0242ac1c0002row5_col6\" class=\"data row5 col6\" >-0.08</td>\n",
              "                        <td id=\"T_a3bd68da_ee35_11ea_a331_0242ac1c0002row5_col7\" class=\"data row5 col7\" >-0.01</td>\n",
              "                        <td id=\"T_a3bd68da_ee35_11ea_a331_0242ac1c0002row5_col8\" class=\"data row5 col8\" >0.03</td>\n",
              "                        <td id=\"T_a3bd68da_ee35_11ea_a331_0242ac1c0002row5_col9\" class=\"data row5 col9\" >0.01</td>\n",
              "                        <td id=\"T_a3bd68da_ee35_11ea_a331_0242ac1c0002row5_col10\" class=\"data row5 col10\" >-0.06</td>\n",
              "                        <td id=\"T_a3bd68da_ee35_11ea_a331_0242ac1c0002row5_col11\" class=\"data row5 col11\" >0.14</td>\n",
              "                        <td id=\"T_a3bd68da_ee35_11ea_a331_0242ac1c0002row5_col12\" class=\"data row5 col12\" >-0.03</td>\n",
              "                        <td id=\"T_a3bd68da_ee35_11ea_a331_0242ac1c0002row5_col13\" class=\"data row5 col13\" >-0.03</td>\n",
              "            </tr>\n",
              "            <tr>\n",
              "                        <th id=\"T_a3bd68da_ee35_11ea_a331_0242ac1c0002level0_row6\" class=\"row_heading level0 row6\" >restecg</th>\n",
              "                        <td id=\"T_a3bd68da_ee35_11ea_a331_0242ac1c0002row6_col0\" class=\"data row6 col0\" >-0.12</td>\n",
              "                        <td id=\"T_a3bd68da_ee35_11ea_a331_0242ac1c0002row6_col1\" class=\"data row6 col1\" >-0.06</td>\n",
              "                        <td id=\"T_a3bd68da_ee35_11ea_a331_0242ac1c0002row6_col2\" class=\"data row6 col2\" >0.04</td>\n",
              "                        <td id=\"T_a3bd68da_ee35_11ea_a331_0242ac1c0002row6_col3\" class=\"data row6 col3\" >-0.11</td>\n",
              "                        <td id=\"T_a3bd68da_ee35_11ea_a331_0242ac1c0002row6_col4\" class=\"data row6 col4\" >-0.15</td>\n",
              "                        <td id=\"T_a3bd68da_ee35_11ea_a331_0242ac1c0002row6_col5\" class=\"data row6 col5\" >-0.08</td>\n",
              "                        <td id=\"T_a3bd68da_ee35_11ea_a331_0242ac1c0002row6_col6\" class=\"data row6 col6\" >1.00</td>\n",
              "                        <td id=\"T_a3bd68da_ee35_11ea_a331_0242ac1c0002row6_col7\" class=\"data row6 col7\" >0.04</td>\n",
              "                        <td id=\"T_a3bd68da_ee35_11ea_a331_0242ac1c0002row6_col8\" class=\"data row6 col8\" >-0.07</td>\n",
              "                        <td id=\"T_a3bd68da_ee35_11ea_a331_0242ac1c0002row6_col9\" class=\"data row6 col9\" >-0.06</td>\n",
              "                        <td id=\"T_a3bd68da_ee35_11ea_a331_0242ac1c0002row6_col10\" class=\"data row6 col10\" >0.09</td>\n",
              "                        <td id=\"T_a3bd68da_ee35_11ea_a331_0242ac1c0002row6_col11\" class=\"data row6 col11\" >-0.07</td>\n",
              "                        <td id=\"T_a3bd68da_ee35_11ea_a331_0242ac1c0002row6_col12\" class=\"data row6 col12\" >-0.01</td>\n",
              "                        <td id=\"T_a3bd68da_ee35_11ea_a331_0242ac1c0002row6_col13\" class=\"data row6 col13\" >0.14</td>\n",
              "            </tr>\n",
              "            <tr>\n",
              "                        <th id=\"T_a3bd68da_ee35_11ea_a331_0242ac1c0002level0_row7\" class=\"row_heading level0 row7\" >thalach</th>\n",
              "                        <td id=\"T_a3bd68da_ee35_11ea_a331_0242ac1c0002row7_col0\" class=\"data row7 col0\" >-0.40</td>\n",
              "                        <td id=\"T_a3bd68da_ee35_11ea_a331_0242ac1c0002row7_col1\" class=\"data row7 col1\" >-0.04</td>\n",
              "                        <td id=\"T_a3bd68da_ee35_11ea_a331_0242ac1c0002row7_col2\" class=\"data row7 col2\" >0.30</td>\n",
              "                        <td id=\"T_a3bd68da_ee35_11ea_a331_0242ac1c0002row7_col3\" class=\"data row7 col3\" >-0.05</td>\n",
              "                        <td id=\"T_a3bd68da_ee35_11ea_a331_0242ac1c0002row7_col4\" class=\"data row7 col4\" >-0.01</td>\n",
              "                        <td id=\"T_a3bd68da_ee35_11ea_a331_0242ac1c0002row7_col5\" class=\"data row7 col5\" >-0.01</td>\n",
              "                        <td id=\"T_a3bd68da_ee35_11ea_a331_0242ac1c0002row7_col6\" class=\"data row7 col6\" >0.04</td>\n",
              "                        <td id=\"T_a3bd68da_ee35_11ea_a331_0242ac1c0002row7_col7\" class=\"data row7 col7\" >1.00</td>\n",
              "                        <td id=\"T_a3bd68da_ee35_11ea_a331_0242ac1c0002row7_col8\" class=\"data row7 col8\" >-0.38</td>\n",
              "                        <td id=\"T_a3bd68da_ee35_11ea_a331_0242ac1c0002row7_col9\" class=\"data row7 col9\" >-0.34</td>\n",
              "                        <td id=\"T_a3bd68da_ee35_11ea_a331_0242ac1c0002row7_col10\" class=\"data row7 col10\" >0.39</td>\n",
              "                        <td id=\"T_a3bd68da_ee35_11ea_a331_0242ac1c0002row7_col11\" class=\"data row7 col11\" >-0.21</td>\n",
              "                        <td id=\"T_a3bd68da_ee35_11ea_a331_0242ac1c0002row7_col12\" class=\"data row7 col12\" >-0.10</td>\n",
              "                        <td id=\"T_a3bd68da_ee35_11ea_a331_0242ac1c0002row7_col13\" class=\"data row7 col13\" >0.42</td>\n",
              "            </tr>\n",
              "            <tr>\n",
              "                        <th id=\"T_a3bd68da_ee35_11ea_a331_0242ac1c0002level0_row8\" class=\"row_heading level0 row8\" >exang</th>\n",
              "                        <td id=\"T_a3bd68da_ee35_11ea_a331_0242ac1c0002row8_col0\" class=\"data row8 col0\" >0.10</td>\n",
              "                        <td id=\"T_a3bd68da_ee35_11ea_a331_0242ac1c0002row8_col1\" class=\"data row8 col1\" >0.14</td>\n",
              "                        <td id=\"T_a3bd68da_ee35_11ea_a331_0242ac1c0002row8_col2\" class=\"data row8 col2\" >-0.39</td>\n",
              "                        <td id=\"T_a3bd68da_ee35_11ea_a331_0242ac1c0002row8_col3\" class=\"data row8 col3\" >0.07</td>\n",
              "                        <td id=\"T_a3bd68da_ee35_11ea_a331_0242ac1c0002row8_col4\" class=\"data row8 col4\" >0.07</td>\n",
              "                        <td id=\"T_a3bd68da_ee35_11ea_a331_0242ac1c0002row8_col5\" class=\"data row8 col5\" >0.03</td>\n",
              "                        <td id=\"T_a3bd68da_ee35_11ea_a331_0242ac1c0002row8_col6\" class=\"data row8 col6\" >-0.07</td>\n",
              "                        <td id=\"T_a3bd68da_ee35_11ea_a331_0242ac1c0002row8_col7\" class=\"data row8 col7\" >-0.38</td>\n",
              "                        <td id=\"T_a3bd68da_ee35_11ea_a331_0242ac1c0002row8_col8\" class=\"data row8 col8\" >1.00</td>\n",
              "                        <td id=\"T_a3bd68da_ee35_11ea_a331_0242ac1c0002row8_col9\" class=\"data row8 col9\" >0.29</td>\n",
              "                        <td id=\"T_a3bd68da_ee35_11ea_a331_0242ac1c0002row8_col10\" class=\"data row8 col10\" >-0.26</td>\n",
              "                        <td id=\"T_a3bd68da_ee35_11ea_a331_0242ac1c0002row8_col11\" class=\"data row8 col11\" >0.12</td>\n",
              "                        <td id=\"T_a3bd68da_ee35_11ea_a331_0242ac1c0002row8_col12\" class=\"data row8 col12\" >0.21</td>\n",
              "                        <td id=\"T_a3bd68da_ee35_11ea_a331_0242ac1c0002row8_col13\" class=\"data row8 col13\" >-0.44</td>\n",
              "            </tr>\n",
              "            <tr>\n",
              "                        <th id=\"T_a3bd68da_ee35_11ea_a331_0242ac1c0002level0_row9\" class=\"row_heading level0 row9\" >oldpeak</th>\n",
              "                        <td id=\"T_a3bd68da_ee35_11ea_a331_0242ac1c0002row9_col0\" class=\"data row9 col0\" >0.21</td>\n",
              "                        <td id=\"T_a3bd68da_ee35_11ea_a331_0242ac1c0002row9_col1\" class=\"data row9 col1\" >0.10</td>\n",
              "                        <td id=\"T_a3bd68da_ee35_11ea_a331_0242ac1c0002row9_col2\" class=\"data row9 col2\" >-0.15</td>\n",
              "                        <td id=\"T_a3bd68da_ee35_11ea_a331_0242ac1c0002row9_col3\" class=\"data row9 col3\" >0.19</td>\n",
              "                        <td id=\"T_a3bd68da_ee35_11ea_a331_0242ac1c0002row9_col4\" class=\"data row9 col4\" >0.05</td>\n",
              "                        <td id=\"T_a3bd68da_ee35_11ea_a331_0242ac1c0002row9_col5\" class=\"data row9 col5\" >0.01</td>\n",
              "                        <td id=\"T_a3bd68da_ee35_11ea_a331_0242ac1c0002row9_col6\" class=\"data row9 col6\" >-0.06</td>\n",
              "                        <td id=\"T_a3bd68da_ee35_11ea_a331_0242ac1c0002row9_col7\" class=\"data row9 col7\" >-0.34</td>\n",
              "                        <td id=\"T_a3bd68da_ee35_11ea_a331_0242ac1c0002row9_col8\" class=\"data row9 col8\" >0.29</td>\n",
              "                        <td id=\"T_a3bd68da_ee35_11ea_a331_0242ac1c0002row9_col9\" class=\"data row9 col9\" >1.00</td>\n",
              "                        <td id=\"T_a3bd68da_ee35_11ea_a331_0242ac1c0002row9_col10\" class=\"data row9 col10\" >-0.58</td>\n",
              "                        <td id=\"T_a3bd68da_ee35_11ea_a331_0242ac1c0002row9_col11\" class=\"data row9 col11\" >0.22</td>\n",
              "                        <td id=\"T_a3bd68da_ee35_11ea_a331_0242ac1c0002row9_col12\" class=\"data row9 col12\" >0.21</td>\n",
              "                        <td id=\"T_a3bd68da_ee35_11ea_a331_0242ac1c0002row9_col13\" class=\"data row9 col13\" >-0.43</td>\n",
              "            </tr>\n",
              "            <tr>\n",
              "                        <th id=\"T_a3bd68da_ee35_11ea_a331_0242ac1c0002level0_row10\" class=\"row_heading level0 row10\" >slope</th>\n",
              "                        <td id=\"T_a3bd68da_ee35_11ea_a331_0242ac1c0002row10_col0\" class=\"data row10 col0\" >-0.17</td>\n",
              "                        <td id=\"T_a3bd68da_ee35_11ea_a331_0242ac1c0002row10_col1\" class=\"data row10 col1\" >-0.03</td>\n",
              "                        <td id=\"T_a3bd68da_ee35_11ea_a331_0242ac1c0002row10_col2\" class=\"data row10 col2\" >0.12</td>\n",
              "                        <td id=\"T_a3bd68da_ee35_11ea_a331_0242ac1c0002row10_col3\" class=\"data row10 col3\" >-0.12</td>\n",
              "                        <td id=\"T_a3bd68da_ee35_11ea_a331_0242ac1c0002row10_col4\" class=\"data row10 col4\" >-0.00</td>\n",
              "                        <td id=\"T_a3bd68da_ee35_11ea_a331_0242ac1c0002row10_col5\" class=\"data row10 col5\" >-0.06</td>\n",
              "                        <td id=\"T_a3bd68da_ee35_11ea_a331_0242ac1c0002row10_col6\" class=\"data row10 col6\" >0.09</td>\n",
              "                        <td id=\"T_a3bd68da_ee35_11ea_a331_0242ac1c0002row10_col7\" class=\"data row10 col7\" >0.39</td>\n",
              "                        <td id=\"T_a3bd68da_ee35_11ea_a331_0242ac1c0002row10_col8\" class=\"data row10 col8\" >-0.26</td>\n",
              "                        <td id=\"T_a3bd68da_ee35_11ea_a331_0242ac1c0002row10_col9\" class=\"data row10 col9\" >-0.58</td>\n",
              "                        <td id=\"T_a3bd68da_ee35_11ea_a331_0242ac1c0002row10_col10\" class=\"data row10 col10\" >1.00</td>\n",
              "                        <td id=\"T_a3bd68da_ee35_11ea_a331_0242ac1c0002row10_col11\" class=\"data row10 col11\" >-0.08</td>\n",
              "                        <td id=\"T_a3bd68da_ee35_11ea_a331_0242ac1c0002row10_col12\" class=\"data row10 col12\" >-0.10</td>\n",
              "                        <td id=\"T_a3bd68da_ee35_11ea_a331_0242ac1c0002row10_col13\" class=\"data row10 col13\" >0.35</td>\n",
              "            </tr>\n",
              "            <tr>\n",
              "                        <th id=\"T_a3bd68da_ee35_11ea_a331_0242ac1c0002level0_row11\" class=\"row_heading level0 row11\" >ca</th>\n",
              "                        <td id=\"T_a3bd68da_ee35_11ea_a331_0242ac1c0002row11_col0\" class=\"data row11 col0\" >0.28</td>\n",
              "                        <td id=\"T_a3bd68da_ee35_11ea_a331_0242ac1c0002row11_col1\" class=\"data row11 col1\" >0.12</td>\n",
              "                        <td id=\"T_a3bd68da_ee35_11ea_a331_0242ac1c0002row11_col2\" class=\"data row11 col2\" >-0.18</td>\n",
              "                        <td id=\"T_a3bd68da_ee35_11ea_a331_0242ac1c0002row11_col3\" class=\"data row11 col3\" >0.10</td>\n",
              "                        <td id=\"T_a3bd68da_ee35_11ea_a331_0242ac1c0002row11_col4\" class=\"data row11 col4\" >0.07</td>\n",
              "                        <td id=\"T_a3bd68da_ee35_11ea_a331_0242ac1c0002row11_col5\" class=\"data row11 col5\" >0.14</td>\n",
              "                        <td id=\"T_a3bd68da_ee35_11ea_a331_0242ac1c0002row11_col6\" class=\"data row11 col6\" >-0.07</td>\n",
              "                        <td id=\"T_a3bd68da_ee35_11ea_a331_0242ac1c0002row11_col7\" class=\"data row11 col7\" >-0.21</td>\n",
              "                        <td id=\"T_a3bd68da_ee35_11ea_a331_0242ac1c0002row11_col8\" class=\"data row11 col8\" >0.12</td>\n",
              "                        <td id=\"T_a3bd68da_ee35_11ea_a331_0242ac1c0002row11_col9\" class=\"data row11 col9\" >0.22</td>\n",
              "                        <td id=\"T_a3bd68da_ee35_11ea_a331_0242ac1c0002row11_col10\" class=\"data row11 col10\" >-0.08</td>\n",
              "                        <td id=\"T_a3bd68da_ee35_11ea_a331_0242ac1c0002row11_col11\" class=\"data row11 col11\" >1.00</td>\n",
              "                        <td id=\"T_a3bd68da_ee35_11ea_a331_0242ac1c0002row11_col12\" class=\"data row11 col12\" >0.15</td>\n",
              "                        <td id=\"T_a3bd68da_ee35_11ea_a331_0242ac1c0002row11_col13\" class=\"data row11 col13\" >-0.39</td>\n",
              "            </tr>\n",
              "            <tr>\n",
              "                        <th id=\"T_a3bd68da_ee35_11ea_a331_0242ac1c0002level0_row12\" class=\"row_heading level0 row12\" >thal</th>\n",
              "                        <td id=\"T_a3bd68da_ee35_11ea_a331_0242ac1c0002row12_col0\" class=\"data row12 col0\" >0.07</td>\n",
              "                        <td id=\"T_a3bd68da_ee35_11ea_a331_0242ac1c0002row12_col1\" class=\"data row12 col1\" >0.21</td>\n",
              "                        <td id=\"T_a3bd68da_ee35_11ea_a331_0242ac1c0002row12_col2\" class=\"data row12 col2\" >-0.16</td>\n",
              "                        <td id=\"T_a3bd68da_ee35_11ea_a331_0242ac1c0002row12_col3\" class=\"data row12 col3\" >0.06</td>\n",
              "                        <td id=\"T_a3bd68da_ee35_11ea_a331_0242ac1c0002row12_col4\" class=\"data row12 col4\" >0.10</td>\n",
              "                        <td id=\"T_a3bd68da_ee35_11ea_a331_0242ac1c0002row12_col5\" class=\"data row12 col5\" >-0.03</td>\n",
              "                        <td id=\"T_a3bd68da_ee35_11ea_a331_0242ac1c0002row12_col6\" class=\"data row12 col6\" >-0.01</td>\n",
              "                        <td id=\"T_a3bd68da_ee35_11ea_a331_0242ac1c0002row12_col7\" class=\"data row12 col7\" >-0.10</td>\n",
              "                        <td id=\"T_a3bd68da_ee35_11ea_a331_0242ac1c0002row12_col8\" class=\"data row12 col8\" >0.21</td>\n",
              "                        <td id=\"T_a3bd68da_ee35_11ea_a331_0242ac1c0002row12_col9\" class=\"data row12 col9\" >0.21</td>\n",
              "                        <td id=\"T_a3bd68da_ee35_11ea_a331_0242ac1c0002row12_col10\" class=\"data row12 col10\" >-0.10</td>\n",
              "                        <td id=\"T_a3bd68da_ee35_11ea_a331_0242ac1c0002row12_col11\" class=\"data row12 col11\" >0.15</td>\n",
              "                        <td id=\"T_a3bd68da_ee35_11ea_a331_0242ac1c0002row12_col12\" class=\"data row12 col12\" >1.00</td>\n",
              "                        <td id=\"T_a3bd68da_ee35_11ea_a331_0242ac1c0002row12_col13\" class=\"data row12 col13\" >-0.34</td>\n",
              "            </tr>\n",
              "            <tr>\n",
              "                        <th id=\"T_a3bd68da_ee35_11ea_a331_0242ac1c0002level0_row13\" class=\"row_heading level0 row13\" >target</th>\n",
              "                        <td id=\"T_a3bd68da_ee35_11ea_a331_0242ac1c0002row13_col0\" class=\"data row13 col0\" >-0.23</td>\n",
              "                        <td id=\"T_a3bd68da_ee35_11ea_a331_0242ac1c0002row13_col1\" class=\"data row13 col1\" >-0.28</td>\n",
              "                        <td id=\"T_a3bd68da_ee35_11ea_a331_0242ac1c0002row13_col2\" class=\"data row13 col2\" >0.43</td>\n",
              "                        <td id=\"T_a3bd68da_ee35_11ea_a331_0242ac1c0002row13_col3\" class=\"data row13 col3\" >-0.14</td>\n",
              "                        <td id=\"T_a3bd68da_ee35_11ea_a331_0242ac1c0002row13_col4\" class=\"data row13 col4\" >-0.09</td>\n",
              "                        <td id=\"T_a3bd68da_ee35_11ea_a331_0242ac1c0002row13_col5\" class=\"data row13 col5\" >-0.03</td>\n",
              "                        <td id=\"T_a3bd68da_ee35_11ea_a331_0242ac1c0002row13_col6\" class=\"data row13 col6\" >0.14</td>\n",
              "                        <td id=\"T_a3bd68da_ee35_11ea_a331_0242ac1c0002row13_col7\" class=\"data row13 col7\" >0.42</td>\n",
              "                        <td id=\"T_a3bd68da_ee35_11ea_a331_0242ac1c0002row13_col8\" class=\"data row13 col8\" >-0.44</td>\n",
              "                        <td id=\"T_a3bd68da_ee35_11ea_a331_0242ac1c0002row13_col9\" class=\"data row13 col9\" >-0.43</td>\n",
              "                        <td id=\"T_a3bd68da_ee35_11ea_a331_0242ac1c0002row13_col10\" class=\"data row13 col10\" >0.35</td>\n",
              "                        <td id=\"T_a3bd68da_ee35_11ea_a331_0242ac1c0002row13_col11\" class=\"data row13 col11\" >-0.39</td>\n",
              "                        <td id=\"T_a3bd68da_ee35_11ea_a331_0242ac1c0002row13_col12\" class=\"data row13 col12\" >-0.34</td>\n",
              "                        <td id=\"T_a3bd68da_ee35_11ea_a331_0242ac1c0002row13_col13\" class=\"data row13 col13\" >1.00</td>\n",
              "            </tr>\n",
              "    </tbody></table>"
            ],
            "text/plain": [
              "<pandas.io.formats.style.Styler at 0x7fed8dd94a20>"
            ]
          },
          "metadata": {
            "tags": []
          },
          "execution_count": 46
        }
      ]
    },
    {
      "cell_type": "code",
      "metadata": {
        "id": "m95NLYXi6j8b"
      },
      "source": [
        "corr_spearman = dataframe_h.corr(method='spearman')"
      ],
      "execution_count": null,
      "outputs": []
    },
    {
      "cell_type": "code",
      "metadata": {
        "id": "QhL29gbOCBzm",
        "colab": {
          "base_uri": "https://localhost:8080/",
          "height": 334
        },
        "outputId": "919d7563-af80-4845-ecd8-4ec4e76e4f0f"
      },
      "source": [
        "corr_spearman.style.background_gradient(cmap='coolwarm').set_precision(2)"
      ],
      "execution_count": null,
      "outputs": [
        {
          "output_type": "execute_result",
          "data": {
            "text/html": [
              "<style  type=\"text/css\" >\n",
              "    #T_a5a611ec_ee35_11ea_a331_0242ac1c0002row0_col0 {\n",
              "            background-color:  #b40426;\n",
              "            color:  #f1f1f1;\n",
              "        }    #T_a5a611ec_ee35_11ea_a331_0242ac1c0002row0_col1 {\n",
              "            background-color:  #6788ee;\n",
              "            color:  #000000;\n",
              "        }    #T_a5a611ec_ee35_11ea_a331_0242ac1c0002row0_col2 {\n",
              "            background-color:  #86a9fc;\n",
              "            color:  #000000;\n",
              "        }    #T_a5a611ec_ee35_11ea_a331_0242ac1c0002row0_col3 {\n",
              "            background-color:  #b5cdfa;\n",
              "            color:  #000000;\n",
              "        }    #T_a5a611ec_ee35_11ea_a331_0242ac1c0002row0_col4 {\n",
              "            background-color:  #a1c0ff;\n",
              "            color:  #000000;\n",
              "        }    #T_a5a611ec_ee35_11ea_a331_0242ac1c0002row0_col5 {\n",
              "            background-color:  #7597f6;\n",
              "            color:  #000000;\n",
              "        }    #T_a5a611ec_ee35_11ea_a331_0242ac1c0002row0_col6 {\n",
              "            background-color:  #4257c9;\n",
              "            color:  #f1f1f1;\n",
              "        }    #T_a5a611ec_ee35_11ea_a331_0242ac1c0002row0_col7 {\n",
              "            background-color:  #4257c9;\n",
              "            color:  #f1f1f1;\n",
              "        }    #T_a5a611ec_ee35_11ea_a331_0242ac1c0002row0_col8 {\n",
              "            background-color:  #b5cdfa;\n",
              "            color:  #000000;\n",
              "        }    #T_a5a611ec_ee35_11ea_a331_0242ac1c0002row0_col9 {\n",
              "            background-color:  #e7d7ce;\n",
              "            color:  #000000;\n",
              "        }    #T_a5a611ec_ee35_11ea_a331_0242ac1c0002row0_col10 {\n",
              "            background-color:  #8fb1fe;\n",
              "            color:  #000000;\n",
              "        }    #T_a5a611ec_ee35_11ea_a331_0242ac1c0002row0_col11 {\n",
              "            background-color:  #e9d5cb;\n",
              "            color:  #000000;\n",
              "        }    #T_a5a611ec_ee35_11ea_a331_0242ac1c0002row0_col12 {\n",
              "            background-color:  #afcafc;\n",
              "            color:  #000000;\n",
              "        }    #T_a5a611ec_ee35_11ea_a331_0242ac1c0002row0_col13 {\n",
              "            background-color:  #6a8bef;\n",
              "            color:  #000000;\n",
              "        }    #T_a5a611ec_ee35_11ea_a331_0242ac1c0002row1_col0 {\n",
              "            background-color:  #80a3fa;\n",
              "            color:  #000000;\n",
              "        }    #T_a5a611ec_ee35_11ea_a331_0242ac1c0002row1_col1 {\n",
              "            background-color:  #b40426;\n",
              "            color:  #f1f1f1;\n",
              "        }    #T_a5a611ec_ee35_11ea_a331_0242ac1c0002row1_col2 {\n",
              "            background-color:  #8db0fe;\n",
              "            color:  #000000;\n",
              "        }    #T_a5a611ec_ee35_11ea_a331_0242ac1c0002row1_col3 {\n",
              "            background-color:  #4e68d8;\n",
              "            color:  #000000;\n",
              "        }    #T_a5a611ec_ee35_11ea_a331_0242ac1c0002row1_col4 {\n",
              "            background-color:  #3d50c3;\n",
              "            color:  #f1f1f1;\n",
              "        }    #T_a5a611ec_ee35_11ea_a331_0242ac1c0002row1_col5 {\n",
              "            background-color:  #5e7de7;\n",
              "            color:  #000000;\n",
              "        }    #T_a5a611ec_ee35_11ea_a331_0242ac1c0002row1_col6 {\n",
              "            background-color:  #5977e3;\n",
              "            color:  #000000;\n",
              "        }    #T_a5a611ec_ee35_11ea_a331_0242ac1c0002row1_col7 {\n",
              "            background-color:  #96b7ff;\n",
              "            color:  #000000;\n",
              "        }    #T_a5a611ec_ee35_11ea_a331_0242ac1c0002row1_col8 {\n",
              "            background-color:  #c1d4f4;\n",
              "            color:  #000000;\n",
              "        }    #T_a5a611ec_ee35_11ea_a331_0242ac1c0002row1_col9 {\n",
              "            background-color:  #cbd8ee;\n",
              "            color:  #000000;\n",
              "        }    #T_a5a611ec_ee35_11ea_a331_0242ac1c0002row1_col10 {\n",
              "            background-color:  #b2ccfb;\n",
              "            color:  #000000;\n",
              "        }    #T_a5a611ec_ee35_11ea_a331_0242ac1c0002row1_col11 {\n",
              "            background-color:  #bfd3f6;\n",
              "            color:  #000000;\n",
              "        }    #T_a5a611ec_ee35_11ea_a331_0242ac1c0002row1_col12 {\n",
              "            background-color:  #d4dbe6;\n",
              "            color:  #000000;\n",
              "        }    #T_a5a611ec_ee35_11ea_a331_0242ac1c0002row1_col13 {\n",
              "            background-color:  #6180e9;\n",
              "            color:  #000000;\n",
              "        }    #T_a5a611ec_ee35_11ea_a331_0242ac1c0002row2_col0 {\n",
              "            background-color:  #82a6fb;\n",
              "            color:  #000000;\n",
              "        }    #T_a5a611ec_ee35_11ea_a331_0242ac1c0002row2_col1 {\n",
              "            background-color:  #7093f3;\n",
              "            color:  #000000;\n",
              "        }    #T_a5a611ec_ee35_11ea_a331_0242ac1c0002row2_col2 {\n",
              "            background-color:  #b40426;\n",
              "            color:  #f1f1f1;\n",
              "        }    #T_a5a611ec_ee35_11ea_a331_0242ac1c0002row2_col3 {\n",
              "            background-color:  #6788ee;\n",
              "            color:  #000000;\n",
              "        }    #T_a5a611ec_ee35_11ea_a331_0242ac1c0002row2_col4 {\n",
              "            background-color:  #4c66d6;\n",
              "            color:  #000000;\n",
              "        }    #T_a5a611ec_ee35_11ea_a331_0242ac1c0002row2_col5 {\n",
              "            background-color:  #6c8ff1;\n",
              "            color:  #000000;\n",
              "        }    #T_a5a611ec_ee35_11ea_a331_0242ac1c0002row2_col6 {\n",
              "            background-color:  #7a9df8;\n",
              "            color:  #000000;\n",
              "        }    #T_a5a611ec_ee35_11ea_a331_0242ac1c0002row2_col7 {\n",
              "            background-color:  #e4d9d2;\n",
              "            color:  #000000;\n",
              "        }    #T_a5a611ec_ee35_11ea_a331_0242ac1c0002row2_col8 {\n",
              "            background-color:  #3e51c5;\n",
              "            color:  #f1f1f1;\n",
              "        }    #T_a5a611ec_ee35_11ea_a331_0242ac1c0002row2_col9 {\n",
              "            background-color:  #94b6ff;\n",
              "            color:  #000000;\n",
              "        }    #T_a5a611ec_ee35_11ea_a331_0242ac1c0002row2_col10 {\n",
              "            background-color:  #d6dce4;\n",
              "            color:  #000000;\n",
              "        }    #T_a5a611ec_ee35_11ea_a331_0242ac1c0002row2_col11 {\n",
              "            background-color:  #6f92f3;\n",
              "            color:  #000000;\n",
              "        }    #T_a5a611ec_ee35_11ea_a331_0242ac1c0002row2_col12 {\n",
              "            background-color:  #6687ed;\n",
              "            color:  #000000;\n",
              "        }    #T_a5a611ec_ee35_11ea_a331_0242ac1c0002row2_col13 {\n",
              "            background-color:  #f5c2aa;\n",
              "            color:  #000000;\n",
              "        }    #T_a5a611ec_ee35_11ea_a331_0242ac1c0002row3_col0 {\n",
              "            background-color:  #dadce0;\n",
              "            color:  #000000;\n",
              "        }    #T_a5a611ec_ee35_11ea_a331_0242ac1c0002row3_col1 {\n",
              "            background-color:  #7396f5;\n",
              "            color:  #000000;\n",
              "        }    #T_a5a611ec_ee35_11ea_a331_0242ac1c0002row3_col2 {\n",
              "            background-color:  #a5c3fe;\n",
              "            color:  #000000;\n",
              "        }    #T_a5a611ec_ee35_11ea_a331_0242ac1c0002row3_col3 {\n",
              "            background-color:  #b40426;\n",
              "            color:  #f1f1f1;\n",
              "        }    #T_a5a611ec_ee35_11ea_a331_0242ac1c0002row3_col4 {\n",
              "            background-color:  #8caffe;\n",
              "            color:  #000000;\n",
              "        }    #T_a5a611ec_ee35_11ea_a331_0242ac1c0002row3_col5 {\n",
              "            background-color:  #81a4fb;\n",
              "            color:  #000000;\n",
              "        }    #T_a5a611ec_ee35_11ea_a331_0242ac1c0002row3_col6 {\n",
              "            background-color:  #4358cb;\n",
              "            color:  #f1f1f1;\n",
              "        }    #T_a5a611ec_ee35_11ea_a331_0242ac1c0002row3_col7 {\n",
              "            background-color:  #96b7ff;\n",
              "            color:  #000000;\n",
              "        }    #T_a5a611ec_ee35_11ea_a331_0242ac1c0002row3_col8 {\n",
              "            background-color:  #adc9fd;\n",
              "            color:  #000000;\n",
              "        }    #T_a5a611ec_ee35_11ea_a331_0242ac1c0002row3_col9 {\n",
              "            background-color:  #d5dbe5;\n",
              "            color:  #000000;\n",
              "        }    #T_a5a611ec_ee35_11ea_a331_0242ac1c0002row3_col10 {\n",
              "            background-color:  #a5c3fe;\n",
              "            color:  #000000;\n",
              "        }    #T_a5a611ec_ee35_11ea_a331_0242ac1c0002row3_col11 {\n",
              "            background-color:  #b9d0f9;\n",
              "            color:  #000000;\n",
              "        }    #T_a5a611ec_ee35_11ea_a331_0242ac1c0002row3_col12 {\n",
              "            background-color:  #a9c6fd;\n",
              "            color:  #000000;\n",
              "        }    #T_a5a611ec_ee35_11ea_a331_0242ac1c0002row3_col13 {\n",
              "            background-color:  #86a9fc;\n",
              "            color:  #000000;\n",
              "        }    #T_a5a611ec_ee35_11ea_a331_0242ac1c0002row4_col0 {\n",
              "            background-color:  #c7d7f0;\n",
              "            color:  #000000;\n",
              "        }    #T_a5a611ec_ee35_11ea_a331_0242ac1c0002row4_col1 {\n",
              "            background-color:  #5977e3;\n",
              "            color:  #000000;\n",
              "        }    #T_a5a611ec_ee35_11ea_a331_0242ac1c0002row4_col2 {\n",
              "            background-color:  #85a8fc;\n",
              "            color:  #000000;\n",
              "        }    #T_a5a611ec_ee35_11ea_a331_0242ac1c0002row4_col3 {\n",
              "            background-color:  #84a7fc;\n",
              "            color:  #000000;\n",
              "        }    #T_a5a611ec_ee35_11ea_a331_0242ac1c0002row4_col4 {\n",
              "            background-color:  #b40426;\n",
              "            color:  #f1f1f1;\n",
              "        }    #T_a5a611ec_ee35_11ea_a331_0242ac1c0002row4_col5 {\n",
              "            background-color:  #5673e0;\n",
              "            color:  #000000;\n",
              "        }    #T_a5a611ec_ee35_11ea_a331_0242ac1c0002row4_col6 {\n",
              "            background-color:  #3b4cc0;\n",
              "            color:  #f1f1f1;\n",
              "        }    #T_a5a611ec_ee35_11ea_a331_0242ac1c0002row4_col7 {\n",
              "            background-color:  #94b6ff;\n",
              "            color:  #000000;\n",
              "        }    #T_a5a611ec_ee35_11ea_a331_0242ac1c0002row4_col8 {\n",
              "            background-color:  #b6cefa;\n",
              "            color:  #000000;\n",
              "        }    #T_a5a611ec_ee35_11ea_a331_0242ac1c0002row4_col9 {\n",
              "            background-color:  #c0d4f5;\n",
              "            color:  #000000;\n",
              "        }    #T_a5a611ec_ee35_11ea_a331_0242ac1c0002row4_col10 {\n",
              "            background-color:  #b5cdfa;\n",
              "            color:  #000000;\n",
              "        }    #T_a5a611ec_ee35_11ea_a331_0242ac1c0002row4_col11 {\n",
              "            background-color:  #bed2f6;\n",
              "            color:  #000000;\n",
              "        }    #T_a5a611ec_ee35_11ea_a331_0242ac1c0002row4_col12 {\n",
              "            background-color:  #aec9fc;\n",
              "            color:  #000000;\n",
              "        }    #T_a5a611ec_ee35_11ea_a331_0242ac1c0002row4_col13 {\n",
              "            background-color:  #86a9fc;\n",
              "            color:  #000000;\n",
              "        }    #T_a5a611ec_ee35_11ea_a331_0242ac1c0002row5_col0 {\n",
              "            background-color:  #b5cdfa;\n",
              "            color:  #000000;\n",
              "        }    #T_a5a611ec_ee35_11ea_a331_0242ac1c0002row5_col1 {\n",
              "            background-color:  #8fb1fe;\n",
              "            color:  #000000;\n",
              "        }    #T_a5a611ec_ee35_11ea_a331_0242ac1c0002row5_col2 {\n",
              "            background-color:  #b2ccfb;\n",
              "            color:  #000000;\n",
              "        }    #T_a5a611ec_ee35_11ea_a331_0242ac1c0002row5_col3 {\n",
              "            background-color:  #8caffe;\n",
              "            color:  #000000;\n",
              "        }    #T_a5a611ec_ee35_11ea_a331_0242ac1c0002row5_col4 {\n",
              "            background-color:  #6b8df0;\n",
              "            color:  #000000;\n",
              "        }    #T_a5a611ec_ee35_11ea_a331_0242ac1c0002row5_col5 {\n",
              "            background-color:  #b40426;\n",
              "            color:  #f1f1f1;\n",
              "        }    #T_a5a611ec_ee35_11ea_a331_0242ac1c0002row5_col6 {\n",
              "            background-color:  #4f69d9;\n",
              "            color:  #000000;\n",
              "        }    #T_a5a611ec_ee35_11ea_a331_0242ac1c0002row5_col7 {\n",
              "            background-color:  #9bbcff;\n",
              "            color:  #000000;\n",
              "        }    #T_a5a611ec_ee35_11ea_a331_0242ac1c0002row5_col8 {\n",
              "            background-color:  #a6c4fe;\n",
              "            color:  #000000;\n",
              "        }    #T_a5a611ec_ee35_11ea_a331_0242ac1c0002row5_col9 {\n",
              "            background-color:  #bed2f6;\n",
              "            color:  #000000;\n",
              "        }    #T_a5a611ec_ee35_11ea_a331_0242ac1c0002row5_col10 {\n",
              "            background-color:  #aec9fc;\n",
              "            color:  #000000;\n",
              "        }    #T_a5a611ec_ee35_11ea_a331_0242ac1c0002row5_col11 {\n",
              "            background-color:  #c1d4f4;\n",
              "            color:  #000000;\n",
              "        }    #T_a5a611ec_ee35_11ea_a331_0242ac1c0002row5_col12 {\n",
              "            background-color:  #98b9ff;\n",
              "            color:  #000000;\n",
              "        }    #T_a5a611ec_ee35_11ea_a331_0242ac1c0002row5_col13 {\n",
              "            background-color:  #9dbdff;\n",
              "            color:  #000000;\n",
              "        }    #T_a5a611ec_ee35_11ea_a331_0242ac1c0002row6_col0 {\n",
              "            background-color:  #779af7;\n",
              "            color:  #000000;\n",
              "        }    #T_a5a611ec_ee35_11ea_a331_0242ac1c0002row6_col1 {\n",
              "            background-color:  #7597f6;\n",
              "            color:  #000000;\n",
              "        }    #T_a5a611ec_ee35_11ea_a331_0242ac1c0002row6_col2 {\n",
              "            background-color:  #adc9fd;\n",
              "            color:  #000000;\n",
              "        }    #T_a5a611ec_ee35_11ea_a331_0242ac1c0002row6_col3 {\n",
              "            background-color:  #3b4cc0;\n",
              "            color:  #f1f1f1;\n",
              "        }    #T_a5a611ec_ee35_11ea_a331_0242ac1c0002row6_col4 {\n",
              "            background-color:  #3b4cc0;\n",
              "            color:  #f1f1f1;\n",
              "        }    #T_a5a611ec_ee35_11ea_a331_0242ac1c0002row6_col5 {\n",
              "            background-color:  #3b4cc0;\n",
              "            color:  #f1f1f1;\n",
              "        }    #T_a5a611ec_ee35_11ea_a331_0242ac1c0002row6_col6 {\n",
              "            background-color:  #b40426;\n",
              "            color:  #f1f1f1;\n",
              "        }    #T_a5a611ec_ee35_11ea_a331_0242ac1c0002row6_col7 {\n",
              "            background-color:  #b5cdfa;\n",
              "            color:  #000000;\n",
              "        }    #T_a5a611ec_ee35_11ea_a331_0242ac1c0002row6_col8 {\n",
              "            background-color:  #8db0fe;\n",
              "            color:  #000000;\n",
              "        }    #T_a5a611ec_ee35_11ea_a331_0242ac1c0002row6_col9 {\n",
              "            background-color:  #a7c5fe;\n",
              "            color:  #000000;\n",
              "        }    #T_a5a611ec_ee35_11ea_a331_0242ac1c0002row6_col10 {\n",
              "            background-color:  #cdd9ec;\n",
              "            color:  #000000;\n",
              "        }    #T_a5a611ec_ee35_11ea_a331_0242ac1c0002row6_col11 {\n",
              "            background-color:  #8caffe;\n",
              "            color:  #000000;\n",
              "        }    #T_a5a611ec_ee35_11ea_a331_0242ac1c0002row6_col12 {\n",
              "            background-color:  #97b8ff;\n",
              "            color:  #000000;\n",
              "        }    #T_a5a611ec_ee35_11ea_a331_0242ac1c0002row6_col13 {\n",
              "            background-color:  #c5d6f2;\n",
              "            color:  #000000;\n",
              "        }    #T_a5a611ec_ee35_11ea_a331_0242ac1c0002row7_col0 {\n",
              "            background-color:  #3b4cc0;\n",
              "            color:  #f1f1f1;\n",
              "        }    #T_a5a611ec_ee35_11ea_a331_0242ac1c0002row7_col1 {\n",
              "            background-color:  #779af7;\n",
              "            color:  #000000;\n",
              "        }    #T_a5a611ec_ee35_11ea_a331_0242ac1c0002row7_col2 {\n",
              "            background-color:  #e2dad5;\n",
              "            color:  #000000;\n",
              "        }    #T_a5a611ec_ee35_11ea_a331_0242ac1c0002row7_col3 {\n",
              "            background-color:  #516ddb;\n",
              "            color:  #000000;\n",
              "        }    #T_a5a611ec_ee35_11ea_a331_0242ac1c0002row7_col4 {\n",
              "            background-color:  #5977e3;\n",
              "            color:  #000000;\n",
              "        }    #T_a5a611ec_ee35_11ea_a331_0242ac1c0002row7_col5 {\n",
              "            background-color:  #4c66d6;\n",
              "            color:  #000000;\n",
              "        }    #T_a5a611ec_ee35_11ea_a331_0242ac1c0002row7_col6 {\n",
              "            background-color:  #81a4fb;\n",
              "            color:  #000000;\n",
              "        }    #T_a5a611ec_ee35_11ea_a331_0242ac1c0002row7_col7 {\n",
              "            background-color:  #b40426;\n",
              "            color:  #f1f1f1;\n",
              "        }    #T_a5a611ec_ee35_11ea_a331_0242ac1c0002row7_col8 {\n",
              "            background-color:  #4257c9;\n",
              "            color:  #f1f1f1;\n",
              "        }    #T_a5a611ec_ee35_11ea_a331_0242ac1c0002row7_col9 {\n",
              "            background-color:  #5977e3;\n",
              "            color:  #000000;\n",
              "        }    #T_a5a611ec_ee35_11ea_a331_0242ac1c0002row7_col10 {\n",
              "            background-color:  #f6bea4;\n",
              "            color:  #000000;\n",
              "        }    #T_a5a611ec_ee35_11ea_a331_0242ac1c0002row7_col11 {\n",
              "            background-color:  #6687ed;\n",
              "            color:  #000000;\n",
              "        }    #T_a5a611ec_ee35_11ea_a331_0242ac1c0002row7_col12 {\n",
              "            background-color:  #7295f4;\n",
              "            color:  #000000;\n",
              "        }    #T_a5a611ec_ee35_11ea_a331_0242ac1c0002row7_col13 {\n",
              "            background-color:  #f2c9b4;\n",
              "            color:  #000000;\n",
              "        }    #T_a5a611ec_ee35_11ea_a331_0242ac1c0002row8_col0 {\n",
              "            background-color:  #afcafc;\n",
              "            color:  #000000;\n",
              "        }    #T_a5a611ec_ee35_11ea_a331_0242ac1c0002row8_col1 {\n",
              "            background-color:  #a9c6fd;\n",
              "            color:  #000000;\n",
              "        }    #T_a5a611ec_ee35_11ea_a331_0242ac1c0002row8_col2 {\n",
              "            background-color:  #3b4cc0;\n",
              "            color:  #f1f1f1;\n",
              "        }    #T_a5a611ec_ee35_11ea_a331_0242ac1c0002row8_col3 {\n",
              "            background-color:  #6c8ff1;\n",
              "            color:  #000000;\n",
              "        }    #T_a5a611ec_ee35_11ea_a331_0242ac1c0002row8_col4 {\n",
              "            background-color:  #81a4fb;\n",
              "            color:  #000000;\n",
              "        }    #T_a5a611ec_ee35_11ea_a331_0242ac1c0002row8_col5 {\n",
              "            background-color:  #5977e3;\n",
              "            color:  #000000;\n",
              "        }    #T_a5a611ec_ee35_11ea_a331_0242ac1c0002row8_col6 {\n",
              "            background-color:  #506bda;\n",
              "            color:  #000000;\n",
              "        }    #T_a5a611ec_ee35_11ea_a331_0242ac1c0002row8_col7 {\n",
              "            background-color:  #4055c8;\n",
              "            color:  #f1f1f1;\n",
              "        }    #T_a5a611ec_ee35_11ea_a331_0242ac1c0002row8_col8 {\n",
              "            background-color:  #b40426;\n",
              "            color:  #f1f1f1;\n",
              "        }    #T_a5a611ec_ee35_11ea_a331_0242ac1c0002row8_col9 {\n",
              "            background-color:  #ebd3c6;\n",
              "            color:  #000000;\n",
              "        }    #T_a5a611ec_ee35_11ea_a331_0242ac1c0002row8_col10 {\n",
              "            background-color:  #7b9ff9;\n",
              "            color:  #000000;\n",
              "        }    #T_a5a611ec_ee35_11ea_a331_0242ac1c0002row8_col11 {\n",
              "            background-color:  #c7d7f0;\n",
              "            color:  #000000;\n",
              "        }    #T_a5a611ec_ee35_11ea_a331_0242ac1c0002row8_col12 {\n",
              "            background-color:  #d3dbe7;\n",
              "            color:  #000000;\n",
              "        }    #T_a5a611ec_ee35_11ea_a331_0242ac1c0002row8_col13 {\n",
              "            background-color:  #3e51c5;\n",
              "            color:  #f1f1f1;\n",
              "        }    #T_a5a611ec_ee35_11ea_a331_0242ac1c0002row9_col0 {\n",
              "            background-color:  #d7dce3;\n",
              "            color:  #000000;\n",
              "        }    #T_a5a611ec_ee35_11ea_a331_0242ac1c0002row9_col1 {\n",
              "            background-color:  #9ebeff;\n",
              "            color:  #000000;\n",
              "        }    #T_a5a611ec_ee35_11ea_a331_0242ac1c0002row9_col2 {\n",
              "            background-color:  #7597f6;\n",
              "            color:  #000000;\n",
              "        }    #T_a5a611ec_ee35_11ea_a331_0242ac1c0002row9_col3 {\n",
              "            background-color:  #8caffe;\n",
              "            color:  #000000;\n",
              "        }    #T_a5a611ec_ee35_11ea_a331_0242ac1c0002row9_col4 {\n",
              "            background-color:  #7396f5;\n",
              "            color:  #000000;\n",
              "        }    #T_a5a611ec_ee35_11ea_a331_0242ac1c0002row9_col5 {\n",
              "            background-color:  #5a78e4;\n",
              "            color:  #000000;\n",
              "        }    #T_a5a611ec_ee35_11ea_a331_0242ac1c0002row9_col6 {\n",
              "            background-color:  #506bda;\n",
              "            color:  #000000;\n",
              "        }    #T_a5a611ec_ee35_11ea_a331_0242ac1c0002row9_col7 {\n",
              "            background-color:  #3b4cc0;\n",
              "            color:  #f1f1f1;\n",
              "        }    #T_a5a611ec_ee35_11ea_a331_0242ac1c0002row9_col8 {\n",
              "            background-color:  #dfdbd9;\n",
              "            color:  #000000;\n",
              "        }    #T_a5a611ec_ee35_11ea_a331_0242ac1c0002row9_col9 {\n",
              "            background-color:  #b40426;\n",
              "            color:  #f1f1f1;\n",
              "        }    #T_a5a611ec_ee35_11ea_a331_0242ac1c0002row9_col10 {\n",
              "            background-color:  #3b4cc0;\n",
              "            color:  #f1f1f1;\n",
              "        }    #T_a5a611ec_ee35_11ea_a331_0242ac1c0002row9_col11 {\n",
              "            background-color:  #d4dbe6;\n",
              "            color:  #000000;\n",
              "        }    #T_a5a611ec_ee35_11ea_a331_0242ac1c0002row9_col12 {\n",
              "            background-color:  #d5dbe5;\n",
              "            color:  #000000;\n",
              "        }    #T_a5a611ec_ee35_11ea_a331_0242ac1c0002row9_col13 {\n",
              "            background-color:  #4257c9;\n",
              "            color:  #f1f1f1;\n",
              "        }    #T_a5a611ec_ee35_11ea_a331_0242ac1c0002row10_col0 {\n",
              "            background-color:  #6b8df0;\n",
              "            color:  #000000;\n",
              "        }    #T_a5a611ec_ee35_11ea_a331_0242ac1c0002row10_col1 {\n",
              "            background-color:  #7b9ff9;\n",
              "            color:  #000000;\n",
              "        }    #T_a5a611ec_ee35_11ea_a331_0242ac1c0002row10_col2 {\n",
              "            background-color:  #c3d5f4;\n",
              "            color:  #000000;\n",
              "        }    #T_a5a611ec_ee35_11ea_a331_0242ac1c0002row10_col3 {\n",
              "            background-color:  #445acc;\n",
              "            color:  #f1f1f1;\n",
              "        }    #T_a5a611ec_ee35_11ea_a331_0242ac1c0002row10_col4 {\n",
              "            background-color:  #6282ea;\n",
              "            color:  #000000;\n",
              "        }    #T_a5a611ec_ee35_11ea_a331_0242ac1c0002row10_col5 {\n",
              "            background-color:  #445acc;\n",
              "            color:  #f1f1f1;\n",
              "        }    #T_a5a611ec_ee35_11ea_a331_0242ac1c0002row10_col6 {\n",
              "            background-color:  #88abfd;\n",
              "            color:  #000000;\n",
              "        }    #T_a5a611ec_ee35_11ea_a331_0242ac1c0002row10_col7 {\n",
              "            background-color:  #f2c9b4;\n",
              "            color:  #000000;\n",
              "        }    #T_a5a611ec_ee35_11ea_a331_0242ac1c0002row10_col8 {\n",
              "            background-color:  #5d7ce6;\n",
              "            color:  #000000;\n",
              "        }    #T_a5a611ec_ee35_11ea_a331_0242ac1c0002row10_col9 {\n",
              "            background-color:  #3b4cc0;\n",
              "            color:  #f1f1f1;\n",
              "        }    #T_a5a611ec_ee35_11ea_a331_0242ac1c0002row10_col10 {\n",
              "            background-color:  #b40426;\n",
              "            color:  #f1f1f1;\n",
              "        }    #T_a5a611ec_ee35_11ea_a331_0242ac1c0002row10_col11 {\n",
              "            background-color:  #8badfd;\n",
              "            color:  #000000;\n",
              "        }    #T_a5a611ec_ee35_11ea_a331_0242ac1c0002row10_col12 {\n",
              "            background-color:  #7396f5;\n",
              "            color:  #000000;\n",
              "        }    #T_a5a611ec_ee35_11ea_a331_0242ac1c0002row10_col13 {\n",
              "            background-color:  #edd2c3;\n",
              "            color:  #000000;\n",
              "        }    #T_a5a611ec_ee35_11ea_a331_0242ac1c0002row11_col0 {\n",
              "            background-color:  #e4d9d2;\n",
              "            color:  #000000;\n",
              "        }    #T_a5a611ec_ee35_11ea_a331_0242ac1c0002row11_col1 {\n",
              "            background-color:  #a3c2fe;\n",
              "            color:  #000000;\n",
              "        }    #T_a5a611ec_ee35_11ea_a331_0242ac1c0002row11_col2 {\n",
              "            background-color:  #6788ee;\n",
              "            color:  #000000;\n",
              "        }    #T_a5a611ec_ee35_11ea_a331_0242ac1c0002row11_col3 {\n",
              "            background-color:  #799cf8;\n",
              "            color:  #000000;\n",
              "        }    #T_a5a611ec_ee35_11ea_a331_0242ac1c0002row11_col4 {\n",
              "            background-color:  #88abfd;\n",
              "            color:  #000000;\n",
              "        }    #T_a5a611ec_ee35_11ea_a331_0242ac1c0002row11_col5 {\n",
              "            background-color:  #7b9ff9;\n",
              "            color:  #000000;\n",
              "        }    #T_a5a611ec_ee35_11ea_a331_0242ac1c0002row11_col6 {\n",
              "            background-color:  #4b64d5;\n",
              "            color:  #f1f1f1;\n",
              "        }    #T_a5a611ec_ee35_11ea_a331_0242ac1c0002row11_col7 {\n",
              "            background-color:  #6180e9;\n",
              "            color:  #000000;\n",
              "        }    #T_a5a611ec_ee35_11ea_a331_0242ac1c0002row11_col8 {\n",
              "            background-color:  #c5d6f2;\n",
              "            color:  #000000;\n",
              "        }    #T_a5a611ec_ee35_11ea_a331_0242ac1c0002row11_col9 {\n",
              "            background-color:  #e0dbd8;\n",
              "            color:  #000000;\n",
              "        }    #T_a5a611ec_ee35_11ea_a331_0242ac1c0002row11_col10 {\n",
              "            background-color:  #a2c1ff;\n",
              "            color:  #000000;\n",
              "        }    #T_a5a611ec_ee35_11ea_a331_0242ac1c0002row11_col11 {\n",
              "            background-color:  #b40426;\n",
              "            color:  #f1f1f1;\n",
              "        }    #T_a5a611ec_ee35_11ea_a331_0242ac1c0002row11_col12 {\n",
              "            background-color:  #c7d7f0;\n",
              "            color:  #000000;\n",
              "        }    #T_a5a611ec_ee35_11ea_a331_0242ac1c0002row11_col13 {\n",
              "            background-color:  #3b4cc0;\n",
              "            color:  #f1f1f1;\n",
              "        }    #T_a5a611ec_ee35_11ea_a331_0242ac1c0002row12_col0 {\n",
              "            background-color:  #aec9fc;\n",
              "            color:  #000000;\n",
              "        }    #T_a5a611ec_ee35_11ea_a331_0242ac1c0002row12_col1 {\n",
              "            background-color:  #c5d6f2;\n",
              "            color:  #000000;\n",
              "        }    #T_a5a611ec_ee35_11ea_a331_0242ac1c0002row12_col2 {\n",
              "            background-color:  #688aef;\n",
              "            color:  #000000;\n",
              "        }    #T_a5a611ec_ee35_11ea_a331_0242ac1c0002row12_col3 {\n",
              "            background-color:  #6f92f3;\n",
              "            color:  #000000;\n",
              "        }    #T_a5a611ec_ee35_11ea_a331_0242ac1c0002row12_col4 {\n",
              "            background-color:  #80a3fa;\n",
              "            color:  #000000;\n",
              "        }    #T_a5a611ec_ee35_11ea_a331_0242ac1c0002row12_col5 {\n",
              "            background-color:  #4f69d9;\n",
              "            color:  #000000;\n",
              "        }    #T_a5a611ec_ee35_11ea_a331_0242ac1c0002row12_col6 {\n",
              "            background-color:  #6384eb;\n",
              "            color:  #000000;\n",
              "        }    #T_a5a611ec_ee35_11ea_a331_0242ac1c0002row12_col7 {\n",
              "            background-color:  #779af7;\n",
              "            color:  #000000;\n",
              "        }    #T_a5a611ec_ee35_11ea_a331_0242ac1c0002row12_col8 {\n",
              "            background-color:  #d6dce4;\n",
              "            color:  #000000;\n",
              "        }    #T_a5a611ec_ee35_11ea_a331_0242ac1c0002row12_col9 {\n",
              "            background-color:  #e5d8d1;\n",
              "            color:  #000000;\n",
              "        }    #T_a5a611ec_ee35_11ea_a331_0242ac1c0002row12_col10 {\n",
              "            background-color:  #96b7ff;\n",
              "            color:  #000000;\n",
              "        }    #T_a5a611ec_ee35_11ea_a331_0242ac1c0002row12_col11 {\n",
              "            background-color:  #cdd9ec;\n",
              "            color:  #000000;\n",
              "        }    #T_a5a611ec_ee35_11ea_a331_0242ac1c0002row12_col12 {\n",
              "            background-color:  #b40426;\n",
              "            color:  #f1f1f1;\n",
              "        }    #T_a5a611ec_ee35_11ea_a331_0242ac1c0002row12_col13 {\n",
              "            background-color:  #455cce;\n",
              "            color:  #f1f1f1;\n",
              "        }    #T_a5a611ec_ee35_11ea_a331_0242ac1c0002row13_col0 {\n",
              "            background-color:  #5e7de7;\n",
              "            color:  #000000;\n",
              "        }    #T_a5a611ec_ee35_11ea_a331_0242ac1c0002row13_col1 {\n",
              "            background-color:  #3b4cc0;\n",
              "            color:  #f1f1f1;\n",
              "        }    #T_a5a611ec_ee35_11ea_a331_0242ac1c0002row13_col2 {\n",
              "            background-color:  #f4c6af;\n",
              "            color:  #000000;\n",
              "        }    #T_a5a611ec_ee35_11ea_a331_0242ac1c0002row13_col3 {\n",
              "            background-color:  #3b4cc0;\n",
              "            color:  #f1f1f1;\n",
              "        }    #T_a5a611ec_ee35_11ea_a331_0242ac1c0002row13_col4 {\n",
              "            background-color:  #455cce;\n",
              "            color:  #f1f1f1;\n",
              "        }    #T_a5a611ec_ee35_11ea_a331_0242ac1c0002row13_col5 {\n",
              "            background-color:  #4961d2;\n",
              "            color:  #f1f1f1;\n",
              "        }    #T_a5a611ec_ee35_11ea_a331_0242ac1c0002row13_col6 {\n",
              "            background-color:  #93b5fe;\n",
              "            color:  #000000;\n",
              "        }    #T_a5a611ec_ee35_11ea_a331_0242ac1c0002row13_col7 {\n",
              "            background-color:  #f2cbb7;\n",
              "            color:  #000000;\n",
              "        }    #T_a5a611ec_ee35_11ea_a331_0242ac1c0002row13_col8 {\n",
              "            background-color:  #3b4cc0;\n",
              "            color:  #f1f1f1;\n",
              "        }    #T_a5a611ec_ee35_11ea_a331_0242ac1c0002row13_col9 {\n",
              "            background-color:  #5b7ae5;\n",
              "            color:  #000000;\n",
              "        }    #T_a5a611ec_ee35_11ea_a331_0242ac1c0002row13_col10 {\n",
              "            background-color:  #f2c9b4;\n",
              "            color:  #000000;\n",
              "        }    #T_a5a611ec_ee35_11ea_a331_0242ac1c0002row13_col11 {\n",
              "            background-color:  #3b4cc0;\n",
              "            color:  #f1f1f1;\n",
              "        }    #T_a5a611ec_ee35_11ea_a331_0242ac1c0002row13_col12 {\n",
              "            background-color:  #3b4cc0;\n",
              "            color:  #f1f1f1;\n",
              "        }    #T_a5a611ec_ee35_11ea_a331_0242ac1c0002row13_col13 {\n",
              "            background-color:  #b40426;\n",
              "            color:  #f1f1f1;\n",
              "        }</style><table id=\"T_a5a611ec_ee35_11ea_a331_0242ac1c0002\" ><thead>    <tr>        <th class=\"blank level0\" ></th>        <th class=\"col_heading level0 col0\" >age</th>        <th class=\"col_heading level0 col1\" >sex</th>        <th class=\"col_heading level0 col2\" >cp</th>        <th class=\"col_heading level0 col3\" >trestbps</th>        <th class=\"col_heading level0 col4\" >chol</th>        <th class=\"col_heading level0 col5\" >fbs</th>        <th class=\"col_heading level0 col6\" >restecg</th>        <th class=\"col_heading level0 col7\" >thalach</th>        <th class=\"col_heading level0 col8\" >exang</th>        <th class=\"col_heading level0 col9\" >oldpeak</th>        <th class=\"col_heading level0 col10\" >slope</th>        <th class=\"col_heading level0 col11\" >ca</th>        <th class=\"col_heading level0 col12\" >thal</th>        <th class=\"col_heading level0 col13\" >target</th>    </tr></thead><tbody>\n",
              "                <tr>\n",
              "                        <th id=\"T_a5a611ec_ee35_11ea_a331_0242ac1c0002level0_row0\" class=\"row_heading level0 row0\" >age</th>\n",
              "                        <td id=\"T_a5a611ec_ee35_11ea_a331_0242ac1c0002row0_col0\" class=\"data row0 col0\" >1.00</td>\n",
              "                        <td id=\"T_a5a611ec_ee35_11ea_a331_0242ac1c0002row0_col1\" class=\"data row0 col1\" >-0.10</td>\n",
              "                        <td id=\"T_a5a611ec_ee35_11ea_a331_0242ac1c0002row0_col2\" class=\"data row0 col2\" >-0.09</td>\n",
              "                        <td id=\"T_a5a611ec_ee35_11ea_a331_0242ac1c0002row0_col3\" class=\"data row0 col3\" >0.29</td>\n",
              "                        <td id=\"T_a5a611ec_ee35_11ea_a331_0242ac1c0002row0_col4\" class=\"data row0 col4\" >0.20</td>\n",
              "                        <td id=\"T_a5a611ec_ee35_11ea_a331_0242ac1c0002row0_col5\" class=\"data row0 col5\" >0.11</td>\n",
              "                        <td id=\"T_a5a611ec_ee35_11ea_a331_0242ac1c0002row0_col6\" class=\"data row0 col6\" >-0.13</td>\n",
              "                        <td id=\"T_a5a611ec_ee35_11ea_a331_0242ac1c0002row0_col7\" class=\"data row0 col7\" >-0.40</td>\n",
              "                        <td id=\"T_a5a611ec_ee35_11ea_a331_0242ac1c0002row0_col8\" class=\"data row0 col8\" >0.09</td>\n",
              "                        <td id=\"T_a5a611ec_ee35_11ea_a331_0242ac1c0002row0_col9\" class=\"data row0 col9\" >0.27</td>\n",
              "                        <td id=\"T_a5a611ec_ee35_11ea_a331_0242ac1c0002row0_col10\" class=\"data row0 col10\" >-0.18</td>\n",
              "                        <td id=\"T_a5a611ec_ee35_11ea_a331_0242ac1c0002row0_col11\" class=\"data row0 col11\" >0.34</td>\n",
              "                        <td id=\"T_a5a611ec_ee35_11ea_a331_0242ac1c0002row0_col12\" class=\"data row0 col12\" >0.09</td>\n",
              "                        <td id=\"T_a5a611ec_ee35_11ea_a331_0242ac1c0002row0_col13\" class=\"data row0 col13\" >-0.24</td>\n",
              "            </tr>\n",
              "            <tr>\n",
              "                        <th id=\"T_a5a611ec_ee35_11ea_a331_0242ac1c0002level0_row1\" class=\"row_heading level0 row1\" >sex</th>\n",
              "                        <td id=\"T_a5a611ec_ee35_11ea_a331_0242ac1c0002row1_col0\" class=\"data row1 col0\" >-0.10</td>\n",
              "                        <td id=\"T_a5a611ec_ee35_11ea_a331_0242ac1c0002row1_col1\" class=\"data row1 col1\" >1.00</td>\n",
              "                        <td id=\"T_a5a611ec_ee35_11ea_a331_0242ac1c0002row1_col2\" class=\"data row1 col2\" >-0.06</td>\n",
              "                        <td id=\"T_a5a611ec_ee35_11ea_a331_0242ac1c0002row1_col3\" class=\"data row1 col3\" >-0.05</td>\n",
              "                        <td id=\"T_a5a611ec_ee35_11ea_a331_0242ac1c0002row1_col4\" class=\"data row1 col4\" >-0.15</td>\n",
              "                        <td id=\"T_a5a611ec_ee35_11ea_a331_0242ac1c0002row1_col5\" class=\"data row1 col5\" >0.05</td>\n",
              "                        <td id=\"T_a5a611ec_ee35_11ea_a331_0242ac1c0002row1_col6\" class=\"data row1 col6\" >-0.05</td>\n",
              "                        <td id=\"T_a5a611ec_ee35_11ea_a331_0242ac1c0002row1_col7\" class=\"data row1 col7\" >-0.04</td>\n",
              "                        <td id=\"T_a5a611ec_ee35_11ea_a331_0242ac1c0002row1_col8\" class=\"data row1 col8\" >0.14</td>\n",
              "                        <td id=\"T_a5a611ec_ee35_11ea_a331_0242ac1c0002row1_col9\" class=\"data row1 col9\" >0.10</td>\n",
              "                        <td id=\"T_a5a611ec_ee35_11ea_a331_0242ac1c0002row1_col10\" class=\"data row1 col10\" >-0.03</td>\n",
              "                        <td id=\"T_a5a611ec_ee35_11ea_a331_0242ac1c0002row1_col11\" class=\"data row1 col11\" >0.12</td>\n",
              "                        <td id=\"T_a5a611ec_ee35_11ea_a331_0242ac1c0002row1_col12\" class=\"data row1 col12\" >0.25</td>\n",
              "                        <td id=\"T_a5a611ec_ee35_11ea_a331_0242ac1c0002row1_col13\" class=\"data row1 col13\" >-0.28</td>\n",
              "            </tr>\n",
              "            <tr>\n",
              "                        <th id=\"T_a5a611ec_ee35_11ea_a331_0242ac1c0002level0_row2\" class=\"row_heading level0 row2\" >cp</th>\n",
              "                        <td id=\"T_a5a611ec_ee35_11ea_a331_0242ac1c0002row2_col0\" class=\"data row2 col0\" >-0.09</td>\n",
              "                        <td id=\"T_a5a611ec_ee35_11ea_a331_0242ac1c0002row2_col1\" class=\"data row2 col1\" >-0.06</td>\n",
              "                        <td id=\"T_a5a611ec_ee35_11ea_a331_0242ac1c0002row2_col2\" class=\"data row2 col2\" >1.00</td>\n",
              "                        <td id=\"T_a5a611ec_ee35_11ea_a331_0242ac1c0002row2_col3\" class=\"data row2 col3\" >0.04</td>\n",
              "                        <td id=\"T_a5a611ec_ee35_11ea_a331_0242ac1c0002row2_col4\" class=\"data row2 col4\" >-0.09</td>\n",
              "                        <td id=\"T_a5a611ec_ee35_11ea_a331_0242ac1c0002row2_col5\" class=\"data row2 col5\" >0.09</td>\n",
              "                        <td id=\"T_a5a611ec_ee35_11ea_a331_0242ac1c0002row2_col6\" class=\"data row2 col6\" >0.07</td>\n",
              "                        <td id=\"T_a5a611ec_ee35_11ea_a331_0242ac1c0002row2_col7\" class=\"data row2 col7\" >0.32</td>\n",
              "                        <td id=\"T_a5a611ec_ee35_11ea_a331_0242ac1c0002row2_col8\" class=\"data row2 col8\" >-0.42</td>\n",
              "                        <td id=\"T_a5a611ec_ee35_11ea_a331_0242ac1c0002row2_col9\" class=\"data row2 col9\" >-0.16</td>\n",
              "                        <td id=\"T_a5a611ec_ee35_11ea_a331_0242ac1c0002row2_col10\" class=\"data row2 col10\" >0.16</td>\n",
              "                        <td id=\"T_a5a611ec_ee35_11ea_a331_0242ac1c0002row2_col11\" class=\"data row2 col11\" >-0.22</td>\n",
              "                        <td id=\"T_a5a611ec_ee35_11ea_a331_0242ac1c0002row2_col12\" class=\"data row2 col12\" >-0.21</td>\n",
              "                        <td id=\"T_a5a611ec_ee35_11ea_a331_0242ac1c0002row2_col13\" class=\"data row2 col13\" >0.46</td>\n",
              "            </tr>\n",
              "            <tr>\n",
              "                        <th id=\"T_a5a611ec_ee35_11ea_a331_0242ac1c0002level0_row3\" class=\"row_heading level0 row3\" >trestbps</th>\n",
              "                        <td id=\"T_a5a611ec_ee35_11ea_a331_0242ac1c0002row3_col0\" class=\"data row3 col0\" >0.29</td>\n",
              "                        <td id=\"T_a5a611ec_ee35_11ea_a331_0242ac1c0002row3_col1\" class=\"data row3 col1\" >-0.05</td>\n",
              "                        <td id=\"T_a5a611ec_ee35_11ea_a331_0242ac1c0002row3_col2\" class=\"data row3 col2\" >0.04</td>\n",
              "                        <td id=\"T_a5a611ec_ee35_11ea_a331_0242ac1c0002row3_col3\" class=\"data row3 col3\" >1.00</td>\n",
              "                        <td id=\"T_a5a611ec_ee35_11ea_a331_0242ac1c0002row3_col4\" class=\"data row3 col4\" >0.13</td>\n",
              "                        <td id=\"T_a5a611ec_ee35_11ea_a331_0242ac1c0002row3_col5\" class=\"data row3 col5\" >0.15</td>\n",
              "                        <td id=\"T_a5a611ec_ee35_11ea_a331_0242ac1c0002row3_col6\" class=\"data row3 col6\" >-0.13</td>\n",
              "                        <td id=\"T_a5a611ec_ee35_11ea_a331_0242ac1c0002row3_col7\" class=\"data row3 col7\" >-0.04</td>\n",
              "                        <td id=\"T_a5a611ec_ee35_11ea_a331_0242ac1c0002row3_col8\" class=\"data row3 col8\" >0.05</td>\n",
              "                        <td id=\"T_a5a611ec_ee35_11ea_a331_0242ac1c0002row3_col9\" class=\"data row3 col9\" >0.15</td>\n",
              "                        <td id=\"T_a5a611ec_ee35_11ea_a331_0242ac1c0002row3_col10\" class=\"data row3 col10\" >-0.09</td>\n",
              "                        <td id=\"T_a5a611ec_ee35_11ea_a331_0242ac1c0002row3_col11\" class=\"data row3 col11\" >0.09</td>\n",
              "                        <td id=\"T_a5a611ec_ee35_11ea_a331_0242ac1c0002row3_col12\" class=\"data row3 col12\" >0.06</td>\n",
              "                        <td id=\"T_a5a611ec_ee35_11ea_a331_0242ac1c0002row3_col13\" class=\"data row3 col13\" >-0.12</td>\n",
              "            </tr>\n",
              "            <tr>\n",
              "                        <th id=\"T_a5a611ec_ee35_11ea_a331_0242ac1c0002level0_row4\" class=\"row_heading level0 row4\" >chol</th>\n",
              "                        <td id=\"T_a5a611ec_ee35_11ea_a331_0242ac1c0002row4_col0\" class=\"data row4 col0\" >0.20</td>\n",
              "                        <td id=\"T_a5a611ec_ee35_11ea_a331_0242ac1c0002row4_col1\" class=\"data row4 col1\" >-0.15</td>\n",
              "                        <td id=\"T_a5a611ec_ee35_11ea_a331_0242ac1c0002row4_col2\" class=\"data row4 col2\" >-0.09</td>\n",
              "                        <td id=\"T_a5a611ec_ee35_11ea_a331_0242ac1c0002row4_col3\" class=\"data row4 col3\" >0.13</td>\n",
              "                        <td id=\"T_a5a611ec_ee35_11ea_a331_0242ac1c0002row4_col4\" class=\"data row4 col4\" >1.00</td>\n",
              "                        <td id=\"T_a5a611ec_ee35_11ea_a331_0242ac1c0002row4_col5\" class=\"data row4 col5\" >0.02</td>\n",
              "                        <td id=\"T_a5a611ec_ee35_11ea_a331_0242ac1c0002row4_col6\" class=\"data row4 col6\" >-0.16</td>\n",
              "                        <td id=\"T_a5a611ec_ee35_11ea_a331_0242ac1c0002row4_col7\" class=\"data row4 col7\" >-0.05</td>\n",
              "                        <td id=\"T_a5a611ec_ee35_11ea_a331_0242ac1c0002row4_col8\" class=\"data row4 col8\" >0.09</td>\n",
              "                        <td id=\"T_a5a611ec_ee35_11ea_a331_0242ac1c0002row4_col9\" class=\"data row4 col9\" >0.05</td>\n",
              "                        <td id=\"T_a5a611ec_ee35_11ea_a331_0242ac1c0002row4_col10\" class=\"data row4 col10\" >-0.01</td>\n",
              "                        <td id=\"T_a5a611ec_ee35_11ea_a331_0242ac1c0002row4_col11\" class=\"data row4 col11\" >0.11</td>\n",
              "                        <td id=\"T_a5a611ec_ee35_11ea_a331_0242ac1c0002row4_col12\" class=\"data row4 col12\" >0.08</td>\n",
              "                        <td id=\"T_a5a611ec_ee35_11ea_a331_0242ac1c0002row4_col13\" class=\"data row4 col13\" >-0.12</td>\n",
              "            </tr>\n",
              "            <tr>\n",
              "                        <th id=\"T_a5a611ec_ee35_11ea_a331_0242ac1c0002level0_row5\" class=\"row_heading level0 row5\" >fbs</th>\n",
              "                        <td id=\"T_a5a611ec_ee35_11ea_a331_0242ac1c0002row5_col0\" class=\"data row5 col0\" >0.11</td>\n",
              "                        <td id=\"T_a5a611ec_ee35_11ea_a331_0242ac1c0002row5_col1\" class=\"data row5 col1\" >0.05</td>\n",
              "                        <td id=\"T_a5a611ec_ee35_11ea_a331_0242ac1c0002row5_col2\" class=\"data row5 col2\" >0.09</td>\n",
              "                        <td id=\"T_a5a611ec_ee35_11ea_a331_0242ac1c0002row5_col3\" class=\"data row5 col3\" >0.15</td>\n",
              "                        <td id=\"T_a5a611ec_ee35_11ea_a331_0242ac1c0002row5_col4\" class=\"data row5 col4\" >0.02</td>\n",
              "                        <td id=\"T_a5a611ec_ee35_11ea_a331_0242ac1c0002row5_col5\" class=\"data row5 col5\" >1.00</td>\n",
              "                        <td id=\"T_a5a611ec_ee35_11ea_a331_0242ac1c0002row5_col6\" class=\"data row5 col6\" >-0.08</td>\n",
              "                        <td id=\"T_a5a611ec_ee35_11ea_a331_0242ac1c0002row5_col7\" class=\"data row5 col7\" >-0.01</td>\n",
              "                        <td id=\"T_a5a611ec_ee35_11ea_a331_0242ac1c0002row5_col8\" class=\"data row5 col8\" >0.03</td>\n",
              "                        <td id=\"T_a5a611ec_ee35_11ea_a331_0242ac1c0002row5_col9\" class=\"data row5 col9\" >0.03</td>\n",
              "                        <td id=\"T_a5a611ec_ee35_11ea_a331_0242ac1c0002row5_col10\" class=\"data row5 col10\" >-0.05</td>\n",
              "                        <td id=\"T_a5a611ec_ee35_11ea_a331_0242ac1c0002row5_col11\" class=\"data row5 col11\" >0.13</td>\n",
              "                        <td id=\"T_a5a611ec_ee35_11ea_a331_0242ac1c0002row5_col12\" class=\"data row5 col12\" >-0.01</td>\n",
              "                        <td id=\"T_a5a611ec_ee35_11ea_a331_0242ac1c0002row5_col13\" class=\"data row5 col13\" >-0.03</td>\n",
              "            </tr>\n",
              "            <tr>\n",
              "                        <th id=\"T_a5a611ec_ee35_11ea_a331_0242ac1c0002level0_row6\" class=\"row_heading level0 row6\" >restecg</th>\n",
              "                        <td id=\"T_a5a611ec_ee35_11ea_a331_0242ac1c0002row6_col0\" class=\"data row6 col0\" >-0.13</td>\n",
              "                        <td id=\"T_a5a611ec_ee35_11ea_a331_0242ac1c0002row6_col1\" class=\"data row6 col1\" >-0.05</td>\n",
              "                        <td id=\"T_a5a611ec_ee35_11ea_a331_0242ac1c0002row6_col2\" class=\"data row6 col2\" >0.07</td>\n",
              "                        <td id=\"T_a5a611ec_ee35_11ea_a331_0242ac1c0002row6_col3\" class=\"data row6 col3\" >-0.13</td>\n",
              "                        <td id=\"T_a5a611ec_ee35_11ea_a331_0242ac1c0002row6_col4\" class=\"data row6 col4\" >-0.16</td>\n",
              "                        <td id=\"T_a5a611ec_ee35_11ea_a331_0242ac1c0002row6_col5\" class=\"data row6 col5\" >-0.08</td>\n",
              "                        <td id=\"T_a5a611ec_ee35_11ea_a331_0242ac1c0002row6_col6\" class=\"data row6 col6\" >1.00</td>\n",
              "                        <td id=\"T_a5a611ec_ee35_11ea_a331_0242ac1c0002row6_col7\" class=\"data row6 col7\" >0.09</td>\n",
              "                        <td id=\"T_a5a611ec_ee35_11ea_a331_0242ac1c0002row6_col8\" class=\"data row6 col8\" >-0.08</td>\n",
              "                        <td id=\"T_a5a611ec_ee35_11ea_a331_0242ac1c0002row6_col9\" class=\"data row6 col9\" >-0.08</td>\n",
              "                        <td id=\"T_a5a611ec_ee35_11ea_a331_0242ac1c0002row6_col10\" class=\"data row6 col10\" >0.11</td>\n",
              "                        <td id=\"T_a5a611ec_ee35_11ea_a331_0242ac1c0002row6_col11\" class=\"data row6 col11\" >-0.10</td>\n",
              "                        <td id=\"T_a5a611ec_ee35_11ea_a331_0242ac1c0002row6_col12\" class=\"data row6 col12\" >-0.01</td>\n",
              "                        <td id=\"T_a5a611ec_ee35_11ea_a331_0242ac1c0002row6_col13\" class=\"data row6 col13\" >0.15</td>\n",
              "            </tr>\n",
              "            <tr>\n",
              "                        <th id=\"T_a5a611ec_ee35_11ea_a331_0242ac1c0002level0_row7\" class=\"row_heading level0 row7\" >thalach</th>\n",
              "                        <td id=\"T_a5a611ec_ee35_11ea_a331_0242ac1c0002row7_col0\" class=\"data row7 col0\" >-0.40</td>\n",
              "                        <td id=\"T_a5a611ec_ee35_11ea_a331_0242ac1c0002row7_col1\" class=\"data row7 col1\" >-0.04</td>\n",
              "                        <td id=\"T_a5a611ec_ee35_11ea_a331_0242ac1c0002row7_col2\" class=\"data row7 col2\" >0.32</td>\n",
              "                        <td id=\"T_a5a611ec_ee35_11ea_a331_0242ac1c0002row7_col3\" class=\"data row7 col3\" >-0.04</td>\n",
              "                        <td id=\"T_a5a611ec_ee35_11ea_a331_0242ac1c0002row7_col4\" class=\"data row7 col4\" >-0.05</td>\n",
              "                        <td id=\"T_a5a611ec_ee35_11ea_a331_0242ac1c0002row7_col5\" class=\"data row7 col5\" >-0.01</td>\n",
              "                        <td id=\"T_a5a611ec_ee35_11ea_a331_0242ac1c0002row7_col6\" class=\"data row7 col6\" >0.09</td>\n",
              "                        <td id=\"T_a5a611ec_ee35_11ea_a331_0242ac1c0002row7_col7\" class=\"data row7 col7\" >1.00</td>\n",
              "                        <td id=\"T_a5a611ec_ee35_11ea_a331_0242ac1c0002row7_col8\" class=\"data row7 col8\" >-0.40</td>\n",
              "                        <td id=\"T_a5a611ec_ee35_11ea_a331_0242ac1c0002row7_col9\" class=\"data row7 col9\" >-0.43</td>\n",
              "                        <td id=\"T_a5a611ec_ee35_11ea_a331_0242ac1c0002row7_col10\" class=\"data row7 col10\" >0.44</td>\n",
              "                        <td id=\"T_a5a611ec_ee35_11ea_a331_0242ac1c0002row7_col11\" class=\"data row7 col11\" >-0.26</td>\n",
              "                        <td id=\"T_a5a611ec_ee35_11ea_a331_0242ac1c0002row7_col12\" class=\"data row7 col12\" >-0.16</td>\n",
              "                        <td id=\"T_a5a611ec_ee35_11ea_a331_0242ac1c0002row7_col13\" class=\"data row7 col13\" >0.43</td>\n",
              "            </tr>\n",
              "            <tr>\n",
              "                        <th id=\"T_a5a611ec_ee35_11ea_a331_0242ac1c0002level0_row8\" class=\"row_heading level0 row8\" >exang</th>\n",
              "                        <td id=\"T_a5a611ec_ee35_11ea_a331_0242ac1c0002row8_col0\" class=\"data row8 col0\" >0.09</td>\n",
              "                        <td id=\"T_a5a611ec_ee35_11ea_a331_0242ac1c0002row8_col1\" class=\"data row8 col1\" >0.14</td>\n",
              "                        <td id=\"T_a5a611ec_ee35_11ea_a331_0242ac1c0002row8_col2\" class=\"data row8 col2\" >-0.42</td>\n",
              "                        <td id=\"T_a5a611ec_ee35_11ea_a331_0242ac1c0002row8_col3\" class=\"data row8 col3\" >0.05</td>\n",
              "                        <td id=\"T_a5a611ec_ee35_11ea_a331_0242ac1c0002row8_col4\" class=\"data row8 col4\" >0.09</td>\n",
              "                        <td id=\"T_a5a611ec_ee35_11ea_a331_0242ac1c0002row8_col5\" class=\"data row8 col5\" >0.03</td>\n",
              "                        <td id=\"T_a5a611ec_ee35_11ea_a331_0242ac1c0002row8_col6\" class=\"data row8 col6\" >-0.08</td>\n",
              "                        <td id=\"T_a5a611ec_ee35_11ea_a331_0242ac1c0002row8_col7\" class=\"data row8 col7\" >-0.40</td>\n",
              "                        <td id=\"T_a5a611ec_ee35_11ea_a331_0242ac1c0002row8_col8\" class=\"data row8 col8\" >1.00</td>\n",
              "                        <td id=\"T_a5a611ec_ee35_11ea_a331_0242ac1c0002row8_col9\" class=\"data row8 col9\" >0.30</td>\n",
              "                        <td id=\"T_a5a611ec_ee35_11ea_a331_0242ac1c0002row8_col10\" class=\"data row8 col10\" >-0.27</td>\n",
              "                        <td id=\"T_a5a611ec_ee35_11ea_a331_0242ac1c0002row8_col11\" class=\"data row8 col11\" >0.16</td>\n",
              "                        <td id=\"T_a5a611ec_ee35_11ea_a331_0242ac1c0002row8_col12\" class=\"data row8 col12\" >0.25</td>\n",
              "                        <td id=\"T_a5a611ec_ee35_11ea_a331_0242ac1c0002row8_col13\" class=\"data row8 col13\" >-0.44</td>\n",
              "            </tr>\n",
              "            <tr>\n",
              "                        <th id=\"T_a5a611ec_ee35_11ea_a331_0242ac1c0002level0_row9\" class=\"row_heading level0 row9\" >oldpeak</th>\n",
              "                        <td id=\"T_a5a611ec_ee35_11ea_a331_0242ac1c0002row9_col0\" class=\"data row9 col0\" >0.27</td>\n",
              "                        <td id=\"T_a5a611ec_ee35_11ea_a331_0242ac1c0002row9_col1\" class=\"data row9 col1\" >0.10</td>\n",
              "                        <td id=\"T_a5a611ec_ee35_11ea_a331_0242ac1c0002row9_col2\" class=\"data row9 col2\" >-0.16</td>\n",
              "                        <td id=\"T_a5a611ec_ee35_11ea_a331_0242ac1c0002row9_col3\" class=\"data row9 col3\" >0.15</td>\n",
              "                        <td id=\"T_a5a611ec_ee35_11ea_a331_0242ac1c0002row9_col4\" class=\"data row9 col4\" >0.05</td>\n",
              "                        <td id=\"T_a5a611ec_ee35_11ea_a331_0242ac1c0002row9_col5\" class=\"data row9 col5\" >0.03</td>\n",
              "                        <td id=\"T_a5a611ec_ee35_11ea_a331_0242ac1c0002row9_col6\" class=\"data row9 col6\" >-0.08</td>\n",
              "                        <td id=\"T_a5a611ec_ee35_11ea_a331_0242ac1c0002row9_col7\" class=\"data row9 col7\" >-0.43</td>\n",
              "                        <td id=\"T_a5a611ec_ee35_11ea_a331_0242ac1c0002row9_col8\" class=\"data row9 col8\" >0.30</td>\n",
              "                        <td id=\"T_a5a611ec_ee35_11ea_a331_0242ac1c0002row9_col9\" class=\"data row9 col9\" >1.00</td>\n",
              "                        <td id=\"T_a5a611ec_ee35_11ea_a331_0242ac1c0002row9_col10\" class=\"data row9 col10\" >-0.59</td>\n",
              "                        <td id=\"T_a5a611ec_ee35_11ea_a331_0242ac1c0002row9_col11\" class=\"data row9 col11\" >0.22</td>\n",
              "                        <td id=\"T_a5a611ec_ee35_11ea_a331_0242ac1c0002row9_col12\" class=\"data row9 col12\" >0.26</td>\n",
              "                        <td id=\"T_a5a611ec_ee35_11ea_a331_0242ac1c0002row9_col13\" class=\"data row9 col13\" >-0.42</td>\n",
              "            </tr>\n",
              "            <tr>\n",
              "                        <th id=\"T_a5a611ec_ee35_11ea_a331_0242ac1c0002level0_row10\" class=\"row_heading level0 row10\" >slope</th>\n",
              "                        <td id=\"T_a5a611ec_ee35_11ea_a331_0242ac1c0002row10_col0\" class=\"data row10 col0\" >-0.18</td>\n",
              "                        <td id=\"T_a5a611ec_ee35_11ea_a331_0242ac1c0002row10_col1\" class=\"data row10 col1\" >-0.03</td>\n",
              "                        <td id=\"T_a5a611ec_ee35_11ea_a331_0242ac1c0002row10_col2\" class=\"data row10 col2\" >0.16</td>\n",
              "                        <td id=\"T_a5a611ec_ee35_11ea_a331_0242ac1c0002row10_col3\" class=\"data row10 col3\" >-0.09</td>\n",
              "                        <td id=\"T_a5a611ec_ee35_11ea_a331_0242ac1c0002row10_col4\" class=\"data row10 col4\" >-0.01</td>\n",
              "                        <td id=\"T_a5a611ec_ee35_11ea_a331_0242ac1c0002row10_col5\" class=\"data row10 col5\" >-0.05</td>\n",
              "                        <td id=\"T_a5a611ec_ee35_11ea_a331_0242ac1c0002row10_col6\" class=\"data row10 col6\" >0.11</td>\n",
              "                        <td id=\"T_a5a611ec_ee35_11ea_a331_0242ac1c0002row10_col7\" class=\"data row10 col7\" >0.44</td>\n",
              "                        <td id=\"T_a5a611ec_ee35_11ea_a331_0242ac1c0002row10_col8\" class=\"data row10 col8\" >-0.27</td>\n",
              "                        <td id=\"T_a5a611ec_ee35_11ea_a331_0242ac1c0002row10_col9\" class=\"data row10 col9\" >-0.59</td>\n",
              "                        <td id=\"T_a5a611ec_ee35_11ea_a331_0242ac1c0002row10_col10\" class=\"data row10 col10\" >1.00</td>\n",
              "                        <td id=\"T_a5a611ec_ee35_11ea_a331_0242ac1c0002row10_col11\" class=\"data row10 col11\" >-0.10</td>\n",
              "                        <td id=\"T_a5a611ec_ee35_11ea_a331_0242ac1c0002row10_col12\" class=\"data row10 col12\" >-0.15</td>\n",
              "                        <td id=\"T_a5a611ec_ee35_11ea_a331_0242ac1c0002row10_col13\" class=\"data row10 col13\" >0.37</td>\n",
              "            </tr>\n",
              "            <tr>\n",
              "                        <th id=\"T_a5a611ec_ee35_11ea_a331_0242ac1c0002level0_row11\" class=\"row_heading level0 row11\" >ca</th>\n",
              "                        <td id=\"T_a5a611ec_ee35_11ea_a331_0242ac1c0002row11_col0\" class=\"data row11 col0\" >0.34</td>\n",
              "                        <td id=\"T_a5a611ec_ee35_11ea_a331_0242ac1c0002row11_col1\" class=\"data row11 col1\" >0.12</td>\n",
              "                        <td id=\"T_a5a611ec_ee35_11ea_a331_0242ac1c0002row11_col2\" class=\"data row11 col2\" >-0.22</td>\n",
              "                        <td id=\"T_a5a611ec_ee35_11ea_a331_0242ac1c0002row11_col3\" class=\"data row11 col3\" >0.09</td>\n",
              "                        <td id=\"T_a5a611ec_ee35_11ea_a331_0242ac1c0002row11_col4\" class=\"data row11 col4\" >0.11</td>\n",
              "                        <td id=\"T_a5a611ec_ee35_11ea_a331_0242ac1c0002row11_col5\" class=\"data row11 col5\" >0.13</td>\n",
              "                        <td id=\"T_a5a611ec_ee35_11ea_a331_0242ac1c0002row11_col6\" class=\"data row11 col6\" >-0.10</td>\n",
              "                        <td id=\"T_a5a611ec_ee35_11ea_a331_0242ac1c0002row11_col7\" class=\"data row11 col7\" >-0.26</td>\n",
              "                        <td id=\"T_a5a611ec_ee35_11ea_a331_0242ac1c0002row11_col8\" class=\"data row11 col8\" >0.16</td>\n",
              "                        <td id=\"T_a5a611ec_ee35_11ea_a331_0242ac1c0002row11_col9\" class=\"data row11 col9\" >0.22</td>\n",
              "                        <td id=\"T_a5a611ec_ee35_11ea_a331_0242ac1c0002row11_col10\" class=\"data row11 col10\" >-0.10</td>\n",
              "                        <td id=\"T_a5a611ec_ee35_11ea_a331_0242ac1c0002row11_col11\" class=\"data row11 col11\" >1.00</td>\n",
              "                        <td id=\"T_a5a611ec_ee35_11ea_a331_0242ac1c0002row11_col12\" class=\"data row11 col12\" >0.19</td>\n",
              "                        <td id=\"T_a5a611ec_ee35_11ea_a331_0242ac1c0002row11_col13\" class=\"data row11 col13\" >-0.46</td>\n",
              "            </tr>\n",
              "            <tr>\n",
              "                        <th id=\"T_a5a611ec_ee35_11ea_a331_0242ac1c0002level0_row12\" class=\"row_heading level0 row12\" >thal</th>\n",
              "                        <td id=\"T_a5a611ec_ee35_11ea_a331_0242ac1c0002row12_col0\" class=\"data row12 col0\" >0.09</td>\n",
              "                        <td id=\"T_a5a611ec_ee35_11ea_a331_0242ac1c0002row12_col1\" class=\"data row12 col1\" >0.25</td>\n",
              "                        <td id=\"T_a5a611ec_ee35_11ea_a331_0242ac1c0002row12_col2\" class=\"data row12 col2\" >-0.21</td>\n",
              "                        <td id=\"T_a5a611ec_ee35_11ea_a331_0242ac1c0002row12_col3\" class=\"data row12 col3\" >0.06</td>\n",
              "                        <td id=\"T_a5a611ec_ee35_11ea_a331_0242ac1c0002row12_col4\" class=\"data row12 col4\" >0.08</td>\n",
              "                        <td id=\"T_a5a611ec_ee35_11ea_a331_0242ac1c0002row12_col5\" class=\"data row12 col5\" >-0.01</td>\n",
              "                        <td id=\"T_a5a611ec_ee35_11ea_a331_0242ac1c0002row12_col6\" class=\"data row12 col6\" >-0.01</td>\n",
              "                        <td id=\"T_a5a611ec_ee35_11ea_a331_0242ac1c0002row12_col7\" class=\"data row12 col7\" >-0.16</td>\n",
              "                        <td id=\"T_a5a611ec_ee35_11ea_a331_0242ac1c0002row12_col8\" class=\"data row12 col8\" >0.25</td>\n",
              "                        <td id=\"T_a5a611ec_ee35_11ea_a331_0242ac1c0002row12_col9\" class=\"data row12 col9\" >0.26</td>\n",
              "                        <td id=\"T_a5a611ec_ee35_11ea_a331_0242ac1c0002row12_col10\" class=\"data row12 col10\" >-0.15</td>\n",
              "                        <td id=\"T_a5a611ec_ee35_11ea_a331_0242ac1c0002row12_col11\" class=\"data row12 col11\" >0.19</td>\n",
              "                        <td id=\"T_a5a611ec_ee35_11ea_a331_0242ac1c0002row12_col12\" class=\"data row12 col12\" >1.00</td>\n",
              "                        <td id=\"T_a5a611ec_ee35_11ea_a331_0242ac1c0002row12_col13\" class=\"data row12 col13\" >-0.40</td>\n",
              "            </tr>\n",
              "            <tr>\n",
              "                        <th id=\"T_a5a611ec_ee35_11ea_a331_0242ac1c0002level0_row13\" class=\"row_heading level0 row13\" >target</th>\n",
              "                        <td id=\"T_a5a611ec_ee35_11ea_a331_0242ac1c0002row13_col0\" class=\"data row13 col0\" >-0.24</td>\n",
              "                        <td id=\"T_a5a611ec_ee35_11ea_a331_0242ac1c0002row13_col1\" class=\"data row13 col1\" >-0.28</td>\n",
              "                        <td id=\"T_a5a611ec_ee35_11ea_a331_0242ac1c0002row13_col2\" class=\"data row13 col2\" >0.46</td>\n",
              "                        <td id=\"T_a5a611ec_ee35_11ea_a331_0242ac1c0002row13_col3\" class=\"data row13 col3\" >-0.12</td>\n",
              "                        <td id=\"T_a5a611ec_ee35_11ea_a331_0242ac1c0002row13_col4\" class=\"data row13 col4\" >-0.12</td>\n",
              "                        <td id=\"T_a5a611ec_ee35_11ea_a331_0242ac1c0002row13_col5\" class=\"data row13 col5\" >-0.03</td>\n",
              "                        <td id=\"T_a5a611ec_ee35_11ea_a331_0242ac1c0002row13_col6\" class=\"data row13 col6\" >0.15</td>\n",
              "                        <td id=\"T_a5a611ec_ee35_11ea_a331_0242ac1c0002row13_col7\" class=\"data row13 col7\" >0.43</td>\n",
              "                        <td id=\"T_a5a611ec_ee35_11ea_a331_0242ac1c0002row13_col8\" class=\"data row13 col8\" >-0.44</td>\n",
              "                        <td id=\"T_a5a611ec_ee35_11ea_a331_0242ac1c0002row13_col9\" class=\"data row13 col9\" >-0.42</td>\n",
              "                        <td id=\"T_a5a611ec_ee35_11ea_a331_0242ac1c0002row13_col10\" class=\"data row13 col10\" >0.37</td>\n",
              "                        <td id=\"T_a5a611ec_ee35_11ea_a331_0242ac1c0002row13_col11\" class=\"data row13 col11\" >-0.46</td>\n",
              "                        <td id=\"T_a5a611ec_ee35_11ea_a331_0242ac1c0002row13_col12\" class=\"data row13 col12\" >-0.40</td>\n",
              "                        <td id=\"T_a5a611ec_ee35_11ea_a331_0242ac1c0002row13_col13\" class=\"data row13 col13\" >1.00</td>\n",
              "            </tr>\n",
              "    </tbody></table>"
            ],
            "text/plain": [
              "<pandas.io.formats.style.Styler at 0x7fed8dd8d8d0>"
            ]
          },
          "metadata": {
            "tags": []
          },
          "execution_count": 48
        }
      ]
    },
    {
      "cell_type": "markdown",
      "metadata": {
        "id": "EDd0jBSG6qC8"
      },
      "source": [
        "**Definir as variáveis X e Y**\n",
        "\n",
        "Opcional (bônus) : separar as variáveis x e y em : x_train, x_test, y_train e y_test. Você pode fazer isso manualmente por vetores ou pode utilizar o train_test_split do sklearn"
      ]
    },
    {
      "cell_type": "code",
      "metadata": {
        "id": "w9utNpqi64DI"
      },
      "source": [
        "x = dataframe_h[['cp','thalach','slope','exang','oldpeak']]"
      ],
      "execution_count": null,
      "outputs": []
    },
    {
      "cell_type": "code",
      "metadata": {
        "id": "s3stuqee64Py"
      },
      "source": [
        "y = dataframe_h[['target']]"
      ],
      "execution_count": null,
      "outputs": []
    },
    {
      "cell_type": "code",
      "metadata": {
        "id": "EmTiR5vN64fm"
      },
      "source": [
        "x_train, x_test, y_train, y_test = train_test_split(x, y, test_size=0.33, random_state=42)"
      ],
      "execution_count": null,
      "outputs": []
    },
    {
      "cell_type": "markdown",
      "metadata": {
        "id": "q547gJZ265Ki"
      },
      "source": [
        "**Crie um modelo de regressão LOGÍSTICA**"
      ]
    },
    {
      "cell_type": "code",
      "metadata": {
        "id": "wBAF-5EU6-Vc",
        "colab": {
          "base_uri": "https://localhost:8080/",
          "height": 51
        },
        "outputId": "d17fb1d4-86fc-46bb-9c47-d4d084f5bb3b"
      },
      "source": [
        "modelo = LogisticRegression(random_state= 0).fit(x,y)"
      ],
      "execution_count": null,
      "outputs": [
        {
          "output_type": "stream",
          "text": [
            "/usr/local/lib/python3.6/dist-packages/sklearn/utils/validation.py:760: DataConversionWarning: A column-vector y was passed when a 1d array was expected. Please change the shape of y to (n_samples, ), for example using ravel().\n",
            "  y = column_or_1d(y, warn=True)\n"
          ],
          "name": "stderr"
        }
      ]
    },
    {
      "cell_type": "markdown",
      "metadata": {
        "id": "s-LyEUXR6_Fg"
      },
      "source": [
        "**Treine o modelo**"
      ]
    },
    {
      "cell_type": "code",
      "metadata": {
        "id": "uoFM4pQa7Cwl"
      },
      "source": [
        "model_arv = XGBClassifier()"
      ],
      "execution_count": null,
      "outputs": []
    },
    {
      "cell_type": "code",
      "metadata": {
        "id": "OUsU-wKE7C-Z"
      },
      "source": [
        "model_arv.fit(x_train,y_train)"
      ],
      "execution_count": null,
      "outputs": []
    },
    {
      "cell_type": "markdown",
      "metadata": {
        "id": "aKQ1EmqN7DPI"
      },
      "source": [
        "**Print a equação que representa o modelo**"
      ]
    },
    {
      "cell_type": "code",
      "metadata": {
        "id": "tgQQHHNw7IvO"
      },
      "source": [
        "print('Y = {}X {}'.format(reg.coef_,reg.intercept_))"
      ],
      "execution_count": null,
      "outputs": []
    },
    {
      "cell_type": "markdown",
      "metadata": {
        "id": "CeUkn1U07Mdz"
      },
      "source": [
        "**Print 'score' R2 do modelo**"
      ]
    },
    {
      "cell_type": "code",
      "metadata": {
        "id": "-6bwlVaM7N-l"
      },
      "source": [
        "previsao = modelo.predict(x)"
      ],
      "execution_count": null,
      "outputs": []
    },
    {
      "cell_type": "code",
      "metadata": {
        "id": "XW7As7f9CiDL",
        "colab": {
          "base_uri": "https://localhost:8080/",
          "height": 34
        },
        "outputId": "b6832bf7-3501-49c9-ca53-ccb0a2d5b12b"
      },
      "source": [
        "modelo.score(x,y)"
      ],
      "execution_count": null,
      "outputs": [
        {
          "output_type": "execute_result",
          "data": {
            "text/plain": [
              "0.7953795379537953"
            ]
          },
          "metadata": {
            "tags": []
          },
          "execution_count": 57
        }
      ]
    },
    {
      "cell_type": "code",
      "metadata": {
        "id": "SVRSNSCwHDpb"
      },
      "source": [
        "from sklearn.naive_bayes import GaussianNB"
      ],
      "execution_count": null,
      "outputs": []
    },
    {
      "cell_type": "code",
      "metadata": {
        "id": "515Q7vB0G7Kj"
      },
      "source": [
        "model_NB = GaussianNB()"
      ],
      "execution_count": null,
      "outputs": []
    },
    {
      "cell_type": "code",
      "metadata": {
        "id": "w9i66gKhHNRc",
        "colab": {
          "base_uri": "https://localhost:8080/",
          "height": 68
        },
        "outputId": "57cda649-a9e2-40b3-b346-a3de838c57f5"
      },
      "source": [
        "model_NB.fit(x_train,y_train)"
      ],
      "execution_count": null,
      "outputs": [
        {
          "output_type": "stream",
          "text": [
            "/usr/local/lib/python3.6/dist-packages/sklearn/naive_bayes.py:206: DataConversionWarning: A column-vector y was passed when a 1d array was expected. Please change the shape of y to (n_samples, ), for example using ravel().\n",
            "  y = column_or_1d(y, warn=True)\n"
          ],
          "name": "stderr"
        },
        {
          "output_type": "execute_result",
          "data": {
            "text/plain": [
              "GaussianNB(priors=None, var_smoothing=1e-09)"
            ]
          },
          "metadata": {
            "tags": []
          },
          "execution_count": 61
        }
      ]
    },
    {
      "cell_type": "code",
      "metadata": {
        "id": "QnmYR15EHX5A"
      },
      "source": [
        "pred_NB = model_NB.predict(x_test)"
      ],
      "execution_count": null,
      "outputs": []
    },
    {
      "cell_type": "code",
      "metadata": {
        "id": "Hd2InCUTHe_7"
      },
      "source": [
        "from sklearn.metrics import accuracy_score"
      ],
      "execution_count": null,
      "outputs": []
    },
    {
      "cell_type": "code",
      "metadata": {
        "id": "5gv51DZ1H7CL",
        "colab": {
          "base_uri": "https://localhost:8080/",
          "height": 34
        },
        "outputId": "bc84b6ba-a5ce-4e0e-f0e6-cb3f18c02501"
      },
      "source": [
        "accuracy_score(y_test,pred_NB)"
      ],
      "execution_count": null,
      "outputs": [
        {
          "output_type": "execute_result",
          "data": {
            "text/plain": [
              "0.79"
            ]
          },
          "metadata": {
            "tags": []
          },
          "execution_count": 64
        }
      ]
    },
    {
      "cell_type": "code",
      "metadata": {
        "id": "cUxjG5o6RKeV"
      },
      "source": [
        ""
      ],
      "execution_count": null,
      "outputs": []
    }
  ]
}